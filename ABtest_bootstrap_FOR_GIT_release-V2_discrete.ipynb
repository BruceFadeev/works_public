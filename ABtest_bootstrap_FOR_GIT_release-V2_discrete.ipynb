{
 "cells": [
  {
   "cell_type": "code",
   "execution_count": null,
   "id": "8cd33e1a",
   "metadata": {},
   "outputs": [],
   "source": []
  },
  {
   "cell_type": "code",
   "execution_count": null,
   "id": "7719087a",
   "metadata": {},
   "outputs": [],
   "source": []
  },
  {
   "cell_type": "raw",
   "id": "a5d7c185",
   "metadata": {},
   "source": [
    "                        Оглавление  для Саши.\n",
    "                        **САША ВОПРОС - это собственно промежуточный вопрос к Саше\n",
    "\n",
    "Вводное слово.\n",
    "Описание задания\n",
    "\n",
    "1) БЛОК ДИЗАЙНА ЭКСПЕРЕМЕНТА ОТ  Joom .\n",
    "нужен ли вообще эксперимент?\n",
    "дизайн\n",
    "запуск эксперимента\n",
    "\n",
    "\n",
    "2)  МОИ ГИПОТЕТИЧЕСКИЕ  РАССУЖДЕНИЯ  к  текущему учебном датасету.\n",
    "     (показывает как я мыслю в бизнес кейсе)\n",
    "Ответы и рассуждения на вопросы по Блоку дизайна эксперимента от Joom, применительно к данных изначального задания.\n",
    "\n",
    "\n",
    "3) \tПроверка данных.\n",
    "Общие сведения о даных.\n",
    "Частотное распределение заказов по 3м району\n",
    "Имеется расхождение в колл наблюдений выборок.\n",
    "\n",
    "Смотрю распределение, соответствие нормальности , стандартное отклонение.\n",
    "\t- std\n",
    "\t- box plot\n",
    "\t- qq plot   (1, 2 , 3 , 4 ВОПРОС САША )\n",
    "\n",
    "4) ВЫБОР СТАТИСТИЧЕСКОГО КРИТЕРИЯ ДЛЯ ТЕСТА\n",
    "\n",
    "- фиксирование нити рассуждений для возможных когнитивных ошибок\n",
    " -  Размер группы  и длительность эксперимента (показать, как я могу опарафиниться , в попытке поииска решения.)\n",
    "   5 САША ВОПРОС\n",
    "- мощность \n",
    " 6 САША ВОПРОС\n",
    "\n",
    "- распределение выборочных квантилей\n",
    "\n",
    "\n",
    " 5) ПРОВОДИМ АБ ТЕСТ МЕТРИКИ(МЕРЫ ПОЛОЖЕНИЯ) С ПОМОЩЬЮ БУСТРАПА\n",
    "\n",
    "\n"
   ]
  },
  {
   "cell_type": "markdown",
   "id": "5dfb2209",
   "metadata": {},
   "source": [
    "---------------------------------------------"
   ]
  },
  {
   "cell_type": "raw",
   "id": "15fd094d",
   "metadata": {},
   "source": []
  },
  {
   "cell_type": "markdown",
   "id": "59567b3a",
   "metadata": {},
   "source": [
    "## Contents\n",
    "1. [Describe](#1.-Describe)\n",
    "    \n",
    "2. [Checkdata](#2.-Checkdata)\n"
   ]
  },
  {
   "cell_type": "markdown",
   "id": "5815ad6f",
   "metadata": {},
   "source": [
    "## Describe"
   ]
  },
  {
   "cell_type": "raw",
   "id": "c91353f1",
   "metadata": {},
   "source": [
    "    ВВодное слово.   ПРОЧТИТЕ ПОЖАЛУЙСТА.\n",
    "\n",
    "    Данная работа содержит смешанный стиль гипотетических предположений по дизайну экспермента и практических решений самих расчетов. Приводятся ручные расчеты Размеров выборок, АА теста и бустрапа. Приводятся рассуждения и исправления моих ошибок,ибо предполагаемая мной цель - не дать стыренную работу с каггла, а показать, каким образом я думаю.\n",
    "В работе руководствуюсь стилем ведения дизайна АБ тестов Joom (источник статья на  Habr).\n",
    "\n"
   ]
  },
  {
   "cell_type": "raw",
   "id": "bc26a1f1",
   "metadata": {},
   "source": [
    "  Описание.\n",
    "    \n",
    "Выполняю задание , одного из тренировочных датасетов, содержание следующее:\n",
    "\n",
    "    Представьте, что вы работаете аналитиком в очень крупной компании по доставке пиццы над приложением для курьеров (да, обычно в таких компаниях есть приложение для курьеров и отдельно приложение для потребителей).\n",
    "\n",
    "    У вас есть несколько ресторанов в разных частях города и целый штат курьеров. Но есть одна проблема, к вечеру скорость доставки падает из-за того, что курьеры уходят домой после рабочего дня, а количество заказов лишь растет. Это приводит к тому, что в момент пересмены наша доставка очень сильно проседает в эффективности. \n",
    "\n",
    "    Наши data scientist-ы придумали новый алгоритм, который позволяет курьерам запланировать свои последние заказы перед окончанием рабочего дня так, чтобы их маршрут доставки совпадал с маршрутом до дома. \n",
    "То есть, чтобы курьеры доставляли последние свои заказы за день как бы \"по пути\" домой. \n",
    "\n",
    "    Вы вместе с командой решили раскатить A/B тест на две равные группы курьеров. Часть курьеров использует старый алгоритм без опции \"по пути\", другие видят в своем приложении эту опцию и могут ее выбрать. \n",
    "    Ваша задача – проанализировать данные эксперимента и помочь бизнесу принять решение о раскатке новой фичи на всех курьеров.\n",
    "\n",
    "\n",
    "Описание данных\n",
    "order_id - id заказа\n",
    "delivery_time - время доставки в минутах\n",
    "district - район доставки\n",
    "experiment_group - экспериментальная группа\n"
   ]
  },
  {
   "cell_type": "code",
   "execution_count": null,
   "id": "776548d0",
   "metadata": {},
   "outputs": [],
   "source": []
  },
  {
   "cell_type": "code",
   "execution_count": 77,
   "id": "6b23a638",
   "metadata": {},
   "outputs": [
    {
     "data": {
      "text/plain": [
       "'------------------------ does it cut off? ----------------'"
      ]
     },
     "execution_count": 77,
     "metadata": {},
     "output_type": "execute_result"
    }
   ],
   "source": [
    "\"\"\"------------------------ does it cut off? ----------------\"\"\""
   ]
  },
  {
   "cell_type": "raw",
   "id": "91c8558c",
   "metadata": {},
   "source": [
    "    \n",
    "    \n",
    "    \n",
    "                    1) БЛОК ДИЗАЙНА ЭКСПЕРЕМЕНТА ОТ  Joom \n",
    "    \n",
    "    \n",
    "    "
   ]
  },
  {
   "cell_type": "raw",
   "id": "4894321b",
   "metadata": {},
   "source": [
    "руководствуюсь ОПИСАНИЕМ БЛОКА ДИЗАЙНА ЭКСПЕРЕМЕНТА ОТ  Joom согласно статьи \n",
    "https://habr.com/ru/company/joom/blog/661639/\n",
    "\n",
    "\n",
    "1) ЗАДАЕМ СЕБЕ ВОПРОС:\n",
    "    \n",
    "«а нужен ли вообще эксперимент?» :\n",
    "- бывают ситуации, когда нужно внести изменения в любом случае. Например, из-за требований законодательства,\n",
    "- Стратегические планы развития компании на ближайшие годы нельзя проверить краткосрочным экспериментом\n",
    "- Таким образом, у ОНЛАЙН эксперимента есть некоторая область применимости:\n",
    "Эффект от изменения можно быстро ощутить ― в период от нескольких дней до нескольких недель.\n",
    "Нет абсолютной уверенности в пользе изменения. Либо польза очевидна, но её необходимо измерить количественно.\n",
    "Реализация тестируемой фичи не занимает много времени.\n",
    "\n",
    "\n",
    "ДОПОЛНИТЕЛЬНО\n",
    "- Посмотрите на предыдущие запуски экспериментов, связанные с этой фичей, если они были. Станет понятнее, как пользователи с ней взаимодействуют, какими метриками её можно оценить, и какова величина эффекта, хотя бы на уровне порядка изменений: 1%, 10% или 50%.\n",
    "- Возможно, стоит реализовать не всю фичу, а только её часть, если это сильно сэкономит ваши ресурсы\n"
   ]
  },
  {
   "cell_type": "raw",
   "id": "765ddbcc",
   "metadata": {},
   "source": [
    "ОПИСАНИЕ БЛОКА ДИЗАЙНА ЭКСПЕРЕМЕНТА ОТ  Joom.\n",
    " \n",
    " \n",
    " 2) Дизайн\n",
    " \n",
    " Подумаем, как протестировать пользу изменения, которое мы собираемся запустить. нужно ответить на следующие вопросы:\n",
    "А) Кто ваша целевая аудитория — люди, на кого окажет влияние ваше изменение ( все пользователи или спец группа с определенными характеристиками, типа  по стране или городу/девайсу/регистрации/тип поведения)\n",
    "Б) Как ЖЕЛАЕМО должно измениться поведение аудитории, которая использует новую фичу. Будет намного легче выбрать метрики для оценки эффекта от изменения.   \n",
    "\n",
    "В) Какие долгосрочные эффекты и ПОБОЧНЫЕ эффекты вы ожидаете после запуска фичи.\n",
    "полезно их описать. Возможно, вам придётся вернуться к эксперименту спустя какое-то время, чтобы его проанализировать. От предполагаемых побочных эффектов зависит выбор метрик, на которые вы будете смотреть в ходе эксперимента.\n",
    "\n",
    "Г) Какую гипотезу (или набор гипотез) вы собираетесь протестировать.\n",
    "На основании [инсайта] мы ожидаем, что [тестируемое изменение X] приведет к [улучшению|неухудшению|ухудшению] в [выдаче поиска|ценообразовании|времени доставки|оптимизации рекламы|...], которое мы количественно измерим с помощью изменения [метрики Y] на [N%] при отсутствии ухудшения по [метрикам Z1 Z2 ...]"
   ]
  },
  {
   "cell_type": "raw",
   "id": "894021d8",
   "metadata": {},
   "source": [
    "ОПИСАНИЕ БЛОКА ДИЗАЙНА ЭКСПЕРЕМЕНТА ОТ  Joom.\n",
    "\n",
    "\n",
    "\n",
    "3)          Запуск\tэкспеимента \n",
    " \n",
    "\n",
    "А) Описание эксперимента\n",
    "При проведении А/Б эксперимента составьте подробное и понятное описание изменения и предполагаемого эффекта, чтобы сторонний человек мог  понять, о чём идет речь.\n",
    "\n",
    "Б)  Настройка аудитории.\n",
    "В Joom пристуствует  два понятия: exposed users(которых затронет изменение) и unexposed users(не затронет).\n",
    "\t\n",
    "\n",
    "\tВ разработанной Joom платформе, есть 3  способа, как выделить users, которых должно затронуть изменение:\n",
    "    \n",
    "-  Отфильтровать по пользовательским характеристикам: страна, язык, тип устройства, время регистрации и т.д.\n",
    "- Пользователь попадает в эксперимент только после совершения определенного действия( перехода на экран оплаты).\n",
    "- Запустить эксперимент на заранее выбранную аудиторию.\n",
    "\n",
    "В) Группы и Срезы ( ВАЖНО!!!)\n",
    "Не создавайте лишние тестовые группы и срезы, оставьте только те, которые вам нужны. Иначе, вы увеличиваете вероятность ошибки первого рода ― случайного прокраса хотя бы в одном срезе одной из групп. \n",
    "\n",
    "\n",
    "Г) Метрики.\n",
    "Не тестируйте много метрик одновременно, иначе увеличится вероятность ошибки первого рода, как в случае со срезами.       ВАЖНО !!!!!!!\n",
    "\n",
    "У НАС Метрики делятся на три типа: success, guardrail и informative. \n",
    "\n",
    "Success — это метрики, по которым будет приниматься решение. У нас есть ограничение — не более пяти таких метрик. На основе их изменений рассчитывается рекомендованный размер группы.\n",
    "Guardrail — это метрики, которые не должны ухудшиться в результате эксперимента. Это нужно, чтобы отсечь ситуации, когда мы получим улучшение по одной метрике за счёт ухудшения другой. \n",
    "Informative — это остальные метрики, изменение которых может представлять интерес. Наша платформа не ограничивает их количество в эксперименте, но принимать решение на их основе нельзя\n",
    "\n",
    "Д) Размер группы и длительность эксперимента.\n",
    "\n",
    "Чтобы понять, какое число пользователей включать в эксперимент, для каждой метрики нужно оценить:\n",
    " - текущее среднее значение.\n",
    " - текущее значение дисперсии ― есть типы метрик, где отдельно рассчитывать дисперсию не нужно, но для большинства метрик всё-таки нужно.  \n",
    " - MDE , которое вы хотите обнаружить в эксперименте, если оно там есть \n",
    "*Минимальное изменение метрики ― это то, насколько мелкие детали вы хотите иметь возможность обнаружить. Конечно, вы можете захотеть увидеть даже самые маленькие изменения, например рост метрики на 0.1%. Но для этого у вас может быть недостаточный объём данных. Либо вам придется тестировать изменение на очень большом проценте вашей аудитории. Это может увеличить количество недовольств и отток пользователей, если фича по каким-то причинам им не понравится. Выбор MDE ― это всегда компромисс между вашими желаниями и возможностями в рамках отдельно взятого эксперимента."
   ]
  },
  {
   "cell_type": "code",
   "execution_count": null,
   "id": "4b103b53",
   "metadata": {},
   "outputs": [],
   "source": []
  },
  {
   "cell_type": "raw",
   "id": "3915ca22",
   "metadata": {},
   "source": [
    "-------------------        --------------------------      -----------------"
   ]
  },
  {
   "cell_type": "raw",
   "id": "91d54adf",
   "metadata": {},
   "source": [
    "                  \n",
    "                  \n",
    "                  \n",
    "                  \n",
    "                  2)  МОИ ГИПОТЕТИЧЕСКИЕ  РАССУЖДЕНИЯ  к  текущему учебном датасету.\n",
    "                     (показывает как я мыслю в бизнес кейсе)\n",
    "                  \n",
    "                  \n",
    "                  \n",
    "                  \n",
    "                  "
   ]
  },
  {
   "cell_type": "raw",
   "id": "dd9b1f0c",
   "metadata": {},
   "source": []
  },
  {
   "cell_type": "raw",
   "id": "1cc450ce",
   "metadata": {},
   "source": [
    "Так как текущаю работа носит гипотетическую природу(имеется только маленький датасет), буду придумывать ответы на некоторые блоки.\n",
    "\n",
    "\"ДИЗАЙН\"\n",
    "\n",
    "А) Кто ваша целевая аудитория \n",
    "я предполагаю:\n",
    "-  это спец группа с определенными характеристиками, типа специалисты доставки 1 и 2й смены, в определенный промежуток времени, возможно в определенных районах, где наиболее выражена отклонение метрики \"доставка\"\n",
    "\n",
    "Б) Как ЖЕЛАЕМО должно измениться поведение аудитории, которая использует новую фичу\n",
    "я предполагаю:\n",
    "- в смысле поведения действий - я выбираю, измнение маршрута доставки последних заказов, по пути домой с созранением параметра скорости доставки \n",
    "- в мысле отдача/реакция от аудитории - все тоже получаение своего заказа с параметром скорорсти доставки, отсутсвие жалоб от сотрудников, длительность сотрудничества\n",
    "\n",
    "\n",
    "В) Какие долгосрочные эффекты и ПОБОЧНЫЕ эффекты вы ожидаете после запуска фичи.\n",
    "- длительность сотрудничества сотрудника(т.е его удовлетворенность)\n",
    "- стабильность заказов в этот период \"пересмены\" - нет реакции снижения заказов со временем от пользователей\n",
    "- если это период оказался самыми \"прибыльными\" часами, то возможно увеличение прибыли\n",
    "\n",
    "побочные\n",
    "- увеличение нагрузки на приложение, чтоб неложилось приложение\n",
    "- в зависимости от существующих условий, достаточное колличество машин для доставки в парке в этот период, или водителей \"на линии\"\n",
    "- снижение затрат на рекламу, в связи с черезвычайной популярностью)\n",
    "\n",
    "\n",
    "\n",
    "Г) Какую гипотезу (или набор гипотез) вы собираетесь протестировать:\n",
    "На основании [инсайта] мы ожидаем, что [тестируемое изменение X] приведет к [улучшению|неухудшению|ухудшению] в [выдаче поиска|ценообразовании|времени доставки|оптимизации рекламы|...], которое мы количественно измерим с помощью изменения [метрики Y] на [N%] при отсутствии ухудшения по [метрикам Z1 Z2 ...]\n",
    "\n",
    "\n",
    "- На основании применнения алгоритма распределения заказов \"по пути домой\", ожидаем,что тестируемая метрика \"перцентиль\" времени доставки, приведет к улучшению показателя времени доставки, который мы колличественно измерим. При этом, желательно  отсутвии ухудшения по метрике \n",
    "1) колличество заказов ожидающих курьера(в самоц пекарне) \n",
    "2) колличество транспорта для доставки  \n",
    "3) не повышения трат на доставку в период пересмены > суммы X(чем было ранее,типа я выдумал,если хотим сохранение основного транспорта в автопарке,то вероятно, последние заказы и сам курьер могут доставляться на такси. Так вот, траты на такси не должны превышать того плюса к прибыли, что вероятно будет получен в случае успеха нового алгритма доставки)\n",
    "\n"
   ]
  },
  {
   "cell_type": "raw",
   "id": "044e1d36",
   "metadata": {},
   "source": [
    "3)   Запуск экспиремента\n",
    "\n",
    "\n",
    "\n",
    "А) Описание сути предполагаемого эксперимента:\n",
    "я предполагаю:\n",
    "\n",
    " Есть несколько ресторанов в разных частях города и целый штат курьеров и есть проблема - \n",
    "к вечеру скорость доставки падает из-за того, что курьеры уходят домой после рабочего дня, а количество заказов лишь растет. Это приводит к тому, что в момент пересмены наша доставка очень сильно проседает в эффективности. \n",
    "\n",
    "    Data scientist-ы придумали новый алгоритм, который позволяет курьерам запланировать свои последние заказы перед окончанием рабочего дня так, чтобы их маршрут доставки совпадал с маршрутом до дома.\n",
    "\n",
    "    Предполагается раскатить A/B тест на две равные группы курьеров. Часть курьеров использует старый алгоритм без опции \"по пути\", другие видят в своем приложении эту опцию и могут ее выбрать. \n",
    "\n",
    "    Задача – проанализировать данные эксперимента и помочь бизнесу принять решение о раскатке новой фичи на всех курьеров.\n",
    "\n",
    "\n",
    "    \n",
    "\n",
    "Б) Настройка аудитории.\n",
    "\n",
    "В Joom пристуствует  два понятия: exposed users(которых затронет изменение) и unexposed users(не затронет).\n",
    "\t\n",
    "я предполагаю  ГИПОТЕТЕТИЧЕСКИ:\n",
    "выбираю exposed по: \n",
    "    Если в изначальных данных присутствует слово \"пересмена\", предполагаем 2 смены курьеров. предположительно 1 смена работает с 11 до 19 вечера, вторая  с 19 до 02 ночи.  Предполагаю, что мы замерили пиковый период пересмена с 18 30 до 20 30(в среднем).  Если это период, на выгруженной статистике количества доставки заказов сильно отличался, от других периодов,  то можно взять\n",
    "    1) Это период времени\n",
    "    2) тех курьеров обоих групп 1 и2 смены, кто присутсвует и ПОЛУЧАЕТ задание на доставку ппосле 18 30 и до  20 30. Некоторые могут уйти домой раньше, некоторые неявиться.\n",
    " \n",
    " Могу еще предположить -  можно отдельно посмотреть ТЕХ клиентов(а не курьеров), кто делал заказа в этот период ,может  эта метрика времени доставки служит как прокси к метрике дохода и допустим удержания -  есть ли корреляция?\n",
    "\n",
    " Если нет корр, то РЕШЕНИЕ за введение улучшенного  алгоритма доставки, может опосредоваться ДРУГИМИ причинами. Не показателем выручки, а уровнем позитива, отзывов, ретеншен и тд.\n",
    " \n",
    " \n",
    " \n",
    "Г)                                                Метрики.\n",
    "\n",
    "Не тестируйте много метрик одновременно, иначе увеличится вероятность ошибки первого рода, как в случае со срезами.       \n",
    "\n",
    "в Joom  Метрики делятся на три типа: success, guardrail и informative. \n",
    "\n",
    "Success — это метрики, по которым будет приниматься решение. У нас есть ограничение — не более пяти таких метрик. На основе их изменений рассчитывается рекомендованный размер группы.\n",
    "Guardrail — это метрики, которые не должны ухудшиться в результате эксперимента. Это нужно, чтобы отсечь ситуации, когда мы получим улучшение по одной метрике за счёт ухудшения другой. \n",
    "Informative — это остальные метрики, изменение которых может представлять интерес. Наша платформа не ограничивает их количество в эксперименте, но принимать решение на их основе нельзя\n",
    "\n",
    "\n",
    "я предполагаю ГИПОТЕТИЧЕСКИ:\n",
    "\n",
    "придумаем, что:\n",
    "Success - время доставки заказа\n",
    "\n",
    "Guardrail - не  должна ухудшиться какая нибудь метрика уровня колличества рабочего транспорта на линии, в том числе на котором, происходит доставка. Т.е. он должен остаться в парке , готовым к работе для другой смены, а не укатить вместе с курьером домой\n",
    "           -  и допустим подумал, если в нашем бизнесе наблюдается подобная величина, колличество заказов, находящихся в \"ожидании\" курьеров в пицерии. Т.е изготовленная поварами,но по каким то причинам еще не забранная курьером. Типа курьеры вообще остуствуют или не приехали с предыдущего заказа.\n",
    "           \n",
    "Informative - возможно, качетсво/колличество отзывов клиентов или качетсво/колличество отзывов курьерв прилодении для курьеров.\n",
    "    "
   ]
  },
  {
   "cell_type": "code",
   "execution_count": null,
   "id": "a3cc9917",
   "metadata": {},
   "outputs": [],
   "source": []
  },
  {
   "cell_type": "raw",
   "id": "7e23ca8d",
   "metadata": {},
   "source": [
    "Разобравшись с предварительным описание эксперемента приступим к технической части."
   ]
  },
  {
   "cell_type": "raw",
   "id": "2be25073",
   "metadata": {},
   "source": [
    "    \n",
    "    \n",
    "    \n",
    "                                    3) \tПроверка данных.                 \n",
    "\n",
    "\n",
    "\n"
   ]
  },
  {
   "cell_type": "markdown",
   "id": "337eb164",
   "metadata": {},
   "source": [
    "## Checkdata"
   ]
  },
  {
   "cell_type": "code",
   "execution_count": 78,
   "id": "43446e80",
   "metadata": {
    "scrolled": true
   },
   "outputs": [
    {
     "data": {
      "text/html": [
       "<div>\n",
       "<style scoped>\n",
       "    .dataframe tbody tr th:only-of-type {\n",
       "        vertical-align: middle;\n",
       "    }\n",
       "\n",
       "    .dataframe tbody tr th {\n",
       "        vertical-align: top;\n",
       "    }\n",
       "\n",
       "    .dataframe thead th {\n",
       "        text-align: right;\n",
       "    }\n",
       "</style>\n",
       "<table border=\"1\" class=\"dataframe\">\n",
       "  <thead>\n",
       "    <tr style=\"text-align: right;\">\n",
       "      <th></th>\n",
       "      <th>order_id</th>\n",
       "      <th>delivery_time</th>\n",
       "      <th>district</th>\n",
       "      <th>experiment_group</th>\n",
       "    </tr>\n",
       "  </thead>\n",
       "  <tbody>\n",
       "    <tr>\n",
       "      <th>20194</th>\n",
       "      <td>14861</td>\n",
       "      <td>41.0</td>\n",
       "      <td>Central</td>\n",
       "      <td>test</td>\n",
       "    </tr>\n",
       "    <tr>\n",
       "      <th>20195</th>\n",
       "      <td>13501</td>\n",
       "      <td>41.0</td>\n",
       "      <td>Central</td>\n",
       "      <td>test</td>\n",
       "    </tr>\n",
       "  </tbody>\n",
       "</table>\n",
       "</div>"
      ],
      "text/plain": [
       "       order_id  delivery_time district experiment_group\n",
       "20194     14861           41.0  Central             test\n",
       "20195     13501           41.0  Central             test"
      ]
     },
     "execution_count": 78,
     "metadata": {},
     "output_type": "execute_result"
    }
   ],
   "source": [
    "import sys\n",
    "# insert at 1, 0 is the script path (or '' in REPL)\n",
    "sys.path.insert(1, '/usr/local/lib/python3.9/site-packages')\n",
    "import pandas as pd\n",
    "\n",
    "%matplotlib inline\n",
    "import matplotlib.pyplot as plt\n",
    "\n",
    "# we have no  timestamp type of  column in xls document\n",
    "df_delivery = pd.read_csv('/Users/bruce/Library/CloudStorage/OneDrive-Личная/DocumentsMacOneDrive/Karpov.Course1/Stat_module/lesson4/experiment_lesson_4.csv', sep = ',' )\n",
    "df_delivery.tail(2)\n",
    "\n",
    "\n",
    "#COMMON DATE ABOUT DF\n",
    "from IPython.core.interactiveshell import InteractiveShell\n",
    "InteractiveShell.ast_node_interactivity = \"all\"\n",
    "\n",
    "\n"
   ]
  },
  {
   "cell_type": "code",
   "execution_count": null,
   "id": "61b819be",
   "metadata": {},
   "outputs": [],
   "source": []
  },
  {
   "cell_type": "raw",
   "id": "14bb3ae9",
   "metadata": {},
   "source": [
    "ОБЩИЕ СВЕДЕНИЯ О ДАННЫХ (поищи в эксельки где то было красиво ил приколько)"
   ]
  },
  {
   "cell_type": "code",
   "execution_count": 79,
   "id": "9db3ccc2",
   "metadata": {},
   "outputs": [
    {
     "data": {
      "text/plain": [
       "(20196, 4)"
      ]
     },
     "execution_count": 79,
     "metadata": {},
     "output_type": "execute_result"
    },
    {
     "data": {
      "text/plain": [
       "order_id            0\n",
       "delivery_time       0\n",
       "district            0\n",
       "experiment_group    0\n",
       "dtype: int64"
      ]
     },
     "execution_count": 79,
     "metadata": {},
     "output_type": "execute_result"
    },
    {
     "data": {
      "text/plain": [
       "order_id              int64\n",
       "delivery_time       float64\n",
       "district             object\n",
       "experiment_group     object\n",
       "dtype: object"
      ]
     },
     "execution_count": 79,
     "metadata": {},
     "output_type": "execute_result"
    },
    {
     "data": {
      "text/plain": [
       "count    20196.000000\n",
       "mean        42.054169\n",
       "std         10.382196\n",
       "min         10.000000\n",
       "25%         35.000000\n",
       "50%         42.000000\n",
       "75%         49.000000\n",
       "max         83.000000\n",
       "Name: delivery_time, dtype: float64"
      ]
     },
     "execution_count": 79,
     "metadata": {},
     "output_type": "execute_result"
    }
   ],
   "source": [
    "df_delivery.shape\n",
    "df_delivery.isna().sum()\n",
    "df_delivery.dtypes\n",
    "df_delivery.delivery_time.describe()"
   ]
  },
  {
   "cell_type": "code",
   "execution_count": null,
   "id": "2c20a178",
   "metadata": {},
   "outputs": [],
   "source": []
  },
  {
   "cell_type": "raw",
   "id": "cf6c3b80",
   "metadata": {},
   "source": [
    "    СМОТРЮ ЧАСТОТНОЕ РАСПРЕДЕЛЕНИЕ ЗАКАЗОВ ПО ТРЕМ РАЙОНАМ  В ТЕСТОВОЙ И КОНТРОЛЬНОЙ ГРУППЕ\n",
    "\n",
    "\n"
   ]
  },
  {
   "cell_type": "code",
   "execution_count": 80,
   "id": "1bdd6212",
   "metadata": {},
   "outputs": [
    {
     "data": {
      "text/plain": [
       "'частотное потомучто ТУТ ДИСКРЕТНОЕ , а если континуус - тогда плотность смотри'"
      ]
     },
     "execution_count": 80,
     "metadata": {},
     "output_type": "execute_result"
    }
   ],
   "source": [
    "\"\"\"частотное потомучто ТУТ ДИСКРЕТНОЕ , а если континуус - тогда плотность смотри\"\"\""
   ]
  },
  {
   "cell_type": "code",
   "execution_count": 81,
   "id": "886576b1",
   "metadata": {},
   "outputs": [
    {
     "data": {
      "text/plain": [
       "district\n",
       "Central     AxesSubplot(0.125,0.125;0.775x0.755)\n",
       "Purlieus    AxesSubplot(0.125,0.125;0.775x0.755)\n",
       "Suburb      AxesSubplot(0.125,0.125;0.775x0.755)\n",
       "Name: delivery_time, dtype: object"
      ]
     },
     "execution_count": 81,
     "metadata": {},
     "output_type": "execute_result"
    },
    {
     "data": {
      "image/png": "[encoded data removed]",
      "text/plain": [
       "<Figure size 432x288 with 1 Axes>"
      ]
     },
     "metadata": {
      "needs_background": "light"
     },
     "output_type": "display_data"
    }
   ],
   "source": [
    "#1)     test group\n",
    "\n",
    "df_delivery.query('experiment_group ==\"test\"').groupby('district').delivery_time.hist()\n"
   ]
  },
  {
   "cell_type": "code",
   "execution_count": 82,
   "id": "e88df273",
   "metadata": {},
   "outputs": [
    {
     "data": {
      "text/plain": [
       "district\n",
       "Central     AxesSubplot(0.125,0.125;0.775x0.755)\n",
       "Purlieus    AxesSubplot(0.125,0.125;0.775x0.755)\n",
       "Suburb      AxesSubplot(0.125,0.125;0.775x0.755)\n",
       "Name: delivery_time, dtype: object"
      ]
     },
     "execution_count": 82,
     "metadata": {},
     "output_type": "execute_result"
    },
    {
     "data": {
      "image/png": "[encoded data removed]",
      "text/plain": [
       "<Figure size 432x288 with 1 Axes>"
      ]
     },
     "metadata": {
      "needs_background": "light"
     },
     "output_type": "display_data"
    }
   ],
   "source": [
    "# 2) control group\n",
    "df_delivery.query('experiment_group ==\"control\"').groupby('district').delivery_time.hist()"
   ]
  },
  {
   "cell_type": "code",
   "execution_count": 83,
   "id": "aa6515c6",
   "metadata": {},
   "outputs": [
    {
     "data": {
      "text/plain": [
       "district\n",
       "Central      2396\n",
       "Purlieus    16960\n",
       "Suburb        840\n",
       "Name: experiment_group, dtype: int64"
      ]
     },
     "execution_count": 83,
     "metadata": {},
     "output_type": "execute_result"
    }
   ],
   "source": [
    "#видим что район Purlieus самый популярный в доставке заказов, с большим отрывом.\n",
    "df_delivery.groupby('district').experiment_group.count()"
   ]
  },
  {
   "cell_type": "code",
   "execution_count": null,
   "id": "ff5ef8cd",
   "metadata": {},
   "outputs": [],
   "source": []
  },
  {
   "cell_type": "code",
   "execution_count": null,
   "id": "b69e25e9",
   "metadata": {},
   "outputs": [],
   "source": []
  },
  {
   "cell_type": "raw",
   "id": "97d34d58",
   "metadata": {},
   "source": [
    "                 СМОТРЮ ИМЕЕТСЯ ЛИ СИЛЬНОЕ РАЗЛИЧИЕ В КОЛ НАБЛЮДЕНИЙ В ВЫБОРКАХ\n",
    "    \n",
    "    \n",
    "    "
   ]
  },
  {
   "cell_type": "code",
   "execution_count": 84,
   "id": "7c5ed9d1",
   "metadata": {},
   "outputs": [
    {
     "data": {
      "text/html": [
       "<div>\n",
       "<style scoped>\n",
       "    .dataframe tbody tr th:only-of-type {\n",
       "        vertical-align: middle;\n",
       "    }\n",
       "\n",
       "    .dataframe tbody tr th {\n",
       "        vertical-align: top;\n",
       "    }\n",
       "\n",
       "    .dataframe thead th {\n",
       "        text-align: right;\n",
       "    }\n",
       "</style>\n",
       "<table border=\"1\" class=\"dataframe\">\n",
       "  <thead>\n",
       "    <tr style=\"text-align: right;\">\n",
       "      <th></th>\n",
       "      <th>order_id</th>\n",
       "      <th>delivery_time</th>\n",
       "    </tr>\n",
       "  </thead>\n",
       "  <tbody>\n",
       "    <tr>\n",
       "      <th>count</th>\n",
       "      <td>10092.0</td>\n",
       "      <td>10092.0</td>\n",
       "    </tr>\n",
       "  </tbody>\n",
       "</table>\n",
       "</div>"
      ],
      "text/plain": [
       "       order_id  delivery_time\n",
       "count   10092.0        10092.0"
      ]
     },
     "execution_count": 84,
     "metadata": {},
     "output_type": "execute_result"
    },
    {
     "data": {
      "text/html": [
       "<div>\n",
       "<style scoped>\n",
       "    .dataframe tbody tr th:only-of-type {\n",
       "        vertical-align: middle;\n",
       "    }\n",
       "\n",
       "    .dataframe tbody tr th {\n",
       "        vertical-align: top;\n",
       "    }\n",
       "\n",
       "    .dataframe thead th {\n",
       "        text-align: right;\n",
       "    }\n",
       "</style>\n",
       "<table border=\"1\" class=\"dataframe\">\n",
       "  <thead>\n",
       "    <tr style=\"text-align: right;\">\n",
       "      <th></th>\n",
       "      <th>order_id</th>\n",
       "      <th>delivery_time</th>\n",
       "    </tr>\n",
       "  </thead>\n",
       "  <tbody>\n",
       "    <tr>\n",
       "      <th>count</th>\n",
       "      <td>10104.0</td>\n",
       "      <td>10104.0</td>\n",
       "    </tr>\n",
       "  </tbody>\n",
       "</table>\n",
       "</div>"
      ],
      "text/plain": [
       "       order_id  delivery_time\n",
       "count   10104.0        10104.0"
      ]
     },
     "execution_count": 84,
     "metadata": {},
     "output_type": "execute_result"
    },
    {
     "name": "stdout",
     "output_type": "stream",
     "text": [
      "experiment_group\n",
      "control    12.0\n",
      "test        NaN\n",
      "Name: order_id, dtype: float64\n"
     ]
    }
   ],
   "source": [
    "df_delivery.query('experiment_group == \"control\"').describe()[:1]\n",
    "df_delivery.query('experiment_group == \"test\"').describe()[:1]\n",
    "\n",
    "# вот с помощью мтоедоа diff ( можно узнать разницу между количество элементов и между \n",
    "# их значениями)\n",
    "difference = df_delivery.groupby('experiment_group').order_id.count().diff(periods=-1)\n",
    "print(abs(difference))\n"
   ]
  },
  {
   "cell_type": "code",
   "execution_count": null,
   "id": "337a0a00",
   "metadata": {},
   "outputs": [],
   "source": []
  },
  {
   "cell_type": "code",
   "execution_count": null,
   "id": "b47d562e",
   "metadata": {},
   "outputs": [],
   "source": []
  },
  {
   "cell_type": "raw",
   "id": "b1ad683c",
   "metadata": {},
   "source": [
    "        СМОТРЮ РАСПРЕДЕЛЕНИЕ, СООТВЕСТВИЕ НОРМАЛЬНОСТИ РАСПРЕДЕЛНИЯ  И СТАНДАРТНОЕ ОТКЛОНЕНИЕ В ГРУППАХ.\n",
    "    \n",
    "    \n",
    "    "
   ]
  },
  {
   "cell_type": "code",
   "execution_count": 85,
   "id": "a682a859",
   "metadata": {
    "scrolled": true
   },
   "outputs": [
    {
     "name": "stdout",
     "output_type": "stream",
     "text": [
      "9.882819260031342\n",
      "9.989522000652327\n"
     ]
    },
    {
     "data": {
      "image/png": "[encoded data removed]",
      "text/plain": [
       "<Figure size 540x252 with 1 Axes>"
      ]
     },
     "metadata": {
      "needs_background": "light"
     },
     "output_type": "display_data"
    }
   ],
   "source": [
    "# 1) STD групп\n",
    "\n",
    "import numpy as np\n",
    "    \n",
    "print(np.std(df_delivery.query('experiment_group == \"test\"').delivery_time))\n",
    "print(np.std(df_delivery.query('experiment_group == \"control\"').delivery_time))\n",
    "\n",
    "# 2)  Boxplot групп\n",
    "import pandas as pd\n",
    "import numpy as np\n",
    "from matplotlib import pyplot as plt\n",
    "\n",
    "# Set the figure size\n",
    "plt.rcParams[\"figure.figsize\"] = [7.50, 3.50]\n",
    "plt.rcParams[\"figure.autolayout\"] = True\n",
    "\n",
    "# Pandas dataframe\n",
    "data = pd.DataFrame({\"control\": df_delivery.query('experiment_group == \"control\"').delivery_time.dropna() \\\n",
    "                     , \"test\": df_delivery.query('experiment_group == \"test\"').delivery_time.dropna()})\n",
    "\n",
    "# Plot the dataframe\n",
    "ax = data[['control', 'test']].plot(kind='box', title='boxplot')\n",
    "\n",
    "# Display the plot\n",
    "plt.show()"
   ]
  },
  {
   "cell_type": "code",
   "execution_count": null,
   "id": "dff0524a",
   "metadata": {},
   "outputs": [],
   "source": []
  },
  {
   "cell_type": "code",
   "execution_count": 86,
   "id": "65c1e033",
   "metadata": {},
   "outputs": [
    {
     "data": {
      "text/plain": [
       "'\\n!!!!  В ОБЩЕМ Я НЕ ДОПОНЯЛ, В ИНЕТ ЧАСТО УПОМИНАЕТСЯ, ЧТО rounded данные, теряют в качестве и не могу быть \\nнормально оценены на нормальность. !!!'"
      ]
     },
     "execution_count": 86,
     "metadata": {},
     "output_type": "execute_result"
    },
    {
     "data": {
      "image/png": "[encoded data removed]",
      "text/plain": [
       "<Figure size 540x252 with 1 Axes>"
      ]
     },
     "metadata": {
      "needs_background": "light"
     },
     "output_type": "display_data"
    }
   ],
   "source": [
    "# 3)  предвариетльно посмотрю  QQ исходного рапср-я\n",
    "import numpy as np \n",
    "import pylab \n",
    "import scipy.stats as stats\n",
    "import seaborn as sns\n",
    "\n",
    "# stats.probplot(df_delivery[df_delivery['experiment_group'] == 'test'] \\\n",
    "#                            ['delivery_time'], dist=\"norm\", plot=pylab)\n",
    "\n",
    "# stats.probplot(df_delivery[df_delivery['experiment_group'] == 'control'] \\\n",
    "#                            ['delivery_time'], dist=\"norm\", plot=pylab)\n",
    "\n",
    "# pylab.show()               \n",
    "\n",
    "\n",
    "\n",
    "\n",
    "\n",
    "\n",
    "\"\"\"\n",
    "!!!!  В ОБЩЕМ Я НЕ ДОПОНЯЛ, В ИНЕТ ЧАСТО УПОМИНАЕТСЯ, ЧТО rounded данные, теряют в качестве и не могу быть \n",
    "нормально оценены на нормальность. !!!\"\"\"\n",
    "# Вот нашел\n",
    "# 1) некий ручной способ, как оценить дискретные\n",
    "# 2) можно о=апроксиммировать рапсределние , добавив jitter (шум)  и как бы приблизительно посомтреть,\n",
    "# наверно есть ограничения, тратить время сейчас не буду\n",
    "\n",
    "# взял первый спосбо\n",
    "\n",
    "# https://stackoverflow.com/questions/59799748/qqplot-for-discrete-distribution\n",
    "\n",
    "def discreteQQ(x_sample):\n",
    "    \n",
    "\n",
    "    p_test = np.array([])\n",
    "    for i in range(0, 1001):\n",
    "        p_test = np.append(p_test, i/1000)\n",
    "        i = i + 1\n",
    "\n",
    "    x_sample = np.sort(values_control)\n",
    "    x_theor = stats.geom.rvs(.5, size=len(x_sample))\n",
    "    ecdf_sample = np.arange(1, len(x_sample) + 1)/(len(x_sample)+1)\n",
    "\n",
    "    x_theor = stats.geom.ppf(ecdf_sample, p=0.5)\n",
    "\n",
    "    for p in p_test:\n",
    "        plt.scatter(np.quantile(x_theor, p), np.quantile(x_sample, p), c = 'blue')\n",
    "\n",
    "    plt.xlabel('Theoretical quantiles')\n",
    "    plt.ylabel('Sample quantiles')\n",
    "    plt.show()\n",
    "\n",
    "values_control = df_delivery.query('experiment_group == \"control\"').delivery_time\n",
    "discreteQQ(values_control)\n",
    "    \n",
    "#     ИТОГО\n",
    "#     1) вот выглядит как не вполне нормальное распределение\n",
    "#     2) часто в интернете втсречал, что дискретное нет смысла проверять, данные ужее более не нормальные\n",
    "#     3) сравни с нормальном рапсредленными дискретными синтетикой!   ОСТАНОВИЛСЯ 6,3,12"
   ]
  },
  {
   "cell_type": "code",
   "execution_count": 87,
   "id": "44d11c66",
   "metadata": {
    "scrolled": true
   },
   "outputs": [
    {
     "data": {
      "text/plain": [
       "' 1 ВОПРОС САША\\nСаша подскажи пжлста, на практике , в таком случае какие ограничения или допущения нужно учитывать при привменении\\nДжиттера для дискертных данных?'"
      ]
     },
     "execution_count": 87,
     "metadata": {},
     "output_type": "execute_result"
    },
    {
     "data": {
      "text/plain": [
       "0        44.277678\n",
       "1        51.416854\n",
       "2        46.478101\n",
       "3        34.128019\n",
       "4        42.509596\n",
       "           ...    \n",
       "10087    22.814273\n",
       "10088    45.202222\n",
       "10089    40.796050\n",
       "10090    38.189183\n",
       "10091    54.951255\n",
       "Name: delivery_time, Length: 10092, dtype: float64"
      ]
     },
     "execution_count": 87,
     "metadata": {},
     "output_type": "execute_result"
    },
    {
     "data": {
      "text/plain": [
       "((array([-3.81287255, -3.58784659, -3.4643118 , ...,  3.4643118 ,\n",
       "          3.58784659,  3.81287255]),\n",
       "  array([14.5004251 , 15.10707132, 15.19770272, ..., 80.62178352,\n",
       "         82.77500052, 83.19291147])),\n",
       " (9.999107534460345, 45.064957686488626, 0.9997971858110176))"
      ]
     },
     "execution_count": 87,
     "metadata": {},
     "output_type": "execute_result"
    },
    {
     "data": {
      "text/plain": [
       "((array([-3.81316613, -3.58815649, -3.46463142, ...,  3.46463142,\n",
       "          3.58815649,  3.81316613]),\n",
       "  array([10.04116754, 10.23698621, 10.33783684, ..., 74.28697668,\n",
       "         74.98751605, 75.40779434])),\n",
       " (9.88811821070879, 39.047906774842495, 0.9997756519229498))"
      ]
     },
     "execution_count": 87,
     "metadata": {},
     "output_type": "execute_result"
    },
    {
     "data": {
      "image/png": "[encoded data removed]",
      "text/plain": [
       "<Figure size 540x252 with 1 Axes>"
      ]
     },
     "metadata": {
      "needs_background": "light"
     },
     "output_type": "display_data"
    },
    {
     "data": {
      "text/plain": [
       "KstestResult(statistic=1.0, pvalue=0.0)"
      ]
     },
     "execution_count": 87,
     "metadata": {},
     "output_type": "execute_result"
    },
    {
     "data": {
      "text/plain": [
       "' 2 ВОПРОС САША.  N= 20! почему? в  scipy.stats.kstest.  У меня кажется общий не понятный вопрос, как то все просто \\n    в учебных занятиях было, но у не доконца понял, все таки от рамзеры выборки заивсит мощность теста\\n    и способность обнаружить искомое. Кажется мы не косались тема, как выбрать подходящий размер\\n    выборки, когда я хочу проверить на нормальност ьчерез ШАпиро ил Колмогорова?\\n    \\n     Даже не смотря на замечательный ответ,который ты мне дал в Симулятор(ниже цитирую), вот использую QQ\\n    плот, в данном примере, мне КАЖЕТСЯ, то рапсределние нормальное. Но не один тест его не подтвержает!!\\n     Вот снизу Шапиро, не может поднятся выше 0,5 и Колмагрова выше(при N=20) вообще p = 0 показывает. \\n     Данные я апроксимировал в continous, ибо Колмагорова не работает с другой шкалой(как я понял), да и в целом\\n     в инете(у меня нет другого источника, мне нужна работа и наставник!!)) , сомневаются применятся   QQ,\\n     Шапиро Клмагорова к диксретным (это мой исходный тип данных)'"
      ]
     },
     "execution_count": 87,
     "metadata": {},
     "output_type": "execute_result"
    },
    {
     "data": {
      "text/plain": [
       "0.045"
      ]
     },
     "execution_count": 87,
     "metadata": {},
     "output_type": "execute_result"
    },
    {
     "data": {
      "text/plain": [
       "NormaltestResult(statistic=0.24605887037387864, pvalue=0.8842376344776823)"
      ]
     },
     "execution_count": 87,
     "metadata": {},
     "output_type": "execute_result"
    },
    {
     "data": {
      "text/plain": [
       "NormaltestResult(statistic=7.329920713152834, pvalue=0.025605186340840393)"
      ]
     },
     "execution_count": 87,
     "metadata": {},
     "output_type": "execute_result"
    },
    {
     "data": {
      "text/plain": [
       "NormaltestResult(statistic=0.24605887037387864, pvalue=0.8842376344776823)"
      ]
     },
     "execution_count": 87,
     "metadata": {},
     "output_type": "execute_result"
    },
    {
     "data": {
      "text/plain": [
       "NormaltestResult(statistic=7.329920713152834, pvalue=0.025605186340840393)"
      ]
     },
     "execution_count": 87,
     "metadata": {},
     "output_type": "execute_result"
    }
   ],
   "source": [
    "# 2) можно апроксиммировать рапсределние , добавив jitter (шум)  и как бы приблизительно посомтреть,\n",
    "# наверно есть ограничения, для рпименения ил трактования результат.\n",
    "\"\"\" 1 ВОПРОС САША\n",
    "Саша подскажи пжлста, на практике , в таком случае какие ограничения или допущения нужно учитывать при привменении\n",
    "Джиттера для дискертных данных?\"\"\"\n",
    "\n",
    "\n",
    "\n",
    "import random\n",
    "def jitter(limit):\n",
    "    '''Генератор джиттера (произвольного сдвига точек данных)'''\n",
    "    return lambda x: random.uniform(-limit, limit) + x\n",
    "\n",
    "\n",
    "df_delivery_jitter = df_delivery\n",
    "\n",
    "df_delivery_jitter['delivery_time'] = df_delivery.delivery_time.apply(jitter(0.5))\n",
    "\n",
    "df_delivery.query('experiment_group == \"control\"').delivery_time\n",
    "\n",
    "# 3)  предвариетльно посмотрю  QQ исходного рапср-я\n",
    "import numpy as np \n",
    "import pylab \n",
    "import scipy.stats as stats\n",
    "import seaborn as sns\n",
    "import scipy\n",
    "\n",
    "stats.probplot(df_delivery_jitter.query('experiment_group == \"control\"').delivery_time, dist=\"norm\", plot=pylab)\n",
    "\n",
    "stats.probplot(df_delivery_jitter.query('experiment_group == \"test\"').delivery_time, dist=\"norm\", plot=pylab)\n",
    "\n",
    "pylab.show()               \n",
    "\n",
    "\n",
    "# ИТОГО \n",
    "#  1)вообще похоже на норм, есть не значительные отклонения на хвосте.\n",
    "#  2) однако когда 2 месяца назад я эксперементировал и убирал часть упорядоченных данных в начале иликонце \n",
    "#      (outlires) , то получал более ненормальное рапсределение. Возможно я не учел упорядоченность \n",
    "#     значений квантилей 1 2 3 стн отклоения при      построенииQQ \n",
    "\n",
    "# ***How does QQ work?\n",
    "# We plot the theoretical quantiles or basically known as the standard normal variate (a normal distribution with mean=0 and standard deviation=1)on the x-axis and the ordered values for the random variable which we want to find whether it is Gaussian distributed or not, on the y-axis\n",
    "# https://towardsdatascience.com/q-q-plots-explained-5aa8495426c0\n",
    "\n",
    "# 3) если я правильно понял, ktest не показывает подтверждения номарльность с выборками N = 20\n",
    "scipy.stats.kstest(df_delivery_jitter.query('experiment_group == \"control\"').delivery_time, cdf = 'norm')\n",
    "# scipy.stats.kstest(rvs, cdf, args=(), N=20, alternative='two-sided', method='auto')\n",
    "\n",
    "\n",
    "\n",
    "\n",
    "\n",
    "\n",
    "\n",
    "\n",
    "\n",
    "\"\"\" 2 ВОПРОС САША.  N= 20! почему? в  scipy.stats.kstest.  У меня кажется общий не понятный вопрос, как то все просто \n",
    "    в учебных занятиях было, но у не доконца понял, все таки от рамзеры выборки заивсит мощность теста\n",
    "    и способность обнаружить искомое. Кажется мы не косались тема, как выбрать подходящий размер\n",
    "    выборки, когда я хочу проверить на нормальност ьчерез ШАпиро ил Колмогорова?\n",
    "    \n",
    "     Даже не смотря на замечательный ответ,который ты мне дал в Симулятор(ниже цитирую), вот использую QQ\n",
    "    плот, в данном примере, мне КАЖЕТСЯ, то рапсределние нормальное. Но не один тест его не подтвержает!!\n",
    "     Вот снизу Шапиро, не может поднятся выше 0,5 и Колмагрова выше(при N=20) вообще p = 0 показывает. \n",
    "     Данные я апроксимировал в continous, ибо Колмагорова не работает с другой шкалой(как я понял), да и в целом\n",
    "     в инете(у меня нет другого источника, мне нужна работа и наставник!!)) , сомневаются применятся   QQ,\n",
    "     Шапиро Клмагорова к диксретным (это мой исходный тип данных)\"\"\"\n",
    "    \n",
    "\n",
    "#          Саша, вот для наглядности:\n",
    "\n",
    "# 1)  в Шапиуро Уилк если я провожу для n 10000 выборки многократный тест, что бы посмотреть\n",
    "#     визуальное распределение P vaule( оценить скошенность распреда p value  - если да,то есть зависимость данных?),\n",
    "#     то :\n",
    "#     при тесте 20 раз по n500 и 200 раз по n = 50 получаю разные результаты в ответе типа ДОЛЯ значитмых pvalues\n",
    "#     от всех полученных pvalue(see below)\n",
    "    \n",
    "#     тело вычеслений\n",
    "dist_pvalue_control  = []\n",
    "for i in range(200):\n",
    "    x_control = df_delivery_jitter[df_delivery_jitter['experiment_group'] == 'control']['delivery_time'].sample(50) #-  просмо сэмплировал\n",
    "                           \n",
    "    dist_pvalue_control.append(stats.shapiro(x_control )[1])           #- получал знач p value \n",
    "\n",
    "pvalue_less_5_control = []   \n",
    "for i in dist_pvalue_control:\n",
    "    \n",
    "    if i<0.05:\n",
    "        pvalue_less_5_control.append(i)                #- добавлял те что меньше     \n",
    "\n",
    "len(pvalue_less_5_control)/len(dist_pvalue_control)  # - находил Долю (мат ожидание ) \n",
    "\n",
    "#      \n",
    "    \n",
    "# 2) Сашин ответ с Симулятора Аналитика\n",
    "#  Сэмплирование при подсчёте Шапиро - вижу архаику со старых потоков Аналитика Данных :) Вообще это не\n",
    "#     очень надёжный метод - если волнуют размеры выборки, то гораздо полезнее \n",
    "#     А) https://docs.scipy.org/doc/scipy/reference/generated/scipy.stats.normaltest.html \n",
    "#         Б) либо как раз использованный тобой qq-plot \n",
    "\n",
    "\n",
    "scipy.stats.normaltest(df_delivery.query('experiment_group == \"control\"').delivery_time)\n",
    "scipy.stats.normaltest(df_delivery.query('experiment_group == \"test\"').delivery_time)\n",
    "\n",
    "scipy.stats.normaltest(df_delivery_jitter.query('experiment_group == \"control\"').delivery_time)\n",
    "scipy.stats.normaltest(df_delivery_jitter.query('experiment_group == \"test\"').delivery_time)\n",
    "\n",
    "# ИТОГО\n",
    "#  А) Дает удивительно одинаковые значения,на диксрете и континоус\n",
    "# Б) дает отчень разный показатель p-занчения, хотя qq плот уних одинаков \n",
    "#    в) рекомендаци по размеру выбоорок(ОГАРНИЧЕНИЯ) не увидел\n",
    "\n"
   ]
  },
  {
   "cell_type": "code",
   "execution_count": 88,
   "id": "73a54bc4",
   "metadata": {},
   "outputs": [
    {
     "data": {
      "text/plain": [
       "' 3 ВОПРОС САША, \\nЕЩЕ ОДИН ВОПРОС - как так получается и какому доверять qq похож на одно, а тесты говорят другое'"
      ]
     },
     "execution_count": 88,
     "metadata": {},
     "output_type": "execute_result"
    }
   ],
   "source": [
    "\"\"\" 3 ВОПРОС САША, \n",
    "ЕЩЕ ОДИН ВОПРОС - как так получается и какому доверять qq похож на одно, а тесты говорят другое\"\"\""
   ]
  },
  {
   "cell_type": "code",
   "execution_count": null,
   "id": "dd3f09f7",
   "metadata": {},
   "outputs": [],
   "source": []
  },
  {
   "cell_type": "code",
   "execution_count": 89,
   "id": "5e30cced",
   "metadata": {},
   "outputs": [
    {
     "data": {
      "text/plain": [
       "' 4 ВОПРОС САША! что вообще показаывает гистограмма  рапсределения значений p value?  равномерность, \\nа значит, не заивсимость данных?  или о чем она говорит?\\n'"
      ]
     },
     "execution_count": 89,
     "metadata": {},
     "output_type": "execute_result"
    }
   ],
   "source": [
    "\"\"\" 4 ВОПРОС САША! что вообще показаывает гистограмма  рапсределения значений p value?  равномерность, \n",
    "а значит, не заивсимость данных?  или о чем она говорит?\n",
    "\"\"\""
   ]
  },
  {
   "cell_type": "code",
   "execution_count": null,
   "id": "ca61f3c5",
   "metadata": {},
   "outputs": [],
   "source": []
  },
  {
   "cell_type": "code",
   "execution_count": null,
   "id": "3167e30a",
   "metadata": {},
   "outputs": [],
   "source": []
  },
  {
   "cell_type": "code",
   "execution_count": null,
   "id": "5e8ba96f",
   "metadata": {},
   "outputs": [],
   "source": []
  },
  {
   "cell_type": "code",
   "execution_count": null,
   "id": "b544da1f",
   "metadata": {},
   "outputs": [],
   "source": []
  },
  {
   "cell_type": "code",
   "execution_count": null,
   "id": "325d0e27",
   "metadata": {},
   "outputs": [],
   "source": []
  },
  {
   "cell_type": "code",
   "execution_count": null,
   "id": "af31d251",
   "metadata": {},
   "outputs": [],
   "source": []
  },
  {
   "cell_type": "code",
   "execution_count": null,
   "id": "49bdd58a",
   "metadata": {},
   "outputs": [],
   "source": []
  },
  {
   "cell_type": "code",
   "execution_count": null,
   "id": "5ce2fe17",
   "metadata": {},
   "outputs": [],
   "source": []
  },
  {
   "cell_type": "code",
   "execution_count": null,
   "id": "d2397fde",
   "metadata": {},
   "outputs": [],
   "source": []
  },
  {
   "cell_type": "raw",
   "id": "84f8a6d8",
   "metadata": {},
   "source": [
    "                        4)  ВЫБОР СТАТИСТИЧЕСКОГО КРИТЕРИЯ ДЛЯ ТЕСТА"
   ]
  },
  {
   "cell_type": "raw",
   "id": "554e828c",
   "metadata": {},
   "source": [
    "0)       выбор оценки метрики.                  \n",
    "\n",
    "    Простой вариант метрики центральной тенденции - среднее время выполнения доставки. Берем все заказы за какой-то промежуток и вычисляем среднее время их исполнения.\n",
    "    Однако получив некоторое значение,встает вопрос о доверии к нему,ибо это точечная оценка. В этом случаем мы можем так же оценить std, что бы посмотреть насколько точна оценка.\n",
    "    НО некоторые курьеры испоняют заказы быстрее, некие медленнее. Если порпобовать ориентироваться на удовлетворение подовляющего колличества клиентов , то можно оценивать этот параметр с помощью 90% квантиля - беру его как оценочную статистику.\n",
    "  \n",
    "  \n",
    "\n",
    "\n",
    "1)  что имеем:\n",
    "тип данных: \n",
    "    время доставки ,это  шкала равных отношений*  ВНИМАНИЕ ТОГДА ЗДЕСЬ ТОЖЕ ПРИДЕТСЯ ИЗМЕНИТЬ ЕСЛИ ДИСКР ОСТАВЛЮ\n",
    "    * шкала интервальная, я так понимаю.\n",
    "    У нас шкала 3 порядка, все преобразования для шкалы более низкого порядка доступны  доступны нашей(преобразования к номинальной/ранговой/)\n",
    "    \n",
    "\n",
    "допущения и свойства исходных данныых \n",
    " - если верить результату ручному смособу оценки номральности диске=ретных данных, распред не нормально\n",
    " - данные дискретны, как я понял, не будет делат ьопоробу на теоретические распределения и \n",
    "   параметрические тесты,по причине типа шкалы данных( изначально я сделал эти лишние расчет и проверки)\n",
    " \n",
    "- искомый тип отличия - разница,но не в  мере центральной тенденции(средних),а в мере положения (перцентиль)\n",
    " - выборки 2шт ,равные, не зависимые\n",
    "\n",
    "\n",
    "ВЫБОР СТАТИЧТИЧЕСКОЙ ГИПОТЕЗ:\n",
    "\n",
    "Нулевая гипотеза (H0): Разницы между 90%квантилем временем доставки в тестовой и контрольной группе нет\n",
    "Альтернативная гипотеза (H1): Разница между 90%квантилем временем доставки в тестовой и контрольной группе есть\n",
    "    \n",
    "    \n",
    "    \n",
    "2) выбор критерия исходя из данных  \n",
    "  \n",
    "    Для демонстрации и оценки более охватывающей метрики (перцентиля заказов) - использую Непараметрический Бутсрап.\n",
    "\n"
   ]
  },
  {
   "cell_type": "code",
   "execution_count": null,
   "id": "19dad0d7",
   "metadata": {},
   "outputs": [],
   "source": []
  },
  {
   "cell_type": "raw",
   "id": "c18c1b29",
   "metadata": {},
   "source": [
    "РАССУЖДЕНИЯ ДЛЯ СОБСТВЕННОГО ПОНИМАНИЯ.\n",
    "фиксирование нити рассуждений для возможных когинитивных ошибок.\n",
    "\n",
    "Тезис1\n",
    "    Если мы собираемся наблюдать различия в какой-то метрике, то выбранная статистика метрики предполагаемо должна отличаться, отличается её  мера положения, и вероятно отличается её дисперсия по отношению к контрольной группе.\n",
    "    \n",
    "    \n",
    "Тезис 2 \n",
    "  Часто для параметрических методов(опирающихся на определенный стат закон) лучше соблюсти\n",
    "  - одинаковость вида распределения в этих группах(что использовать единый стат тест), \n",
    "  - их размер(для верности вывода), \n",
    "  - и репрезентативность,типа долевой отношение типов наблюдений в эксперментальных (!!!)выборках  по отношению долевому отношению типов наблюдений в популяции или в  более крупной части популяции, на которой мы собираемся и раскатать эксперимент.   К примеру доля сотрудников 1 смены по отношению к доле сотрудников 2й смены  в выбранный нами выборки для бустрапа.\n",
    "   НО у нас не норм рапсредления и тест непарамтерический.\n",
    "\n",
    "\n",
    "Тезис3\n",
    "  статистику собираюсь использовать собственную и использую метод Бустрапа. Бутстрап использую, как метод для нахождения  оценочных метрик и нахождения стандартных отклонений и доверительных интервалов статистических функционалов. Эмпирический бустрап - непараметрический.\n",
    "\n",
    "\n",
    "\n",
    "Что бы оперировать ДИнтервалом, нужн обудет узнать стандартное отклонение произвольной статистики - стандартное отклонение оценки 90% квантиля.\n",
    "\n",
    "В качестве оценки функции распределения будем использовать эмпирическую функцию распределения ЭФР(дискретная cdf). ЭФР является несмещённой оценкой и сходится к истинной ФР при увеличении размера выборки.\n",
    "\n",
    " - Функция Распределения  случайной величины Х  Fx(x) = P(X<x), \n",
    " - дискретная cdf случайной величины Х  - (ЭМПИРИЧЕСКАЯ ФУНКЦИЯ РАСПРЕДЕЛЕНИЯ) - здесь это ФР дискретной случайной величины,  с учетОМ, что элементы выборки 1) независимы и 2) одинаково распределены.\n",
    "\n",
    "     \n",
    "    Формула: \n",
    "Сумма(от k=1 до n) P(X<x). т.е  - сумма дискретных вероятностей, полученых при успешнОм выполнении что случайное  наьлюдение Х< заданного нами порога х."
   ]
  },
  {
   "cell_type": "code",
   "execution_count": null,
   "id": "75f77a4a",
   "metadata": {},
   "outputs": [],
   "source": []
  },
  {
   "cell_type": "raw",
   "id": "9347acba",
   "metadata": {},
   "source": [
    "\n",
    "                             Размер группы и длительность эксперимента\n",
    "\n",
    "    !!! Дабы показать, как я могу опарафиниться , в попытке поииска решения."
   ]
  },
  {
   "cell_type": "raw",
   "id": "0dadf85e",
   "metadata": {},
   "source": [
    "             Размер группы и длительность эксперимента.\n",
    "\n",
    "Дизайн Joom говорит в целом:\n",
    "Чтобы понять, какое число пользователей включать в эксперимент, для каждой метрики нужно оценить:\n",
    " - текущее среднее значение.\n",
    " - текущее значение дисперсии ― есть типы метрик, где отдельно рассчитывать дисперсию не нужно, но для большинства метрик всё-таки нужно.  \n",
    " - MDE , которое вы хотите обнаружить в эксперименте, если оно там есть \n",
    "*Минимальное изменение метрики ― это то, насколько мелкие детали вы хотите иметь возможность обнаружить. Конечно, вы можете захотеть увидеть даже самые маленькие изменения, например рост метрики на 0.1%. Но для этого у вас может быть недостаточный объём данных. Либо вам придется тестировать изменение на очень большом проценте вашей аудитории. Это может увеличить количество недовольств и отток пользователей, если фича по каким-то причинам им не понравится. Выбор MDE ― это всегда компромисс между вашими желаниями и возможностями в рамках отдельно взятого эксперимента."
   ]
  },
  {
   "cell_type": "code",
   "execution_count": null,
   "id": "87b25372",
   "metadata": {},
   "outputs": [],
   "source": []
  },
  {
   "cell_type": "raw",
   "id": "64b5343c",
   "metadata": {},
   "source": [
    "   Мой ход решения."
   ]
  },
  {
   "cell_type": "raw",
   "id": "b5eb2255",
   "metadata": {},
   "source": [
    "     Сначал попробую убедиться на соотвествие выранного теста нашим данным! черещз 1000АА тестов. Что выбранный статистический метод держит ошибку 1 рода, при заданной мощности и размре выборки.\n",
    "\n"
   ]
  },
  {
   "cell_type": "code",
   "execution_count": null,
   "id": "90238e05",
   "metadata": {},
   "outputs": [],
   "source": []
  },
  {
   "cell_type": "raw",
   "id": "90ee03f3",
   "metadata": {},
   "source": [
    "    РАССУЖДЕНИЯ"
   ]
  },
  {
   "cell_type": "raw",
   "id": "73867d66",
   "metadata": {},
   "source": [
    "1)не сразу нашел ответ, как посчитать размер выборки именно для бустрапа , хотел использовать свою.\n",
    "Увидел только  РЕКОМЕНДАЦИИ для не смещенности - брать выборки такого же размера как исходная. \n",
    "\n",
    "такую формулу я ранее использовал для расчет размера выборки в Аб тесте\n",
    "def p1method(alpha , beta , std, effect ):\n",
    "    t_alpha = stats.norm.ppf(1 - alpha / 2, loc=0, scale=1)\n",
    "    t_beta = stats.norm.ppf(1 - beta, loc=0, scale=1)\n",
    "    var = (std2 * std) ** 2  \n",
    "    sample_size1 = int((t_alpha + t_beta) ** 2 * var / (effect ** 2))\n",
    "    return sample_size1 \n",
    "\n",
    "\n",
    "\n",
    "    \n",
    "\n",
    "2) частично, почитав некие источники, размер выборки следует следующем принципу\n",
    "Есть некакая популяция - оттуда были добыты(каким то образом) какие то наблюдения - \n",
    "   - и уже отсюда, в зависимости  от целей и заданных параметров, берется выборка размером n \n",
    "\n",
    "\n",
    "3)  испОлЬзуемая ранее формула расчета выборки содержит :\n",
    "     знаения ppf для альфы/2 и беты  на N(0,1) ,\n",
    "     ppf - все что правее одностороннего квантиля при одностороннему dist,\n",
    "     ну и std использует.\n",
    "     \n",
    "     В трех моих формулах расчетов выборки  , расчет std используют для среднего.  \n",
    "     Однако  мне требуется оценить квантили...я имею дело с бустрапом.\n",
    "     Мы говорим не о метрике ИСХОДНЫХ данных, а о рапсределении ВЫБОРОЧНЫХ СТАТИСТИК.\n",
    "     Раз  моя выборочная статистика - Квантиль, то у нее тоже будет средняя в рапсределении  выборочных квантилей. \n",
    "     \n",
    "     Получается можно предположить,что в формуле для получение размеры выборки , вместо  средних знчаений исх выборки и стандартного отклонение  , можно попробовать использовать следующие значение : \n",
    "     1) если мы будем считать выборочные знаечния квантиля, тогда используется оценщик\n",
    "     \n",
    "     - средняя - оценочное значение по выборочным средним квартилям бутстрап выборки\n",
    "     - а стд - вероятно это se выборочная, std/sqrt(n)\n",
    "     правда,будет ли корректно работать формула, под вопросом. \n",
    "     \n",
    "     2) если просто исходные знаечния, тогда mean and std выборок\n",
    "     \n",
    "     - но что бы это формулы выше работала:\n",
    "         А) нужно, нормально рапсределние - да, ибо в формуле stats.norm.ppf\n",
    "         \n",
    "         Б) судя по источнику , через ppf и континуус данные нужны\n",
    "         scipy.stats.norm = <scipy.stats._continuous_distns.norm_gen object at 0x2b45d2d77d90>\n",
    "         A normal continuous random variable\n",
    "         \n",
    "         НО наше переменная времени в дасате дискретизирована. И посему предполагаю, может получиться неточный              исход.                                                              РЕШИЛ  - НЕ БУДУ ЭТО ИСПОЛЬЗОВАТЬ.\n",
    "\n",
    "       \n",
    "     3)  В конце концов, есть расчет рамзера выборки исходя из дискр знаечние, там меняется часть формулы:\n",
    "      n = ((Za/2)/D) ^2 * p (1-p) discrete data formula  - найдена в инете.  РЕШИЛ - МОЖНО ПОПРОБОВАТЬ\n",
    "      \n",
    "      Собстенно можно попробовать эту формулу в дальнейшем, но  двальнейшие поиски размера выборки, ИМЕННО для бустрапа , привели к следующему:\n",
    "                                                                             РЕШИЛ - ЕЩЕ ПОЧИТАТЬ)\n",
    " \n",
    "ТЕЗИС 1\n",
    " что бы построить распределение  выборочых статистик, нужны будут выборки, какого то размера. Нет никакого изнального рамера,кроме  - исходного,сейчас. Его бустрапировать 1000-10000 раз, получиться распределние выборочной статистики, и тогда в стает вопрос - зачем воообще я сейчас пытаюсь найти решение для формулы, когда есть эмпирическое решение.\n",
    " \n",
    "ТЕЗИС 2 \n",
    " Исходя из поучающего видео, можно  ориентироваться на другой показатель, при поиске ответа на размер выборки длябустрапа  -  размер ДИ и  доля попаданий доверительного интервала в ноль: \n",
    "https://m.youtube.com/watch?v=G77qfPVO6x8\n",
    "https://m.youtube.com/watch?v=Qx09zGdGHiw\n",
    " \n",
    "  - размер ДИ, в том числе, зависит от размера выборки и ее можно варьировать до максимаьно точного диапазона ДИ(а это по сути до максимума всех имеющихся у нас значений, и расчете через формуду снова похоже на бесмыссленный подход) \n",
    "    -  попадание ДИ в0 -  то есть для каждой из размеров выборки, мы тестируем количество подвыборок предполагаемого! размера , и узнаем итоговое соотношений попадание нуля  интервал(нет значимости)\n",
    " Изменяя размер выборки, мы получаем вероятность того, что ноль будет в нашем доверительном интервале... \n",
    "    \n",
    "    \n",
    "ТЕЗИС 3\n",
    " после прочтения лекций от MIT -  там употреблялось словосочетание  ЭМПИРИЧЕСКИЙ бустрап. Посему  мысль - что бы получить  немещенную, более объктивную оценку статистики,не опираясь на предварительные законы рапсределения и испоьлзования соотвествующего статистического теста, предполагается использовать ВСЕ значения в исходной выборке,   все знаечния в бустрап выборках могут дать наиболее приближенную оценку.\n",
    " Засим, откланяюсь и вопрос о размере выборки бустрапа оставим предположительно решенным.\n",
    "                                                                   \n",
    "\n",
    "# От MIT:\n",
    "#     ...\n",
    "# 6.2 Why the resample is the same size as the original sample\n",
    "# This is straightforward: the variation of the statistic u will depend on the size of the sample.\n",
    "# If we want to approximate this variation we need to use resamples of the same size.\n",
    "\n",
    "https://ocw.mit.edu/courses/18-05-introduction-to-probability-and-statistics-spring-2014/pages/readings/\n",
    "\n",
    "                                                                    ИТОГО РЕШИЛ - Я ПОСЧИТАЛ, ЧТО Я ЗАТУПИЛ И\n",
    "                                                                    БОЛЬШЕ ВЕРЮ MIT(хотя верно лИ я трактовал)\n",
    "                                                                    \n",
    "                                                                    НО МЕНЯ НЕ ОСТАВЛЕТ В ПОКОЕ МЫСЛЬ О РАСЧЕТЕ\n",
    "                                                                    РАЗМЕРА ВЫБОРКИ ДЛЯ?! ОПРЕДЕЛЕННОЙ МОЩНОСТИ\n",
    "                                                                    ЧЕРЕЗ ДОЛЮ ПОПАДАНИЙ ДИ в 0, НА СИНТЕТИЧЕСКОМ\n",
    "                                                                    ТЕСТЕ"
   ]
  },
  {
   "cell_type": "code",
   "execution_count": null,
   "id": "5bfd7b25",
   "metadata": {},
   "outputs": [],
   "source": []
  },
  {
   "cell_type": "code",
   "execution_count": 90,
   "id": "d7332a8f",
   "metadata": {},
   "outputs": [
    {
     "data": {
      "text/plain": [
       "' 5 САША ВОПРОС! после вывода mit сверху  учитывая, что это эсмпирический бустрап,в основе - НЕТ РАПСРЕДЕНИЕя \\nна которое мы пологаемся, правильно ли вообще считать нужный рамзер выборки для бустрапа?\\n\\nвозможно, не искаженное значение Мощности теста , можно получить только при опоре  на теорет распределение, \\nт.е в параметрических тестах?)'"
      ]
     },
     "execution_count": 90,
     "metadata": {},
     "output_type": "execute_result"
    }
   ],
   "source": [
    "\"\"\" 5 САША ВОПРОС! после вывода mit сверху  учитывая, что это эсмпирический бустрап,в основе - НЕТ РАПСРЕДЕНИЕя \n",
    "на которое мы пологаемся, правильно ли вообще считать нужный рамзер выборки для бустрапа?\n",
    "\n",
    "возможно, не искаженное значение Мощности теста , можно получить только при опоре  на теорет распределение, \n",
    "т.е в параметрических тестах?)\"\"\""
   ]
  },
  {
   "cell_type": "raw",
   "id": "b6f246b4",
   "metadata": {},
   "source": [
    "                \n",
    "                                          Мощность\n",
    "\n",
    "\n",
    "Знатно лоханувшись на невнимательности к концепции эмпирического бустрапа, посмотрю соотвествие мощности метода.\n",
    "\n",
    "\n",
    "\n",
    "\n",
    "Все что я нашел, способ поиска размера выборки с помощью бутстрапа ,для выявления мощности:\n",
    "\n",
    "   1)Сформулируйте нулевую гипотезу и альтернативную гипотезу\n",
    "   2) Укажите альфа-уровень (обычно 5%)  ,те ДИ 95%\n",
    "   3) При необходимости сдвиньте данные тестовой группы, чтобы вы знали, что нулевая гипотеза ложна.\n",
    "   4) Повторная выборка с заменами из тестовой группы\n",
    "   5) Выполните тест и  запишите результат\n",
    "   6) Повторите 1000 или около того раз, чтобы создать распределение вероятностей.\n",
    "   7) Подсчитайте, сколько раз нулевая гипотеза отвергается\n",
    "   \n",
    "https://stats-stackexchange-com.translate.goog/questions/37796/calculating-necessary-sample-size-using-bootstrap?_x_tr_sl=auto&_x_tr_tl=ru&_x_tr_hl=ru\n",
    "\n"
   ]
  },
  {
   "cell_type": "code",
   "execution_count": 91,
   "id": "93a559b2",
   "metadata": {},
   "outputs": [
    {
     "name": "stdout",
     "output_type": "stream",
     "text": [
      "Доверительный Интервал контрольной группы (57.44430002954151, 58.10194222082306)\n",
      " assuming power is 1.0\n"
     ]
    }
   ],
   "source": [
    "\n",
    "def get_percentile_ci(bootstrap_stats,  alpha):\n",
    "    \"\"\"Строим перцентильный доверительный интервал.\"\"\"\n",
    "    left, right = np.quantile(bootstrap_stats, [alpha / 2, 1 - alpha / 2])\n",
    "    return left, right\n",
    "\n",
    "sample_size = 10000  # 10000 размер датасета/ размер исходной выборки после ПОПЫТКИ !!! расчета Размера выборки \n",
    "\n",
    "n = sample_size\n",
    "B = 1000           # количество генерируемых подвыборок\n",
    "alpha = 0.05\n",
    "# values_a = np.random.normal(mu_pilot, std2, sample_size) # РАНЬШЕ БЫЛА В РАСЧЕТЕ СИНТЕТИКА!!!\n",
    "\n",
    "\n",
    "\n",
    "values_control =df_delivery.query('experiment_group == \"control\"').delivery_time.sample(sample_size)\n",
    "\n",
    "#считаем ДИ нулевой гипотезы - нет изменений \n",
    "bootstrap_values_a = np.random.choice(values_control, (B, n), True)\n",
    "bootstrap_metrics_a = np.quantile(bootstrap_values_a, 0.9, axis=1)\n",
    "ci = get_percentile_ci(bootstrap_metrics_a,  alpha)\n",
    "print(f'Доверительный Интервал контрольной группы {ci}')\n",
    "\n",
    "\n",
    "# далее к значениям контрольной выборки прибавляем предположительных сдвиг = разница к значению Тестовой группы\n",
    "\n",
    "mde = abs(np.quantile(df_delivery.query('experiment_group == \"control\"').delivery_time, 0.9) - \\\n",
    "          np.quantile(df_delivery.query('experiment_group == \"test\"').delivery_time, 0.9))\n",
    "          \n",
    "#  синтетически делаем второую выборку учетом предполагаемого изменения от контрольной групп - типа мы\n",
    "# незнаем, или еще не получили/несобрали  данные из набиарающейсся тестовой группы    \n",
    "\n",
    "bootstrap_values_mde = np.random.choice(values_control, (B, n), True) + mde\n",
    "bootstrap_metrics_mde = np.quantile(bootstrap_values_mde, 0.9, axis=1)\n",
    "values_control_mde = bootstrap_metrics_mde\n",
    "\n",
    "# Далее смотрим долю  значений выборки values_control_mde,которые попдают не попадают в 95%ДИ values_control\n",
    "# согласно понимания мощности теста:\n",
    "# https://en.m.wikipedia.org/wiki/Power_of_a_test#/media/File%3AStatistical_test%2C_significance_level%2C_power.png\n",
    "\n",
    "fraction = []          \n",
    "for i in values_control_mde:\n",
    "          if i not in ci:\n",
    "              fraction.append(i)\n",
    "\n",
    "        \n",
    "ratio = len(fraction)/ len (values_control_mde)  # despite that i changed sample size to 40 - there is 1 power\n",
    "                                             # does formula is correctl???\n",
    "print(f' assuming power is {ratio}')\n",
    "\n",
    "\n"
   ]
  },
  {
   "cell_type": "raw",
   "id": "658e35b9",
   "metadata": {},
   "source": [
    " ИТОГО\n",
    "\n",
    " В статистике мощность бинарного теста гипотез – это вероятность того, что тест правильно отвергнет Н0 \n",
    " гипотезу , когда конкретная альтернативная гипотеза H1 верна.\n",
    " Это обычно обозначается 1-  beta и представляет собой шансы на истинное положительное обнаружение при \n",
    " условии фактического существования обнаруживаемого эффекта.\n",
    "\n",
    "\n",
    "САША - ВОПРОС\n",
    " У нас интресная мощность,но на сколько зависит от величины выбокри? ведь в бутсрапе многократные повторы\n",
    "  и влияние на можность может быть НЕ ЛИНЕЙНОЕ(меньше выборка - не меньше мощность.\n",
    "\n",
    "\n",
    " ВЫШЕ упоминалось, что в расчете испльзуется ЭМПИРИЧЕСКАЯ ФУНКЦИЯ РАСПРЕДЕЛЕНИЯ  - здесь это\n",
    " ФР дискретной случайной величины,  с учетом, что элементы выборки :\n",
    " 1) независимы\n",
    " 2) одинаково распределены. \n",
    "\n",
    " И упрминалось,что   Большей мощности критерия способствуют: \n",
    "     1.Большой размер выборки;\n",
    "     2.Большие различия между популяциями (effect size);\n",
    "     3.Маленькое стандартное отклонение; \n",
    "     4.Большой уровень значимости (α=0.05 а не α=0.01); \n",
    "     5.Выбор одностороннего теста вместо двустороннего, если знаешь направления аффекта\n",
    "    \n",
    " У нас маленькоеное отклонение, приличный effect и большая выборка, все это может способствовать сильной мощности\n",
    "но, вся надежда на Мастера Сашу\n"
   ]
  },
  {
   "cell_type": "code",
   "execution_count": 92,
   "id": "8f722995",
   "metadata": {},
   "outputs": [
    {
     "data": {
      "text/plain": [
       "'6 САША ВОПРОС!   где я косякнул? что не учел, верно ли ваще для эмпиричесокго Бустрапа(варииации метода Монте Карло)\\nсчитать мощность'"
      ]
     },
     "execution_count": 92,
     "metadata": {},
     "output_type": "execute_result"
    }
   ],
   "source": [
    "\"\"\"6 САША ВОПРОС!   где я косякнул? что не учел, верно ли ваще для эмпиричесокго Бустрапа(варииации метода Монте Карло)\n",
    "считать мощность\"\"\""
   ]
  },
  {
   "cell_type": "code",
   "execution_count": null,
   "id": "9728fe9c",
   "metadata": {},
   "outputs": [],
   "source": [
    "\n",
    "\n",
    "\n",
    "\n",
    "\n"
   ]
  },
  {
   "cell_type": "code",
   "execution_count": 93,
   "id": "8a55cfef",
   "metadata": {},
   "outputs": [
    {
     "name": "stderr",
     "output_type": "stream",
     "text": [
      "/usr/local/lib/python3.9/site-packages/seaborn/distributions.py:2619: FutureWarning: `distplot` is a deprecated function and will be removed in a future version. Please adapt your code to use either `displot` (a figure-level function with similar flexibility) or `histplot` (an axes-level function for histograms).\n",
      "  warnings.warn(msg, FutureWarning)\n"
     ]
    },
    {
     "data": {
      "text/plain": [
       "<AxesSubplot:>"
      ]
     },
     "execution_count": 93,
     "metadata": {},
     "output_type": "execute_result"
    },
    {
     "data": {
      "image/png": "[encoded data removed]",
      "text/plain": [
       "<Figure size 540x252 with 1 Axes>"
      ]
     },
     "metadata": {
      "needs_background": "light"
     },
     "output_type": "display_data"
    }
   ],
   "source": [
    "# распределние значение 90%выборочных квантилей CONTROL\n",
    "\n",
    "sample_size = 10000\n",
    "n = sample_size    # размер исходной выборки\n",
    "B = 1000           # количество генерируемых подвыборок\n",
    "alpha = 0.05\n",
    "\n",
    "values_a = df_delivery.query('experiment_group == \"control\"').delivery_time\n",
    "\n",
    "bootstrap_values_a = np.random.choice(values_a, (B, n), True)\n",
    "bootstrap_metrics_a = np.quantile(bootstrap_values_a, 0.9, axis=1)\n",
    "sns.distplot(bootstrap_metrics_a, kde = False)"
   ]
  },
  {
   "cell_type": "code",
   "execution_count": 94,
   "id": "0908505f",
   "metadata": {},
   "outputs": [
    {
     "data": {
      "text/plain": [
       "<AxesSubplot:>"
      ]
     },
     "execution_count": 94,
     "metadata": {},
     "output_type": "execute_result"
    },
    {
     "data": {
      "image/png": "[encoded data removed]",
      "text/plain": [
       "<Figure size 540x252 with 1 Axes>"
      ]
     },
     "metadata": {
      "needs_background": "light"
     },
     "output_type": "display_data"
    }
   ],
   "source": [
    "# распределние значение 90%выборочных квантилей   TEST\n",
    "\n",
    "sample_size = 10000\n",
    "n = sample_size    # размер исходной выборки\n",
    "B = 1000           # количество генерируемых подвыборок\n",
    "alpha = 0.05\n",
    "\n",
    "values_a = df_delivery.query('experiment_group == \"test\"').delivery_time\n",
    "\n",
    "bootstrap_values_a = np.random.choice(values_a, (B, n), True)\n",
    "bootstrap_metrics_a = np.quantile(bootstrap_values_a, 0.9, axis=1)\n",
    "sns.distplot(bootstrap_metrics_a, kde = False)\n"
   ]
  },
  {
   "cell_type": "code",
   "execution_count": null,
   "id": "a6071c30",
   "metadata": {},
   "outputs": [],
   "source": []
  },
  {
   "cell_type": "raw",
   "id": "1fada4b2",
   "metadata": {},
   "source": [
    "         \n",
    "                   5)  ПРОВОДИМ АБ ТЕСТ МЕТРИКИ(МЕРЫ ПОЛОЖЕНИЯ) С ПОМОЩЬЮ БУСТРАПА\n"
   ]
  },
  {
   "cell_type": "raw",
   "id": "da11ff94",
   "metadata": {},
   "source": [
    "                Алгоритм:\n",
    "\n",
    "Генерируем пару подвыборок того же размера из исходных данных контрольной и экспериментальной групп;\n",
    "\n",
    "Считаем метрики (реализация оценки метрики) для каждой из групп;\n",
    "\n",
    "Вычисляем разность метрик, сохраняем полученное значение;\n",
    "\n",
    "Повторяем шаги 1-3 от 1000 до 10000 раз;\n",
    "\n",
    "Строим доверительный интервал с уровнем значимости \\alpha;\n",
    "\n",
    "Если 0 не принадлежит ДИ, то отличия статистически значимы на уровне значимости \\alpha, иначе нет. \n"
   ]
  },
  {
   "cell_type": "raw",
   "id": "35b9dbd9",
   "metadata": {},
   "source": [
    "                        РАПСРЕДЕЛЕНИЕ БУСТРАП ВЫБОРОЧНЫХ СТАТИСТИК "
   ]
  },
  {
   "cell_type": "code",
   "execution_count": 95,
   "id": "2dd4f064",
   "metadata": {},
   "outputs": [],
   "source": [
    "# Предполагается, если данных много, то, независимо от распределения исходных данных ( дисперсия есть и не равна нулю),\n",
    "# по центральной предельной теореме СРЕДНЕЕ! будет распределено нормально.\n",
    "# Для норм распределённых статистик ДИ можно вычислить по формуле:\n",
    "# mean - z(1-a/2)*std, mean + z(1-a/2)*std  *все значения выборорчные\n",
    "\n",
    "#  1)Нормальный доверительный интервал отлично подходит, когда распределение статистики близко \n",
    "# к нормальному распределению - но это не наш случай видимо\n",
    "\n",
    "# 2)  есть центральный доверительный интервал\n",
    "\n",
    "# 3)В случае несимметричных распределений мы можем использовать перцентильный доверительный\n",
    "# интервал - использую этот\n",
    "\n",
    "\n",
    "\n",
    "\n",
    "\n",
    "def get_percentile_ci(bootstrap_stats, pe, alpha):\n",
    "    \"\"\"Строим перцентильный доверительный интервал.\"\"\"\n",
    "    left, right = np.quantile(bootstrap_stats, [alpha / 2, 1 - alpha / 2])\n",
    "    return left, right"
   ]
  },
  {
   "cell_type": "code",
   "execution_count": 96,
   "id": "900d7175",
   "metadata": {},
   "outputs": [
    {
     "name": "stdout",
     "output_type": "stream",
     "text": [
      "Значение 90% квантиля изменилось на: -6.08\n",
      "95.0% доверительный интервал: (-6.49, -5.61)\n",
      "Отличия статистически значимые: True\n"
     ]
    }
   ],
   "source": [
    "sample_size = 10000\n",
    "n = sample_size    # размер исходной выборки\n",
    "B = 1000           # количество генерируемых подвыборок\n",
    "alpha = 0.05\n",
    "\n",
    "values_a = df_delivery.query('experiment_group == \"control\"').delivery_time\n",
    "\n",
    "values_b = df_delivery.query('experiment_group == \"test\"').delivery_time\n",
    "\n",
    "\n",
    "pe = np.quantile(values_b, 0.9) - np.quantile(values_a, 0.9)\n",
    "bootstrap_values_a = np.random.choice(values_a, (B, n), True)\n",
    "bootstrap_metrics_a = np.quantile(bootstrap_values_a, 0.9, axis=1)\n",
    "bootstrap_values_b = np.random.choice(values_b, (B, n), True)\n",
    "bootstrap_metrics_b = np.quantile(bootstrap_values_b, 0.9, axis=1)\n",
    "bootstrap_stats = bootstrap_metrics_b - bootstrap_metrics_a\n",
    "ci = get_percentile_ci(bootstrap_stats, pe, alpha)\n",
    "has_effect = not (ci[0] < 0 < ci[1])\n",
    "\n",
    "print(f'Значение 90% квантиля изменилось на: {pe:0.2f}')\n",
    "print(f'{((1 - alpha) * 100)}% доверительный интервал: ({ci[0]:0.2f}, {ci[1]:0.2f})')\n",
    "print(f'Отличия статистически значимые: {has_effect}')"
   ]
  },
  {
   "cell_type": "code",
   "execution_count": null,
   "id": "520b204b",
   "metadata": {},
   "outputs": [],
   "source": []
  },
  {
   "cell_type": "code",
   "execution_count": 97,
   "id": "970a3d59",
   "metadata": {},
   "outputs": [],
   "source": [
    "# ИТОГО\n",
    "#     мы видим измение(сокращение) времени доставки для Подавляющего большиства клиентов, \n",
    "#     в тесте, на 6 минут.  Сама величина является статистически значимой, новый алгоритм\n",
    "#     доставке, на этих данных(sic!), с этим дизайном теста(sic!) и используемой \n",
    "#     статистикой(sic!), улучил показатели  выбранной метрики.\n",
    "#     Покаатим новый алгоритм на всех или последователно на большую часть популяции,\n",
    "#     так как  время доставки (90% от общего колл-ва )статистически значимо изменилось.\n",
    "#       Конечно еще бы посмотреть значения  Informative Guardrail метрик, но данная \n",
    "#       работа носит гипотетический и показательный характер.\n",
    "\n",
    "\n",
    "# Благодарю за чтение и желаю хорошего дня!\n"
   ]
  },
  {
   "cell_type": "code",
   "execution_count": null,
   "id": "1f475072",
   "metadata": {},
   "outputs": [],
   "source": []
  },
  {
   "cell_type": "code",
   "execution_count": 99,
   "id": "3e672739",
   "metadata": {},
   "outputs": [],
   "source": [
    "# 02,03,23\n",
    "\n",
    "# 1) что бы въехать в работу - составь Оглавление и кратко распиши каждую главву(и для себ и для читателя)\n",
    "\n",
    "# 2) вопросы которыые образовались,задать коллегам\n",
    "\n",
    "# 3)..."
   ]
  }
 ],
 "metadata": {
  "kernelspec": {
   "display_name": "Python 3 (ipykernel)",
   "language": "python",
   "name": "python3"
  },
  "language_info": {
   "codemirror_mode": {
    "name": "ipython",
    "version": 3
   },
   "file_extension": ".py",
   "mimetype": "text/x-python",
   "name": "python",
   "nbconvert_exporter": "python",
   "pygments_lexer": "ipython3",
   "version": "3.9.16"
  },
  "toc": {
   "base_numbering": 1,
   "nav_menu": {},
   "number_sections": true,
   "sideBar": true,
   "skip_h1_title": false,
   "title_cell": "Table of Contents",
   "title_sidebar": "Contents",
   "toc_cell": false,
   "toc_position": {},
   "toc_section_display": true,
   "toc_window_display": false
  },
  "varInspector": {
   "cols": {
    "lenName": 16,
    "lenType": 16,
    "lenVar": 40
   },
   "kernels_config": {
    "python": {
     "delete_cmd_postfix": "",
     "delete_cmd_prefix": "del ",
     "library": "var_list.py",
     "varRefreshCmd": "print(var_dic_list())"
    },
    "r": {
     "delete_cmd_postfix": ") ",
     "delete_cmd_prefix": "rm(",
     "library": "var_list.r",
     "varRefreshCmd": "cat(var_dic_list()) "
    }
   },
   "position": {
    "height": "223.854px",
    "left": "1052.22px",
    "right": "20px",
    "top": "120px",
    "width": "350px"
   },
   "types_to_exclude": [
    "module",
    "function",
    "builtin_function_or_method",
    "instance",
    "_Feature"
   ],
   "window_display": false
  }
 },
 "nbformat": 4,
 "nbformat_minor": 5
}

{
 "cells": [
  {
   "cell_type": "code",
   "execution_count": null,
   "metadata": {},
   "outputs": [],
   "source": []
  },
  {
   "cell_type": "code",
   "execution_count": null,
   "metadata": {},
   "outputs": [],
   "source": []
  },
  {
   "cell_type": "markdown",
   "metadata": {},
   "source": [
    "\n",
    "\n",
    "\n",
    "\n",
    "\n",
    "\n",
    "\n",
    "\n",
    "         Привет уважаемая команда! Сопроводительная заметка пояснение:\n",
    "\n",
    "\n",
    "         \n",
    "      Здесь я ввел свои дополнительные элементы в дизайн,  что бы показать, найденую и усвоеную мной \n",
    "    посследовательно проверок и рассуждений в ЭТОМ виде вопроса. Если у вас другое опытное мнение, пожалуйста, \n",
    "    дайте обратную связь, она будет очень ценной для меня!\n",
    "\n",
    "    Как и ранее, для вас ( и по своей привычке ),я все подробно описываю, читайте неторопливо, я старался.\n",
    "        Моя цель ,по прежнему, донести способ рассуждения, а не короткий вывод.  Если есть ошибки в расчетах \n",
    "        или оценках показатели, прошу учитывать новизну материала, не ругать, и просто дать разъяснения.\n",
    "\n",
    "    Исторически сложилось , что в первую очередь, меня заботила наука принятия решения в условиях извечной \n",
    "    асимметрии информации и собственной «возможности ошибиться». Поэтому стараюст понимть и контролировать то, \n",
    "    КАКИЕ ошибки и КОГДА я допускаю. Мне хочется верить, это важнейший навык для исследователя.\t\n",
    "    Помогают мне в  этом, мои товарищи Канеман, Тверски, Талеб, еще с 10х годов. \n",
    "    Сейчас более плотно знакомлюсь со статистикой и визуализацией. \n",
    "\n",
    "   "
   ]
  },
  {
   "cell_type": "code",
   "execution_count": null,
   "metadata": {},
   "outputs": [],
   "source": []
  },
  {
   "cell_type": "code",
   "execution_count": null,
   "metadata": {},
   "outputs": [],
   "source": []
  },
  {
   "cell_type": "raw",
   "metadata": {},
   "source": [
    "задание\n",
    "\n",
    "\n",
    "Разобранными на лекции методами список того, что можно применять к метрикам-отношениям, не ограничивается. Есть огромное количество полезных материалов на эту темы. Начнем с материалов Никиты Маршалкина. К слову, вот его интервью, там тоже много интересного. \n",
    "https://www.youtube.com/watch?v=gljfGAkgX_o&t=19s\n",
    "https://vkteam.medium.com/practitioners-guide-to-statistical-tests-ed2d580ef04f#d2d3\n",
    "\n",
    "\n",
    "\n",
    "Относительно недавно (в 2018-м году) исследователи из Яндекса разработали классный метод анализа тестов над метриками-отношениями (прямо как у нас) вида 𝑥𝑦\n",
    "\n",
    "(У нас clickslikes​).\n",
    "\n",
    "Идея метода заключается в следующем:\n",
    "\n",
    "Вместо того, чтобы заталкивать в тест «поюзерные» CTR, можно сконструировать другую метрику и анализировать ее, но при этом гарантируется (в отличие от сглаженного CTR):\n",
    "что если тест на этой другой метрике «прокрасится» и увидит изменения - изменения есть и в метрике исходной (то есть в лайках на пользователя и в пользовательских CTR\n",
    "\n",
    "\n",
    "\n",
    "\n",
    "При этом метод сам по себе очень прост. Что это за метрика такая?\n",
    "\n",
    "    1) Считаем общий CTR в контрольной группе 𝐶𝑇𝑅𝑐𝑜𝑛𝑡𝑟𝑜𝑙=𝑠𝑢𝑚(𝑙𝑖𝑘𝑒𝑠)/𝑠𝑢𝑚(𝑣𝑖𝑒𝑤𝑠)\n",
    "\n",
    "    2) Посчитаем в обеих группах поюзерную метрику 𝑙𝑖𝑛𝑒𝑎𝑟𝑖𝑧𝑒𝑑_𝑙𝑖𝑘𝑒𝑠=𝑙𝑖𝑘𝑒𝑠−𝐶𝑇𝑅𝑐𝑜𝑛𝑡𝑟𝑜𝑙∗𝑣𝑖𝑒𝑤𝑠\n",
    "\n",
    "    3) После чего сравним  t-тестом отличия в группах по метрике 𝑙𝑖𝑛𝑒𝑎𝑟𝑖𝑧𝑒𝑑_𝑙𝑖𝑘𝑒𝑠\n",
    "\n",
    "Метод простой, гарантируется, что при приличном размере выборки (как у нас — подойдет) можно бесплатно увеличить чувствительность вашей метрики (или, по крайней мере, не сделать хуже). Как по мне, это ОЧЕНЬ круто.\n",
    "\n",
    "\n",
    "\n",
    "\n",
    "\n",
    "Задача\n",
    "\n",
    "    Проанализируйте тест между группами 0 и 3 по метрике линеаризованных лайков. Видно ли отличие? Стало ли 𝑝−𝑣𝑎𝑙𝑢𝑒 меньше?\n",
    "\n",
    "    Проанализируйте тест между группами 1 и 2 по метрике линеаризованных лайков. Видно ли отличие? Стало ли 𝑝−𝑣𝑎𝑙𝑢𝑒 меньше?"
   ]
  },
  {
   "cell_type": "code",
   "execution_count": null,
   "metadata": {},
   "outputs": [],
   "source": []
  },
  {
   "cell_type": "markdown",
   "metadata": {},
   "source": [
    "                                                            импортирую и подключаюсь\n",
    "                                                            "
   ]
  },
  {
   "cell_type": "code",
   "execution_count": 2,
   "metadata": {},
   "outputs": [
    {
     "data": {
      "text/html": [
       "<div>\n",
       "<style scoped>\n",
       "    .dataframe tbody tr th:only-of-type {\n",
       "        vertical-align: middle;\n",
       "    }\n",
       "\n",
       "    .dataframe tbody tr th {\n",
       "        vertical-align: top;\n",
       "    }\n",
       "\n",
       "    .dataframe thead th {\n",
       "        text-align: right;\n",
       "    }\n",
       "</style>\n",
       "<table border=\"1\" class=\"dataframe\">\n",
       "  <thead>\n",
       "    <tr style=\"text-align: right;\">\n",
       "      <th></th>\n",
       "      <th>user_id</th>\n",
       "      <th>likes</th>\n",
       "      <th>views</th>\n",
       "      <th>ctr</th>\n",
       "    </tr>\n",
       "    <tr>\n",
       "      <th>exp_group</th>\n",
       "      <th></th>\n",
       "      <th></th>\n",
       "      <th></th>\n",
       "      <th></th>\n",
       "    </tr>\n",
       "  </thead>\n",
       "  <tbody>\n",
       "    <tr>\n",
       "      <th>0</th>\n",
       "      <td>9999</td>\n",
       "      <td>9999</td>\n",
       "      <td>9999</td>\n",
       "      <td>9999</td>\n",
       "    </tr>\n",
       "    <tr>\n",
       "      <th>3</th>\n",
       "      <td>10049</td>\n",
       "      <td>10049</td>\n",
       "      <td>10049</td>\n",
       "      <td>10049</td>\n",
       "    </tr>\n",
       "  </tbody>\n",
       "</table>\n",
       "</div>"
      ],
      "text/plain": [
       "           user_id  likes  views    ctr\n",
       "exp_group                              \n",
       "0             9999   9999   9999   9999\n",
       "3            10049  10049  10049  10049"
      ]
     },
     "execution_count": 2,
     "metadata": {},
     "output_type": "execute_result"
    }
   ],
   "source": [
    "import pandas as pd\n",
    "import numpy as np\n",
    "import pandahouse\n",
    "import matplotlib.pyplot as plt\n",
    "import scipy.stats as stats\n",
    "\n",
    "connection = {\n",
    "    'host': 'https://clickhouse.lab.karpov.courses',\n",
    "    'password': 'dpo_python_2020',\n",
    "    'user': 'student',\n",
    "    'database': 'simulator_20221220'\n",
    "}\n",
    "\n",
    "q = \"\"\"\n",
    "SELECT exp_group, \n",
    "    user_id,\n",
    "    sum(action = 'like') AS likes,\n",
    "    sum(action = 'view') AS views,\n",
    "    likes/views AS ctr\n",
    "FROM {db}.feed_actions \n",
    "WHERE toDate(time) >= '2022-12-02' AND toDate(time) <= '2022-12-08'\n",
    "    AND exp_group IN (0,3)\n",
    "GROUP BY exp_group, user_id\n",
    "\"\"\"\n",
    "\n",
    "df = pandahouse.read_clickhouse(q, connection=connection)\n",
    "\n",
    "#сомтрим количество наблюдений в группах\n",
    "df.groupby('exp_group').count()"
   ]
  },
  {
   "cell_type": "code",
   "execution_count": 3,
   "metadata": {},
   "outputs": [],
   "source": [
    "\n",
    "from IPython.core.interactiveshell import InteractiveShell\n",
    "InteractiveShell.ast_node_interactivity = \"all\"\n",
    "import seaborn as sns"
   ]
  },
  {
   "cell_type": "code",
   "execution_count": null,
   "metadata": {},
   "outputs": [],
   "source": []
  },
  {
   "cell_type": "code",
   "execution_count": null,
   "metadata": {},
   "outputs": [],
   "source": []
  },
  {
   "cell_type": "code",
   "execution_count": 4,
   "metadata": {},
   "outputs": [],
   "source": [
    "#     ЗАДАЧА  1\n",
    "#     Проанализируйте тест между группами 0 и 3 по метрике линеаризованных лайков. Видно ли отличие? \n",
    "#     Стало ли 𝑝−𝑣𝑎𝑙𝑢𝑒 меньше?"
   ]
  },
  {
   "cell_type": "code",
   "execution_count": 5,
   "metadata": {},
   "outputs": [
    {
     "data": {
      "text/plain": [
       "2         8\n",
       "3         5\n",
       "4        18\n",
       "5        13\n",
       "6        21\n",
       "         ..\n",
       "20038    35\n",
       "20039    15\n",
       "20040    13\n",
       "20041     8\n",
       "20045     7\n",
       "Name: likes, Length: 9999, dtype: uint64"
      ]
     },
     "execution_count": 5,
     "metadata": {},
     "output_type": "execute_result"
    }
   ],
   "source": [
    "df.query('exp_group == 0')['likes']"
   ]
  },
  {
   "cell_type": "code",
   "execution_count": 6,
   "metadata": {},
   "outputs": [
    {
     "data": {
      "text/plain": [
       "LeveneResult(statistic=10.953080887745209, pvalue=0.0009361288519049566)"
      ]
     },
     "execution_count": 6,
     "metadata": {},
     "output_type": "execute_result"
    },
    {
     "name": "stdout",
     "output_type": "stream",
     "text": [
      " p_val_before linea-n 1.055849414662529e-43, and p_val_after linea-n 5.4914249479687664e-52\n"
     ]
    }
   ],
   "source": [
    "# 1) Считаем общий CTR в контрольной группе 𝐶𝑇𝑅𝑐𝑜𝑛𝑡𝑟𝑜𝑙=𝑠𝑢𝑚(𝑙𝑖𝑘𝑒𝑠)/𝑠𝑢𝑚(𝑣𝑖𝑒𝑤𝑠)\n",
    "\n",
    "ctr_control_0group = df.query('exp_group == 0')['likes'].sum() / df.query('exp_group == 0')['views'].sum()\n",
    "\n",
    "\n",
    "\n",
    "# 2) Посчитаем в обеих группах поюзерную метрику 𝑙𝑖𝑛𝑒𝑎𝑟𝑖𝑧𝑒𝑑_𝑙𝑖𝑘𝑒𝑠=𝑙𝑖𝑘𝑒𝑠−𝐶𝑇𝑅𝑐𝑜𝑛𝑡𝑟𝑜𝑙∗𝑣𝑖𝑒𝑤𝑠\n",
    "# linear_df = pd.DataFrame()\n",
    "                            \n",
    "df['linearized_likes_0'] = (df.query('exp_group == 0')['likes']) -( ctr_control_0group * df.query('exp_group == 0')['views']) \n",
    "df['linearized_likes_3'] = (df.query('exp_group == 3')['likes']) - (ctr_control_0group * df.query('exp_group == 3')['views'] )\n",
    "\n",
    "\n",
    "\n",
    "# 3) После чего сравним  t-тестом отличия в группах по метрике 𝑙𝑖𝑛𝑒𝑎𝑟𝑖𝑧𝑒𝑑_𝑙𝑖𝑘𝑒𝑠\n",
    "\n",
    "stats.levene(df.query('exp_group ==0').ctr, df.query('exp_group ==3').ctr)  #equal_var = FalsE\n",
    " \n",
    "p_val_before = stats.ttest_ind(df.query('exp_group == 0')['ctr'], df.query('exp_group == 3')['ctr'], equal_var = False)\n",
    "p_val_after = stats.ttest_ind(df.query('exp_group == 0')['linearized_likes_0'], df.query('exp_group == 3')['linearized_likes_3'], equal_var = False)\n",
    "\n",
    "print(f' p_val_before linea-n {p_val_before[1]}, and p_val_after linea-n {p_val_after[1]}')"
   ]
  },
  {
   "cell_type": "code",
   "execution_count": null,
   "metadata": {},
   "outputs": [],
   "source": [
    "\n"
   ]
  },
  {
   "cell_type": "code",
   "execution_count": 7,
   "metadata": {},
   "outputs": [],
   "source": [
    "#     ЗАДАНИЕ 2\n",
    "\n",
    "# Проанализируйте тест между группами 1 и 2 по метрике линеаризованных лайков. Видно ли отличие? \n",
    "# Стало ли 𝑝−𝑣𝑎𝑙𝑢𝑒 меньше?"
   ]
  },
  {
   "cell_type": "code",
   "execution_count": 8,
   "metadata": {},
   "outputs": [
    {
     "data": {
      "text/html": [
       "<div>\n",
       "<style scoped>\n",
       "    .dataframe tbody tr th:only-of-type {\n",
       "        vertical-align: middle;\n",
       "    }\n",
       "\n",
       "    .dataframe tbody tr th {\n",
       "        vertical-align: top;\n",
       "    }\n",
       "\n",
       "    .dataframe thead th {\n",
       "        text-align: right;\n",
       "    }\n",
       "</style>\n",
       "<table border=\"1\" class=\"dataframe\">\n",
       "  <thead>\n",
       "    <tr style=\"text-align: right;\">\n",
       "      <th></th>\n",
       "      <th>user_id</th>\n",
       "      <th>likes</th>\n",
       "      <th>views</th>\n",
       "      <th>ctr</th>\n",
       "    </tr>\n",
       "    <tr>\n",
       "      <th>exp_group</th>\n",
       "      <th></th>\n",
       "      <th></th>\n",
       "      <th></th>\n",
       "      <th></th>\n",
       "    </tr>\n",
       "  </thead>\n",
       "  <tbody>\n",
       "    <tr>\n",
       "      <th>1</th>\n",
       "      <td>10079</td>\n",
       "      <td>10079</td>\n",
       "      <td>10079</td>\n",
       "      <td>10079</td>\n",
       "    </tr>\n",
       "    <tr>\n",
       "      <th>2</th>\n",
       "      <td>9952</td>\n",
       "      <td>9952</td>\n",
       "      <td>9952</td>\n",
       "      <td>9952</td>\n",
       "    </tr>\n",
       "  </tbody>\n",
       "</table>\n",
       "</div>"
      ],
      "text/plain": [
       "           user_id  likes  views    ctr\n",
       "exp_group                              \n",
       "1            10079  10079  10079  10079\n",
       "2             9952   9952   9952   9952"
      ]
     },
     "execution_count": 8,
     "metadata": {},
     "output_type": "execute_result"
    }
   ],
   "source": [
    "q = \"\"\"\n",
    "SELECT exp_group, \n",
    "    user_id,\n",
    "    sum(action = 'like') AS likes,\n",
    "    sum(action = 'view') AS views,\n",
    "    likes/views AS ctr\n",
    "FROM {db}.feed_actions \n",
    "WHERE toDate(time) >= '2022-12-02' AND toDate(time) <= '2022-12-08'\n",
    "    AND exp_group IN (1,2)\n",
    "GROUP BY exp_group, user_id\n",
    "\"\"\"\n",
    "\n",
    "df1 = pandahouse.read_clickhouse(q, connection=connection)\n",
    "\n",
    "#сомтрим количество наблюдений в группах\n",
    "df1.groupby('exp_group').count()"
   ]
  },
  {
   "cell_type": "code",
   "execution_count": 9,
   "metadata": {},
   "outputs": [
    {
     "name": "stdout",
     "output_type": "stream",
     "text": [
      " p_val_before linea-n 0.47806231308750413 , and p_val_after linea-n 9.439432187037712e-10\n",
      " p_val_before linea-n 6.0376484617779035e-56, and p_val_after linea-n 9.404319579641738e-27\n"
     ]
    }
   ],
   "source": [
    "# 1) Считаем общий CTR в контрольной группе 𝐶𝑇𝑅𝑐𝑜𝑛𝑡𝑟𝑜𝑙=𝑠𝑢𝑚(𝑙𝑖𝑘𝑒𝑠)/𝑠𝑢𝑚(𝑣𝑖𝑒𝑤𝑠)\n",
    "\n",
    "ctr_control_1group = df1.query('exp_group == 1')['likes'].sum() / df1.query('exp_group == 1')['views'].sum()\n",
    "\n",
    "\n",
    "\n",
    "# 2) Посчитаем в обеих группах поюзерную метрику 𝑙𝑖𝑛𝑒𝑎𝑟𝑖𝑧𝑒𝑑_𝑙𝑖𝑘𝑒𝑠=𝑙𝑖𝑘𝑒𝑠−𝐶𝑇𝑅𝑐𝑜𝑛𝑡𝑟𝑜𝑙∗𝑣𝑖𝑒𝑤𝑠\n",
    "# linear_df = pd.DataFrame()\n",
    "\n",
    "\n",
    "df1['linearized_likes_1'] = (df1.query('exp_group == 1')['likes']) -( ctr_control_1group * df1.query('exp_group == 1')['views']) \n",
    "df1['linearized_likes_2'] = (df1.query('exp_group == 2')['likes']) - (ctr_control_1group * df1.query('exp_group == 2')['views'] )\n",
    "\n",
    "\n",
    "\n",
    "# 3) После чего сравним  t-тестом отличия в группах по метрике 𝑙𝑖𝑛𝑒𝑎𝑟𝑖𝑧𝑒𝑑_𝑙𝑖𝑘𝑒𝑠\n",
    "\n",
    "p_val_after = stats.ttest_ind(df1.query('exp_group == 1')['linearized_likes_1'], df1.query('exp_group == 2')['linearized_likes_2'], equal_var = False)\n",
    "p_val_afte1 = stats.mannwhitneyu(df1.query('exp_group == 1')['linearized_likes_1'], df1.query('exp_group == 2')['linearized_likes_2'])\n",
    "\n",
    "p_val_before = stats.ttest_ind(df1.query('exp_group == 1')['ctr'], df1.query('exp_group == 2')['ctr'], equal_var = False)\n",
    "p_val_before1 = stats.mannwhitneyu(df1.query('exp_group == 1')['ctr'], df1.query('exp_group == 2')['ctr'])\n",
    "\n",
    "\n",
    "\n",
    "\n",
    "print(f' p_val_before linea-n {p_val_before[1]} , and p_val_after linea-n {p_val_after[1]}')\n",
    "print(f' p_val_before linea-n {p_val_before1[1]}, and p_val_after linea-n {p_val_afte1[1]}')"
   ]
  },
  {
   "cell_type": "code",
   "execution_count": 10,
   "metadata": {},
   "outputs": [],
   "source": [
    "# ИТОГО \n",
    "\n",
    "#     ЗДЕСЬ  я использовал тест манн утни ибо распределения 2 групп слишком различны и  предварительно  я их\n",
    "#     не преобразовавывал ,как в предудыщей работе."
   ]
  },
  {
   "cell_type": "code",
   "execution_count": null,
   "metadata": {},
   "outputs": [],
   "source": []
  },
  {
   "cell_type": "raw",
   "metadata": {},
   "source": [
    " ВЫВОД 1 :\n",
    "        \n",
    "        В первом случаем с рапсределениями  групп 0 и3 , похожих друг на друга, и ДО и ПОЛСЕ\n",
    "        преобразование ctr в ноую метрику отношений  - Т тест мне кажется коррктнее\n",
    "        отработал и без преобразований. Значения вероятности получить случайно такие иболее выраженные значения\n",
    "        стало меньше (было(ДО) 1.055849414662529e-43 стало(ПОСЛЕ) 5.4914249479687664e-52),  кажется НА ЭТИХ данных тест\n",
    "        стал чувствительнее к изменениям.\n",
    "        \n",
    "        В втором случаем с рапсределениями  групп 1 и 2 , отвратительно не похожих друг на друга, Т тест мне \n",
    "        кажется не корректно работает ДО преобразований исходных данных. \n",
    "        1) Поэтому я взял Манн Уитни (было 9.404319579641738e-27 стало 6.0376484617779035e-56) и вижу снижение \n",
    "        чувствительности...почему? - если посмотреть на рапсределение, то это совершенно другое рапсределение\n",
    "        и вероятно математика рангов, имеет другую мощность \n",
    "        \n",
    "        2) Т тест наоборот вырос в чуствительности и дал противоположный результат - уже не исходные данные, но произ\n",
    "        водная метрика отношений(linearized likes) стала иметь распрделение норм вида(или приближенное к нему)\n",
    "           т.е. я предполагю, что ТЕПЕРЬ с этимр рапсределением, колличественый тест работает ЛУЧШЕ И ТОЧНЕЕ\n",
    "    \n",
    "    \n",
    "    \n",
    "        ИТОГО - не на того напали!\n",
    "\n",
    "        1) меня не покидает ощущение, что вопрос от лектора задан общим образом, но в итоге мы сравниваем \n",
    "        РАЗНЫЕ распределения от РАЗНЫХ метрик отношений - как мне кажется. \n",
    "\n",
    "           2) Поэтому говоря, что ОПРЕДЕЛЕННЫЙ\n",
    "        тест стал ЧУВСТВИТЕЛЬНЕЕ , мы всего лишь говорим о результате комбинации (тест+метрика+типа рапсределения)\n",
    "        \n",
    "        3) Кароче, я как всегда невнимательно читаю, но мне кажется некорректныс сравнивать p мать его value,\n",
    "        из двух разных комбинаций статистических составляющих. Если так можно - то пока я не знаю\n",
    "        об этом. \n",
    "        \n",
    "        "
   ]
  },
  {
   "cell_type": "raw",
   "metadata": {},
   "source": [
    "\n",
    "\n",
    "\n",
    "\n",
    "     ВЫВОД 2 (ПОПЫТКА ДОДУМАТЬ ВЫВОД):\n",
    "\n",
    " \n",
    " приинцип  этого действа\n",
    "\n",
    " сумма лайков НА пользователя(за период)   - суммарная оценка отношения(ctr) ПО группе * сумму просм НА пользователя\n",
    "\n",
    " 1) похоже что это не совсем метрика отношения, хотя учавствует ctr, но ведь он уже получил свое  абсолютное знаечние \n",
    "\n",
    " 2) 2я часть выражения - математически уменьшается за счет умножения на групповую  сtr =\n",
    "       =  sum(view by user)* sum(click by user)/ sum(view by user)\n",
    "    \n",
    "\n",
    "    \n",
    " 3) чем меньше разница ,тем А)  большЕ просмотров(меньше лайков)\n",
    "                             б) больше группой ctr (при остальных равных)\n",
    "                             в) оба сразу фактора\n",
    "   \n",
    "    \n",
    " выходит если общегрупповой ctr как константа(и мы ее знаме и она \"обычная\") то\n",
    " больший размеры разницы зависит   - ИЛИ  ЗНАЧИТЕЛЬНО боьлше вросмотров,ЧЕМ кликов у пользователя\n",
    "                           - ИЛИ простомтров у пользователя УМЕРЕННО, но и кликов КРАТНО меньше!\n",
    "    \n",
    " Сначала меня смутило,что в это выражении нет дроби отношения. Но видимо здесь используется НЕГЛАСНОЕ отношение \n",
    " корреляции колл Лайков К колл Просмотров у пользователя. А умножение на групп CTR дает эффект снижения \n",
    " дисперсии, вроде как....\n",
    "\n",
    "\n",
    " 3.1) и КСТАТИ У НАС ОБЩИЕ ИСХОДНЫЕ данные(клики и вью)  - в итоге мы смотрим их дисперсию соотношений величин\n",
    "         между собой, клики и вью\n",
    "\n",
    "\n",
    "\"\"\"  ВОТ  УДАЧНЫЙ! ПРИМЕР МОЕГО ДЕЙСТВИЯ -  я не читал статьи которые дают в лекции\n",
    "                      а просто декомпозировал и подумал. В этом и заключается моя исследовательская силушка.\"\"\"\n",
    "\n",
    "\n",
    "\n",
    "\n",
    "\n",
    "\n",
    "    \n",
    "     А ВОТ уже выдержки из статьи:\n",
    " 4)При достаточно высокой асимметрии линеаризация работает примерно так же, как и бутстрап, но при очень!!!!!\n",
    " высокой асимметрии производительность линеаризации падает. \n",
    " !!!! Обратите внимание, что p-значения в этом \n",
    " подходе начинают завышать FPR при очень высокой асимметрии.!!!!\n",
    "\n",
    " 5) В целом, производительность линеаризации сравнима с начальной загрузкой, дельта-методом и бакетизацией. \n",
    " Все они учитывают мнения пользователей, что повышает эффективность, когда дисперсия истинного CTR пользователя \n",
    " является умеренной. Несмотря на это, вы всегда должны проверять их производительность на ваших данных.\n",
    "\n",
    " 6) В ВКонтакте мы обычно используем сегментацию для специального анализа метрик, так как ее можно быстро \n",
    " вычислить за несколько дней с помощью простого SQL-запроса. Дельта-метод используется для доверительных\n",
    " интервалов процентного повышения метрик (он очень похож на глобальный CTR. Подробности см. в статье).\n",
    " И, наконец, начальная загрузка используется как !!!пуленепробиваемая двойная проверка критических решений.!!!\n",
    "\n",
    "\n",
    " ---------\n",
    "# # 4 -0,2*8 = 2,4 оразец\n",
    "\n",
    "# # 4- 0,5*8 = 0\n",
    "# # 4 - 0,2*16 = 0,8\n",
    "\n",
    "# # 2 - 0,2*8 = 0,4"
   ]
  },
  {
   "cell_type": "code",
   "execution_count": null,
   "metadata": {},
   "outputs": [],
   "source": [
    "\n",
    "\n"
   ]
  },
  {
   "cell_type": "markdown",
   "metadata": {},
   "source": [
    "\n",
    "\n",
    "\n",
    "\n",
    "       ВЫВОД 3\n",
    "\n",
    "\n",
    "    так уж и быть, в принципе, можно сравнить p value меры тенденции двух разных метрик, \n",
    "       1) из за их общей  склонности к отношению между клик /вью. \n",
    "       2) общих исходных данных\n",
    "          Однако не стоит забывать,что это держиться на корреляции,\n",
    "    и у линеаризации есть свои допущения, поэтому нос по ветру и быть на чеку"
   ]
  },
  {
   "cell_type": "code",
   "execution_count": null,
   "metadata": {},
   "outputs": [],
   "source": []
  },
  {
   "cell_type": "code",
   "execution_count": null,
   "metadata": {},
   "outputs": [],
   "source": []
  },
  {
   "cell_type": "code",
   "execution_count": null,
   "metadata": {},
   "outputs": [],
   "source": []
  },
  {
   "cell_type": "code",
   "execution_count": null,
   "metadata": {},
   "outputs": [],
   "source": []
  },
  {
   "cell_type": "raw",
   "metadata": {},
   "source": [
    "\n",
    "\n",
    "\n",
    "\n",
    "\n",
    "\n",
    "\n",
    "\n",
    "БЛОК ДОПОЛНИТЕЛьНОГО ИНТЕРЕСА. просто бытсрые визуальные проверки, для моеговоспрития информации"
   ]
  },
  {
   "cell_type": "code",
   "execution_count": 12,
   "metadata": {},
   "outputs": [],
   "source": [
    "# - сравни рапсределния их ДО и ПОСЛЕ визул\n",
    "# - используй преобразование во втором случае,для сравнения результатов манна и т теста"
   ]
  },
  {
   "cell_type": "code",
   "execution_count": 13,
   "metadata": {
    "scrolled": true
   },
   "outputs": [
    {
     "data": {
      "text/plain": [
       "<matplotlib.axes._subplots.AxesSubplot at 0x7f5107ff54a8>"
      ]
     },
     "execution_count": 13,
     "metadata": {},
     "output_type": "execute_result"
    },
    {
     "data": {
      "image/png": "[encoded data removed]",
      "text/plain": [
       "<Figure size 216x360 with 1 Axes>"
      ]
     },
     "metadata": {},
     "output_type": "display_data"
    }
   ],
   "source": [
    "#     BEFORE  linearizing 0 3\n",
    "\n",
    "# sns.histplot( df.query('exp_group == 0'), x = \"ctr\", pallete= ['c', 'r'])\n",
    "# sns.histplot( df.query('exp_group == 3') , x = \"ctr\")\n",
    "sns.set(rc={'figure.figsize':(3 ,5)})\n",
    "sns.histplot(data = df[['ctr', 'exp_group']], \n",
    "                      x='ctr', hue='exp_group', palette = ['r', 'b'],\n",
    "                      alpha=0.5, kde=False)\n"
   ]
  },
  {
   "cell_type": "code",
   "execution_count": 14,
   "metadata": {},
   "outputs": [
    {
     "name": "stderr",
     "output_type": "stream",
     "text": [
      "/opt/tljh/user/lib/python3.7/site-packages/seaborn/palettes.py:222: MatplotlibDeprecationWarning: Support for uppercase single-letter colors is deprecated since Matplotlib 3.1 and will be removed in 3.3; please use lowercase instead.\n",
      "  palette = _ColorPalette(palette)\n"
     ]
    },
    {
     "data": {
      "text/plain": [
       "<matplotlib.axes._subplots.AxesSubplot at 0x7f5107f0ba20>"
      ]
     },
     "execution_count": 14,
     "metadata": {},
     "output_type": "execute_result"
    },
    {
     "data": {
      "text/plain": [
       "<matplotlib.axes._subplots.AxesSubplot at 0x7f5107f0ba20>"
      ]
     },
     "execution_count": 14,
     "metadata": {},
     "output_type": "execute_result"
    },
    {
     "data": {
      "image/png": "[encoded data removed]",
      "text/plain": [
       "<Figure size 216x360 with 1 Axes>"
      ]
     },
     "metadata": {},
     "output_type": "display_data"
    }
   ],
   "source": [
    "#     AFETR linearizing 0 3\n",
    "\n",
    "sns.set(rc={'figure.figsize':(3 ,5)}, palette = ['r', 'C'])\n",
    "# p_val_after = stats.ttest_ind(df.query('exp_group == 0')['linearized_likes_0'], df.query('exp_group == 3')['linearized_likes_3'], equal_var = False)\n",
    "\n",
    "sns.histplot(data = df['linearized_likes_0'])\n",
    "sns.histplot(data = df['linearized_likes_3'])\n",
    "\n"
   ]
  },
  {
   "cell_type": "code",
   "execution_count": null,
   "metadata": {},
   "outputs": [],
   "source": []
  },
  {
   "cell_type": "code",
   "execution_count": 15,
   "metadata": {},
   "outputs": [
    {
     "data": {
      "text/plain": [
       "<matplotlib.axes._subplots.AxesSubplot at 0x7f51074b22e8>"
      ]
     },
     "execution_count": 15,
     "metadata": {},
     "output_type": "execute_result"
    },
    {
     "data": {
      "image/png": "[encoded data removed]",
      "text/plain": [
       "<Figure size 216x360 with 1 Axes>"
      ]
     },
     "metadata": {},
     "output_type": "display_data"
    }
   ],
   "source": [
    "#     BEFORE  linearizing 1 2\n",
    "\n",
    "# sns.histplot( df.query('exp_group == 0'), x = \"ctr\", pallete= ['c', 'r'])\n",
    "# sns.histplot( df.query('exp_group == 3') , x = \"ctr\")\n",
    "sns.set(rc={'figure.figsize':(3 ,5)})\n",
    "sns.histplot(data = df1[['ctr', 'exp_group']], \n",
    "                      x='ctr', hue='exp_group', palette = ['r', 'b'],\n",
    "                      alpha=0.5, kde=False)\n"
   ]
  },
  {
   "cell_type": "code",
   "execution_count": 16,
   "metadata": {},
   "outputs": [
    {
     "data": {
      "text/plain": [
       "<matplotlib.axes._subplots.AxesSubplot at 0x7f51077cb668>"
      ]
     },
     "execution_count": 16,
     "metadata": {},
     "output_type": "execute_result"
    },
    {
     "data": {
      "text/plain": [
       "<matplotlib.axes._subplots.AxesSubplot at 0x7f51077cb668>"
      ]
     },
     "execution_count": 16,
     "metadata": {},
     "output_type": "execute_result"
    },
    {
     "data": {
      "image/png": "[encoded data removed]",
      "text/plain": [
       "<Figure size 216x360 with 1 Axes>"
      ]
     },
     "metadata": {},
     "output_type": "display_data"
    }
   ],
   "source": [
    "#     AFETR  linearizing 1 2\n",
    "\n",
    "sns.set(rc={'figure.figsize':(3 ,5)}, palette = ['r', 'b'])\n",
    "# p_val_after = stats.ttest_ind(df.query('exp_group == 0')['linearized_likes_0'], df.query('exp_group == 3')['linearized_likes_3'], equal_var = False)\n",
    "\n",
    "sns.histplot(data = df1['linearized_likes_1'])\n",
    "sns.histplot(data = df1['linearized_likes_2'])\n",
    "\n"
   ]
  },
  {
   "cell_type": "code",
   "execution_count": null,
   "metadata": {},
   "outputs": [],
   "source": []
  },
  {
   "cell_type": "code",
   "execution_count": 17,
   "metadata": {},
   "outputs": [
    {
     "name": "stderr",
     "output_type": "stream",
     "text": [
      "/opt/tljh/user/lib/python3.7/site-packages/seaborn/distributions.py:2557: FutureWarning: `distplot` is a deprecated function and will be removed in a future version. Please adapt your code to use either `displot` (a figure-level function with similar flexibility) or `histplot` (an axes-level function for histograms).\n",
      "  warnings.warn(msg, FutureWarning)\n"
     ]
    },
    {
     "data": {
      "text/plain": [
       "<matplotlib.axes._subplots.AxesSubplot at 0x7f51074d2390>"
      ]
     },
     "execution_count": 17,
     "metadata": {},
     "output_type": "execute_result"
    },
    {
     "data": {
      "image/png": "[encoded data removed]",
      "text/plain": [
       "<Figure size 216x360 with 1 Axes>"
      ]
     },
     "metadata": {},
     "output_type": "display_data"
    }
   ],
   "source": [
    "#   T SCORES\n",
    "\n",
    "\n",
    "t_scores = []\n",
    "sample_size = 150\n",
    "#se = sigma / sample_size**0.5\n",
    "Mu = df1.query('exp_group ==2')['ctr'].mean()\n",
    "for i in range(50):\n",
    "    sample_real = np.random.choice(df1.query('exp_group ==2')['ctr'], sample_size, False )\n",
    "    \n",
    "    sample_mean_real = sample_real.mean()  #For each sample CALCULATE OWN MEAM AND STD!\n",
    "    samle_std_real = sample_real.std()\n",
    "    \n",
    "    se_real = samle_std_real/sample_size**0.5   #iinstead Sigma/n**0.5 indicate EACH samle_std_real\n",
    "                                #which can  consider as  Sigma of Population for each separate Sample !!!!\n",
    "    \n",
    "#     t_score = (sample_mean_real - Mu)/se_real\n",
    "#     t_scores.append(t_score)\n",
    "    t_scores.append(sample_mean_real)\n",
    "\n",
    "\n",
    "\n",
    "sns.distplot(t_scores, kde = False)\n",
    "\n"
   ]
  },
  {
   "cell_type": "code",
   "execution_count": null,
   "metadata": {},
   "outputs": [],
   "source": []
  },
  {
   "cell_type": "code",
   "execution_count": 18,
   "metadata": {},
   "outputs": [
    {
     "name": "stderr",
     "output_type": "stream",
     "text": [
      "/opt/tljh/user/lib/python3.7/site-packages/seaborn/distributions.py:2557: FutureWarning: `distplot` is a deprecated function and will be removed in a future version. Please adapt your code to use either `displot` (a figure-level function with similar flexibility) or `histplot` (an axes-level function for histograms).\n",
      "  warnings.warn(msg, FutureWarning)\n"
     ]
    },
    {
     "data": {
      "text/plain": [
       "<matplotlib.axes._subplots.AxesSubplot at 0x7f5106f64978>"
      ]
     },
     "execution_count": 18,
     "metadata": {},
     "output_type": "execute_result"
    },
    {
     "data": {
      "image/png": "[encoded data removed]",
      "text/plain": [
       "<Figure size 216x360 with 1 Axes>"
      ]
     },
     "metadata": {},
     "output_type": "display_data"
    }
   ],
   "source": [
    "#   T SCORES\n",
    "\n",
    "\n",
    "t_scores = []\n",
    "sample_size = 150\n",
    "#se = sigma / sample_size**0.5\n",
    "Mu = df1.query('exp_group ==2')['ctr'].mean()\n",
    "for i in range(50):\n",
    "    sample_real = np.random.choice(df1.query('exp_group ==2')['linearized_likes_2'], sample_size, False )\n",
    "    \n",
    "    sample_mean_real = sample_real.mean()  #For each sample CALCULATE OWN MEAM AND STD!\n",
    "    samle_std_real = sample_real.std()\n",
    "    \n",
    "    se_real = samle_std_real/sample_size**0.5   #iinstead Sigma/n**0.5 indicate EACH samle_std_real\n",
    "                                #which can  consider as  Sigma of Population for each separate Sample !!!!\n",
    "    \n",
    "#     t_score = (sample_mean_real - Mu)/se_real\n",
    "    t_scores.append(sample_mean_real)\n",
    "\n",
    "    \n",
    "\n",
    "\n",
    "sns.distplot(t_scores, kde = False)\n",
    "\n"
   ]
  }
 ],
 "metadata": {
  "kernelspec": {
   "display_name": "Python 3",
   "language": "python",
   "name": "python3"
  },
  "language_info": {
   "codemirror_mode": {
    "name": "ipython",
    "version": 3
   },
   "file_extension": ".py",
   "mimetype": "text/x-python",
   "name": "python",
   "nbconvert_exporter": "python",
   "pygments_lexer": "ipython3",
   "version": "3.7.3"
  }
 },
 "nbformat": 4,
 "nbformat_minor": 4
}

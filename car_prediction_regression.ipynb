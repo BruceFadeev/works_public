{
 "cells": [
  {
   "cell_type": "raw",
   "id": "5302e7e3",
   "metadata": {
    "_cell_guid": "b1076dfc-b9ad-4769-8c92-a6c4dae69d19",
    "_uuid": "8f2839f25d086af736a60e9eeb907d3b93b6e0e5",
    "papermill": {
     "duration": 0.022057,
     "end_time": "2022-11-18T13:16:45.278338",
     "exception": false,
     "start_time": "2022-11-18T13:16:45.256281",
     "status": "completed"
    },
    "tags": []
   },
   "source": [
    "              задача с Kaggla и учебного курса Карповаю\\.\n",
    "\n",
    "Китайская автомобильная компания Geely Auto стремится выйти на рынок США, создав там свое производство и производя автомобили на месте, чтобы составить конкуренцию своим американским и европейским коллегам.\n",
    "\n",
    "\n",
    "Они заключили контракт с автомобильной консалтинговой компанией, чтобы понять факторы, от которых зависит цена на автомобили. В частности, они хотят понять факторы, влияющие на цены на автомобили на американском рынке, поскольку они могут сильно отличаться от цен на китайском рынке. Основываясь на различных исследованиях рынка, консалтинговая фирма собрала большой набор данных о различных типах автомобилей на американском рынке.\n",
    "\n",
    "\n",
    "Нам необходимо смоделировать цену автомобилей с помощью доступных независимых переменных. Он будет использоваться руководством, чтобы понять, как именно цены изменяются в зависимости от независимых переменных. Соответственно, они могут манипулировать дизайном автомобилей, бизнес-стратегией и т. д., чтобы соответствовать определенному уровню цен. Кроме того, модель поможет руководству понять динамику ценообразования на новом рынке."
   ]
  },
  {
   "cell_type": "code",
   "execution_count": null,
   "id": "efe18d4b",
   "metadata": {},
   "outputs": [],
   "source": []
  },
  {
   "cell_type": "code",
   "execution_count": 77,
   "id": "e701dfa9",
   "metadata": {
    "execution": {
     "iopub.execute_input": "2022-11-18T13:16:45.361423Z",
     "iopub.status.busy": "2022-11-18T13:16:45.360664Z",
     "iopub.status.idle": "2022-11-18T13:16:52.401331Z",
     "shell.execute_reply": "2022-11-18T13:16:52.400135Z"
    },
    "papermill": {
     "duration": 7.066289,
     "end_time": "2022-11-18T13:16:52.405314",
     "exception": false,
     "start_time": "2022-11-18T13:16:45.339025",
     "status": "completed"
    },
    "tags": []
   },
   "outputs": [],
   "source": [
    "import sys\n",
    "# insert at 1, 0 is the script path (or '' in REPL)\n",
    "sys.path.insert(1, '/usr/local/lib/python3.9/site-packages')\n",
    "\n",
    "import numpy as np\n",
    "import pandas as pd\n",
    "import seaborn as sns\n",
    "import warnings\n",
    "from matplotlib import pyplot as plt\n",
    "import folium\n",
    "from folium.plugins import HeatMap\n",
    "\n",
    "\n",
    "from sklearn.decomposition import PCA\n",
    "from sklearn import preprocessing\n",
    "from sklearn.model_selection import train_test_split\n",
    "from sklearn.preprocessing import StandardScaler,LabelEncoder,OneHotEncoder\n",
    "\n",
    "\n",
    "from sklearn.metrics import mean_squared_error\n",
    "from sklearn.metrics import r2_score\n",
    "from sklearn.linear_model import LinearRegression\n",
    "from sklearn.linear_model import Lasso\n",
    "from sklearn.linear_model import Ridge\n",
    "from sklearn.linear_model import HuberRegressor\n",
    "\n",
    "from sklearn.ensemble import RandomForestRegressor\n",
    "import xgboost as xg\n",
    "import tensorflow as tf\n",
    "\n",
    "pd.set_option('display.max_columns',None)\n",
    "warnings.filterwarnings('ignore')\n",
    "%matplotlib inline "
   ]
  },
  {
   "cell_type": "raw",
   "id": "df55ce76",
   "metadata": {
    "papermill": {
     "duration": 0.020547,
     "end_time": "2022-11-18T13:16:52.453186",
     "exception": false,
     "start_time": "2022-11-18T13:16:52.432639",
     "status": "completed"
    },
    "tags": []
   },
   "source": [
    "\n",
    "                                ОБЩАЯ ИНФОРМАЦИЯ О ДАННЫХ\n",
    "\n",
    "\n"
   ]
  },
  {
   "cell_type": "code",
   "execution_count": 78,
   "id": "a5597ff4",
   "metadata": {
    "execution": {
     "iopub.execute_input": "2022-11-18T13:16:52.540784Z",
     "iopub.status.busy": "2022-11-18T13:16:52.540114Z",
     "iopub.status.idle": "2022-11-18T13:16:52.593080Z",
     "shell.execute_reply": "2022-11-18T13:16:52.591679Z"
    },
    "papermill": {
     "duration": 0.079047,
     "end_time": "2022-11-18T13:16:52.597142",
     "exception": false,
     "start_time": "2022-11-18T13:16:52.518095",
     "status": "completed"
    },
    "tags": []
   },
   "outputs": [
    {
     "data": {
      "text/html": [
       "<div>\n",
       "<style scoped>\n",
       "    .dataframe tbody tr th:only-of-type {\n",
       "        vertical-align: middle;\n",
       "    }\n",
       "\n",
       "    .dataframe tbody tr th {\n",
       "        vertical-align: top;\n",
       "    }\n",
       "\n",
       "    .dataframe thead th {\n",
       "        text-align: right;\n",
       "    }\n",
       "</style>\n",
       "<table border=\"1\" class=\"dataframe\">\n",
       "  <thead>\n",
       "    <tr style=\"text-align: right;\">\n",
       "      <th></th>\n",
       "      <th>car_ID</th>\n",
       "      <th>symboling</th>\n",
       "      <th>CarName</th>\n",
       "      <th>fueltype</th>\n",
       "      <th>aspiration</th>\n",
       "      <th>doornumber</th>\n",
       "      <th>carbody</th>\n",
       "      <th>drivewheel</th>\n",
       "      <th>enginelocation</th>\n",
       "      <th>wheelbase</th>\n",
       "      <th>carlength</th>\n",
       "      <th>carwidth</th>\n",
       "      <th>carheight</th>\n",
       "      <th>curbweight</th>\n",
       "      <th>enginetype</th>\n",
       "      <th>cylindernumber</th>\n",
       "      <th>enginesize</th>\n",
       "      <th>fuelsystem</th>\n",
       "      <th>boreratio</th>\n",
       "      <th>stroke</th>\n",
       "      <th>compressionratio</th>\n",
       "      <th>horsepower</th>\n",
       "      <th>peakrpm</th>\n",
       "      <th>citympg</th>\n",
       "      <th>highwaympg</th>\n",
       "      <th>price</th>\n",
       "    </tr>\n",
       "  </thead>\n",
       "  <tbody>\n",
       "    <tr>\n",
       "      <th>0</th>\n",
       "      <td>1</td>\n",
       "      <td>3</td>\n",
       "      <td>alfa-romero giulia</td>\n",
       "      <td>gas</td>\n",
       "      <td>std</td>\n",
       "      <td>two</td>\n",
       "      <td>convertible</td>\n",
       "      <td>rwd</td>\n",
       "      <td>front</td>\n",
       "      <td>88.6</td>\n",
       "      <td>168.8</td>\n",
       "      <td>64.1</td>\n",
       "      <td>48.8</td>\n",
       "      <td>2548</td>\n",
       "      <td>dohc</td>\n",
       "      <td>four</td>\n",
       "      <td>130</td>\n",
       "      <td>mpfi</td>\n",
       "      <td>3.47</td>\n",
       "      <td>2.68</td>\n",
       "      <td>9.0</td>\n",
       "      <td>111</td>\n",
       "      <td>5000</td>\n",
       "      <td>21</td>\n",
       "      <td>27</td>\n",
       "      <td>13495.0</td>\n",
       "    </tr>\n",
       "    <tr>\n",
       "      <th>1</th>\n",
       "      <td>2</td>\n",
       "      <td>3</td>\n",
       "      <td>alfa-romero stelvio</td>\n",
       "      <td>gas</td>\n",
       "      <td>std</td>\n",
       "      <td>two</td>\n",
       "      <td>convertible</td>\n",
       "      <td>rwd</td>\n",
       "      <td>front</td>\n",
       "      <td>88.6</td>\n",
       "      <td>168.8</td>\n",
       "      <td>64.1</td>\n",
       "      <td>48.8</td>\n",
       "      <td>2548</td>\n",
       "      <td>dohc</td>\n",
       "      <td>four</td>\n",
       "      <td>130</td>\n",
       "      <td>mpfi</td>\n",
       "      <td>3.47</td>\n",
       "      <td>2.68</td>\n",
       "      <td>9.0</td>\n",
       "      <td>111</td>\n",
       "      <td>5000</td>\n",
       "      <td>21</td>\n",
       "      <td>27</td>\n",
       "      <td>16500.0</td>\n",
       "    </tr>\n",
       "    <tr>\n",
       "      <th>2</th>\n",
       "      <td>3</td>\n",
       "      <td>1</td>\n",
       "      <td>alfa-romero Quadrifoglio</td>\n",
       "      <td>gas</td>\n",
       "      <td>std</td>\n",
       "      <td>two</td>\n",
       "      <td>hatchback</td>\n",
       "      <td>rwd</td>\n",
       "      <td>front</td>\n",
       "      <td>94.5</td>\n",
       "      <td>171.2</td>\n",
       "      <td>65.5</td>\n",
       "      <td>52.4</td>\n",
       "      <td>2823</td>\n",
       "      <td>ohcv</td>\n",
       "      <td>six</td>\n",
       "      <td>152</td>\n",
       "      <td>mpfi</td>\n",
       "      <td>2.68</td>\n",
       "      <td>3.47</td>\n",
       "      <td>9.0</td>\n",
       "      <td>154</td>\n",
       "      <td>5000</td>\n",
       "      <td>19</td>\n",
       "      <td>26</td>\n",
       "      <td>16500.0</td>\n",
       "    </tr>\n",
       "    <tr>\n",
       "      <th>3</th>\n",
       "      <td>4</td>\n",
       "      <td>2</td>\n",
       "      <td>audi 100 ls</td>\n",
       "      <td>gas</td>\n",
       "      <td>std</td>\n",
       "      <td>four</td>\n",
       "      <td>sedan</td>\n",
       "      <td>fwd</td>\n",
       "      <td>front</td>\n",
       "      <td>99.8</td>\n",
       "      <td>176.6</td>\n",
       "      <td>66.2</td>\n",
       "      <td>54.3</td>\n",
       "      <td>2337</td>\n",
       "      <td>ohc</td>\n",
       "      <td>four</td>\n",
       "      <td>109</td>\n",
       "      <td>mpfi</td>\n",
       "      <td>3.19</td>\n",
       "      <td>3.40</td>\n",
       "      <td>10.0</td>\n",
       "      <td>102</td>\n",
       "      <td>5500</td>\n",
       "      <td>24</td>\n",
       "      <td>30</td>\n",
       "      <td>13950.0</td>\n",
       "    </tr>\n",
       "    <tr>\n",
       "      <th>4</th>\n",
       "      <td>5</td>\n",
       "      <td>2</td>\n",
       "      <td>audi 100ls</td>\n",
       "      <td>gas</td>\n",
       "      <td>std</td>\n",
       "      <td>four</td>\n",
       "      <td>sedan</td>\n",
       "      <td>4wd</td>\n",
       "      <td>front</td>\n",
       "      <td>99.4</td>\n",
       "      <td>176.6</td>\n",
       "      <td>66.4</td>\n",
       "      <td>54.3</td>\n",
       "      <td>2824</td>\n",
       "      <td>ohc</td>\n",
       "      <td>five</td>\n",
       "      <td>136</td>\n",
       "      <td>mpfi</td>\n",
       "      <td>3.19</td>\n",
       "      <td>3.40</td>\n",
       "      <td>8.0</td>\n",
       "      <td>115</td>\n",
       "      <td>5500</td>\n",
       "      <td>18</td>\n",
       "      <td>22</td>\n",
       "      <td>17450.0</td>\n",
       "    </tr>\n",
       "  </tbody>\n",
       "</table>\n",
       "</div>"
      ],
      "text/plain": [
       "   car_ID  symboling                   CarName fueltype aspiration doornumber  \\\n",
       "0       1          3        alfa-romero giulia      gas        std        two   \n",
       "1       2          3       alfa-romero stelvio      gas        std        two   \n",
       "2       3          1  alfa-romero Quadrifoglio      gas        std        two   \n",
       "3       4          2               audi 100 ls      gas        std       four   \n",
       "4       5          2                audi 100ls      gas        std       four   \n",
       "\n",
       "       carbody drivewheel enginelocation  wheelbase  carlength  carwidth  \\\n",
       "0  convertible        rwd          front       88.6      168.8      64.1   \n",
       "1  convertible        rwd          front       88.6      168.8      64.1   \n",
       "2    hatchback        rwd          front       94.5      171.2      65.5   \n",
       "3        sedan        fwd          front       99.8      176.6      66.2   \n",
       "4        sedan        4wd          front       99.4      176.6      66.4   \n",
       "\n",
       "   carheight  curbweight enginetype cylindernumber  enginesize fuelsystem  \\\n",
       "0       48.8        2548       dohc           four         130       mpfi   \n",
       "1       48.8        2548       dohc           four         130       mpfi   \n",
       "2       52.4        2823       ohcv            six         152       mpfi   \n",
       "3       54.3        2337        ohc           four         109       mpfi   \n",
       "4       54.3        2824        ohc           five         136       mpfi   \n",
       "\n",
       "   boreratio  stroke  compressionratio  horsepower  peakrpm  citympg  \\\n",
       "0       3.47    2.68               9.0         111     5000       21   \n",
       "1       3.47    2.68               9.0         111     5000       21   \n",
       "2       2.68    3.47               9.0         154     5000       19   \n",
       "3       3.19    3.40              10.0         102     5500       24   \n",
       "4       3.19    3.40               8.0         115     5500       18   \n",
       "\n",
       "   highwaympg    price  \n",
       "0          27  13495.0  \n",
       "1          27  16500.0  \n",
       "2          26  16500.0  \n",
       "3          30  13950.0  \n",
       "4          22  17450.0  "
      ]
     },
     "execution_count": 78,
     "metadata": {},
     "output_type": "execute_result"
    }
   ],
   "source": [
    "cars_df = pd.read_csv('/Users/bruce/Library/CloudStorage/OneDrive-Личная/DocumentsMacOneDrive/Karpov.Course1/Stat_module/lesson7/cars.csv', sep = ',' )\n",
    "cars_df.head()"
   ]
  },
  {
   "cell_type": "code",
   "execution_count": 79,
   "id": "c7717190",
   "metadata": {
    "execution": {
     "iopub.execute_input": "2022-11-18T13:16:52.655466Z",
     "iopub.status.busy": "2022-11-18T13:16:52.655066Z",
     "iopub.status.idle": "2022-11-18T13:16:52.682863Z",
     "shell.execute_reply": "2022-11-18T13:16:52.681729Z"
    },
    "papermill": {
     "duration": 0.064791,
     "end_time": "2022-11-18T13:16:52.685847",
     "exception": false,
     "start_time": "2022-11-18T13:16:52.621056",
     "status": "completed"
    },
    "tags": []
   },
   "outputs": [
    {
     "data": {
      "text/plain": [
       "(car_ID                int64\n",
       " symboling             int64\n",
       " CarName              object\n",
       " fueltype             object\n",
       " aspiration           object\n",
       " doornumber           object\n",
       " carbody              object\n",
       " drivewheel           object\n",
       " enginelocation       object\n",
       " wheelbase           float64\n",
       " carlength           float64\n",
       " carwidth            float64\n",
       " carheight           float64\n",
       " curbweight            int64\n",
       " enginetype           object\n",
       " cylindernumber       object\n",
       " enginesize            int64\n",
       " fuelsystem           object\n",
       " boreratio           float64\n",
       " stroke              float64\n",
       " compressionratio    float64\n",
       " horsepower            int64\n",
       " peakrpm               int64\n",
       " citympg               int64\n",
       " highwaympg            int64\n",
       " price               float64\n",
       " dtype: object,\n",
       " (205, 26))"
      ]
     },
     "execution_count": 79,
     "metadata": {},
     "output_type": "execute_result"
    }
   ],
   "source": [
    "\n",
    "cars_df.dtypes, cars_df.shape\n"
   ]
  },
  {
   "cell_type": "code",
   "execution_count": 80,
   "id": "d3106c87",
   "metadata": {
    "execution": {
     "iopub.execute_input": "2022-11-18T13:16:52.735373Z",
     "iopub.status.busy": "2022-11-18T13:16:52.734525Z",
     "iopub.status.idle": "2022-11-18T13:16:52.914768Z",
     "shell.execute_reply": "2022-11-18T13:16:52.913581Z"
    },
    "papermill": {
     "duration": 0.20576,
     "end_time": "2022-11-18T13:16:52.918071",
     "exception": false,
     "start_time": "2022-11-18T13:16:52.712311",
     "status": "completed"
    },
    "tags": []
   },
   "outputs": [
    {
     "data": {
      "text/plain": [
       "car_ID              0\n",
       "symboling           0\n",
       "CarName             0\n",
       "fueltype            0\n",
       "aspiration          0\n",
       "doornumber          0\n",
       "carbody             0\n",
       "drivewheel          0\n",
       "enginelocation      0\n",
       "wheelbase           0\n",
       "carlength           0\n",
       "carwidth            0\n",
       "carheight           0\n",
       "curbweight          0\n",
       "enginetype          0\n",
       "cylindernumber      0\n",
       "enginesize          0\n",
       "fuelsystem          0\n",
       "boreratio           0\n",
       "stroke              0\n",
       "compressionratio    0\n",
       "horsepower          0\n",
       "peakrpm             0\n",
       "citympg             0\n",
       "highwaympg          0\n",
       "price               0\n",
       "dtype: int64"
      ]
     },
     "execution_count": 80,
     "metadata": {},
     "output_type": "execute_result"
    }
   ],
   "source": [
    "cars_df.isna().sum()\n"
   ]
  },
  {
   "cell_type": "code",
   "execution_count": 81,
   "id": "f65523ca",
   "metadata": {},
   "outputs": [
    {
     "data": {
      "text/plain": [
       "0"
      ]
     },
     "execution_count": 81,
     "metadata": {},
     "output_type": "execute_result"
    }
   ],
   "source": [
    "# посмотрим дубликаты, ибо может на модели сказаться\n",
    "cars_df.duplicated().sum()"
   ]
  },
  {
   "cell_type": "code",
   "execution_count": null,
   "id": "0107a388",
   "metadata": {},
   "outputs": [],
   "source": [
    "\n"
   ]
  },
  {
   "cell_type": "code",
   "execution_count": 82,
   "id": "1d0dac25",
   "metadata": {
    "execution": {
     "iopub.execute_input": "2022-11-18T13:16:53.020697Z",
     "iopub.status.busy": "2022-11-18T13:16:53.020263Z",
     "iopub.status.idle": "2022-11-18T13:17:01.181077Z",
     "shell.execute_reply": "2022-11-18T13:17:01.179899Z"
    },
    "papermill": {
     "duration": 8.188301,
     "end_time": "2022-11-18T13:17:01.183942",
     "exception": false,
     "start_time": "2022-11-18T13:16:52.995641",
     "status": "completed"
    },
    "tags": []
   },
   "outputs": [
    {
     "data": {
      "text/plain": [
       "array([[<AxesSubplot:title={'center':'car_ID'}>,\n",
       "        <AxesSubplot:title={'center':'symboling'}>,\n",
       "        <AxesSubplot:title={'center':'wheelbase'}>,\n",
       "        <AxesSubplot:title={'center':'carlength'}>],\n",
       "       [<AxesSubplot:title={'center':'carwidth'}>,\n",
       "        <AxesSubplot:title={'center':'carheight'}>,\n",
       "        <AxesSubplot:title={'center':'curbweight'}>,\n",
       "        <AxesSubplot:title={'center':'enginesize'}>],\n",
       "       [<AxesSubplot:title={'center':'boreratio'}>,\n",
       "        <AxesSubplot:title={'center':'stroke'}>,\n",
       "        <AxesSubplot:title={'center':'compressionratio'}>,\n",
       "        <AxesSubplot:title={'center':'horsepower'}>],\n",
       "       [<AxesSubplot:title={'center':'peakrpm'}>,\n",
       "        <AxesSubplot:title={'center':'citympg'}>,\n",
       "        <AxesSubplot:title={'center':'highwaympg'}>,\n",
       "        <AxesSubplot:title={'center':'price'}>]], dtype=object)"
      ]
     },
     "execution_count": 82,
     "metadata": {},
     "output_type": "execute_result"
    },
    {
     "data": {
      "image/png": "[encoded data removed]",
      "text/plain": [
       "<Figure size 432x288 with 16 Axes>"
      ]
     },
     "metadata": {
      "needs_background": "light"
     },
     "output_type": "display_data"
    }
   ],
   "source": [
    "# посомтрим распределние\n",
    "# A histogram is the graphical representation of quantitative data.\n",
    "\n",
    "cars_df.hist(bins = 25)  \n",
    "\n"
   ]
  },
  {
   "cell_type": "code",
   "execution_count": null,
   "id": "66858d5a",
   "metadata": {},
   "outputs": [],
   "source": [
    "\n",
    "\n",
    "\n",
    "\n",
    "\n"
   ]
  },
  {
   "cell_type": "raw",
   "id": "1ff7b12e",
   "metadata": {
    "papermill": {
     "duration": 0.025881,
     "end_time": "2022-11-18T13:17:03.309699",
     "exception": false,
     "start_time": "2022-11-18T13:17:03.283818",
     "status": "completed"
    },
    "tags": []
   },
   "source": [
    "\n",
    "                                    ПРЕОБРАЗУЕМ ДАННЫЕ ДЛЯ УДОБСТВА\n",
    "                                    \n",
    "1) В черновике использовал \n",
    "\n",
    " линейная регрессия в python не справляется с категориальными \n",
    "# переменными (типом object в pandas), поэтому давайте применим pd.get_dummies().\n",
    "# df_dummy = pd.get_dummies(data=cars[[список_столбцов_типа_object]], drop_first = True)\n",
    "\n",
    "  get_dummiesМетод принимает категориальную особенность в качестве аргумента. Тогда это создаетФиктивная переменная для каждой метки в функции, так что каждая фиктивная переменная содержит данные как1или0.1указывает на наличие определенного ярлыка и0указывает на отсутствие определенного ярлыка.\n",
    "\n",
    "получить фиктивные переменные для категориальных функций:\n",
    "df = pd.get_dummies(df, columns = [\"Book_Table\",\"Class\"] , prefix_sep = \"_\",drop_first = True)df.head()\n",
    "\n",
    "  One-Hot Encoding  создает дополнительные функции на основе количества уникальных значений в категориальной функции. Каждое уникальное значение в категории будет добавлено как функция.\n",
    "\n"
   ]
  },
  {
   "cell_type": "code",
   "execution_count": 84,
   "id": "6e48dd28",
   "metadata": {
    "execution": {
     "iopub.execute_input": "2022-11-18T13:17:03.361948Z",
     "iopub.status.busy": "2022-11-18T13:17:03.361544Z",
     "iopub.status.idle": "2022-11-18T13:17:03.370638Z",
     "shell.execute_reply": "2022-11-18T13:17:03.369441Z"
    },
    "papermill": {
     "duration": 0.037656,
     "end_time": "2022-11-18T13:17:03.372741",
     "exception": false,
     "start_time": "2022-11-18T13:17:03.335085",
     "status": "completed"
    },
    "tags": []
   },
   "outputs": [],
   "source": [
    "cars_df['cylindernumber'].replace({'two':2, 'three':3, 'four':4, 'five':5, 'six':6, 'eight':8, 'twelve':12}, inplace=True)\n",
    "cars_df['doornumber'].replace({'two':2, 'four':4}, inplace=True)\n",
    "\n"
   ]
  },
  {
   "cell_type": "code",
   "execution_count": 85,
   "id": "bc43f1cd",
   "metadata": {},
   "outputs": [
    {
     "ename": "SyntaxError",
     "evalue": "EOL while scanning string literal (3395634165.py, line 1)",
     "output_type": "error",
     "traceback": [
      "\u001b[0;36m  File \u001b[0;32m\"/var/folders/81/czt11kms0_30wrpb138499r40000gn/T/ipykernel_24558/3395634165.py\"\u001b[0;36m, line \u001b[0;32m1\u001b[0m\n\u001b[0;31m    fghjkl;'\u001b[0m\n\u001b[0m            ^\u001b[0m\n\u001b[0;31mSyntaxError\u001b[0m\u001b[0;31m:\u001b[0m EOL while scanning string literal\n"
     ]
    }
   ],
   "source": [
    "fghjkl;'\n",
    "'  let make it more logical\n",
    "1) reach out all CATEGORACAL columns\n",
    "2) a nd then only - to get dummies"
   ]
  },
  {
   "cell_type": "code",
   "execution_count": 90,
   "id": "60a2d58b",
   "metadata": {},
   "outputs": [
    {
     "data": {
      "text/plain": [
       "Index(['CarName', 'fueltype', 'aspiration', 'carbody', 'drivewheel',\n",
       "       'enginelocation', 'enginetype', 'fuelsystem'],\n",
       "      dtype='object')"
      ]
     },
     "execution_count": 90,
     "metadata": {},
     "output_type": "execute_result"
    }
   ],
   "source": [
    "# ** как видим у нас присутсует катег данные и дляработы в модели, лучше обработаь их\n",
    "\n",
    "\n",
    "cars_df.select_dtypes(include=['object']).columns\n",
    "# cars_df.dtypes"
   ]
  },
  {
   "cell_type": "code",
   "execution_count": null,
   "id": "cea30ad4",
   "metadata": {
    "execution": {
     "iopub.execute_input": "2022-11-18T13:17:03.425955Z",
     "iopub.status.busy": "2022-11-18T13:17:03.425301Z",
     "iopub.status.idle": "2022-11-18T13:17:03.437686Z",
     "shell.execute_reply": "2022-11-18T13:17:03.436894Z"
    },
    "papermill": {
     "duration": 0.042044,
     "end_time": "2022-11-18T13:17:03.440038",
     "exception": false,
     "start_time": "2022-11-18T13:17:03.397994",
     "status": "completed"
    },
    "tags": []
   },
   "outputs": [],
   "source": [
    "cars_df = pd.get_dummies(cars_df, columns = ['fueltype', 'aspiration', 'carbody', 'drivewheel', 'enginelocation', 'enginetype', 'fuelsystem'])"
   ]
  },
  {
   "cell_type": "code",
   "execution_count": 100,
   "id": "1500a7f5",
   "metadata": {},
   "outputs": [
    {
     "data": {
      "text/plain": [
       "car_id              205\n",
       "symboling             6\n",
       "carname             147\n",
       "fueltype              2\n",
       "aspiration            2\n",
       "doornumber            2\n",
       "carbody               5\n",
       "drivewheel            3\n",
       "enginelocation        2\n",
       "wheelbase            53\n",
       "carlength            75\n",
       "carwidth             44\n",
       "carheight            49\n",
       "curbweight          171\n",
       "enginetype            7\n",
       "cylindernumber        7\n",
       "enginesize           44\n",
       "fuelsystem            8\n",
       "boreratio            38\n",
       "stroke               37\n",
       "compressionratio     32\n",
       "horsepower           59\n",
       "peakrpm              23\n",
       "citympg              29\n",
       "highwaympg           30\n",
       "price               189\n",
       "dtype: int64"
      ]
     },
     "execution_count": 100,
     "metadata": {},
     "output_type": "execute_result"
    }
   ],
   "source": [
    "# 1) сокращу, до одного слова\n",
    "\n",
    "# приводим в одному регистру\n",
    "cars_df.columns  =cars_df.columns.str.lower()\n",
    "\n",
    "# сомтрю что там у CarName\n",
    "cars_df.carname.unique()\n",
    "\n",
    "#  посомтрим колл уникальныз признаков , id можно убрать, с carname и curbweight и остальными можно посомтреть,что можно сделать\n",
    "cars_df.nunique()"
   ]
  },
  {
   "cell_type": "code",
   "execution_count": 102,
   "id": "52e67d18",
   "metadata": {},
   "outputs": [],
   "source": [
    "# вынул все названия, преобразовал серию в список\n",
    "attempt = list(cars_df.carname.str.lower())\n",
    "attempt\n",
    "\n",
    "# создал список будущей колонки, проинерировал, раздеил по пробелц и взял первый эл-т[0]\n",
    "# !!! А ВОТ В ОДНУ СТРОЧКУ)\n",
    "# cars['company'] = cars['carname'].apply(lambda x : x.split[0])\n",
    "company = []\n",
    "for i in attempt:\n",
    "    u = i.split(' ')[0]\n",
    "    company.append(u)"
   ]
  },
  {
   "cell_type": "code",
   "execution_count": 103,
   "id": "537a9dcf",
   "metadata": {
    "execution": {
     "iopub.execute_input": "2022-11-18T13:17:03.798102Z",
     "iopub.status.busy": "2022-11-18T13:17:03.797666Z",
     "iopub.status.idle": "2022-11-18T13:17:03.808067Z",
     "shell.execute_reply": "2022-11-18T13:17:03.806934Z"
    },
    "papermill": {
     "duration": 0.03943,
     "end_time": "2022-11-18T13:17:03.810537",
     "exception": false,
     "start_time": "2022-11-18T13:17:03.771107",
     "status": "completed"
    },
    "tags": []
   },
   "outputs": [],
   "source": [
    "# добавляю и удалю столбцы  Столбец CarName с \n",
    "# полным названием машины удалите из датасета, а также car_ID, они не пригодятся для \n",
    "# дальнейшего анализа.\n",
    "\n",
    "cars_df.drop( columns = ['carname', 'car_id'], axis = 1, inplace=True)\n",
    "cars_df['company'] = company"
   ]
  },
  {
   "cell_type": "code",
   "execution_count": 104,
   "id": "41c8d605",
   "metadata": {
    "execution": {
     "iopub.execute_input": "2022-11-18T13:17:03.862340Z",
     "iopub.status.busy": "2022-11-18T13:17:03.861937Z",
     "iopub.status.idle": "2022-11-18T13:17:03.906472Z",
     "shell.execute_reply": "2022-11-18T13:17:03.905104Z"
    },
    "papermill": {
     "duration": 0.073543,
     "end_time": "2022-11-18T13:17:03.909186",
     "exception": false,
     "start_time": "2022-11-18T13:17:03.835643",
     "status": "completed"
    },
    "tags": []
   },
   "outputs": [
    {
     "data": {
      "text/html": [
       "<div>\n",
       "<style scoped>\n",
       "    .dataframe tbody tr th:only-of-type {\n",
       "        vertical-align: middle;\n",
       "    }\n",
       "\n",
       "    .dataframe tbody tr th {\n",
       "        vertical-align: top;\n",
       "    }\n",
       "\n",
       "    .dataframe thead th {\n",
       "        text-align: right;\n",
       "    }\n",
       "</style>\n",
       "<table border=\"1\" class=\"dataframe\">\n",
       "  <thead>\n",
       "    <tr style=\"text-align: right;\">\n",
       "      <th></th>\n",
       "      <th>symboling</th>\n",
       "      <th>doornumber</th>\n",
       "      <th>wheelbase</th>\n",
       "      <th>carlength</th>\n",
       "      <th>carwidth</th>\n",
       "      <th>carheight</th>\n",
       "      <th>curbweight</th>\n",
       "      <th>cylindernumber</th>\n",
       "      <th>enginesize</th>\n",
       "      <th>boreratio</th>\n",
       "      <th>stroke</th>\n",
       "      <th>compressionratio</th>\n",
       "      <th>horsepower</th>\n",
       "      <th>peakrpm</th>\n",
       "      <th>citympg</th>\n",
       "      <th>highwaympg</th>\n",
       "      <th>price</th>\n",
       "      <th>fueltype_diesel</th>\n",
       "      <th>fueltype_gas</th>\n",
       "      <th>aspiration_std</th>\n",
       "      <th>aspiration_turbo</th>\n",
       "      <th>carbody_convertible</th>\n",
       "      <th>carbody_hardtop</th>\n",
       "      <th>carbody_hatchback</th>\n",
       "      <th>carbody_sedan</th>\n",
       "      <th>carbody_wagon</th>\n",
       "      <th>drivewheel_4wd</th>\n",
       "      <th>drivewheel_fwd</th>\n",
       "      <th>drivewheel_rwd</th>\n",
       "      <th>enginelocation_front</th>\n",
       "      <th>enginelocation_rear</th>\n",
       "      <th>enginetype_dohc</th>\n",
       "      <th>enginetype_dohcv</th>\n",
       "      <th>enginetype_l</th>\n",
       "      <th>enginetype_ohc</th>\n",
       "      <th>enginetype_ohcf</th>\n",
       "      <th>enginetype_ohcv</th>\n",
       "      <th>enginetype_rotor</th>\n",
       "      <th>fuelsystem_1bbl</th>\n",
       "      <th>fuelsystem_2bbl</th>\n",
       "      <th>fuelsystem_4bbl</th>\n",
       "      <th>fuelsystem_idi</th>\n",
       "      <th>fuelsystem_mfi</th>\n",
       "      <th>fuelsystem_mpfi</th>\n",
       "      <th>fuelsystem_spdi</th>\n",
       "      <th>fuelsystem_spfi</th>\n",
       "      <th>company_alfa-romero</th>\n",
       "      <th>company_audi</th>\n",
       "      <th>company_bmw</th>\n",
       "      <th>company_buick</th>\n",
       "      <th>company_chevrolet</th>\n",
       "      <th>company_dodge</th>\n",
       "      <th>company_honda</th>\n",
       "      <th>company_isuzu</th>\n",
       "      <th>company_jaguar</th>\n",
       "      <th>company_maxda</th>\n",
       "      <th>company_mazda</th>\n",
       "      <th>company_mercury</th>\n",
       "      <th>company_mitsubishi</th>\n",
       "      <th>company_nissan</th>\n",
       "      <th>company_peugeot</th>\n",
       "      <th>company_plymouth</th>\n",
       "      <th>company_porcshce</th>\n",
       "      <th>company_porsche</th>\n",
       "      <th>company_renault</th>\n",
       "      <th>company_saab</th>\n",
       "      <th>company_subaru</th>\n",
       "      <th>company_toyota</th>\n",
       "      <th>company_toyouta</th>\n",
       "      <th>company_vokswagen</th>\n",
       "      <th>company_volkswagen</th>\n",
       "      <th>company_volvo</th>\n",
       "      <th>company_vw</th>\n",
       "    </tr>\n",
       "  </thead>\n",
       "  <tbody>\n",
       "    <tr>\n",
       "      <th>0</th>\n",
       "      <td>3</td>\n",
       "      <td>2</td>\n",
       "      <td>88.6</td>\n",
       "      <td>168.8</td>\n",
       "      <td>64.1</td>\n",
       "      <td>48.8</td>\n",
       "      <td>2548</td>\n",
       "      <td>4</td>\n",
       "      <td>130</td>\n",
       "      <td>3.47</td>\n",
       "      <td>2.68</td>\n",
       "      <td>9.0</td>\n",
       "      <td>111</td>\n",
       "      <td>5000</td>\n",
       "      <td>21</td>\n",
       "      <td>27</td>\n",
       "      <td>13495.0</td>\n",
       "      <td>0</td>\n",
       "      <td>1</td>\n",
       "      <td>1</td>\n",
       "      <td>0</td>\n",
       "      <td>1</td>\n",
       "      <td>0</td>\n",
       "      <td>0</td>\n",
       "      <td>0</td>\n",
       "      <td>0</td>\n",
       "      <td>0</td>\n",
       "      <td>0</td>\n",
       "      <td>1</td>\n",
       "      <td>1</td>\n",
       "      <td>0</td>\n",
       "      <td>1</td>\n",
       "      <td>0</td>\n",
       "      <td>0</td>\n",
       "      <td>0</td>\n",
       "      <td>0</td>\n",
       "      <td>0</td>\n",
       "      <td>0</td>\n",
       "      <td>0</td>\n",
       "      <td>0</td>\n",
       "      <td>0</td>\n",
       "      <td>0</td>\n",
       "      <td>0</td>\n",
       "      <td>1</td>\n",
       "      <td>0</td>\n",
       "      <td>0</td>\n",
       "      <td>1</td>\n",
       "      <td>0</td>\n",
       "      <td>0</td>\n",
       "      <td>0</td>\n",
       "      <td>0</td>\n",
       "      <td>0</td>\n",
       "      <td>0</td>\n",
       "      <td>0</td>\n",
       "      <td>0</td>\n",
       "      <td>0</td>\n",
       "      <td>0</td>\n",
       "      <td>0</td>\n",
       "      <td>0</td>\n",
       "      <td>0</td>\n",
       "      <td>0</td>\n",
       "      <td>0</td>\n",
       "      <td>0</td>\n",
       "      <td>0</td>\n",
       "      <td>0</td>\n",
       "      <td>0</td>\n",
       "      <td>0</td>\n",
       "      <td>0</td>\n",
       "      <td>0</td>\n",
       "      <td>0</td>\n",
       "      <td>0</td>\n",
       "      <td>0</td>\n",
       "      <td>0</td>\n",
       "    </tr>\n",
       "    <tr>\n",
       "      <th>1</th>\n",
       "      <td>3</td>\n",
       "      <td>2</td>\n",
       "      <td>88.6</td>\n",
       "      <td>168.8</td>\n",
       "      <td>64.1</td>\n",
       "      <td>48.8</td>\n",
       "      <td>2548</td>\n",
       "      <td>4</td>\n",
       "      <td>130</td>\n",
       "      <td>3.47</td>\n",
       "      <td>2.68</td>\n",
       "      <td>9.0</td>\n",
       "      <td>111</td>\n",
       "      <td>5000</td>\n",
       "      <td>21</td>\n",
       "      <td>27</td>\n",
       "      <td>16500.0</td>\n",
       "      <td>0</td>\n",
       "      <td>1</td>\n",
       "      <td>1</td>\n",
       "      <td>0</td>\n",
       "      <td>1</td>\n",
       "      <td>0</td>\n",
       "      <td>0</td>\n",
       "      <td>0</td>\n",
       "      <td>0</td>\n",
       "      <td>0</td>\n",
       "      <td>0</td>\n",
       "      <td>1</td>\n",
       "      <td>1</td>\n",
       "      <td>0</td>\n",
       "      <td>1</td>\n",
       "      <td>0</td>\n",
       "      <td>0</td>\n",
       "      <td>0</td>\n",
       "      <td>0</td>\n",
       "      <td>0</td>\n",
       "      <td>0</td>\n",
       "      <td>0</td>\n",
       "      <td>0</td>\n",
       "      <td>0</td>\n",
       "      <td>0</td>\n",
       "      <td>0</td>\n",
       "      <td>1</td>\n",
       "      <td>0</td>\n",
       "      <td>0</td>\n",
       "      <td>1</td>\n",
       "      <td>0</td>\n",
       "      <td>0</td>\n",
       "      <td>0</td>\n",
       "      <td>0</td>\n",
       "      <td>0</td>\n",
       "      <td>0</td>\n",
       "      <td>0</td>\n",
       "      <td>0</td>\n",
       "      <td>0</td>\n",
       "      <td>0</td>\n",
       "      <td>0</td>\n",
       "      <td>0</td>\n",
       "      <td>0</td>\n",
       "      <td>0</td>\n",
       "      <td>0</td>\n",
       "      <td>0</td>\n",
       "      <td>0</td>\n",
       "      <td>0</td>\n",
       "      <td>0</td>\n",
       "      <td>0</td>\n",
       "      <td>0</td>\n",
       "      <td>0</td>\n",
       "      <td>0</td>\n",
       "      <td>0</td>\n",
       "      <td>0</td>\n",
       "      <td>0</td>\n",
       "    </tr>\n",
       "    <tr>\n",
       "      <th>2</th>\n",
       "      <td>1</td>\n",
       "      <td>2</td>\n",
       "      <td>94.5</td>\n",
       "      <td>171.2</td>\n",
       "      <td>65.5</td>\n",
       "      <td>52.4</td>\n",
       "      <td>2823</td>\n",
       "      <td>6</td>\n",
       "      <td>152</td>\n",
       "      <td>2.68</td>\n",
       "      <td>3.47</td>\n",
       "      <td>9.0</td>\n",
       "      <td>154</td>\n",
       "      <td>5000</td>\n",
       "      <td>19</td>\n",
       "      <td>26</td>\n",
       "      <td>16500.0</td>\n",
       "      <td>0</td>\n",
       "      <td>1</td>\n",
       "      <td>1</td>\n",
       "      <td>0</td>\n",
       "      <td>0</td>\n",
       "      <td>0</td>\n",
       "      <td>1</td>\n",
       "      <td>0</td>\n",
       "      <td>0</td>\n",
       "      <td>0</td>\n",
       "      <td>0</td>\n",
       "      <td>1</td>\n",
       "      <td>1</td>\n",
       "      <td>0</td>\n",
       "      <td>0</td>\n",
       "      <td>0</td>\n",
       "      <td>0</td>\n",
       "      <td>0</td>\n",
       "      <td>0</td>\n",
       "      <td>1</td>\n",
       "      <td>0</td>\n",
       "      <td>0</td>\n",
       "      <td>0</td>\n",
       "      <td>0</td>\n",
       "      <td>0</td>\n",
       "      <td>0</td>\n",
       "      <td>1</td>\n",
       "      <td>0</td>\n",
       "      <td>0</td>\n",
       "      <td>1</td>\n",
       "      <td>0</td>\n",
       "      <td>0</td>\n",
       "      <td>0</td>\n",
       "      <td>0</td>\n",
       "      <td>0</td>\n",
       "      <td>0</td>\n",
       "      <td>0</td>\n",
       "      <td>0</td>\n",
       "      <td>0</td>\n",
       "      <td>0</td>\n",
       "      <td>0</td>\n",
       "      <td>0</td>\n",
       "      <td>0</td>\n",
       "      <td>0</td>\n",
       "      <td>0</td>\n",
       "      <td>0</td>\n",
       "      <td>0</td>\n",
       "      <td>0</td>\n",
       "      <td>0</td>\n",
       "      <td>0</td>\n",
       "      <td>0</td>\n",
       "      <td>0</td>\n",
       "      <td>0</td>\n",
       "      <td>0</td>\n",
       "      <td>0</td>\n",
       "      <td>0</td>\n",
       "    </tr>\n",
       "    <tr>\n",
       "      <th>3</th>\n",
       "      <td>2</td>\n",
       "      <td>4</td>\n",
       "      <td>99.8</td>\n",
       "      <td>176.6</td>\n",
       "      <td>66.2</td>\n",
       "      <td>54.3</td>\n",
       "      <td>2337</td>\n",
       "      <td>4</td>\n",
       "      <td>109</td>\n",
       "      <td>3.19</td>\n",
       "      <td>3.40</td>\n",
       "      <td>10.0</td>\n",
       "      <td>102</td>\n",
       "      <td>5500</td>\n",
       "      <td>24</td>\n",
       "      <td>30</td>\n",
       "      <td>13950.0</td>\n",
       "      <td>0</td>\n",
       "      <td>1</td>\n",
       "      <td>1</td>\n",
       "      <td>0</td>\n",
       "      <td>0</td>\n",
       "      <td>0</td>\n",
       "      <td>0</td>\n",
       "      <td>1</td>\n",
       "      <td>0</td>\n",
       "      <td>0</td>\n",
       "      <td>1</td>\n",
       "      <td>0</td>\n",
       "      <td>1</td>\n",
       "      <td>0</td>\n",
       "      <td>0</td>\n",
       "      <td>0</td>\n",
       "      <td>0</td>\n",
       "      <td>1</td>\n",
       "      <td>0</td>\n",
       "      <td>0</td>\n",
       "      <td>0</td>\n",
       "      <td>0</td>\n",
       "      <td>0</td>\n",
       "      <td>0</td>\n",
       "      <td>0</td>\n",
       "      <td>0</td>\n",
       "      <td>1</td>\n",
       "      <td>0</td>\n",
       "      <td>0</td>\n",
       "      <td>0</td>\n",
       "      <td>1</td>\n",
       "      <td>0</td>\n",
       "      <td>0</td>\n",
       "      <td>0</td>\n",
       "      <td>0</td>\n",
       "      <td>0</td>\n",
       "      <td>0</td>\n",
       "      <td>0</td>\n",
       "      <td>0</td>\n",
       "      <td>0</td>\n",
       "      <td>0</td>\n",
       "      <td>0</td>\n",
       "      <td>0</td>\n",
       "      <td>0</td>\n",
       "      <td>0</td>\n",
       "      <td>0</td>\n",
       "      <td>0</td>\n",
       "      <td>0</td>\n",
       "      <td>0</td>\n",
       "      <td>0</td>\n",
       "      <td>0</td>\n",
       "      <td>0</td>\n",
       "      <td>0</td>\n",
       "      <td>0</td>\n",
       "      <td>0</td>\n",
       "      <td>0</td>\n",
       "    </tr>\n",
       "    <tr>\n",
       "      <th>4</th>\n",
       "      <td>2</td>\n",
       "      <td>4</td>\n",
       "      <td>99.4</td>\n",
       "      <td>176.6</td>\n",
       "      <td>66.4</td>\n",
       "      <td>54.3</td>\n",
       "      <td>2824</td>\n",
       "      <td>5</td>\n",
       "      <td>136</td>\n",
       "      <td>3.19</td>\n",
       "      <td>3.40</td>\n",
       "      <td>8.0</td>\n",
       "      <td>115</td>\n",
       "      <td>5500</td>\n",
       "      <td>18</td>\n",
       "      <td>22</td>\n",
       "      <td>17450.0</td>\n",
       "      <td>0</td>\n",
       "      <td>1</td>\n",
       "      <td>1</td>\n",
       "      <td>0</td>\n",
       "      <td>0</td>\n",
       "      <td>0</td>\n",
       "      <td>0</td>\n",
       "      <td>1</td>\n",
       "      <td>0</td>\n",
       "      <td>1</td>\n",
       "      <td>0</td>\n",
       "      <td>0</td>\n",
       "      <td>1</td>\n",
       "      <td>0</td>\n",
       "      <td>0</td>\n",
       "      <td>0</td>\n",
       "      <td>0</td>\n",
       "      <td>1</td>\n",
       "      <td>0</td>\n",
       "      <td>0</td>\n",
       "      <td>0</td>\n",
       "      <td>0</td>\n",
       "      <td>0</td>\n",
       "      <td>0</td>\n",
       "      <td>0</td>\n",
       "      <td>0</td>\n",
       "      <td>1</td>\n",
       "      <td>0</td>\n",
       "      <td>0</td>\n",
       "      <td>0</td>\n",
       "      <td>1</td>\n",
       "      <td>0</td>\n",
       "      <td>0</td>\n",
       "      <td>0</td>\n",
       "      <td>0</td>\n",
       "      <td>0</td>\n",
       "      <td>0</td>\n",
       "      <td>0</td>\n",
       "      <td>0</td>\n",
       "      <td>0</td>\n",
       "      <td>0</td>\n",
       "      <td>0</td>\n",
       "      <td>0</td>\n",
       "      <td>0</td>\n",
       "      <td>0</td>\n",
       "      <td>0</td>\n",
       "      <td>0</td>\n",
       "      <td>0</td>\n",
       "      <td>0</td>\n",
       "      <td>0</td>\n",
       "      <td>0</td>\n",
       "      <td>0</td>\n",
       "      <td>0</td>\n",
       "      <td>0</td>\n",
       "      <td>0</td>\n",
       "      <td>0</td>\n",
       "    </tr>\n",
       "  </tbody>\n",
       "</table>\n",
       "</div>"
      ],
      "text/plain": [
       "   symboling  doornumber  wheelbase  carlength  carwidth  carheight  \\\n",
       "0          3           2       88.6      168.8      64.1       48.8   \n",
       "1          3           2       88.6      168.8      64.1       48.8   \n",
       "2          1           2       94.5      171.2      65.5       52.4   \n",
       "3          2           4       99.8      176.6      66.2       54.3   \n",
       "4          2           4       99.4      176.6      66.4       54.3   \n",
       "\n",
       "   curbweight  cylindernumber  enginesize  boreratio  stroke  \\\n",
       "0        2548               4         130       3.47    2.68   \n",
       "1        2548               4         130       3.47    2.68   \n",
       "2        2823               6         152       2.68    3.47   \n",
       "3        2337               4         109       3.19    3.40   \n",
       "4        2824               5         136       3.19    3.40   \n",
       "\n",
       "   compressionratio  horsepower  peakrpm  citympg  highwaympg    price  \\\n",
       "0               9.0         111     5000       21          27  13495.0   \n",
       "1               9.0         111     5000       21          27  16500.0   \n",
       "2               9.0         154     5000       19          26  16500.0   \n",
       "3              10.0         102     5500       24          30  13950.0   \n",
       "4               8.0         115     5500       18          22  17450.0   \n",
       "\n",
       "   fueltype_diesel  fueltype_gas  aspiration_std  aspiration_turbo  \\\n",
       "0                0             1               1                 0   \n",
       "1                0             1               1                 0   \n",
       "2                0             1               1                 0   \n",
       "3                0             1               1                 0   \n",
       "4                0             1               1                 0   \n",
       "\n",
       "   carbody_convertible  carbody_hardtop  carbody_hatchback  carbody_sedan  \\\n",
       "0                    1                0                  0              0   \n",
       "1                    1                0                  0              0   \n",
       "2                    0                0                  1              0   \n",
       "3                    0                0                  0              1   \n",
       "4                    0                0                  0              1   \n",
       "\n",
       "   carbody_wagon  drivewheel_4wd  drivewheel_fwd  drivewheel_rwd  \\\n",
       "0              0               0               0               1   \n",
       "1              0               0               0               1   \n",
       "2              0               0               0               1   \n",
       "3              0               0               1               0   \n",
       "4              0               1               0               0   \n",
       "\n",
       "   enginelocation_front  enginelocation_rear  enginetype_dohc  \\\n",
       "0                     1                    0                1   \n",
       "1                     1                    0                1   \n",
       "2                     1                    0                0   \n",
       "3                     1                    0                0   \n",
       "4                     1                    0                0   \n",
       "\n",
       "   enginetype_dohcv  enginetype_l  enginetype_ohc  enginetype_ohcf  \\\n",
       "0                 0             0               0                0   \n",
       "1                 0             0               0                0   \n",
       "2                 0             0               0                0   \n",
       "3                 0             0               1                0   \n",
       "4                 0             0               1                0   \n",
       "\n",
       "   enginetype_ohcv  enginetype_rotor  fuelsystem_1bbl  fuelsystem_2bbl  \\\n",
       "0                0                 0                0                0   \n",
       "1                0                 0                0                0   \n",
       "2                1                 0                0                0   \n",
       "3                0                 0                0                0   \n",
       "4                0                 0                0                0   \n",
       "\n",
       "   fuelsystem_4bbl  fuelsystem_idi  fuelsystem_mfi  fuelsystem_mpfi  \\\n",
       "0                0               0               0                1   \n",
       "1                0               0               0                1   \n",
       "2                0               0               0                1   \n",
       "3                0               0               0                1   \n",
       "4                0               0               0                1   \n",
       "\n",
       "   fuelsystem_spdi  fuelsystem_spfi  company_alfa-romero  company_audi  \\\n",
       "0                0                0                    1             0   \n",
       "1                0                0                    1             0   \n",
       "2                0                0                    1             0   \n",
       "3                0                0                    0             1   \n",
       "4                0                0                    0             1   \n",
       "\n",
       "   company_bmw  company_buick  company_chevrolet  company_dodge  \\\n",
       "0            0              0                  0              0   \n",
       "1            0              0                  0              0   \n",
       "2            0              0                  0              0   \n",
       "3            0              0                  0              0   \n",
       "4            0              0                  0              0   \n",
       "\n",
       "   company_honda  company_isuzu  company_jaguar  company_maxda  company_mazda  \\\n",
       "0              0              0               0              0              0   \n",
       "1              0              0               0              0              0   \n",
       "2              0              0               0              0              0   \n",
       "3              0              0               0              0              0   \n",
       "4              0              0               0              0              0   \n",
       "\n",
       "   company_mercury  company_mitsubishi  company_nissan  company_peugeot  \\\n",
       "0                0                   0               0                0   \n",
       "1                0                   0               0                0   \n",
       "2                0                   0               0                0   \n",
       "3                0                   0               0                0   \n",
       "4                0                   0               0                0   \n",
       "\n",
       "   company_plymouth  company_porcshce  company_porsche  company_renault  \\\n",
       "0                 0                 0                0                0   \n",
       "1                 0                 0                0                0   \n",
       "2                 0                 0                0                0   \n",
       "3                 0                 0                0                0   \n",
       "4                 0                 0                0                0   \n",
       "\n",
       "   company_saab  company_subaru  company_toyota  company_toyouta  \\\n",
       "0             0               0               0                0   \n",
       "1             0               0               0                0   \n",
       "2             0               0               0                0   \n",
       "3             0               0               0                0   \n",
       "4             0               0               0                0   \n",
       "\n",
       "   company_vokswagen  company_volkswagen  company_volvo  company_vw  \n",
       "0                  0                   0              0           0  \n",
       "1                  0                   0              0           0  \n",
       "2                  0                   0              0           0  \n",
       "3                  0                   0              0           0  \n",
       "4                  0                   0              0           0  "
      ]
     },
     "execution_count": 104,
     "metadata": {},
     "output_type": "execute_result"
    }
   ],
   "source": [
    "col_dummies  =cars_df.select_dtypes(include=['object']).columns\n",
    "\n",
    "cars_df = pd.get_dummies(cars_df, columns =  col_dummies)\n",
    "\n",
    "cars_df.head()"
   ]
  },
  {
   "cell_type": "code",
   "execution_count": null,
   "id": "c28cc60a",
   "metadata": {},
   "outputs": [],
   "source": [
    "\n",
    "\n",
    "\n",
    "\n",
    "\n"
   ]
  },
  {
   "cell_type": "code",
   "execution_count": null,
   "id": "b306abb0",
   "metadata": {},
   "outputs": [],
   "source": []
  },
  {
   "cell_type": "raw",
   "id": "6e2044bc",
   "metadata": {},
   "source": [
    "ПРОДОЛЖАЮ 14 3 23\n",
    "\n",
    "\n",
    "ИЗ распечатки (проверка предположений о лин регресии в  python and r )\n",
    "\n",
    "....я предполагаю 2:\n",
    "    педположения из теоремы Гаусса Маркова\n",
    "    остальные\n",
    "\n",
    "В модели лин регрессии, оценщик обыкновенных наименьших квадратов(OLS) дает лучший линейный оценщик (дает наименьшую дисперсию результатов оценки)из коэфф, при\n",
    "условии:\n",
    "- ожидание ошибок(остатоков =0)\n",
    "- ошбки не связаны\n",
    "- ошибки Э одинаковую дисперсию(гомоседастичность)\n",
    "\n",
    "\n",
    "Линейность модели\n",
    "\n",
    "Подгонка лин модели к нелин данным прводит к ошибкам прогнозирования, осоено ВНЕ выборки(не учебные данные).\n",
    "ОБНАРУЖИТЬ НЕЛИНЕйНОСТЬ, можно проверив графики\n",
    "1)Наблюдаемеы и Прогнозируемых наблюдений, Хотим - точки симм-но вокруг диагональной линии\n",
    "ИЛИ \n",
    "2) Остатков и Прогнозируемых наблюдений, Хотим - точки симм-но вокруг горизонатльно линии\n",
    "    * это пример с Постоянной дисперсией(желательной для уверенности линнйого  прогнозирования)\n",
    "    ** \"изогнутые\" рапсределения точек - систематические ошибки, деалют необычно большие/маленькие прогнозы\n",
    "    *** когда модель держит МНОГО ПРИЗНАКОВ,  нелинейность может быть найдена в неких зависимостях меж гафиком остатков и отльных признаков\n",
    "    \n",
    "\n",
    "\n",
    "Ожидание(среднее) остатков = 0\\\n",
    "Хотим - сильное приближение результат к 0(3.032323 -17)\n",
    "\n",
    "\n",
    "\n",
    "Нет (идеальной) мультиколинеарности\n",
    "\n",
    "Функции ЛИНЕЙНО независимы.  Мы не должны быть в состоянии использовать лин модель, что бы предсказать одную особенность, ИСПОЛЬЗУЯ другую особенность.\n",
    "\n",
    "    *Обратить внимание, \"фиктивная переменная ловушка\", перменные для кодирования категориальных, и не опускаем базовый уровень в модели(? что значит базовый уровень?) - приводит к корреляции меж фиктивными переменными и  постоянным членом\n",
    "    **коллинеарность может присуствовать в необльшой величине, но прогнозы менее точны и зависимы от набора данных\n",
    "    ** Помогает VIF - квадратный корчень VIF показывает, насколько большестандартная ошибка , ПО СРАВНЕНИЮ с тем,\n",
    "что было бы, елси бы этот предиктор не коррелировад с другими функциями в модели.\n",
    "    !! если все функции НЕ связанны, VIF = 1\n",
    "    \n",
    "    \n",
    " \n",
    "Гомоскедастичность\n",
    "\n",
    "Когда остатки не имеют постоянной диспресии(гетероскедастичность)  - трудно определить истинное стд отклонение ошибок, сие приводит к более Широким/Узким ДИ.\n",
    "\n",
    "    * что бы узнать,смотрим на график ЗАВИСИМОСТИ остатокво ОТ Прогнозируемых(подогнанных значений)\n",
    "    ** есть стат тесты,типа Бреуш-Паган, Гольдфельд- Квандт\n",
    "    \n",
    "    \n",
    "Нет автокорелляции остатков\n",
    "\n",
    " - В моделии врмеенных рядов, где последовател корреляция в  остатках,грит о воможности улучшить модель. Это говорит об ошибочности модели\n",
    " + еще причина: нарушения предположения линейности или из за смещения(типа, пропущенные переменные )\n",
    " \n",
    " - в случае не врмеменных рядов, одинаковые знаки остатков, приопредленных улсовиях - модель систематически недооценивает/переоценивает то, что происходит , когда предикторы имеют определенную конфигурацию\n",
    " \n",
    "Оценить автокорр , можно через функцию  ACF, тест Дурбина - Ватсона\n",
    "\n",
    "\n",
    "\n",
    "Другие предположения\n",
    "\n",
    "Признаки и остатки не кореллированы\n",
    "    МОжно проверить коэфф Пирсона меж каждым признаком и остатком.\n",
    "    \n",
    "Колл наблдений  > колл признаков\n",
    "\n",
    "\n",
    "Некая изменчивость в признаках\n",
    "    Предполагается, если признак имеет постоянное знач для всех/большиснства наблюдений, то не моет быть хорошим предиктором.Можно проверить просто диспресию всех признаков\n",
    "    \n",
    "    \n",
    "Нормальность остатков\n",
    "    Когда предположение нарушено - проблемы с вычислением ДИ, различными ТЕСТАМИ ЗАНЧИМОСТИ для коэфф\n",
    "    \n",
    "    \n",
    "Выбросы\n",
    "    Может привести к нарушению некотрых предположений\n",
    "   \n",
    "   \n",
    "\n",
    "\n",
    "\n",
    "\n",
    "\n",
    "\n"
   ]
  },
  {
   "cell_type": "markdown",
   "id": "9d2e1c80",
   "metadata": {},
   "source": [
    "   \n",
    "       Пока модель не составлена можно посомтреть допущения по признакам, выборосы и коллинеарность.\n",
    "       "
   ]
  },
  {
   "cell_type": "raw",
   "id": "1ff39620",
   "metadata": {
    "papermill": {
     "duration": 0.026145,
     "end_time": "2022-11-18T13:17:03.961217",
     "exception": false,
     "start_time": "2022-11-18T13:17:03.935072",
     "status": "completed"
    },
    "tags": []
   },
   "source": [
    "Помним,что   определение выброса остается на усмотрение аналитика , что считать ненормальным. \n",
    " Для характеристики набора данных необходимы два действия:\n",
    "\n",
    "* Проверка общей формы графических данных на наличие важных особенностей, включая симметрию и отклонения от предположений.\n",
    "* Проверка данных на наличие необычных наблюдений, далеких от массы данных. "
   ]
  },
  {
   "cell_type": "code",
   "execution_count": 134,
   "id": "3a49ae26",
   "metadata": {},
   "outputs": [
    {
     "data": {
      "text/plain": [
       "Index(['symboling', 'doornumber', 'wheelbase', 'carlength', 'carwidth',\n",
       "       'carheight', 'curbweight', 'cylindernumber', 'enginesize', 'boreratio',\n",
       "       'stroke', 'compressionratio', 'horsepower', 'peakrpm', 'citympg',\n",
       "       'highwaympg'],\n",
       "      dtype='object')"
      ]
     },
     "execution_count": 134,
     "metadata": {},
     "output_type": "execute_result"
    }
   ],
   "source": [
    "# df.select_dtypes(include=['object']).columns\n",
    "\n",
    "\n",
    "#поробуем посмотреть изначальные прищнаки (колличественный тип), а не сформированне фиктивные\n",
    "features_ = cars_df.columns[:16]\n",
    "features_"
   ]
  },
  {
   "cell_type": "code",
   "execution_count": 156,
   "id": "1495dac3",
   "metadata": {},
   "outputs": [
    {
     "data": {
      "image/png": "[encoded data removed]",
      "text/plain": [
       "<Figure size 1080x864 with 16 Axes>"
      ]
     },
     "metadata": {
      "needs_background": "light"
     },
     "output_type": "display_data"
    }
   ],
   "source": [
    "#  ПОМОГЛО https://engineeringfordatascience.com/posts/matplotlib_subplots/\n",
    "\n",
    "fig, axs = plt.subplots(nrows=4, ncols=4, figsize=(15, 12))\n",
    "plt.subplots_adjust(hspace=0.5)\n",
    "for i, ax in zip(features_, axs.ravel()):\n",
    "    # filter df for ticker and plot on specified axes\n",
    "#     df[df[\"ticker\"] == ticker].plot(ax=ax)\n",
    "    sns.boxplot(cars_df[i], ax=ax)\n",
    "\n",
    "\n",
    "# зАуПталсЯ\n",
    "# for i in features_:\n",
    "        \n",
    "# #   l = cars_df[i]\n",
    "#     print(sns.boxplot(cars_df[i], palette=\"flare\"))"
   ]
  },
  {
   "cell_type": "code",
   "execution_count": null,
   "id": "c61ce12f",
   "metadata": {
    "execution": {
     "iopub.execute_input": "2022-11-18T13:17:04.017338Z",
     "iopub.status.busy": "2022-11-18T13:17:04.016934Z",
     "iopub.status.idle": "2022-11-18T13:17:04.023295Z",
     "shell.execute_reply": "2022-11-18T13:17:04.022246Z"
    },
    "papermill": {
     "duration": 0.036084,
     "end_time": "2022-11-18T13:17:04.025628",
     "exception": false,
     "start_time": "2022-11-18T13:17:03.989544",
     "status": "completed"
    },
    "tags": []
   },
   "outputs": [],
   "source": []
  },
  {
   "cell_type": "raw",
   "id": "bccfa4fc",
   "metadata": {
    "papermill": {
     "duration": 0.026631,
     "end_time": "2022-11-18T13:17:05.895347",
     "exception": false,
     "start_time": "2022-11-18T13:17:05.868716",
     "status": "completed"
    },
    "tags": []
   },
   "source": [
    "Подсмотрел, полезный бизнес комментарий:\n",
    "\n",
    "Не путайте выбросы в наборе данных, поскольку они происходят из-за экзотических автомобилей для специальных задач с высокой производительностью, поэтому мы не будем их отбрасывать.\n",
    "\n",
    "*Однако  работу с этИМ кОмментарИем на Kaggle я выбрал,отбросив другие 20, из за ущербности их объснения и решений."
   ]
  },
  {
   "cell_type": "code",
   "execution_count": null,
   "id": "8820a1e1",
   "metadata": {
    "execution": {
     "iopub.execute_input": "2022-11-18T13:17:06.013142Z",
     "iopub.status.busy": "2022-11-18T13:17:06.011938Z",
     "iopub.status.idle": "2022-11-18T13:17:06.053871Z",
     "shell.execute_reply": "2022-11-18T13:17:06.052779Z"
    },
    "papermill": {
     "duration": 0.072193,
     "end_time": "2022-11-18T13:17:06.056316",
     "exception": false,
     "start_time": "2022-11-18T13:17:05.984123",
     "status": "completed"
    },
    "tags": []
   },
   "outputs": [],
   "source": [
    "cars_df.head()"
   ]
  },
  {
   "cell_type": "code",
   "execution_count": 166,
   "id": "d357e438",
   "metadata": {},
   "outputs": [
    {
     "data": {
      "text/plain": [
       "<seaborn.axisgrid.PairGrid at 0x136c27df0>"
      ]
     },
     "execution_count": 166,
     "metadata": {},
     "output_type": "execute_result"
    },
    {
     "data": {
      "image/png": "[encoded data removed]",
      "text/plain": [
       "<Figure size 1728x216 with 8 Axes>"
      ]
     },
     "metadata": {
      "needs_background": "light"
     },
     "output_type": "display_data"
    },
    {
     "data": {
      "image/png": "[encoded data removed]",
      "text/plain": [
       "<Figure size 1512x216 with 7 Axes>"
      ]
     },
     "metadata": {
      "needs_background": "light"
     },
     "output_type": "display_data"
    }
   ],
   "source": [
    "# Map in Python is a function that works as an iterator to return a result after applying a function to \n",
    "# every item of an iterable (tuple, lists, etc.). It is used when you want to apply a single transformation \n",
    "# function to all the iterable elements\n",
    "    \n",
    "sns.PairGrid(cars_df,y_vars='price',x_vars=cars_df[features_].columns[0:8], height=3).map(plt.scatter)\n",
    "sns.PairGrid(cars_df,y_vars='price',x_vars=cars_df[features_].columns[9:], height=3).map(plt.scatter)\n",
    "\n",
    "# тут удобно получилось, исполнение и примение одной функции,через маp применился к уже получившемся результату \n",
    "# другой функции"
   ]
  },
  {
   "cell_type": "code",
   "execution_count": null,
   "id": "f722707e",
   "metadata": {},
   "outputs": [],
   "source": []
  },
  {
   "cell_type": "raw",
   "id": "949fad84",
   "metadata": {
    "papermill": {
     "duration": 0.031146,
     "end_time": "2022-11-18T13:17:09.775838",
     "exception": false,
     "start_time": "2022-11-18T13:17:09.744692",
     "status": "completed"
    },
    "tags": []
   },
   "source": [
    " Проверка мультиколлинеарности с помощью VIF\n",
    "\n",
    "Мультиколлинеарность возникает, когда в модели множественной регрессии есть две или более независимых переменных, которые имеют высокую корреляцию между собой. Когда некоторые признаки сильно коррелированы, нам может быть трудно различить их индивидуальное влияние на зависимую переменную. Мультиколлинеарность можно обнаружить с помощью различных методов, одним из которых является коэффициент инфляции дисперсии (VIF).\n",
    "\n",
    "В методе VIF мы выбираем каждую функцию и регрессируем ее по отношению ко всем другим функциям. Для каждой регрессии коэффициент рассчитывается как:\n",
    "\n",
    "Чем  больше значение R-квадрата, тем больше ВИФ. Следовательно, больший VIF означает большую корреляцию. Это согласуется с тем фактом, что более высокое значение R-квадрата означает более сильную коллинеарность. Как правило, значение VIF выше 5 указывает на высокую мультиколлинеарность."
   ]
  },
  {
   "cell_type": "code",
   "execution_count": 167,
   "id": "a19351b9",
   "metadata": {},
   "outputs": [],
   "source": [
    "#    put down your own info about VIF (above and bolow BUT before compare results, it seeems they are diif)"
   ]
  },
  {
   "cell_type": "code",
   "execution_count": null,
   "id": "2122a65b",
   "metadata": {},
   "outputs": [],
   "source": []
  },
  {
   "cell_type": "code",
   "execution_count": 179,
   "id": "60578beb",
   "metadata": {
    "execution": {
     "iopub.execute_input": "2022-11-18T13:17:09.840563Z",
     "iopub.status.busy": "2022-11-18T13:17:09.840162Z",
     "iopub.status.idle": "2022-11-18T13:17:10.834555Z",
     "shell.execute_reply": "2022-11-18T13:17:10.833427Z"
    },
    "papermill": {
     "duration": 1.031119,
     "end_time": "2022-11-18T13:17:10.838525",
     "exception": false,
     "start_time": "2022-11-18T13:17:09.807406",
     "status": "completed"
    },
    "scrolled": true,
    "tags": []
   },
   "outputs": [
    {
     "data": {
      "text/html": [
       "<div>\n",
       "<style scoped>\n",
       "    .dataframe tbody tr th:only-of-type {\n",
       "        vertical-align: middle;\n",
       "    }\n",
       "\n",
       "    .dataframe tbody tr th {\n",
       "        vertical-align: top;\n",
       "    }\n",
       "\n",
       "    .dataframe thead th {\n",
       "        text-align: right;\n",
       "    }\n",
       "</style>\n",
       "<table border=\"1\" class=\"dataframe\">\n",
       "  <thead>\n",
       "    <tr style=\"text-align: right;\">\n",
       "      <th></th>\n",
       "      <th>feature</th>\n",
       "      <th>VIF</th>\n",
       "    </tr>\n",
       "  </thead>\n",
       "  <tbody>\n",
       "    <tr>\n",
       "      <th>11</th>\n",
       "      <td>compressionratio</td>\n",
       "      <td>181.885982</td>\n",
       "    </tr>\n",
       "    <tr>\n",
       "      <th>8</th>\n",
       "      <td>enginesize</td>\n",
       "      <td>64.197325</td>\n",
       "    </tr>\n",
       "    <tr>\n",
       "      <th>14</th>\n",
       "      <td>citympg</td>\n",
       "      <td>52.830468</td>\n",
       "    </tr>\n",
       "    <tr>\n",
       "      <th>15</th>\n",
       "      <td>highwaympg</td>\n",
       "      <td>46.404663</td>\n",
       "    </tr>\n",
       "    <tr>\n",
       "      <th>12</th>\n",
       "      <td>horsepower</td>\n",
       "      <td>45.266243</td>\n",
       "    </tr>\n",
       "    <tr>\n",
       "      <th>6</th>\n",
       "      <td>curbweight</td>\n",
       "      <td>41.213611</td>\n",
       "    </tr>\n",
       "    <tr>\n",
       "      <th>7</th>\n",
       "      <td>cylindernumber</td>\n",
       "      <td>29.423214</td>\n",
       "    </tr>\n",
       "    <tr>\n",
       "      <th>3</th>\n",
       "      <td>carlength</td>\n",
       "      <td>23.428298</td>\n",
       "    </tr>\n",
       "    <tr>\n",
       "      <th>2</th>\n",
       "      <td>wheelbase</td>\n",
       "      <td>19.660319</td>\n",
       "    </tr>\n",
       "    <tr>\n",
       "      <th>4</th>\n",
       "      <td>carwidth</td>\n",
       "      <td>15.263146</td>\n",
       "    </tr>\n",
       "    <tr>\n",
       "      <th>9</th>\n",
       "      <td>boreratio</td>\n",
       "      <td>10.219326</td>\n",
       "    </tr>\n",
       "    <tr>\n",
       "      <th>5</th>\n",
       "      <td>carheight</td>\n",
       "      <td>7.591686</td>\n",
       "    </tr>\n",
       "    <tr>\n",
       "      <th>0</th>\n",
       "      <td>symboling</td>\n",
       "      <td>6.475490</td>\n",
       "    </tr>\n",
       "    <tr>\n",
       "      <th>13</th>\n",
       "      <td>peakrpm</td>\n",
       "      <td>5.946716</td>\n",
       "    </tr>\n",
       "    <tr>\n",
       "      <th>10</th>\n",
       "      <td>stroke</td>\n",
       "      <td>5.193159</td>\n",
       "    </tr>\n",
       "    <tr>\n",
       "      <th>1</th>\n",
       "      <td>doornumber</td>\n",
       "      <td>3.940320</td>\n",
       "    </tr>\n",
       "  </tbody>\n",
       "</table>\n",
       "</div>"
      ],
      "text/plain": [
       "             feature         VIF\n",
       "11  compressionratio  181.885982\n",
       "8         enginesize   64.197325\n",
       "14           citympg   52.830468\n",
       "15        highwaympg   46.404663\n",
       "12        horsepower   45.266243\n",
       "6         curbweight   41.213611\n",
       "7     cylindernumber   29.423214\n",
       "3          carlength   23.428298\n",
       "2          wheelbase   19.660319\n",
       "4           carwidth   15.263146\n",
       "9          boreratio   10.219326\n",
       "5          carheight    7.591686\n",
       "0          symboling    6.475490\n",
       "13           peakrpm    5.946716\n",
       "10            stroke    5.193159\n",
       "1         doornumber    3.940320"
      ]
     },
     "execution_count": 179,
     "metadata": {},
     "output_type": "execute_result"
    }
   ],
   "source": [
    "from statsmodels.stats.outliers_influence import variance_inflation_factor\n",
    "vif_df = cars_df.loc[:, cars_df.columns != 'price']\n",
    "\n",
    "vif_data = pd.DataFrame()\n",
    "vif_data[\"feature\"] = vif_df.columns\n",
    "vif_data[\"VIF\"] = [variance_inflation_factor(vif_df.values ,i) for i in range(len(vif_df.columns))]\n",
    "vif_data.sort_values('VIF', ascending=False).head(30)\n",
    "# тутя виду что фиктивные пеменные имеют знаечния inf , попробую без них\n",
    "\n",
    "vif_data.query('VIF != inf').sort_values('VIF', ascending=False).head(30)\n"
   ]
  },
  {
   "cell_type": "raw",
   "id": "8ce3b89f",
   "metadata": {},
   "source": [
    "Подсмотрел, полезный бизнес комментарий:\n",
    "\n",
    "\n",
    "Мы не можем отбросить такую характеристику, как степень сжатия, поскольку она указывает на эффективность сгорания двигателя, поэтому для этого при моделировании мы будем использовать регрессор Риджа для проверки сравнения производительности, поскольку он невосприимчив к мультиколинеарности.\n",
    "\n",
    " Регрессор Риджа\n",
    " \n",
    "http://www.machinelearning.ru/wiki/index.php?title=%D0%A0%D0%B8%D0%B4%D0%B6-%D1%80%D0%B5%D0%B3%D1%80%D0%B5%D1%81%D1%81%D0%B8%D1%8F\n",
    "Ридж-регрессия или гребневая регрессия (англ. ridge regression) - это один из методов понижения размерности. Часто его применяют для борьбы с переизбыточностью данных, когда независимые переменные коррелируют друг с другом (т.е. имеет место мультиколлинеарность)\n",
    "Применение гребневой регрессии нередко оправдывают тем, что это практический приём, с помощью которого при желании можно получить меньшее значение среднего квадрата ошибки."
   ]
  },
  {
   "cell_type": "code",
   "execution_count": null,
   "id": "ca08ab4d",
   "metadata": {},
   "outputs": [],
   "source": []
  },
  {
   "cell_type": "raw",
   "id": "ac4e2e07",
   "metadata": {
    "papermill": {
     "duration": 0.03433,
     "end_time": "2022-11-18T13:17:12.452495",
     "exception": false,
     "start_time": "2022-11-18T13:17:12.418165",
     "status": "completed"
    },
    "tags": []
   },
   "source": [
    "                            Работы с рапсрделениями данных и выборосами.\n",
    "                              Методы предобработки числовых признаков в обучающих наборах данных с \n",
    "                             целью приведения их к некоторой общей шкале без потери информации о различии \n",
    "                             диапазонов.\n",
    "\n",
    "1) \n",
    "https://www.geeksforgeeks.org/standardscaler-minmaxscaler-and-robustscaler-techniques-ml/\n",
    "Используя RobustScaler(), мы можем удалить выбросы, а затем использовать либо StandardScaler, либо MinMaxScaler для предварительной обработки набора данных. \n",
    "\n",
    "2) \n",
    "StandardScaler\n",
    "следует стандартному нормальному распределению (SND). Следовательно, он делает среднее значение = 0 и масштабирует данные до единичной дисперсии.\n",
    "\n",
    "MinMaxScaler\n",
    "масштабирует все функции данных в диапазоне [0, 1] или в диапазоне [-1, 1], если в наборе данных есть отрицательные значения. Это масштабирование сжимает все выбросы в узком диапазоне [0, 0,005].\n",
    "При наличии выбросов StandardScaler не гарантирует сбалансированных масштабов признаков из-за влияния выбросов при вычислении эмпирического среднего значения и стандартного отклонения. Это приводит к усадке в диапазоне значений признака."
   ]
  },
  {
   "cell_type": "code",
   "execution_count": 180,
   "id": "228e598f",
   "metadata": {
    "execution": {
     "iopub.execute_input": "2022-11-18T13:17:12.523576Z",
     "iopub.status.busy": "2022-11-18T13:17:12.522338Z",
     "iopub.status.idle": "2022-11-18T13:17:12.529400Z",
     "shell.execute_reply": "2022-11-18T13:17:12.528622Z"
    },
    "papermill": {
     "duration": 0.045273,
     "end_time": "2022-11-18T13:17:12.531636",
     "exception": false,
     "start_time": "2022-11-18T13:17:12.486363",
     "status": "completed"
    },
    "tags": []
   },
   "outputs": [
    {
     "data": {
      "text/html": [
       "<div>\n",
       "<style scoped>\n",
       "    .dataframe tbody tr th:only-of-type {\n",
       "        vertical-align: middle;\n",
       "    }\n",
       "\n",
       "    .dataframe tbody tr th {\n",
       "        vertical-align: top;\n",
       "    }\n",
       "\n",
       "    .dataframe thead th {\n",
       "        text-align: right;\n",
       "    }\n",
       "</style>\n",
       "<table border=\"1\" class=\"dataframe\">\n",
       "  <thead>\n",
       "    <tr style=\"text-align: right;\">\n",
       "      <th></th>\n",
       "      <th>symboling</th>\n",
       "      <th>doornumber</th>\n",
       "      <th>wheelbase</th>\n",
       "      <th>carlength</th>\n",
       "      <th>carwidth</th>\n",
       "      <th>carheight</th>\n",
       "      <th>curbweight</th>\n",
       "      <th>cylindernumber</th>\n",
       "      <th>enginesize</th>\n",
       "      <th>boreratio</th>\n",
       "      <th>stroke</th>\n",
       "      <th>compressionratio</th>\n",
       "      <th>horsepower</th>\n",
       "      <th>peakrpm</th>\n",
       "      <th>citympg</th>\n",
       "      <th>highwaympg</th>\n",
       "    </tr>\n",
       "  </thead>\n",
       "  <tbody>\n",
       "    <tr>\n",
       "      <th>0</th>\n",
       "      <td>3</td>\n",
       "      <td>2</td>\n",
       "      <td>88.6</td>\n",
       "      <td>168.8</td>\n",
       "      <td>64.1</td>\n",
       "      <td>48.8</td>\n",
       "      <td>2548</td>\n",
       "      <td>4</td>\n",
       "      <td>130</td>\n",
       "      <td>3.47</td>\n",
       "      <td>2.68</td>\n",
       "      <td>9.0</td>\n",
       "      <td>111</td>\n",
       "      <td>5000</td>\n",
       "      <td>21</td>\n",
       "      <td>27</td>\n",
       "    </tr>\n",
       "    <tr>\n",
       "      <th>1</th>\n",
       "      <td>3</td>\n",
       "      <td>2</td>\n",
       "      <td>88.6</td>\n",
       "      <td>168.8</td>\n",
       "      <td>64.1</td>\n",
       "      <td>48.8</td>\n",
       "      <td>2548</td>\n",
       "      <td>4</td>\n",
       "      <td>130</td>\n",
       "      <td>3.47</td>\n",
       "      <td>2.68</td>\n",
       "      <td>9.0</td>\n",
       "      <td>111</td>\n",
       "      <td>5000</td>\n",
       "      <td>21</td>\n",
       "      <td>27</td>\n",
       "    </tr>\n",
       "    <tr>\n",
       "      <th>2</th>\n",
       "      <td>1</td>\n",
       "      <td>2</td>\n",
       "      <td>94.5</td>\n",
       "      <td>171.2</td>\n",
       "      <td>65.5</td>\n",
       "      <td>52.4</td>\n",
       "      <td>2823</td>\n",
       "      <td>6</td>\n",
       "      <td>152</td>\n",
       "      <td>2.68</td>\n",
       "      <td>3.47</td>\n",
       "      <td>9.0</td>\n",
       "      <td>154</td>\n",
       "      <td>5000</td>\n",
       "      <td>19</td>\n",
       "      <td>26</td>\n",
       "    </tr>\n",
       "    <tr>\n",
       "      <th>3</th>\n",
       "      <td>2</td>\n",
       "      <td>4</td>\n",
       "      <td>99.8</td>\n",
       "      <td>176.6</td>\n",
       "      <td>66.2</td>\n",
       "      <td>54.3</td>\n",
       "      <td>2337</td>\n",
       "      <td>4</td>\n",
       "      <td>109</td>\n",
       "      <td>3.19</td>\n",
       "      <td>3.40</td>\n",
       "      <td>10.0</td>\n",
       "      <td>102</td>\n",
       "      <td>5500</td>\n",
       "      <td>24</td>\n",
       "      <td>30</td>\n",
       "    </tr>\n",
       "    <tr>\n",
       "      <th>4</th>\n",
       "      <td>2</td>\n",
       "      <td>4</td>\n",
       "      <td>99.4</td>\n",
       "      <td>176.6</td>\n",
       "      <td>66.4</td>\n",
       "      <td>54.3</td>\n",
       "      <td>2824</td>\n",
       "      <td>5</td>\n",
       "      <td>136</td>\n",
       "      <td>3.19</td>\n",
       "      <td>3.40</td>\n",
       "      <td>8.0</td>\n",
       "      <td>115</td>\n",
       "      <td>5500</td>\n",
       "      <td>18</td>\n",
       "      <td>22</td>\n",
       "    </tr>\n",
       "  </tbody>\n",
       "</table>\n",
       "</div>"
      ],
      "text/plain": [
       "   symboling  doornumber  wheelbase  carlength  carwidth  carheight  \\\n",
       "0          3           2       88.6      168.8      64.1       48.8   \n",
       "1          3           2       88.6      168.8      64.1       48.8   \n",
       "2          1           2       94.5      171.2      65.5       52.4   \n",
       "3          2           4       99.8      176.6      66.2       54.3   \n",
       "4          2           4       99.4      176.6      66.4       54.3   \n",
       "\n",
       "   curbweight  cylindernumber  enginesize  boreratio  stroke  \\\n",
       "0        2548               4         130       3.47    2.68   \n",
       "1        2548               4         130       3.47    2.68   \n",
       "2        2823               6         152       2.68    3.47   \n",
       "3        2337               4         109       3.19    3.40   \n",
       "4        2824               5         136       3.19    3.40   \n",
       "\n",
       "   compressionratio  horsepower  peakrpm  citympg  highwaympg  \n",
       "0               9.0         111     5000       21          27  \n",
       "1               9.0         111     5000       21          27  \n",
       "2               9.0         154     5000       19          26  \n",
       "3              10.0         102     5500       24          30  \n",
       "4               8.0         115     5500       18          22  "
      ]
     },
     "execution_count": 180,
     "metadata": {},
     "output_type": "execute_result"
    }
   ],
   "source": [
    "df_num_clean = cars_df[features_].copy()\n",
    "\n",
    "df_num_clean.head()"
   ]
  },
  {
   "cell_type": "code",
   "execution_count": null,
   "id": "670a552d",
   "metadata": {
    "execution": {
     "iopub.execute_input": "2022-11-18T13:17:12.602094Z",
     "iopub.status.busy": "2022-11-18T13:17:12.601276Z",
     "iopub.status.idle": "2022-11-18T13:17:12.621454Z",
     "shell.execute_reply": "2022-11-18T13:17:12.620345Z"
    },
    "papermill": {
     "duration": 0.058163,
     "end_time": "2022-11-18T13:17:12.623540",
     "exception": false,
     "start_time": "2022-11-18T13:17:12.565377",
     "status": "completed"
    },
    "tags": []
   },
   "outputs": [],
   "source": []
  },
  {
   "cell_type": "code",
   "execution_count": 186,
   "id": "b46f9b6f",
   "metadata": {
    "execution": {
     "iopub.execute_input": "2022-11-18T13:17:12.694244Z",
     "iopub.status.busy": "2022-11-18T13:17:12.693523Z",
     "iopub.status.idle": "2022-11-18T13:17:13.293809Z",
     "shell.execute_reply": "2022-11-18T13:17:13.292656Z"
    },
    "papermill": {
     "duration": 0.63859,
     "end_time": "2022-11-18T13:17:13.296440",
     "exception": false,
     "start_time": "2022-11-18T13:17:12.657850",
     "status": "completed"
    },
    "tags": []
   },
   "outputs": [
    {
     "data": {
      "image/png": "[encoded data removed]",
      "text/plain": [
       "<Figure size 1440x360 with 4 Axes>"
      ]
     },
     "metadata": {
      "needs_background": "light"
     },
     "output_type": "display_data"
    }
   ],
   "source": [
    "# Теория\n",
    "\n",
    "# MinMaxScaler\n",
    "# https://scikit-learn.org/stable/modules/generated/sklearn.preprocessing.MinMaxScaler.html\n",
    "#     Transform features by scaling each feature to a given range.\n",
    "#     This estimator scales and translates each feature individually such that it is in the given range on the training set, e.g. between zero and one.\n",
    "#     The transformation is given by:\n",
    "# X_std = (X - X.min(axis=0)) / (X.max(axis=0) - X.min(axis=0))\n",
    "# X_scaled = X_std * (max - min) + min\n",
    "# * Это преобразование часто используется в качестве альтернативы масштабированию единичной дисперсии с нулевым средним значением.\n",
    "\n",
    "\n",
    "# StandardScaler\n",
    "# https://scikit-learn.org/stable/modules/generated/sklearn.preprocessing.StandardScaler.html\n",
    "#     Standardize features by removing the mean and scaling to unit variance.\n",
    "#     The standard score of a sample x is calculated as:\n",
    "\n",
    "# z = (x - u) / s\n",
    "\n",
    "# where u is the mean of the training samples or zero if with_mean=False, \n",
    "# and s is the standard deviation of the training samples or one if with_std=False.\n",
    "\n",
    "        \n",
    "# RobustScaler\n",
    "# https://scikit-learn.org/stable/modules/generated/sklearn.preprocessing.RobustScaler.html\n",
    "# Scale features using statistics that are robust to outliers.\n",
    "\n",
    "# This Scaler removes the median and scales the data according to the quantile range \n",
    "# (defaults to IQR: Interquartile Range). The IQR is the range between the 1st quartile (25th quantile)\n",
    "# and the 3rd quartile (75th quantile).\n",
    "        \n",
    "\n",
    "# 1) как в статье рекомендовано сначала  RobustScaler()\n",
    "cols = ['symboling', 'doornumber', 'wheelbase', 'carlength', 'carwidth', 'carheight' \n",
    "               ,'curbweight' ,'cylindernumber', 'enginesize','boreratio', 'stroke', 'compressionratio'\n",
    "               ,'horsepower' ,'peakrpm', 'citympg' ,'highwaympg']\n",
    "scaler = preprocessing.RobustScaler()\n",
    "robust_df_ = scaler.fit_transform(df_num_clean)\n",
    "robust_df_ = pd.DataFrame(robust_df_, columns =cols)\n",
    " \n",
    "    \n",
    "    \n",
    "    \n",
    "    \n",
    "# 2)   разница меж minmax and atandard scalers \n",
    "#     StandardScaler перемасштабирует набор данных, чтобы иметь среднее значение 0 и стандартное отклонение 1.\n",
    "# Стандартизация очень полезна, если данные имеют различные масштабы и предположение алгоритма о данных, \n",
    "# имеющих гауссово распределение.\n",
    "\n",
    "#     Нормализация или MinMaxScaler изменяет масштаб набора данных, чтобы каждое значение находилось \n",
    "#     в диапазоне от 0 до 1. Это полезно, когда данные имеют разные масштабы, а алгоритм НЕ ДЕЛАЕТ\n",
    "#     предположений о распределении. Это хороший метод, когда мы не знали о распределении данных или\n",
    "#     когда мы знаем, что распределение не является гауссовым.\n",
    "# https://stackoverflow.com/questions/51237635/difference-between-standard-scaler-and-minmaxscaler    \n",
    "    \n",
    "scaler = preprocessing.StandardScaler()\n",
    "standard_df = scaler.fit_transform(df_num_clean)\n",
    "standard_df = pd.DataFrame(standard_df, columns =cols)\n",
    "  \n",
    "scaler = preprocessing.MinMaxScaler()\n",
    "minmax_df = scaler.fit_transform(df_num_clean)\n",
    "minmax_df = pd.DataFrame(minmax_df, columns =cols)\n",
    "  \n",
    "fig, (ax1, ax2, ax3, ax4) = plt.subplots(ncols = 4 , figsize =(20, 5))\n",
    "ax1.set_title('Before Scaling')\n",
    "  \n",
    "sns.kdeplot(df_num_clean['enginesize'], ax = ax1, color ='b')\n",
    "ax2.set_title('After Robust Scaling')\n",
    "  \n",
    "sns.kdeplot(robust_df_['enginesize'], ax = ax2, color ='g')\n",
    "ax3.set_title('After Standard Scaling')\n",
    "  \n",
    "sns.kdeplot(standard_df['enginesize'], ax = ax3, color ='b')\n",
    "ax4.set_title('After Min-Max Scaling')\n",
    "  \n",
    "sns.kdeplot(minmax_df['enginesize'], ax = ax4, color ='g')\n",
    "plt.show()"
   ]
  },
  {
   "cell_type": "code",
   "execution_count": 187,
   "id": "d907eb59",
   "metadata": {
    "execution": {
     "iopub.execute_input": "2022-11-18T13:17:13.370907Z",
     "iopub.status.busy": "2022-11-18T13:17:13.370246Z",
     "iopub.status.idle": "2022-11-18T13:17:13.375887Z",
     "shell.execute_reply": "2022-11-18T13:17:13.375080Z"
    },
    "papermill": {
     "duration": 0.04448,
     "end_time": "2022-11-18T13:17:13.378189",
     "exception": false,
     "start_time": "2022-11-18T13:17:13.333709",
     "status": "completed"
    },
    "tags": []
   },
   "outputs": [],
   "source": [
    "def RobustScaling(df_num, cols):\n",
    "    scaler = preprocessing.RobustScaler()\n",
    "    robust_df_temp = scaler.fit_transform(df_num)\n",
    "    robust_df_temp = pd.DataFrame(robust_df_temp, columns =cols)\n",
    "    return robust_df_temp"
   ]
  },
  {
   "cell_type": "code",
   "execution_count": 188,
   "id": "6d60d8a5",
   "metadata": {
    "execution": {
     "iopub.execute_input": "2022-11-18T13:17:13.451025Z",
     "iopub.status.busy": "2022-11-18T13:17:13.450229Z",
     "iopub.status.idle": "2022-11-18T13:17:13.462135Z",
     "shell.execute_reply": "2022-11-18T13:17:13.461375Z"
    },
    "papermill": {
     "duration": 0.050649,
     "end_time": "2022-11-18T13:17:13.464423",
     "exception": false,
     "start_time": "2022-11-18T13:17:13.413774",
     "status": "completed"
    },
    "tags": []
   },
   "outputs": [],
   "source": [
    "robust_scaled = RobustScaling(df_num_clean, ['symboling', 'doornumber', 'wheelbase', 'carlength', 'carwidth', 'carheight' \n",
    "               ,'curbweight' ,'cylindernumber', 'enginesize','boreratio', 'stroke', 'compressionratio'\n",
    "               ,'horsepower' ,'peakrpm', 'citympg' ,'highwaympg'])"
   ]
  },
  {
   "cell_type": "code",
   "execution_count": 189,
   "id": "b1178297",
   "metadata": {
    "execution": {
     "iopub.execute_input": "2022-11-18T13:17:13.537086Z",
     "iopub.status.busy": "2022-11-18T13:17:13.536283Z",
     "iopub.status.idle": "2022-11-18T13:17:14.024150Z",
     "shell.execute_reply": "2022-11-18T13:17:14.023011Z"
    },
    "papermill": {
     "duration": 0.527952,
     "end_time": "2022-11-18T13:17:14.027265",
     "exception": false,
     "start_time": "2022-11-18T13:17:13.499313",
     "status": "completed"
    },
    "tags": []
   },
   "outputs": [
    {
     "data": {
      "image/png": "[encoded data removed]",
      "text/plain": [
       "<Figure size 1080x576 with 1 Axes>"
      ]
     },
     "metadata": {},
     "output_type": "display_data"
    }
   ],
   "source": [
    "sns.set(rc = {'figure.figsize':(15,8)})\n",
    "for i in cols:\n",
    "    sns.kdeplot(robust_scaled[i], legend=True)"
   ]
  },
  {
   "cell_type": "raw",
   "id": "0bbc449e",
   "metadata": {
    "papermill": {
     "duration": 0.037049,
     "end_time": "2022-11-18T13:17:14.102014",
     "exception": false,
     "start_time": "2022-11-18T13:17:14.064965",
     "status": "completed"
    },
    "tags": []
   },
   "source": [
    "Подсмотрел, полезный бизнес комментарий:\n",
    "\n",
    "У каждого двигателя своя степень сжатия. Топливно-воздушная смесь сжимается в цилиндре для создания воспламенения, сила которого зависит от степени сжатия: объема цилиндра, когда поршень находится в нижней части своего хода против объема цилиндра, когда поршень в верхней части его хода. Между прочим, вы должны знать, что рабочий объем двигателя относится к суммарной мощности всех поршней во время полного цикла.\n",
    "\n",
    "\n",
    "\n",
    "Коэффициент сжатия обычно находится в диапазоне от 8:1 до 10:1. Более высокая степень сжатия, скажем, от 12:1 до 14:1, означает более высокую эффективность сгорания. Однако, когда речь идет о дизельных двигателях, отсутствие свечей зажигания требует более высокой степени сжатия - <b>примерно от 14:1 до целых 22:1</b>. Они используют горячий воздух для испарения, а затем поджигают топливо."
   ]
  },
  {
   "cell_type": "code",
   "execution_count": null,
   "id": "038fdbb4",
   "metadata": {},
   "outputs": [],
   "source": []
  },
  {
   "cell_type": "code",
   "execution_count": 191,
   "id": "37a93747",
   "metadata": {
    "execution": {
     "iopub.execute_input": "2022-11-18T13:17:14.277623Z",
     "iopub.status.busy": "2022-11-18T13:17:14.276373Z",
     "iopub.status.idle": "2022-11-18T13:17:14.295956Z",
     "shell.execute_reply": "2022-11-18T13:17:14.294709Z"
    },
    "papermill": {
     "duration": 0.060898,
     "end_time": "2022-11-18T13:17:14.298781",
     "exception": false,
     "start_time": "2022-11-18T13:17:14.237883",
     "status": "completed"
    },
    "tags": []
   },
   "outputs": [],
   "source": [
    "clean_df = cars_df.copy()\n",
    "clean_df.drop(labels=['symboling', 'doornumber', 'wheelbase', 'carlength', 'carwidth', 'carheight' \n",
    "               ,'curbweight' ,'cylindernumber', 'enginesize','boreratio', 'stroke', 'compressionratio'\n",
    "               ,'horsepower' ,'peakrpm', 'citympg' ,'highwaympg'], axis=\"columns\", inplace=True)\n",
    "clean_df[['symboling', 'doornumber', 'wheelbase', 'carlength', 'carwidth', 'carheight' \n",
    "               ,'curbweight' ,'cylindernumber', 'enginesize','boreratio', 'stroke', 'compressionratio'\n",
    "               ,'horsepower' ,'peakrpm', 'citympg' ,'highwaympg']] = robust_scaled[['symboling', 'doornumber', 'wheelbase', 'carlength', 'carwidth', 'carheight' \n",
    "               ,'curbweight' ,'cylindernumber', 'enginesize','boreratio', 'stroke', 'compressionratio'\n",
    "               ,'horsepower' ,'peakrpm', 'citympg' ,'highwaympg']]\n"
   ]
  },
  {
   "cell_type": "code",
   "execution_count": 193,
   "id": "5937af41",
   "metadata": {
    "execution": {
     "iopub.execute_input": "2022-11-18T13:17:14.375877Z",
     "iopub.status.busy": "2022-11-18T13:17:14.375467Z",
     "iopub.status.idle": "2022-11-18T13:17:14.420162Z",
     "shell.execute_reply": "2022-11-18T13:17:14.418943Z"
    },
    "papermill": {
     "duration": 0.086317,
     "end_time": "2022-11-18T13:17:14.422488",
     "exception": false,
     "start_time": "2022-11-18T13:17:14.336171",
     "status": "completed"
    },
    "tags": []
   },
   "outputs": [
    {
     "data": {
      "text/html": [
       "<div>\n",
       "<style scoped>\n",
       "    .dataframe tbody tr th:only-of-type {\n",
       "        vertical-align: middle;\n",
       "    }\n",
       "\n",
       "    .dataframe tbody tr th {\n",
       "        vertical-align: top;\n",
       "    }\n",
       "\n",
       "    .dataframe thead th {\n",
       "        text-align: right;\n",
       "    }\n",
       "</style>\n",
       "<table border=\"1\" class=\"dataframe\">\n",
       "  <thead>\n",
       "    <tr style=\"text-align: right;\">\n",
       "      <th></th>\n",
       "      <th>price</th>\n",
       "      <th>fueltype_diesel</th>\n",
       "      <th>fueltype_gas</th>\n",
       "      <th>aspiration_std</th>\n",
       "      <th>aspiration_turbo</th>\n",
       "      <th>carbody_convertible</th>\n",
       "      <th>carbody_hardtop</th>\n",
       "      <th>carbody_hatchback</th>\n",
       "      <th>carbody_sedan</th>\n",
       "      <th>carbody_wagon</th>\n",
       "      <th>drivewheel_4wd</th>\n",
       "      <th>drivewheel_fwd</th>\n",
       "      <th>drivewheel_rwd</th>\n",
       "      <th>enginelocation_front</th>\n",
       "      <th>enginelocation_rear</th>\n",
       "      <th>enginetype_dohc</th>\n",
       "      <th>enginetype_dohcv</th>\n",
       "      <th>enginetype_l</th>\n",
       "      <th>enginetype_ohc</th>\n",
       "      <th>enginetype_ohcf</th>\n",
       "      <th>enginetype_ohcv</th>\n",
       "      <th>enginetype_rotor</th>\n",
       "      <th>fuelsystem_1bbl</th>\n",
       "      <th>fuelsystem_2bbl</th>\n",
       "      <th>fuelsystem_4bbl</th>\n",
       "      <th>fuelsystem_idi</th>\n",
       "      <th>fuelsystem_mfi</th>\n",
       "      <th>fuelsystem_mpfi</th>\n",
       "      <th>fuelsystem_spdi</th>\n",
       "      <th>fuelsystem_spfi</th>\n",
       "      <th>company_alfa-romero</th>\n",
       "      <th>company_audi</th>\n",
       "      <th>company_bmw</th>\n",
       "      <th>company_buick</th>\n",
       "      <th>company_chevrolet</th>\n",
       "      <th>company_dodge</th>\n",
       "      <th>company_honda</th>\n",
       "      <th>company_isuzu</th>\n",
       "      <th>company_jaguar</th>\n",
       "      <th>company_maxda</th>\n",
       "      <th>company_mazda</th>\n",
       "      <th>company_mercury</th>\n",
       "      <th>company_mitsubishi</th>\n",
       "      <th>company_nissan</th>\n",
       "      <th>company_peugeot</th>\n",
       "      <th>company_plymouth</th>\n",
       "      <th>company_porcshce</th>\n",
       "      <th>company_porsche</th>\n",
       "      <th>company_renault</th>\n",
       "      <th>company_saab</th>\n",
       "      <th>company_subaru</th>\n",
       "      <th>company_toyota</th>\n",
       "      <th>company_toyouta</th>\n",
       "      <th>company_vokswagen</th>\n",
       "      <th>company_volkswagen</th>\n",
       "      <th>company_volvo</th>\n",
       "      <th>company_vw</th>\n",
       "      <th>symboling</th>\n",
       "      <th>doornumber</th>\n",
       "      <th>wheelbase</th>\n",
       "      <th>carlength</th>\n",
       "      <th>carwidth</th>\n",
       "      <th>carheight</th>\n",
       "      <th>curbweight</th>\n",
       "      <th>cylindernumber</th>\n",
       "      <th>enginesize</th>\n",
       "      <th>boreratio</th>\n",
       "      <th>stroke</th>\n",
       "      <th>compressionratio</th>\n",
       "      <th>horsepower</th>\n",
       "      <th>peakrpm</th>\n",
       "      <th>citympg</th>\n",
       "      <th>highwaympg</th>\n",
       "    </tr>\n",
       "  </thead>\n",
       "  <tbody>\n",
       "    <tr>\n",
       "      <th>0</th>\n",
       "      <td>13495.0</td>\n",
       "      <td>0</td>\n",
       "      <td>1</td>\n",
       "      <td>1</td>\n",
       "      <td>0</td>\n",
       "      <td>1</td>\n",
       "      <td>0</td>\n",
       "      <td>0</td>\n",
       "      <td>0</td>\n",
       "      <td>0</td>\n",
       "      <td>0</td>\n",
       "      <td>0</td>\n",
       "      <td>1</td>\n",
       "      <td>1</td>\n",
       "      <td>0</td>\n",
       "      <td>1</td>\n",
       "      <td>0</td>\n",
       "      <td>0</td>\n",
       "      <td>0</td>\n",
       "      <td>0</td>\n",
       "      <td>0</td>\n",
       "      <td>0</td>\n",
       "      <td>0</td>\n",
       "      <td>0</td>\n",
       "      <td>0</td>\n",
       "      <td>0</td>\n",
       "      <td>0</td>\n",
       "      <td>1</td>\n",
       "      <td>0</td>\n",
       "      <td>0</td>\n",
       "      <td>1</td>\n",
       "      <td>0</td>\n",
       "      <td>0</td>\n",
       "      <td>0</td>\n",
       "      <td>0</td>\n",
       "      <td>0</td>\n",
       "      <td>0</td>\n",
       "      <td>0</td>\n",
       "      <td>0</td>\n",
       "      <td>0</td>\n",
       "      <td>0</td>\n",
       "      <td>0</td>\n",
       "      <td>0</td>\n",
       "      <td>0</td>\n",
       "      <td>0</td>\n",
       "      <td>0</td>\n",
       "      <td>0</td>\n",
       "      <td>0</td>\n",
       "      <td>0</td>\n",
       "      <td>0</td>\n",
       "      <td>0</td>\n",
       "      <td>0</td>\n",
       "      <td>0</td>\n",
       "      <td>0</td>\n",
       "      <td>0</td>\n",
       "      <td>0</td>\n",
       "      <td>0</td>\n",
       "      <td>1.0</td>\n",
       "      <td>-1.0</td>\n",
       "      <td>-1.063291</td>\n",
       "      <td>-0.261905</td>\n",
       "      <td>-0.5</td>\n",
       "      <td>-1.514286</td>\n",
       "      <td>0.16962</td>\n",
       "      <td>0.0</td>\n",
       "      <td>0.227273</td>\n",
       "      <td>0.372093</td>\n",
       "      <td>-2.033333</td>\n",
       "      <td>0.0</td>\n",
       "      <td>0.347826</td>\n",
       "      <td>-0.285714</td>\n",
       "      <td>-0.272727</td>\n",
       "      <td>-0.333333</td>\n",
       "    </tr>\n",
       "    <tr>\n",
       "      <th>1</th>\n",
       "      <td>16500.0</td>\n",
       "      <td>0</td>\n",
       "      <td>1</td>\n",
       "      <td>1</td>\n",
       "      <td>0</td>\n",
       "      <td>1</td>\n",
       "      <td>0</td>\n",
       "      <td>0</td>\n",
       "      <td>0</td>\n",
       "      <td>0</td>\n",
       "      <td>0</td>\n",
       "      <td>0</td>\n",
       "      <td>1</td>\n",
       "      <td>1</td>\n",
       "      <td>0</td>\n",
       "      <td>1</td>\n",
       "      <td>0</td>\n",
       "      <td>0</td>\n",
       "      <td>0</td>\n",
       "      <td>0</td>\n",
       "      <td>0</td>\n",
       "      <td>0</td>\n",
       "      <td>0</td>\n",
       "      <td>0</td>\n",
       "      <td>0</td>\n",
       "      <td>0</td>\n",
       "      <td>0</td>\n",
       "      <td>1</td>\n",
       "      <td>0</td>\n",
       "      <td>0</td>\n",
       "      <td>1</td>\n",
       "      <td>0</td>\n",
       "      <td>0</td>\n",
       "      <td>0</td>\n",
       "      <td>0</td>\n",
       "      <td>0</td>\n",
       "      <td>0</td>\n",
       "      <td>0</td>\n",
       "      <td>0</td>\n",
       "      <td>0</td>\n",
       "      <td>0</td>\n",
       "      <td>0</td>\n",
       "      <td>0</td>\n",
       "      <td>0</td>\n",
       "      <td>0</td>\n",
       "      <td>0</td>\n",
       "      <td>0</td>\n",
       "      <td>0</td>\n",
       "      <td>0</td>\n",
       "      <td>0</td>\n",
       "      <td>0</td>\n",
       "      <td>0</td>\n",
       "      <td>0</td>\n",
       "      <td>0</td>\n",
       "      <td>0</td>\n",
       "      <td>0</td>\n",
       "      <td>0</td>\n",
       "      <td>1.0</td>\n",
       "      <td>-1.0</td>\n",
       "      <td>-1.063291</td>\n",
       "      <td>-0.261905</td>\n",
       "      <td>-0.5</td>\n",
       "      <td>-1.514286</td>\n",
       "      <td>0.16962</td>\n",
       "      <td>0.0</td>\n",
       "      <td>0.227273</td>\n",
       "      <td>0.372093</td>\n",
       "      <td>-2.033333</td>\n",
       "      <td>0.0</td>\n",
       "      <td>0.347826</td>\n",
       "      <td>-0.285714</td>\n",
       "      <td>-0.272727</td>\n",
       "      <td>-0.333333</td>\n",
       "    </tr>\n",
       "  </tbody>\n",
       "</table>\n",
       "</div>"
      ],
      "text/plain": [
       "     price  fueltype_diesel  fueltype_gas  aspiration_std  aspiration_turbo  \\\n",
       "0  13495.0                0             1               1                 0   \n",
       "1  16500.0                0             1               1                 0   \n",
       "\n",
       "   carbody_convertible  carbody_hardtop  carbody_hatchback  carbody_sedan  \\\n",
       "0                    1                0                  0              0   \n",
       "1                    1                0                  0              0   \n",
       "\n",
       "   carbody_wagon  drivewheel_4wd  drivewheel_fwd  drivewheel_rwd  \\\n",
       "0              0               0               0               1   \n",
       "1              0               0               0               1   \n",
       "\n",
       "   enginelocation_front  enginelocation_rear  enginetype_dohc  \\\n",
       "0                     1                    0                1   \n",
       "1                     1                    0                1   \n",
       "\n",
       "   enginetype_dohcv  enginetype_l  enginetype_ohc  enginetype_ohcf  \\\n",
       "0                 0             0               0                0   \n",
       "1                 0             0               0                0   \n",
       "\n",
       "   enginetype_ohcv  enginetype_rotor  fuelsystem_1bbl  fuelsystem_2bbl  \\\n",
       "0                0                 0                0                0   \n",
       "1                0                 0                0                0   \n",
       "\n",
       "   fuelsystem_4bbl  fuelsystem_idi  fuelsystem_mfi  fuelsystem_mpfi  \\\n",
       "0                0               0               0                1   \n",
       "1                0               0               0                1   \n",
       "\n",
       "   fuelsystem_spdi  fuelsystem_spfi  company_alfa-romero  company_audi  \\\n",
       "0                0                0                    1             0   \n",
       "1                0                0                    1             0   \n",
       "\n",
       "   company_bmw  company_buick  company_chevrolet  company_dodge  \\\n",
       "0            0              0                  0              0   \n",
       "1            0              0                  0              0   \n",
       "\n",
       "   company_honda  company_isuzu  company_jaguar  company_maxda  company_mazda  \\\n",
       "0              0              0               0              0              0   \n",
       "1              0              0               0              0              0   \n",
       "\n",
       "   company_mercury  company_mitsubishi  company_nissan  company_peugeot  \\\n",
       "0                0                   0               0                0   \n",
       "1                0                   0               0                0   \n",
       "\n",
       "   company_plymouth  company_porcshce  company_porsche  company_renault  \\\n",
       "0                 0                 0                0                0   \n",
       "1                 0                 0                0                0   \n",
       "\n",
       "   company_saab  company_subaru  company_toyota  company_toyouta  \\\n",
       "0             0               0               0                0   \n",
       "1             0               0               0                0   \n",
       "\n",
       "   company_vokswagen  company_volkswagen  company_volvo  company_vw  \\\n",
       "0                  0                   0              0           0   \n",
       "1                  0                   0              0           0   \n",
       "\n",
       "   symboling  doornumber  wheelbase  carlength  carwidth  carheight  \\\n",
       "0        1.0        -1.0  -1.063291  -0.261905      -0.5  -1.514286   \n",
       "1        1.0        -1.0  -1.063291  -0.261905      -0.5  -1.514286   \n",
       "\n",
       "   curbweight  cylindernumber  enginesize  boreratio    stroke  \\\n",
       "0     0.16962             0.0    0.227273   0.372093 -2.033333   \n",
       "1     0.16962             0.0    0.227273   0.372093 -2.033333   \n",
       "\n",
       "   compressionratio  horsepower   peakrpm   citympg  highwaympg  \n",
       "0               0.0    0.347826 -0.285714 -0.272727   -0.333333  \n",
       "1               0.0    0.347826 -0.285714 -0.272727   -0.333333  "
      ]
     },
     "execution_count": 193,
     "metadata": {},
     "output_type": "execute_result"
    }
   ],
   "source": [
    "clean_df.head(2)"
   ]
  },
  {
   "cell_type": "raw",
   "id": "f5324dba",
   "metadata": {
    "papermill": {
     "duration": 0.037381,
     "end_time": "2022-11-18T13:17:14.498497",
     "exception": false,
     "start_time": "2022-11-18T13:17:14.461116",
     "status": "completed"
    },
    "tags": []
   },
   "source": [
    "ИТОГО\n",
    "\n",
    "- есть разведочный анализ\n",
    "- преобзованные категориальные данные для модели\n",
    "- произведена нормализация данных для модели\n",
    "- отличгую работу я нашел за образец, елси бы не бизнес комметарии, от некотрых данных я бы избавился незная их\n",
    "ценности"
   ]
  },
  {
   "cell_type": "code",
   "execution_count": null,
   "id": "2930df09",
   "metadata": {},
   "outputs": [],
   "source": []
  },
  {
   "cell_type": "code",
   "execution_count": null,
   "id": "bf695900",
   "metadata": {},
   "outputs": [],
   "source": []
  },
  {
   "cell_type": "raw",
   "id": "135f0719",
   "metadata": {
    "papermill": {
     "duration": 0.037092,
     "end_time": "2022-11-18T13:17:14.573514",
     "exception": false,
     "start_time": "2022-11-18T13:17:14.536422",
     "status": "completed"
    },
    "tags": []
   },
   "source": [
    "                           Приступаем к моделированию\n"
   ]
  },
  {
   "cell_type": "raw",
   "id": "f521fe25",
   "metadata": {
    "papermill": {
     "duration": 0.037554,
     "end_time": "2022-11-18T13:17:14.733784",
     "exception": false,
     "start_time": "2022-11-18T13:17:14.696230",
     "status": "completed"
    },
    "tags": []
   },
   "source": [
    "     Анализ главных компонентов\n",
    "\n",
    "Анализ главных компонентов, или PCA, представляет собой статистический метод преобразования данных высокой размерности в данные низкой размерности путем выбора наиболее важных функций, которые собирают максимальную информацию о наборе данных. Функции выбираются на основе дисперсии, которую они вызывают на выходе. Признак, вызывающий наибольшую дисперсию, является первым главным компонентом. Признак, отвечающий за вторую по величине дисперсию, считается вторым главным компонентом и так далее. Важно отметить, что главные компоненты не имеют никакой корреляции друг с другом.\n",
    "\n",
    "\n",
    "     Преимущества PCA\n",
    "\n",
    "Есть два основных преимущества уменьшения размерности с помощью PCA.\n",
    "\n",
    "* Время обучения алгоритмов значительно сокращается при меньшем количестве функций.\n",
    "* Не всегда возможно анализировать данные в больших размерностях. Например, если в наборе данных 100 объектов. Общее количество точечных диаграмм, необходимых для визуализации данных, будет равно 100(100-1)2 = 4950. Практически невозможно анализировать данные таким образом."
   ]
  },
  {
   "cell_type": "code",
   "execution_count": 194,
   "id": "59eb0755",
   "metadata": {
    "execution": {
     "iopub.execute_input": "2022-11-18T13:17:14.810764Z",
     "iopub.status.busy": "2022-11-18T13:17:14.810149Z",
     "iopub.status.idle": "2022-11-18T13:17:14.815706Z",
     "shell.execute_reply": "2022-11-18T13:17:14.814767Z"
    },
    "papermill": {
     "duration": 0.04648,
     "end_time": "2022-11-18T13:17:14.817744",
     "exception": false,
     "start_time": "2022-11-18T13:17:14.771264",
     "status": "completed"
    },
    "tags": []
   },
   "outputs": [
    {
     "data": {
      "text/plain": [
       "(205, 72)"
      ]
     },
     "execution_count": 194,
     "metadata": {},
     "output_type": "execute_result"
    }
   ],
   "source": [
    "#replace!!!  write anothe two way for reduce or select factors\n",
    "\n",
    "x_clean = clean_df.drop(['price'] , axis = 1).values\n",
    "y_clean = clean_df['price'].values\n",
    "\n",
    "x_clean.shape"
   ]
  },
  {
   "cell_type": "code",
   "execution_count": 195,
   "id": "e77879ff",
   "metadata": {
    "execution": {
     "iopub.execute_input": "2022-11-18T13:17:14.895254Z",
     "iopub.status.busy": "2022-11-18T13:17:14.894646Z",
     "iopub.status.idle": "2022-11-18T13:17:14.917773Z",
     "shell.execute_reply": "2022-11-18T13:17:14.916125Z"
    },
    "papermill": {
     "duration": 0.066898,
     "end_time": "2022-11-18T13:17:14.922202",
     "exception": false,
     "start_time": "2022-11-18T13:17:14.855304",
     "status": "completed"
    },
    "tags": []
   },
   "outputs": [
    {
     "name": "stdout",
     "output_type": "stream",
     "text": [
      "Number of original features is 72 and of reduced features is 29\n"
     ]
    }
   ],
   "source": [
    "pca = PCA(n_components=0.99)\n",
    "x_reduced = pca.fit_transform(x_clean)\n",
    "\n",
    "print(\"Number of original features is {} and of reduced features is {}\".format(x_clean.shape[1], x_reduced.shape[1]))"
   ]
  },
  {
   "cell_type": "code",
   "execution_count": 196,
   "id": "80e088b9",
   "metadata": {
    "execution": {
     "iopub.execute_input": "2022-11-18T13:17:15.152182Z",
     "iopub.status.busy": "2022-11-18T13:17:15.151552Z",
     "iopub.status.idle": "2022-11-18T13:17:15.158708Z",
     "shell.execute_reply": "2022-11-18T13:17:15.157770Z"
    },
    "papermill": {
     "duration": 0.048548,
     "end_time": "2022-11-18T13:17:15.160856",
     "exception": false,
     "start_time": "2022-11-18T13:17:15.112308",
     "status": "completed"
    },
    "tags": []
   },
   "outputs": [],
   "source": [
    "X_train_clean, X_test_clean, y_train_clean, y_test_clean = train_test_split(x_clean, y_clean, test_size=0.1, random_state=42)\n",
    "X_train_r, X_test_r, y_train_r, y_test_r = train_test_split(x_reduced, y_clean, test_size=0.1, random_state=42)"
   ]
  },
  {
   "cell_type": "code",
   "execution_count": 197,
   "id": "8f30fe37",
   "metadata": {
    "execution": {
     "iopub.execute_input": "2022-11-18T13:17:15.238173Z",
     "iopub.status.busy": "2022-11-18T13:17:15.237537Z",
     "iopub.status.idle": "2022-11-18T13:17:15.245891Z",
     "shell.execute_reply": "2022-11-18T13:17:15.244949Z"
    },
    "papermill": {
     "duration": 0.049468,
     "end_time": "2022-11-18T13:17:15.248099",
     "exception": false,
     "start_time": "2022-11-18T13:17:15.198631",
     "status": "completed"
    },
    "tags": []
   },
   "outputs": [],
   "source": [
    "clean_evals = dict()\n",
    "reduced_evals = dict()\n",
    "def evaluate_regression(evals, model, name, X_train, X_test, y_train, y_test):\n",
    "    train_error = mean_squared_error(y_train, model.predict(X_train), squared=False)\n",
    "    test_error = mean_squared_error(y_test, model.predict(X_test), squared=False)\n",
    "    r2_train = r2_score(y_train, model.predict(X_train))\n",
    "    r2_test = r2_score(y_test, model.predict(X_test))\n",
    "    evals[str(name)] = [train_error, test_error, r2_train, r2_test]\n",
    "    print(\"Training Error \" + str(name) + \" {}  Test error \".format(train_error) + str(name) + \" {}\".format(test_error))\n",
    "    print(\"R2 score for \" + str(name) + \" training is {} \".format(r2_train*100) + \" and for test is {}\".format(r2_test*100))"
   ]
  },
  {
   "cell_type": "code",
   "execution_count": 198,
   "id": "7c7a4e5d",
   "metadata": {
    "execution": {
     "iopub.execute_input": "2022-11-18T13:17:15.325929Z",
     "iopub.status.busy": "2022-11-18T13:17:15.324810Z",
     "iopub.status.idle": "2022-11-18T13:17:15.331318Z",
     "shell.execute_reply": "2022-11-18T13:17:15.330608Z"
    },
    "papermill": {
     "duration": 0.047437,
     "end_time": "2022-11-18T13:17:15.333488",
     "exception": false,
     "start_time": "2022-11-18T13:17:15.286051",
     "status": "completed"
    },
    "tags": []
   },
   "outputs": [],
   "source": [
    "def plot_predictions(model, X_test, y_test):\n",
    "    y_pred = model.predict(X_test)\n",
    "    df = pd.DataFrame({\"Y_test\": y_test , \"Y_pred\" : y_pred})\n",
    "    plt.figure(figsize=(10,6))\n",
    "    plt.plot(df[:20])\n",
    "    plt.legend(['Actual' , 'Predicted'])"
   ]
  },
  {
   "cell_type": "code",
   "execution_count": null,
   "id": "2c287dd9",
   "metadata": {},
   "outputs": [],
   "source": []
  },
  {
   "cell_type": "raw",
   "id": "12f0dadf",
   "metadata": {
    "papermill": {
     "duration": 0.038996,
     "end_time": "2022-11-18T13:17:16.875990",
     "exception": false,
     "start_time": "2022-11-18T13:17:16.836994",
     "status": "completed"
    },
    "tags": []
   },
   "source": [
    "             \n",
    "             \n",
    "             \n",
    "             Регрессия хребта     \n",
    "\n",
    "Ридж-регрессия используется для решения проблемы мультиколлинеарности, когда\n",
    "независимые переменные сильно коррелируют друг с другом, а\n",
    "корреляционная матрица будет сингулярной, и мы не сможем получить уникальный параметр."
   ]
  },
  {
   "cell_type": "code",
   "execution_count": 199,
   "id": "298709f7",
   "metadata": {
    "execution": {
     "iopub.execute_input": "2022-11-18T13:17:16.956895Z",
     "iopub.status.busy": "2022-11-18T13:17:16.956207Z",
     "iopub.status.idle": "2022-11-18T13:17:16.979410Z",
     "shell.execute_reply": "2022-11-18T13:17:16.977386Z"
    },
    "papermill": {
     "duration": 0.073405,
     "end_time": "2022-11-18T13:17:16.989066",
     "exception": false,
     "start_time": "2022-11-18T13:17:16.915661",
     "status": "completed"
    },
    "tags": []
   },
   "outputs": [
    {
     "name": "stdout",
     "output_type": "stream",
     "text": [
      "Training Error Ridge Regression 1635.550782882345  Test error Ridge Regression 2125.972389005537\n",
      "R2 score for Ridge Regression training is 95.65838450434953  and for test is 94.35670940127882\n"
     ]
    }
   ],
   "source": [
    "rlr = Ridge(alpha=0.9).fit(X_train_clean, y_train_clean)\n",
    "evaluate_regression(clean_evals,rlr, \"Ridge Regression\", X_train_clean, X_test_clean, y_train_clean, y_test_clean)"
   ]
  },
  {
   "cell_type": "code",
   "execution_count": 200,
   "id": "e63d305d",
   "metadata": {
    "execution": {
     "iopub.execute_input": "2022-11-18T13:17:17.157899Z",
     "iopub.status.busy": "2022-11-18T13:17:17.157515Z",
     "iopub.status.idle": "2022-11-18T13:17:17.166338Z",
     "shell.execute_reply": "2022-11-18T13:17:17.165499Z"
    },
    "papermill": {
     "duration": 0.051671,
     "end_time": "2022-11-18T13:17:17.168360",
     "exception": false,
     "start_time": "2022-11-18T13:17:17.116689",
     "status": "completed"
    },
    "tags": []
   },
   "outputs": [
    {
     "name": "stdout",
     "output_type": "stream",
     "text": [
      "Training Error Reduced Ridge Regression 2319.9039270391186  Test error Reduced Ridge Regression 2520.6644446938267\n",
      "R2 score for Reduced Ridge Regression training is 91.26499229889234  and for test is 92.06682114004573\n"
     ]
    }
   ],
   "source": [
    "reduced_rlr = Ridge(alpha=0.9).fit(X_train_r, y_train_r)\n",
    "evaluate_regression(reduced_evals,reduced_rlr, \"Reduced Ridge Regression\", X_train_r, X_test_r, y_train_r, y_test_r)"
   ]
  },
  {
   "cell_type": "code",
   "execution_count": 201,
   "id": "8a1e7c06",
   "metadata": {
    "execution": {
     "iopub.execute_input": "2022-11-18T13:17:17.250992Z",
     "iopub.status.busy": "2022-11-18T13:17:17.250280Z",
     "iopub.status.idle": "2022-11-18T13:17:17.557747Z",
     "shell.execute_reply": "2022-11-18T13:17:17.556776Z"
    },
    "papermill": {
     "duration": 0.351727,
     "end_time": "2022-11-18T13:17:17.560551",
     "exception": false,
     "start_time": "2022-11-18T13:17:17.208824",
     "status": "completed"
    },
    "tags": []
   },
   "outputs": [
    {
     "data": {
      "image/png": "[encoded data removed]",
      "text/plain": [
       "<Figure size 720x432 with 1 Axes>"
      ]
     },
     "metadata": {},
     "output_type": "display_data"
    }
   ],
   "source": [
    "plot_predictions(rlr, X_test_clean, y_test_clean)"
   ]
  },
  {
   "cell_type": "raw",
   "id": "7d1c45da",
   "metadata": {
    "papermill": {
     "duration": 0.041514,
     "end_time": "2022-11-18T13:17:17.645649",
     "exception": false,
     "start_time": "2022-11-18T13:17:17.604135",
     "status": "completed"
    },
    "tags": []
   },
   "source": [
    "                 \n",
    "                 \n",
    "                 \n",
    "                 \n",
    "                 \n",
    "                 Надежная регрессия (регрессор Хьюбера)\n",
    "                 \n",
    "Преимущество функции потерь Хьюбера в том, что она не сильно зависит от выбросов, но при этом не полностью игнорирует их влияние."
   ]
  },
  {
   "cell_type": "code",
   "execution_count": 202,
   "id": "a0883ddb",
   "metadata": {
    "execution": {
     "iopub.execute_input": "2022-11-18T13:17:17.731065Z",
     "iopub.status.busy": "2022-11-18T13:17:17.730635Z",
     "iopub.status.idle": "2022-11-18T13:17:17.820499Z",
     "shell.execute_reply": "2022-11-18T13:17:17.818852Z"
    },
    "papermill": {
     "duration": 0.139723,
     "end_time": "2022-11-18T13:17:17.827161",
     "exception": false,
     "start_time": "2022-11-18T13:17:17.687438",
     "status": "completed"
    },
    "tags": []
   },
   "outputs": [
    {
     "name": "stdout",
     "output_type": "stream",
     "text": [
      "Training Error Robust Regression 1752.1843262773461  Test error Robust Regression 2268.807653533959\n",
      "R2 score for Robust Regression training is 95.0170919360707  and for test is 93.57293736942727\n"
     ]
    }
   ],
   "source": [
    "huber = HuberRegressor().fit(X_train_clean, y_train_clean)\n",
    "evaluate_regression(clean_evals,huber, \"Robust Regression\", X_train_clean, X_test_clean, y_train_clean, y_test_clean)"
   ]
  },
  {
   "cell_type": "code",
   "execution_count": 203,
   "id": "7a89063a",
   "metadata": {
    "execution": {
     "iopub.execute_input": "2022-11-18T13:17:17.976053Z",
     "iopub.status.busy": "2022-11-18T13:17:17.975633Z",
     "iopub.status.idle": "2022-11-18T13:17:18.012344Z",
     "shell.execute_reply": "2022-11-18T13:17:18.010771Z"
    },
    "papermill": {
     "duration": 0.087581,
     "end_time": "2022-11-18T13:17:18.015119",
     "exception": false,
     "start_time": "2022-11-18T13:17:17.927538",
     "status": "completed"
    },
    "tags": []
   },
   "outputs": [
    {
     "name": "stdout",
     "output_type": "stream",
     "text": [
      "Training Error Reduced Robust Regression 2413.9397193328446  Test error Reduced Robust Regression 2178.2791017035483\n",
      "R2 score for Reduced Robust Regression training is 90.54250471225106  and for test is 94.07560202579656\n"
     ]
    }
   ],
   "source": [
    "huber_r = HuberRegressor().fit(X_train_r, y_train_r)\n",
    "evaluate_regression(reduced_evals,huber_r, \"Reduced Robust Regression\", X_train_r, X_test_r, y_train_r, y_test_r)"
   ]
  },
  {
   "cell_type": "code",
   "execution_count": 204,
   "id": "e01b64c6",
   "metadata": {
    "execution": {
     "iopub.execute_input": "2022-11-18T13:17:18.098266Z",
     "iopub.status.busy": "2022-11-18T13:17:18.097821Z",
     "iopub.status.idle": "2022-11-18T13:17:18.363825Z",
     "shell.execute_reply": "2022-11-18T13:17:18.362642Z"
    },
    "papermill": {
     "duration": 0.310532,
     "end_time": "2022-11-18T13:17:18.366082",
     "exception": false,
     "start_time": "2022-11-18T13:17:18.055550",
     "status": "completed"
    },
    "tags": []
   },
   "outputs": [
    {
     "data": {
      "image/png": "[encoded data removed]",
      "text/plain": [
       "<Figure size 720x432 with 1 Axes>"
      ]
     },
     "metadata": {},
     "output_type": "display_data"
    }
   ],
   "source": [
    "plot_predictions(huber, X_test_clean, y_test_clean)"
   ]
  },
  {
   "cell_type": "raw",
   "id": "5b5b4e2b",
   "metadata": {
    "papermill": {
     "duration": 0.041049,
     "end_time": "2022-11-18T13:17:18.451932",
     "exception": false,
     "start_time": "2022-11-18T13:17:18.410883",
     "status": "completed"
    },
    "tags": []
   },
   "source": [
    "\n",
    "\n",
    "\n",
    "                    \n",
    "                    \n",
    "                            Using RandomForest with 100 estimator\n",
    "                            \n",
    "https://scikit-learn.org/stable/modules/generated/sklearn.ensemble.RandomForestRegressor.html\n",
    "https://www.keboola.com/blog/random-forest-regression#:~:text=Random%20forest%20regression%20is%20used,Predict%20future%20prices%2Fcosts.\n",
    " \n",
    "\n",
    "Random forest regression is used to solve a variety of business problems where the company needs to predict a continuous value: Predict future prices/costs.\n",
    "\n",
    "A random forest regressor.\n",
    "\n",
    "A random forest is a meta estimator that fits a number of classifying decision trees on various sub-samples of the dataset and uses averaging to improve the predictive accuracy and control over-fitting. The sub-sample size is controlled with the max_samples parameter if bootstrap=True (default), otherwise the whole dataset is used to build each tre"
   ]
  },
  {
   "cell_type": "code",
   "execution_count": 205,
   "id": "3e64f671",
   "metadata": {
    "execution": {
     "iopub.execute_input": "2022-11-18T13:17:18.536212Z",
     "iopub.status.busy": "2022-11-18T13:17:18.535835Z",
     "iopub.status.idle": "2022-11-18T13:17:18.836061Z",
     "shell.execute_reply": "2022-11-18T13:17:18.834687Z"
    },
    "papermill": {
     "duration": 0.345063,
     "end_time": "2022-11-18T13:17:18.838598",
     "exception": false,
     "start_time": "2022-11-18T13:17:18.493535",
     "status": "completed"
    },
    "tags": []
   },
   "outputs": [
    {
     "name": "stdout",
     "output_type": "stream",
     "text": [
      "Training Error RandomForest Regression 843.4185816039527  Test error RandomForest Regression 2228.6615266041126\n",
      "R2 score for RandomForest Regression training is 98.84545830445123  and for test is 93.7983763564199\n"
     ]
    }
   ],
   "source": [
    "rf = RandomForestRegressor(n_estimators=100).fit(X_train_clean, y_train_clean)\n",
    "evaluate_regression(clean_evals,rf, \"RandomForest Regression\", X_train_clean, X_test_clean, y_train_clean, y_test_clean)"
   ]
  },
  {
   "cell_type": "code",
   "execution_count": 206,
   "id": "5140464c",
   "metadata": {
    "execution": {
     "iopub.execute_input": "2022-11-18T13:17:18.923609Z",
     "iopub.status.busy": "2022-11-18T13:17:18.922926Z",
     "iopub.status.idle": "2022-11-18T13:17:19.258293Z",
     "shell.execute_reply": "2022-11-18T13:17:19.257069Z"
    },
    "papermill": {
     "duration": 0.38131,
     "end_time": "2022-11-18T13:17:19.260994",
     "exception": false,
     "start_time": "2022-11-18T13:17:18.879684",
     "status": "completed"
    },
    "tags": []
   },
   "outputs": [
    {
     "name": "stdout",
     "output_type": "stream",
     "text": [
      "Training Error Reduced RandomForest Regression 1019.45935989225  Test error Reduced RandomForest Regression 2408.149548420106\n",
      "R2 score for Reduced RandomForest Regression training is 98.31320180636193  and for test is 92.75924117870527\n"
     ]
    }
   ],
   "source": [
    "rf_r = RandomForestRegressor(n_estimators=100).fit(X_train_r, y_train_r)\n",
    "evaluate_regression(reduced_evals,rf_r, \"Reduced RandomForest Regression\", X_train_r, X_test_r, y_train_r, y_test_r)"
   ]
  },
  {
   "cell_type": "code",
   "execution_count": 207,
   "id": "8ef1d9fc",
   "metadata": {
    "execution": {
     "iopub.execute_input": "2022-11-18T13:17:19.345528Z",
     "iopub.status.busy": "2022-11-18T13:17:19.345101Z",
     "iopub.status.idle": "2022-11-18T13:17:19.625689Z",
     "shell.execute_reply": "2022-11-18T13:17:19.624375Z"
    },
    "papermill": {
     "duration": 0.325992,
     "end_time": "2022-11-18T13:17:19.628655",
     "exception": false,
     "start_time": "2022-11-18T13:17:19.302663",
     "status": "completed"
    },
    "tags": []
   },
   "outputs": [
    {
     "data": {
      "image/png": "[encoded data removed]",
      "text/plain": [
       "<Figure size 720x432 with 1 Axes>"
      ]
     },
     "metadata": {},
     "output_type": "display_data"
    }
   ],
   "source": [
    "plot_predictions(rf, X_test_clean, y_test_clean)"
   ]
  },
  {
   "cell_type": "code",
   "execution_count": null,
   "id": "ec07f336",
   "metadata": {},
   "outputs": [],
   "source": [
    "\n",
    "\n",
    "\n",
    "\n"
   ]
  },
  {
   "cell_type": "raw",
   "id": "ed934b83",
   "metadata": {
    "papermill": {
     "duration": 0.045073,
     "end_time": "2022-11-18T13:17:37.932836",
     "exception": false,
     "start_time": "2022-11-18T13:17:37.887763",
     "status": "completed"
    },
    "tags": []
   },
   "source": [
    "ИТОГО\n",
    "\n",
    "\n",
    "- использованные модели хорошо подногяют данные\n",
    "- предварительная оработка данных позволила повысить точность\n",
    "- благодаря PCA снизили количество признаков с 73 до 29 с хорошей произвоиельностью\n",
    "- есть переобучение \n",
    "    как определеить\n",
    "\n",
    "Переобучение (переподгонка, пере- в значении «слишком», англ. overfitting) в машинном обучении и статистике — явление, когда построенная модель хорошо объясняет примеры из обучающей выборки, но относительно плохо работает на примерах, не участвовавших в обучении (на примерах из тестовой выборки).\n",
    "\n",
    "Переобучение возникает при избыточной сложности модели и заключается в том, что модель хорошо работает на обучающем наборе данных, при плохих результатах на примерах, не участвующих в обучении. Диагностировать переобучение можно, разбив обучающий набор на две части: тренировочную и тестовую.\n",
    "\n",
    "    хлтя последняя модель более точна.\n",
    "    \n",
    "- можно пойти на следующий круг - подготовка данных - подгонка\n",
    "\n",
    "...работа в  доработке"
   ]
  }
 ],
 "metadata": {
  "kernelspec": {
   "display_name": "Python 3 (ipykernel)",
   "language": "python",
   "name": "python3"
  },
  "language_info": {
   "codemirror_mode": {
    "name": "ipython",
    "version": 3
   },
   "file_extension": ".py",
   "mimetype": "text/x-python",
   "name": "python",
   "nbconvert_exporter": "python",
   "pygments_lexer": "ipython3",
   "version": "3.9.16"
  },
  "papermill": {
   "default_parameters": {},
   "duration": 64.264342,
   "end_time": "2022-11-18T13:17:41.008978",
   "environment_variables": {},
   "exception": null,
   "input_path": "__notebook__.ipynb",
   "output_path": "__notebook__.ipynb",
   "parameters": {},
   "start_time": "2022-11-18T13:16:36.744636",
   "version": "2.3.4"
  },
  "toc": {
   "base_numbering": 1,
   "nav_menu": {},
   "number_sections": true,
   "sideBar": true,
   "skip_h1_title": false,
   "title_cell": "Table of Contents",
   "title_sidebar": "Contents",
   "toc_cell": false,
   "toc_position": {},
   "toc_section_display": true,
   "toc_window_display": false
  },
  "varInspector": {
   "cols": {
    "lenName": 16,
    "lenType": 16,
    "lenVar": 40
   },
   "kernels_config": {
    "python": {
     "delete_cmd_postfix": "",
     "delete_cmd_prefix": "del ",
     "library": "var_list.py",
     "varRefreshCmd": "print(var_dic_list())"
    },
    "r": {
     "delete_cmd_postfix": ") ",
     "delete_cmd_prefix": "rm(",
     "library": "var_list.r",
     "varRefreshCmd": "cat(var_dic_list()) "
    }
   },
   "types_to_exclude": [
    "module",
    "function",
    "builtin_function_or_method",
    "instance",
    "_Feature"
   ],
   "window_display": false
  }
 },
 "nbformat": 4,
 "nbformat_minor": 5
}

{
 "cells": [
  {
   "cell_type": "code",
   "execution_count": null,
   "metadata": {},
   "outputs": [],
   "source": []
  },
  {
   "cell_type": "code",
   "execution_count": null,
   "metadata": {},
   "outputs": [],
   "source": []
  },
  {
   "cell_type": "markdown",
   "metadata": {},
   "source": [
    "\n",
    "\n",
    "\n",
    "\n",
    "\n",
    "\n",
    "\n",
    "         Привет уважаемая команда! Сопроводительная заметка пояснение:\n",
    "\n",
    "\n",
    "         \n",
    "      Здесь я ввел свои дополнительные элементы в дизайн,  что бы показать, найденую и усвоеную мной \n",
    "    посследовательно проверок и рассуждений в ЭТОМ виде вопроса. Если у вас другое опытное мнение, пожалуйста, \n",
    "    дайте обратную связь, она будет очень ценной для меня!\n",
    "\n",
    "    Как и ранее, для вас ( и по своей привычке ),я все подробно описываю, читайте неторопливо, я старался.\n",
    "        Моя цель ,по прежнему, донести способ рассуждения, а не короткий вывод.  Если есть ошибки в расчетах \n",
    "        или оценках показатели, прошу учитывать новизну материала, не ругать, и просто дать разъяснения.\n",
    "\n",
    "    Исторически сложилось , что в первую очередь, меня заботила наука принятия решения в условиях извечной \n",
    "    асимметрии информации и собственной «возможности ошибиться». Поэтому стараюст понимть и контролировать то, \n",
    "    КАКИЕ ошибки и КОГДА я допускаю. Мне хочется верить, это важнейший навык для исследователя.\t\n",
    "    Помогают мне в  этом, мои товарищи Канеман, Тверски, Талеб, еще с 10х годов. \n",
    "    Сейчас более плотно знакомлюсь со статистикой и визуализацией. \n",
    "\n",
    "   \n"
   ]
  },
  {
   "cell_type": "code",
   "execution_count": null,
   "metadata": {},
   "outputs": [],
   "source": []
  },
  {
   "cell_type": "code",
   "execution_count": null,
   "metadata": {},
   "outputs": [],
   "source": [
    "\n",
    "\n",
    "\n",
    "\n",
    "\n"
   ]
  },
  {
   "cell_type": "raw",
   "metadata": {},
   "source": [
    "              ИТОГИ ПРЕДЫДУЩЕГО БЛОКА -  АА ТЕСТА.\n",
    "              \n",
    "              \n",
    "        \n",
    "После аа теста, в котором, проверялось правильное биение на подгруппы и  группы и сравнивали\n",
    "    2 и 3 подгруппы(после хеширования с солью), мы увидели,:\n",
    "    \n",
    "    - что 2 и 3 эксп-е группы   были \"верно\" разделены,\n",
    "    - не сомтря на ненормальность  исходных данных, выборочные средние( мы посмотрели), у тестовой группы\n",
    "    - рапсределены нормально,\n",
    "    - при параметрическом t test(однако с одина дисперсиями), уровень ложно положительных, не превышал 5%"
   ]
  },
  {
   "cell_type": "raw",
   "metadata": {},
   "source": [
    "\n",
    "        СЕЙЧАС ПРИСТУПАЮ К АБ ТЕСТУ\n",
    "Задачка:\n",
    "    Пришло время проанализировать результаты эксперимента, который мы провели вместе с командой дата сайентистов. Эксперимент проходил с 2022-12-02 по 2022-12-08 включительно. Для эксперимента были задействованы 2 и 1 группы.\n",
    "        \n",
    "Здесь использую методы:\n",
    "1) Учитывая,что это учебный курс, я опробую новые  для себя методы:\n",
    " \n",
    "    - я НЕ выберу Т тест:     Просто взгляну на  распределение средних и гомогенность, чисто для\n",
    "    допущения т теста . \n",
    "        \n",
    "\n",
    "    - я НЕ выберу сглаженное  CTR:   ибо мне не до конца ясны ограничения и условия \"когда\"\n",
    "    его нужно исопльзовать. Показалось, что , как и многие мат методы, которыя я видел, это очередной трюк\n",
    "    который опирается на допущения и облегчает некоторую вычислительную работу оценки парамета.\n",
    "    Но с допущениями я не разобрался.\n",
    "    \n",
    "    - Выберу Пуассоновский БУстрап \n",
    "    (правда смущает допущение приближения к \"выборке с заменой\" : \n",
    "                            \n",
    "...каждой точке данных присваивается случайный вес, \n",
    "        распределенный согласно распределению Пуассона ( лямбда = 1). Для больших выборочных данных \n",
    "        это будет   аппроксимировать случайную выборку с заменой.\n",
    "        Это связано со следующим приближением: k = binominal(n  , 1/n) примерно = Poisson(1))\n",
    "        \n",
    "        \n",
    "    - и выберу Бакетное преобразование,\n",
    "    ибо используется в стратификации ( я прочитал, елси не правда, нужно сообщить мне!!) ,\n",
    "    а стратификация   вполне частй способ снизить объем выборки / повысить ее репрезентативность к\n",
    "    ГС или желательным харакретеристикам / снизить \"шум\" дисперсию на общих данных\n",
    "    \n",
    "     или привести подвыборки(бакеты) к норм распредлениею, с сохранением срденей и дисперсии! для ненорм данных"
   ]
  },
  {
   "cell_type": "raw",
   "metadata": {},
   "source": [
    "   \n",
    "   \n",
    "   \n",
    "   \n",
    "   \n",
    "   КОРОТКИЕ СВЕДЕНИЯ ОТНОСИТЕЛЬНО МЕТОДОВ\n",
    "    \n",
    "    Пуассон Бутсрап\n",
    "\n",
    "При БОЛЬШОЙ ДЛИНЕ выборки наше биномиальное распределение – почти то же самое, что \n",
    "распределение Пуассона.  k = binominal(n  , 1/n) примерно = Poisson(1)\n",
    "     \n",
    "    *** рапсределение Пуассона  - число событий, произошедших ЗА фиксированное время, при\n",
    "условии  - события происходят с НЕКОТОРОЙ интенсивностью(лямбда?) и НЕЗАВИСИМО отдруга.\n",
    "\n",
    "p(k) = P(Y = k), where Y принадлежит P(lambda)\n",
    "                            рапсредение случ величины c   Мат ожиданием lambda\n",
    "    \n",
    "    \n",
    "    \n",
    "    \n",
    "    Бакетное преобразование\n",
    "    \n",
    "ПРИНЦИП\n",
    " - Каждый бакет теперь становится как бы «метапользователем», участвующим в эксперименте.\n",
    " - И внутри такого «метапользователя» показатель нужно как-то агрегировать.\n",
    " - Обычно вычисляют среднюю метрику в бакете, но можно, например, подсчитать медиану или\n",
    "какой-то квантиль. Скажем, если у нас 50 бакетов для теста и контроля, получается будто мы\n",
    "тест проводим на группах по 50 метапользователей в каждой\n",
    "\n",
    "\n",
    "В чем тут логика\n",
    "1) Когда мы делим нашу исходную выборку на какое-то количество бакетов и считаем в каждом\n",
    "бакете, например, среднее, на выходе мы получаем выборку из 50 значений среднего по\n",
    "этим «метапользователям». \n",
    "    Это как будто мы сделали бутстреп, но только не сгенерировав\n",
    "псевдовыборку, а откусив правильным образом кусок из имеющейся\n",
    "\n",
    "2) Поверх бакетного преобразования можно, например, применить стандартный t-тест (если\n",
    "примерно выполнены его предположения) или тест Манна-Уитни.\n",
    "\n",
    "\n",
    "...Бакетный метод - позволяет за счет допущения ЦПТ привести данные к нормальному распределению при помощи подвыборок.\n",
    "Важно отметить, что в данном случае среднее и величина отклонения будут иметь такую же величину как и в изначальном распределении. В этом ключевое отличие от bootstrap, т.к. при нем сохраниться информация о среднем, но отклонение будет меняться.\n",
    "\n",
    "После данного преобразования мы сможем использовать параметрический критерий на изначально ненормальнораспределенных данных.\n",
    "\n",
    "                    Ограничения на использование\n",
    "Данный метод будет хорошо работать только при кол-ве наблюдений от 10 000(кто то пишет)"
   ]
  },
  {
   "cell_type": "code",
   "execution_count": null,
   "metadata": {},
   "outputs": [],
   "source": []
  },
  {
   "cell_type": "markdown",
   "metadata": {},
   "source": [
    "                                                            ИМПОРТ\n",
    "                                                            "
   ]
  },
  {
   "cell_type": "code",
   "execution_count": 4,
   "metadata": {},
   "outputs": [
    {
     "data": {
      "text/html": [
       "<div>\n",
       "<style scoped>\n",
       "    .dataframe tbody tr th:only-of-type {\n",
       "        vertical-align: middle;\n",
       "    }\n",
       "\n",
       "    .dataframe tbody tr th {\n",
       "        vertical-align: top;\n",
       "    }\n",
       "\n",
       "    .dataframe thead th {\n",
       "        text-align: right;\n",
       "    }\n",
       "</style>\n",
       "<table border=\"1\" class=\"dataframe\">\n",
       "  <thead>\n",
       "    <tr style=\"text-align: right;\">\n",
       "      <th></th>\n",
       "      <th>user_id</th>\n",
       "      <th>likes</th>\n",
       "      <th>views</th>\n",
       "      <th>ctr</th>\n",
       "    </tr>\n",
       "    <tr>\n",
       "      <th>exp_group</th>\n",
       "      <th></th>\n",
       "      <th></th>\n",
       "      <th></th>\n",
       "      <th></th>\n",
       "    </tr>\n",
       "  </thead>\n",
       "  <tbody>\n",
       "    <tr>\n",
       "      <th>1</th>\n",
       "      <td>10079</td>\n",
       "      <td>10079</td>\n",
       "      <td>10079</td>\n",
       "      <td>10079</td>\n",
       "    </tr>\n",
       "    <tr>\n",
       "      <th>2</th>\n",
       "      <td>9952</td>\n",
       "      <td>9952</td>\n",
       "      <td>9952</td>\n",
       "      <td>9952</td>\n",
       "    </tr>\n",
       "  </tbody>\n",
       "</table>\n",
       "</div>"
      ],
      "text/plain": [
       "           user_id  likes  views    ctr\n",
       "exp_group                              \n",
       "1            10079  10079  10079  10079\n",
       "2             9952   9952   9952   9952"
      ]
     },
     "execution_count": 4,
     "metadata": {},
     "output_type": "execute_result"
    }
   ],
   "source": [
    "import pandas as pd\n",
    "import numpy as np\n",
    "import pandahouse\n",
    "import matplotlib.pyplot as plt\n",
    "import scipy.stats as stats\n",
    "\n",
    "connection = {\n",
    "    'host': 'https://clickhouse.lab.karpov.courses',\n",
    "    'password': 'dpo_python_2020',\n",
    "    'user': 'student',\n",
    "    'database': 'simulator_20221220'\n",
    "}\n",
    "\n",
    "q = \"\"\"\n",
    "SELECT exp_group, \n",
    "    user_id,\n",
    "    sum(action = 'like') AS likes,\n",
    "    sum(action = 'view') AS views,\n",
    "    likes/views AS ctr\n",
    "FROM {db}.feed_actions \n",
    "WHERE toDate(time) >= '2022-12-02' AND toDate(time) <= '2022-12-08'\n",
    "    AND exp_group IN (2,1)\n",
    "GROUP BY exp_group, user_id\n",
    "\"\"\"\n",
    "\n",
    "df = pandahouse.read_clickhouse(q, connection=connection)\n",
    "\n",
    "#сомтрим количество наблюдений в группах\n",
    "df.groupby('exp_group').count()"
   ]
  },
  {
   "cell_type": "code",
   "execution_count": null,
   "metadata": {},
   "outputs": [],
   "source": []
  },
  {
   "cell_type": "code",
   "execution_count": 5,
   "metadata": {},
   "outputs": [],
   "source": [
    "\n",
    "from IPython.core.interactiveshell import InteractiveShell\n",
    "InteractiveShell.ast_node_interactivity = \"all\"\n"
   ]
  },
  {
   "cell_type": "code",
   "execution_count": 6,
   "metadata": {},
   "outputs": [
    {
     "data": {
      "image/png": "[encoded data removed]",
      "text/plain": [
       "<Figure size 576x360 with 1 Axes>"
      ]
     },
     "metadata": {},
     "output_type": "display_data"
    }
   ],
   "source": [
    "# смотрим частоту! выпадания величин ctr  2 b 1  группы. Смотрим исх рапсределение.\n",
    "\n",
    "\n",
    "import seaborn as sns\n",
    "sns.set(rc={'figure.figsize':(8,5)})\n",
    "groups = sns.histplot(data = df, \n",
    "              x='ctr', \n",
    "              hue='exp_group', \n",
    "              palette = ['b', 'c'],\n",
    "              alpha=0.5,\n",
    "              kde=False)"
   ]
  },
  {
   "cell_type": "code",
   "execution_count": null,
   "metadata": {},
   "outputs": [],
   "source": []
  },
  {
   "cell_type": "markdown",
   "metadata": {},
   "source": [
    "                                                    ПОВЕРКА ДОПУЩЕНИЯ ДЛЯ t test\n",
    "                                                    "
   ]
  },
  {
   "cell_type": "code",
   "execution_count": 7,
   "metadata": {},
   "outputs": [
    {
     "data": {
      "text/plain": [
       "LeveneResult(statistic=2423.111217314752, pvalue=0.0)"
      ]
     },
     "execution_count": 7,
     "metadata": {},
     "output_type": "execute_result"
    }
   ],
   "source": [
    "stats.levene(df.query('exp_group ==2').ctr, df.query('exp_group ==1').ctr)"
   ]
  },
  {
   "cell_type": "raw",
   "metadata": {},
   "source": [
    " 1) гомогенность\n",
    "\n",
    "\n",
    " Применяя Т-критерий Стьюдента нужно помнить о:\n",
    " Дисперсии внутри наших групп должны быть примерно одинаковы (требование гомогенности дисперсий)\n",
    "\n",
    " Проверить можно с помощью критерия Левена и критерия Фишера .\n",
    "    \n",
    "  Беру Левена\n",
    " Тест Левена используется для определения того, имеют ли две или более группы одинаковые отклонения. \n",
    " Он широко используется, потому что многие статистические тесты предполагают, \n",
    " что группы имеют одинаковую дисперсию, а тест Левена позволяет определить,\n",
    " выполняется ли это предположение.\n",
    "\n",
    "stats.levene(df.query('exp_group ==2').ctr, df.query('exp_group ==1').ctr)\n",
    "\n",
    "\n",
    "\n",
    "\n",
    "\n",
    "     ИТОГО 1,\n",
    " получаем странное 0-е значение   p value , надо бы почитать.\n",
    "\n",
    "\n",
    "     ПРОБУЮ РАЗОБРАТЬСЯ -  ПОЧИТАВ и освежив мысли, нашел следующее:\n",
    "\n",
    "     Критерий Левене (Levene 1960) используется для проверки того, что  выборок имеют равные\n",
    "     дисперсии. Критерий Левене является альтернативой критерию Бартлетта.\n",
    "     Считается, что критерий Левене МЕНЕЕ ЧУВСТВИТЕЛЕН к отклонениям от нормальности.\n",
    "    \n",
    "     ... ПОЛУЧАЕТСЯ зависимость от рапсредления ИМЕЕТСЯ... - логическое предположение\n",
    "    \n",
    "     ...Оценка параметра  Z  из формулы (z = Xij - X(ср по выборке)) может использовать еще и\n",
    "     такие варики, который будут сильно влиять на исход:\n",
    "         1) ср по выборке 2) медиана по выборке 3) усеченное ср по выборке Х   - практическое подтверждение\n",
    "\n",
    "     Эти три варианта выбора определяют устойчивость критерия Левена.\n",
    "     В оригинальной работе Левене предусмотрено только использование выборочных средних.\n",
    "     Brown and Forsythe (1974) расширили критерий Левене на случай использования выборочных\n",
    "     медиан и усеченного среднего. Их исследования критерия методом Монте-Карло показало, \n",
    "     что:\n",
    "         - при использовании  усеченного среднего критерий устойчив к отклонениям в сторону\n",
    "     распределения Коши,\n",
    "         - а в случае использования выборочных медиан − к асимметрии закона.\n",
    "    \n",
    "      - Использование среднего обеспечивает лучшую мощность критерия в случае симметричных и \n",
    "     умеренно отличающихся распределений.\n",
    "    \n",
    "    \n",
    "    \n",
    "    \n",
    "     ИТОГО 2\n",
    "     ...у нас все таки не норм рапсредления +  между собой отличающиеся ПО ИСХОДНЫМ ВЫБОРКАМ\n",
    "      = мне кажетс зря я ВАЩЕ сравнивал Гомогенность. здесь неуместно\n",
    "\n",
    "\"\"\"получается елси использовать T test  c ИЗНАЧ ДАННЫМИ ИЗ ВЫБОРКИ(не прееобразованными), то нужно\n",
    "    - убедиться, что их распрееления выб средних близки к нНОМР\n",
    "    - постаивть галочку, что t test c NOT EQUAL VARIANCE\"\"\"\n",
    "\n",
    "\n",
    "\n",
    "\n",
    "\n",
    " ----------------- ОТДЕЛЬНО, для себя---------------\n",
    "      ТОГДА МОЖЕТ НУЖНО ПРОВЕРЯТЬ ГОМОГЕННОСТЬ ПО ДВУМ ВЫБОРКАМ ПОЛУЧЕННЫХ ВЫБООРОЧНЫХ СРЕДНИХ? если нет- почему?\n",
    "\n",
    " https://ami.nstu.ru/~headrd/seminar/publik_html/Homogeneity_variance_1.pdf\n",
    " https://ami.nstu.ru/~headrd/Tests_of_Mean_and_Cov.htm#:~:text=%D0%9A%D1%80%D0%B8%D1%82%D0%B5%D1%80%D0%B8%D0%B9%20%D0%9B%D0%B5%D0%B2%D0%B5%D0%BD%D0%B5%20(Levene%201960)%20%D0%B8%D1%81%D0%BF%D0%BE%D0%BB%D1%8C%D0%B7%D1%83%D0%B5%D1%82%D1%81%D1%8F,%D1%87%D1%83%D0%B2%D1%81%D1%82%D0%B2%D0%B8%D1%82%D0%B5%D0%BB%D0%B5%D0%BD%20%D0%BA%20%D0%BE%D1%82%D0%BA%D0%BB%D0%BE%D0%BD%D0%B5%D0%BD%D0%B8%D1%8F%D0%BC%20%D0%BE%D1%82%20%D0%BD%D0%BE%D1%80%D0%BC%D0%B0%D0%BB%D1%8C%D0%BD%D0%BE%D1%81%D1%82%D0%B8."
   ]
  },
  {
   "cell_type": "code",
   "execution_count": 8,
   "metadata": {},
   "outputs": [
    {
     "name": "stdout",
     "output_type": "stream",
     "text": [
      "среднее занчение 2йгруппы p value is 1.7222564581078245e-17\n",
      "среднее занчение 1йгруппы p value is 6.07957060818495e-08\n",
      " 95 процентиль полученных занчений p value is 2.6330886960580492e-17\n",
      " 95 процентиль полученных занчений p value is 4.392127195274042e-08\n"
     ]
    },
    {
     "data": {
      "text/plain": [
       "'    ПОЖАЛУЙСТА, НАСТАВНИКИ, ПОДСОБИТЕ,СКИНЬТЕ МНЕ МАТЕРИАЛ, С ХОРОШИМ РАЗБОРОМ ,ОГРАНИЧЕНИЯМИ И ДОПУЩЕНИЕМ\\n      ПУАССОНОВСКОГО БУСТРАПА!! БУДУ благодарен! '"
      ]
     },
     "execution_count": 8,
     "metadata": {},
     "output_type": "execute_result"
    },
    {
     "data": {
      "text/plain": [
       "((array([-2.99209858e+00, -2.71015927e+00, -2.55162541e+00, -2.43921385e+00,\n",
       "         -2.35113311e+00, -2.27822091e+00, -2.21572267e+00, -2.16084152e+00,\n",
       "         -2.11178767e+00, -2.06734403e+00, -2.02664403e+00, -1.98904794e+00,\n",
       "         -1.95406954e+00, -1.92133033e+00, -1.89052965e+00, -1.86142459e+00,\n",
       "         -1.83381593e+00, -1.80753820e+00, -1.78245240e+00, -1.75844061e+00,\n",
       "         -1.73540186e+00, -1.71324904e+00, -1.69190643e+00, -1.67130780e+00,\n",
       "         -1.65139483e+00, -1.63211595e+00, -1.61342528e+00, -1.59528183e+00,\n",
       "         -1.57764883e+00, -1.56049314e+00, -1.54378481e+00, -1.52749667e+00,\n",
       "         -1.51160399e+00, -1.49608418e+00, -1.48091659e+00, -1.46608224e+00,\n",
       "         -1.45156367e+00, -1.43734479e+00, -1.42341071e+00, -1.40974764e+00,\n",
       "         -1.39634279e+00, -1.38318426e+00, -1.37026095e+00, -1.35756253e+00,\n",
       "         -1.34507932e+00, -1.33280226e+00, -1.32072287e+00, -1.30883317e+00,\n",
       "         -1.29712567e+00, -1.28559331e+00, -1.27422944e+00, -1.26302778e+00,\n",
       "         -1.25198239e+00, -1.24108768e+00, -1.23033831e+00, -1.21972926e+00,\n",
       "         -1.20925574e+00, -1.19891322e+00, -1.18869738e+00, -1.17860411e+00,\n",
       "         -1.16862950e+00, -1.15876983e+00, -1.14902154e+00, -1.13938123e+00,\n",
       "         -1.12984566e+00, -1.12041173e+00, -1.11107648e+00, -1.10183707e+00,\n",
       "         -1.09269077e+00, -1.08363498e+00, -1.07466719e+00, -1.06578501e+00,\n",
       "         -1.05698612e+00, -1.04826831e+00, -1.03962946e+00, -1.03106750e+00,\n",
       "         -1.02258046e+00, -1.01416645e+00, -1.00582364e+00, -9.97550247e-01,\n",
       "         -9.89344581e-01, -9.81204996e-01, -9.73129904e-01, -9.65117774e-01,\n",
       "         -9.57167125e-01, -9.49276525e-01, -9.41444591e-01, -9.33669982e-01,\n",
       "         -9.25951403e-01, -9.18287599e-01, -9.10677353e-01, -9.03119487e-01,\n",
       "         -8.95612861e-01, -8.88156365e-01, -8.80748927e-01, -8.73389502e-01,\n",
       "         -8.66077081e-01, -8.58810678e-01, -8.51589342e-01, -8.44412143e-01,\n",
       "         -8.37278180e-01, -8.30186576e-01, -8.23136480e-01, -8.16127061e-01,\n",
       "         -8.09157513e-01, -8.02227049e-01, -7.95334905e-01, -7.88480336e-01,\n",
       "         -7.81662614e-01, -7.74881033e-01, -7.68134903e-01, -7.61423551e-01,\n",
       "         -7.54746322e-01, -7.48102575e-01, -7.41491685e-01, -7.34913044e-01,\n",
       "         -7.28366057e-01, -7.21850142e-01, -7.15364731e-01, -7.08909270e-01,\n",
       "         -7.02483218e-01, -6.96086043e-01, -6.89717230e-01, -6.83376271e-01,\n",
       "         -6.77062670e-01, -6.70775943e-01, -6.64515617e-01, -6.58281226e-01,\n",
       "         -6.52072317e-01, -6.45888445e-01, -6.39729174e-01, -6.33594076e-01,\n",
       "         -6.27482735e-01, -6.21394740e-01, -6.15329690e-01, -6.09287191e-01,\n",
       "         -6.03266856e-01, -5.97268307e-01, -5.91291174e-01, -5.85335090e-01,\n",
       "         -5.79399700e-01, -5.73484651e-01, -5.67589599e-01, -5.61714207e-01,\n",
       "         -5.55858142e-01, -5.50021077e-01, -5.44202692e-01, -5.38402673e-01,\n",
       "         -5.32620709e-01, -5.26856497e-01, -5.21109737e-01, -5.15380136e-01,\n",
       "         -5.09667405e-01, -5.03971258e-01, -4.98291417e-01, -4.92627606e-01,\n",
       "         -4.86979553e-01, -4.81346993e-01, -4.75729663e-01, -4.70127305e-01,\n",
       "         -4.64539663e-01, -4.58966488e-01, -4.53407532e-01, -4.47862553e-01,\n",
       "         -4.42331309e-01, -4.36813566e-01, -4.31309089e-01, -4.25817651e-01,\n",
       "         -4.20339023e-01, -4.14872983e-01, -4.09419311e-01, -4.03977788e-01,\n",
       "         -3.98548202e-01, -3.93130339e-01, -3.87723992e-01, -3.82328953e-01,\n",
       "         -3.76945020e-01, -3.71571992e-01, -3.66209669e-01, -3.60857856e-01,\n",
       "         -3.55516359e-01, -3.50184986e-01, -3.44863547e-01, -3.39551857e-01,\n",
       "         -3.34249730e-01, -3.28956983e-01, -3.23673435e-01, -3.18398908e-01,\n",
       "         -3.13133223e-01, -3.07876207e-01, -3.02627686e-01, -2.97387487e-01,\n",
       "         -2.92155443e-01, -2.86931384e-01, -2.81715143e-01, -2.76506557e-01,\n",
       "         -2.71305462e-01, -2.66111695e-01, -2.60925097e-01, -2.55745509e-01,\n",
       "         -2.50572773e-01, -2.45406732e-01, -2.40247233e-01, -2.35094122e-01,\n",
       "         -2.29947246e-01, -2.24806454e-01, -2.19671596e-01, -2.14542524e-01,\n",
       "         -2.09419090e-01, -2.04301147e-01, -1.99188550e-01, -1.94081154e-01,\n",
       "         -1.88978816e-01, -1.83881393e-01, -1.78788743e-01, -1.73700727e-01,\n",
       "         -1.68617203e-01, -1.63538032e-01, -1.58463078e-01, -1.53392201e-01,\n",
       "         -1.48325265e-01, -1.43262135e-01, -1.38202675e-01, -1.33146749e-01,\n",
       "         -1.28094226e-01, -1.23044970e-01, -1.17998849e-01, -1.12955731e-01,\n",
       "         -1.07915484e-01, -1.02877978e-01, -9.78430801e-02, -9.28106619e-02,\n",
       "         -8.77805930e-02, -8.27527442e-02, -7.77269864e-02, -7.27031911e-02,\n",
       "         -6.76812301e-02, -6.26609755e-02, -5.76422995e-02, -5.26250751e-02,\n",
       "         -4.76091750e-02, -4.25944724e-02, -3.75808407e-02, -3.25681535e-02,\n",
       "         -2.75562846e-02, -2.25451077e-02, -1.75344969e-02, -1.25243263e-02,\n",
       "         -7.51447003e-03, -2.50480239e-03,  2.50480239e-03,  7.51447003e-03,\n",
       "          1.25243263e-02,  1.75344969e-02,  2.25451077e-02,  2.75562846e-02,\n",
       "          3.25681535e-02,  3.75808407e-02,  4.25944724e-02,  4.76091750e-02,\n",
       "          5.26250751e-02,  5.76422995e-02,  6.26609755e-02,  6.76812301e-02,\n",
       "          7.27031911e-02,  7.77269864e-02,  8.27527442e-02,  8.77805930e-02,\n",
       "          9.28106619e-02,  9.78430801e-02,  1.02877978e-01,  1.07915484e-01,\n",
       "          1.12955731e-01,  1.17998849e-01,  1.23044970e-01,  1.28094226e-01,\n",
       "          1.33146749e-01,  1.38202675e-01,  1.43262135e-01,  1.48325265e-01,\n",
       "          1.53392201e-01,  1.58463078e-01,  1.63538032e-01,  1.68617203e-01,\n",
       "          1.73700727e-01,  1.78788743e-01,  1.83881393e-01,  1.88978816e-01,\n",
       "          1.94081154e-01,  1.99188550e-01,  2.04301147e-01,  2.09419090e-01,\n",
       "          2.14542524e-01,  2.19671596e-01,  2.24806454e-01,  2.29947246e-01,\n",
       "          2.35094122e-01,  2.40247233e-01,  2.45406732e-01,  2.50572773e-01,\n",
       "          2.55745509e-01,  2.60925097e-01,  2.66111695e-01,  2.71305462e-01,\n",
       "          2.76506557e-01,  2.81715143e-01,  2.86931384e-01,  2.92155443e-01,\n",
       "          2.97387487e-01,  3.02627686e-01,  3.07876207e-01,  3.13133223e-01,\n",
       "          3.18398908e-01,  3.23673435e-01,  3.28956983e-01,  3.34249730e-01,\n",
       "          3.39551857e-01,  3.44863547e-01,  3.50184986e-01,  3.55516359e-01,\n",
       "          3.60857856e-01,  3.66209669e-01,  3.71571992e-01,  3.76945020e-01,\n",
       "          3.82328953e-01,  3.87723992e-01,  3.93130339e-01,  3.98548202e-01,\n",
       "          4.03977788e-01,  4.09419311e-01,  4.14872983e-01,  4.20339023e-01,\n",
       "          4.25817651e-01,  4.31309089e-01,  4.36813566e-01,  4.42331309e-01,\n",
       "          4.47862553e-01,  4.53407532e-01,  4.58966488e-01,  4.64539663e-01,\n",
       "          4.70127305e-01,  4.75729663e-01,  4.81346993e-01,  4.86979553e-01,\n",
       "          4.92627606e-01,  4.98291417e-01,  5.03971258e-01,  5.09667405e-01,\n",
       "          5.15380136e-01,  5.21109737e-01,  5.26856497e-01,  5.32620709e-01,\n",
       "          5.38402673e-01,  5.44202692e-01,  5.50021077e-01,  5.55858142e-01,\n",
       "          5.61714207e-01,  5.67589599e-01,  5.73484651e-01,  5.79399700e-01,\n",
       "          5.85335090e-01,  5.91291174e-01,  5.97268307e-01,  6.03266856e-01,\n",
       "          6.09287191e-01,  6.15329690e-01,  6.21394740e-01,  6.27482735e-01,\n",
       "          6.33594076e-01,  6.39729174e-01,  6.45888445e-01,  6.52072317e-01,\n",
       "          6.58281226e-01,  6.64515617e-01,  6.70775943e-01,  6.77062670e-01,\n",
       "          6.83376271e-01,  6.89717230e-01,  6.96086043e-01,  7.02483218e-01,\n",
       "          7.08909270e-01,  7.15364731e-01,  7.21850142e-01,  7.28366057e-01,\n",
       "          7.34913044e-01,  7.41491685e-01,  7.48102575e-01,  7.54746322e-01,\n",
       "          7.61423551e-01,  7.68134903e-01,  7.74881033e-01,  7.81662614e-01,\n",
       "          7.88480336e-01,  7.95334905e-01,  8.02227049e-01,  8.09157513e-01,\n",
       "          8.16127061e-01,  8.23136480e-01,  8.30186576e-01,  8.37278180e-01,\n",
       "          8.44412143e-01,  8.51589342e-01,  8.58810678e-01,  8.66077081e-01,\n",
       "          8.73389502e-01,  8.80748927e-01,  8.88156365e-01,  8.95612861e-01,\n",
       "          9.03119487e-01,  9.10677353e-01,  9.18287599e-01,  9.25951403e-01,\n",
       "          9.33669982e-01,  9.41444591e-01,  9.49276525e-01,  9.57167125e-01,\n",
       "          9.65117774e-01,  9.73129904e-01,  9.81204996e-01,  9.89344581e-01,\n",
       "          9.97550247e-01,  1.00582364e+00,  1.01416645e+00,  1.02258046e+00,\n",
       "          1.03106750e+00,  1.03962946e+00,  1.04826831e+00,  1.05698612e+00,\n",
       "          1.06578501e+00,  1.07466719e+00,  1.08363498e+00,  1.09269077e+00,\n",
       "          1.10183707e+00,  1.11107648e+00,  1.12041173e+00,  1.12984566e+00,\n",
       "          1.13938123e+00,  1.14902154e+00,  1.15876983e+00,  1.16862950e+00,\n",
       "          1.17860411e+00,  1.18869738e+00,  1.19891322e+00,  1.20925574e+00,\n",
       "          1.21972926e+00,  1.23033831e+00,  1.24108768e+00,  1.25198239e+00,\n",
       "          1.26302778e+00,  1.27422944e+00,  1.28559331e+00,  1.29712567e+00,\n",
       "          1.30883317e+00,  1.32072287e+00,  1.33280226e+00,  1.34507932e+00,\n",
       "          1.35756253e+00,  1.37026095e+00,  1.38318426e+00,  1.39634279e+00,\n",
       "          1.40974764e+00,  1.42341071e+00,  1.43734479e+00,  1.45156367e+00,\n",
       "          1.46608224e+00,  1.48091659e+00,  1.49608418e+00,  1.51160399e+00,\n",
       "          1.52749667e+00,  1.54378481e+00,  1.56049314e+00,  1.57764883e+00,\n",
       "          1.59528183e+00,  1.61342528e+00,  1.63211595e+00,  1.65139483e+00,\n",
       "          1.67130780e+00,  1.69190643e+00,  1.71324904e+00,  1.73540186e+00,\n",
       "          1.75844061e+00,  1.78245240e+00,  1.80753820e+00,  1.83381593e+00,\n",
       "          1.86142459e+00,  1.89052965e+00,  1.92133033e+00,  1.95406954e+00,\n",
       "          1.98904794e+00,  2.02664403e+00,  2.06734403e+00,  2.11178767e+00,\n",
       "          2.16084152e+00,  2.21572267e+00,  2.27822091e+00,  2.35113311e+00,\n",
       "          2.43921385e+00,  2.55162541e+00,  2.71015927e+00,  2.99209858e+00]),\n",
       "  array([0.        , 0.        , 0.        , 0.04255319, 0.04347826,\n",
       "         0.04347826, 0.04761905, 0.05      , 0.05128205, 0.05263158,\n",
       "         0.05263158, 0.05555556, 0.05714286, 0.05714286, 0.05882353,\n",
       "         0.05882353, 0.05882353, 0.05882353, 0.05882353, 0.05882353,\n",
       "         0.06122449, 0.0625    , 0.0625    , 0.0625    , 0.06666667,\n",
       "         0.06666667, 0.06666667, 0.06818182, 0.06896552, 0.06896552,\n",
       "         0.06976744, 0.07017544, 0.07017544, 0.07142857, 0.07142857,\n",
       "         0.07142857, 0.07272727, 0.07317073, 0.07317073, 0.07317073,\n",
       "         0.0733945 , 0.07368421, 0.07407407, 0.07407407, 0.07407407,\n",
       "         0.075     , 0.075     , 0.0754717 , 0.0754717 , 0.07608696,\n",
       "         0.07619048, 0.07692308, 0.07692308, 0.07692308, 0.07692308,\n",
       "         0.07692308, 0.07692308, 0.07692308, 0.07692308, 0.07692308,\n",
       "         0.07692308, 0.07692308, 0.07692308, 0.07751938, 0.07894737,\n",
       "         0.08      , 0.08045977, 0.08108108, 0.08163265, 0.08219178,\n",
       "         0.08333333, 0.08333333, 0.08333333, 0.08333333, 0.08333333,\n",
       "         0.08333333, 0.08333333, 0.08333333, 0.08333333, 0.08333333,\n",
       "         0.08433735, 0.08450704, 0.08474576, 0.08490566, 0.08510638,\n",
       "         0.08510638, 0.08571429, 0.08653846, 0.08695652, 0.08695652,\n",
       "         0.08695652, 0.08695652, 0.08695652, 0.08695652, 0.08695652,\n",
       "         0.0875    , 0.0877193 , 0.0877193 , 0.08791209, 0.08823529,\n",
       "         0.08823529, 0.08823529, 0.08888889, 0.08888889, 0.08888889,\n",
       "         0.09009009, 0.09051724, 0.09090909, 0.09090909, 0.09090909,\n",
       "         0.09090909, 0.09166667, 0.09183673, 0.09195402, 0.09195402,\n",
       "         0.09210526, 0.09219858, 0.09230769, 0.09285714, 0.09345794,\n",
       "         0.09375   , 0.09375   , 0.0941704 , 0.09459459, 0.0952381 ,\n",
       "         0.0952381 , 0.09589041, 0.09677419, 0.09677419, 0.09708738,\n",
       "         0.09722222, 0.09836066, 0.09859155, 0.09876543, 0.0990099 ,\n",
       "         0.0990991 , 0.1       , 0.1       , 0.1       , 0.1       ,\n",
       "         0.1       , 0.10091743, 0.1011236 , 0.10119048, 0.10144928,\n",
       "         0.10144928, 0.10169492, 0.10169492, 0.10185185, 0.10204082,\n",
       "         0.10231023, 0.1025641 , 0.1025641 , 0.1025641 , 0.10280374,\n",
       "         0.10280374, 0.10309278, 0.10309278, 0.10344828, 0.10344828,\n",
       "         0.10344828, 0.10344828, 0.10344828, 0.10344828, 0.1037037 ,\n",
       "         0.10416667, 0.10416667, 0.10447761, 0.10526316, 0.10526316,\n",
       "         0.10526316, 0.10526316, 0.10526316, 0.10596026, 0.10606061,\n",
       "         0.10648148, 0.10666667, 0.10714286, 0.10714286, 0.10714286,\n",
       "         0.10810811, 0.10837438, 0.10884354, 0.109375  , 0.10958904,\n",
       "         0.11111111, 0.11111111, 0.11111111, 0.11111111, 0.11111111,\n",
       "         0.11111111, 0.11111111, 0.11111111, 0.11111111, 0.11111111,\n",
       "         0.11111111, 0.11111111, 0.11188811, 0.11235955, 0.11267606,\n",
       "         0.11320755, 0.11333333, 0.11340206, 0.11363636, 0.11403509,\n",
       "         0.11428571, 0.11428571, 0.11428571, 0.11428571, 0.11428571,\n",
       "         0.11494253, 0.11504425, 0.11520737, 0.11538462, 0.11538462,\n",
       "         0.11538462, 0.11578947, 0.11627907, 0.11643836, 0.11688312,\n",
       "         0.11688312, 0.11702128, 0.11702128, 0.11764706, 0.11764706,\n",
       "         0.11864407, 0.11904762, 0.11904762, 0.12      , 0.12048193,\n",
       "         0.12068966, 0.12121212, 0.12162162, 0.12280702, 0.12307692,\n",
       "         0.125     , 0.125     , 0.12631579, 0.12711864, 0.12727273,\n",
       "         0.12745098, 0.12765957, 0.12790698, 0.12857143, 0.13333333,\n",
       "         0.13333333, 0.13333333, 0.13385827, 0.13580247, 0.14285714,\n",
       "         0.14285714, 0.14285714, 0.14285714, 0.14285714, 0.14285714,\n",
       "         0.14285714, 0.14492754, 0.14814815, 0.1496063 , 0.15      ,\n",
       "         0.15151515, 0.15151515, 0.15217391, 0.15384615, 0.15555556,\n",
       "         0.15584416, 0.1576087 , 0.15789474, 0.16129032, 0.16304348,\n",
       "         0.16535433, 0.16666667, 0.16666667, 0.16842105, 0.16923077,\n",
       "         0.17241379, 0.17241379, 0.17857143, 0.18604651, 0.1875    ,\n",
       "         0.19047619, 0.19101124, 0.19354839, 0.1954023 , 0.2       ,\n",
       "         0.20588235, 0.20754717, 0.21176471, 0.21428571, 0.21518987,\n",
       "         0.21621622, 0.22222222, 0.22222222, 0.22727273, 0.22807018,\n",
       "         0.22857143, 0.22972973, 0.23809524, 0.23880597, 0.24590164,\n",
       "         0.25      , 0.25      , 0.25179856, 0.25358852, 0.25581395,\n",
       "         0.25714286, 0.25806452, 0.26086957, 0.26315789, 0.26388889,\n",
       "         0.26530612, 0.26582278, 0.26666667, 0.26923077, 0.26923077,\n",
       "         0.27027027, 0.27027027, 0.27272727, 0.28125   , 0.28205128,\n",
       "         0.2826087 , 0.28467153, 0.28571429, 0.28571429, 0.28571429,\n",
       "         0.28813559, 0.28888889, 0.28947368, 0.28985507, 0.29032258,\n",
       "         0.29113924, 0.29166667, 0.29166667, 0.29166667, 0.29357798,\n",
       "         0.29411765, 0.29411765, 0.29411765, 0.29508197, 0.29545455,\n",
       "         0.2972973 , 0.29807692, 0.29824561, 0.29896907, 0.3       ,\n",
       "         0.3015873 , 0.30188679, 0.30208333, 0.3030303 , 0.3030303 ,\n",
       "         0.30327869, 0.30555556, 0.30612245, 0.30612245, 0.30666667,\n",
       "         0.30666667, 0.30769231, 0.30882353, 0.31034483, 0.31111111,\n",
       "         0.3125    , 0.3125    , 0.31428571, 0.31428571, 0.31428571,\n",
       "         0.31683168, 0.31884058, 0.31884058, 0.31967213, 0.32075472,\n",
       "         0.32222222, 0.32258065, 0.32394366, 0.32653061, 0.32692308,\n",
       "         0.32727273, 0.32835821, 0.32857143, 0.33057851, 0.33333333,\n",
       "         0.33333333, 0.33333333, 0.33333333, 0.33333333, 0.33333333,\n",
       "         0.33333333, 0.33333333, 0.33333333, 0.33333333, 0.33898305,\n",
       "         0.34      , 0.34210526, 0.34313725, 0.34375   , 0.34615385,\n",
       "         0.34782609, 0.34782609, 0.34782609, 0.34939759, 0.35      ,\n",
       "         0.35      , 0.35211268, 0.35294118, 0.35294118, 0.35555556,\n",
       "         0.35714286, 0.35897436, 0.36      , 0.36046512, 0.36363636,\n",
       "         0.36363636, 0.36363636, 0.36448598, 0.3655914 , 0.36842105,\n",
       "         0.36842105, 0.36956522, 0.36956522, 0.37037037, 0.37037037,\n",
       "         0.37209302, 0.37288136, 0.375     , 0.375     , 0.375     ,\n",
       "         0.375     , 0.375     , 0.37623762, 0.37654321, 0.37681159,\n",
       "         0.37704918, 0.37735849, 0.37777778, 0.37931034, 0.38095238,\n",
       "         0.38311688, 0.38461538, 0.38461538, 0.38461538, 0.38461538,\n",
       "         0.38461538, 0.38636364, 0.38888889, 0.38888889, 0.39130435,\n",
       "         0.39189189, 0.39189189, 0.39215686, 0.39215686, 0.39230769,\n",
       "         0.39393939, 0.39622642, 0.39726027, 0.4       , 0.40298507,\n",
       "         0.40625   , 0.41025641, 0.41025641, 0.41176471, 0.41463415,\n",
       "         0.41538462, 0.41666667, 0.41818182, 0.42028986, 0.42553191,\n",
       "         0.42857143, 0.42857143, 0.42857143, 0.42857143, 0.43877551,\n",
       "         0.44067797, 0.44444444, 0.44660194, 0.44680851, 0.44827586,\n",
       "         0.44827586, 0.45      , 0.45      , 0.45263158, 0.46153846,\n",
       "         0.46268657, 0.46969697, 0.47058824, 0.47058824, 0.47368421,\n",
       "         0.48484848, 0.5       , 0.5       , 0.5       , 0.52173913,\n",
       "         0.52272727, 0.53333333, 0.53846154, 0.54545455, 0.57142857,\n",
       "         0.5952381 , 0.6       , 0.61904762, 0.66666667, 0.88      ])),\n",
       " (0.1317400266981536, 0.21035199633359888, 0.9369349349531443))"
      ]
     },
     "execution_count": 8,
     "metadata": {},
     "output_type": "execute_result"
    },
    {
     "data": {
      "image/png": "[encoded data removed]",
      "text/plain": [
       "<Figure size 576x360 with 1 Axes>"
      ]
     },
     "metadata": {},
     "output_type": "display_data"
    },
    {
     "data": {
      "text/plain": [
       "((array([-2.99209858e+00, -2.71015927e+00, -2.55162541e+00, -2.43921385e+00,\n",
       "         -2.35113311e+00, -2.27822091e+00, -2.21572267e+00, -2.16084152e+00,\n",
       "         -2.11178767e+00, -2.06734403e+00, -2.02664403e+00, -1.98904794e+00,\n",
       "         -1.95406954e+00, -1.92133033e+00, -1.89052965e+00, -1.86142459e+00,\n",
       "         -1.83381593e+00, -1.80753820e+00, -1.78245240e+00, -1.75844061e+00,\n",
       "         -1.73540186e+00, -1.71324904e+00, -1.69190643e+00, -1.67130780e+00,\n",
       "         -1.65139483e+00, -1.63211595e+00, -1.61342528e+00, -1.59528183e+00,\n",
       "         -1.57764883e+00, -1.56049314e+00, -1.54378481e+00, -1.52749667e+00,\n",
       "         -1.51160399e+00, -1.49608418e+00, -1.48091659e+00, -1.46608224e+00,\n",
       "         -1.45156367e+00, -1.43734479e+00, -1.42341071e+00, -1.40974764e+00,\n",
       "         -1.39634279e+00, -1.38318426e+00, -1.37026095e+00, -1.35756253e+00,\n",
       "         -1.34507932e+00, -1.33280226e+00, -1.32072287e+00, -1.30883317e+00,\n",
       "         -1.29712567e+00, -1.28559331e+00, -1.27422944e+00, -1.26302778e+00,\n",
       "         -1.25198239e+00, -1.24108768e+00, -1.23033831e+00, -1.21972926e+00,\n",
       "         -1.20925574e+00, -1.19891322e+00, -1.18869738e+00, -1.17860411e+00,\n",
       "         -1.16862950e+00, -1.15876983e+00, -1.14902154e+00, -1.13938123e+00,\n",
       "         -1.12984566e+00, -1.12041173e+00, -1.11107648e+00, -1.10183707e+00,\n",
       "         -1.09269077e+00, -1.08363498e+00, -1.07466719e+00, -1.06578501e+00,\n",
       "         -1.05698612e+00, -1.04826831e+00, -1.03962946e+00, -1.03106750e+00,\n",
       "         -1.02258046e+00, -1.01416645e+00, -1.00582364e+00, -9.97550247e-01,\n",
       "         -9.89344581e-01, -9.81204996e-01, -9.73129904e-01, -9.65117774e-01,\n",
       "         -9.57167125e-01, -9.49276525e-01, -9.41444591e-01, -9.33669982e-01,\n",
       "         -9.25951403e-01, -9.18287599e-01, -9.10677353e-01, -9.03119487e-01,\n",
       "         -8.95612861e-01, -8.88156365e-01, -8.80748927e-01, -8.73389502e-01,\n",
       "         -8.66077081e-01, -8.58810678e-01, -8.51589342e-01, -8.44412143e-01,\n",
       "         -8.37278180e-01, -8.30186576e-01, -8.23136480e-01, -8.16127061e-01,\n",
       "         -8.09157513e-01, -8.02227049e-01, -7.95334905e-01, -7.88480336e-01,\n",
       "         -7.81662614e-01, -7.74881033e-01, -7.68134903e-01, -7.61423551e-01,\n",
       "         -7.54746322e-01, -7.48102575e-01, -7.41491685e-01, -7.34913044e-01,\n",
       "         -7.28366057e-01, -7.21850142e-01, -7.15364731e-01, -7.08909270e-01,\n",
       "         -7.02483218e-01, -6.96086043e-01, -6.89717230e-01, -6.83376271e-01,\n",
       "         -6.77062670e-01, -6.70775943e-01, -6.64515617e-01, -6.58281226e-01,\n",
       "         -6.52072317e-01, -6.45888445e-01, -6.39729174e-01, -6.33594076e-01,\n",
       "         -6.27482735e-01, -6.21394740e-01, -6.15329690e-01, -6.09287191e-01,\n",
       "         -6.03266856e-01, -5.97268307e-01, -5.91291174e-01, -5.85335090e-01,\n",
       "         -5.79399700e-01, -5.73484651e-01, -5.67589599e-01, -5.61714207e-01,\n",
       "         -5.55858142e-01, -5.50021077e-01, -5.44202692e-01, -5.38402673e-01,\n",
       "         -5.32620709e-01, -5.26856497e-01, -5.21109737e-01, -5.15380136e-01,\n",
       "         -5.09667405e-01, -5.03971258e-01, -4.98291417e-01, -4.92627606e-01,\n",
       "         -4.86979553e-01, -4.81346993e-01, -4.75729663e-01, -4.70127305e-01,\n",
       "         -4.64539663e-01, -4.58966488e-01, -4.53407532e-01, -4.47862553e-01,\n",
       "         -4.42331309e-01, -4.36813566e-01, -4.31309089e-01, -4.25817651e-01,\n",
       "         -4.20339023e-01, -4.14872983e-01, -4.09419311e-01, -4.03977788e-01,\n",
       "         -3.98548202e-01, -3.93130339e-01, -3.87723992e-01, -3.82328953e-01,\n",
       "         -3.76945020e-01, -3.71571992e-01, -3.66209669e-01, -3.60857856e-01,\n",
       "         -3.55516359e-01, -3.50184986e-01, -3.44863547e-01, -3.39551857e-01,\n",
       "         -3.34249730e-01, -3.28956983e-01, -3.23673435e-01, -3.18398908e-01,\n",
       "         -3.13133223e-01, -3.07876207e-01, -3.02627686e-01, -2.97387487e-01,\n",
       "         -2.92155443e-01, -2.86931384e-01, -2.81715143e-01, -2.76506557e-01,\n",
       "         -2.71305462e-01, -2.66111695e-01, -2.60925097e-01, -2.55745509e-01,\n",
       "         -2.50572773e-01, -2.45406732e-01, -2.40247233e-01, -2.35094122e-01,\n",
       "         -2.29947246e-01, -2.24806454e-01, -2.19671596e-01, -2.14542524e-01,\n",
       "         -2.09419090e-01, -2.04301147e-01, -1.99188550e-01, -1.94081154e-01,\n",
       "         -1.88978816e-01, -1.83881393e-01, -1.78788743e-01, -1.73700727e-01,\n",
       "         -1.68617203e-01, -1.63538032e-01, -1.58463078e-01, -1.53392201e-01,\n",
       "         -1.48325265e-01, -1.43262135e-01, -1.38202675e-01, -1.33146749e-01,\n",
       "         -1.28094226e-01, -1.23044970e-01, -1.17998849e-01, -1.12955731e-01,\n",
       "         -1.07915484e-01, -1.02877978e-01, -9.78430801e-02, -9.28106619e-02,\n",
       "         -8.77805930e-02, -8.27527442e-02, -7.77269864e-02, -7.27031911e-02,\n",
       "         -6.76812301e-02, -6.26609755e-02, -5.76422995e-02, -5.26250751e-02,\n",
       "         -4.76091750e-02, -4.25944724e-02, -3.75808407e-02, -3.25681535e-02,\n",
       "         -2.75562846e-02, -2.25451077e-02, -1.75344969e-02, -1.25243263e-02,\n",
       "         -7.51447003e-03, -2.50480239e-03,  2.50480239e-03,  7.51447003e-03,\n",
       "          1.25243263e-02,  1.75344969e-02,  2.25451077e-02,  2.75562846e-02,\n",
       "          3.25681535e-02,  3.75808407e-02,  4.25944724e-02,  4.76091750e-02,\n",
       "          5.26250751e-02,  5.76422995e-02,  6.26609755e-02,  6.76812301e-02,\n",
       "          7.27031911e-02,  7.77269864e-02,  8.27527442e-02,  8.77805930e-02,\n",
       "          9.28106619e-02,  9.78430801e-02,  1.02877978e-01,  1.07915484e-01,\n",
       "          1.12955731e-01,  1.17998849e-01,  1.23044970e-01,  1.28094226e-01,\n",
       "          1.33146749e-01,  1.38202675e-01,  1.43262135e-01,  1.48325265e-01,\n",
       "          1.53392201e-01,  1.58463078e-01,  1.63538032e-01,  1.68617203e-01,\n",
       "          1.73700727e-01,  1.78788743e-01,  1.83881393e-01,  1.88978816e-01,\n",
       "          1.94081154e-01,  1.99188550e-01,  2.04301147e-01,  2.09419090e-01,\n",
       "          2.14542524e-01,  2.19671596e-01,  2.24806454e-01,  2.29947246e-01,\n",
       "          2.35094122e-01,  2.40247233e-01,  2.45406732e-01,  2.50572773e-01,\n",
       "          2.55745509e-01,  2.60925097e-01,  2.66111695e-01,  2.71305462e-01,\n",
       "          2.76506557e-01,  2.81715143e-01,  2.86931384e-01,  2.92155443e-01,\n",
       "          2.97387487e-01,  3.02627686e-01,  3.07876207e-01,  3.13133223e-01,\n",
       "          3.18398908e-01,  3.23673435e-01,  3.28956983e-01,  3.34249730e-01,\n",
       "          3.39551857e-01,  3.44863547e-01,  3.50184986e-01,  3.55516359e-01,\n",
       "          3.60857856e-01,  3.66209669e-01,  3.71571992e-01,  3.76945020e-01,\n",
       "          3.82328953e-01,  3.87723992e-01,  3.93130339e-01,  3.98548202e-01,\n",
       "          4.03977788e-01,  4.09419311e-01,  4.14872983e-01,  4.20339023e-01,\n",
       "          4.25817651e-01,  4.31309089e-01,  4.36813566e-01,  4.42331309e-01,\n",
       "          4.47862553e-01,  4.53407532e-01,  4.58966488e-01,  4.64539663e-01,\n",
       "          4.70127305e-01,  4.75729663e-01,  4.81346993e-01,  4.86979553e-01,\n",
       "          4.92627606e-01,  4.98291417e-01,  5.03971258e-01,  5.09667405e-01,\n",
       "          5.15380136e-01,  5.21109737e-01,  5.26856497e-01,  5.32620709e-01,\n",
       "          5.38402673e-01,  5.44202692e-01,  5.50021077e-01,  5.55858142e-01,\n",
       "          5.61714207e-01,  5.67589599e-01,  5.73484651e-01,  5.79399700e-01,\n",
       "          5.85335090e-01,  5.91291174e-01,  5.97268307e-01,  6.03266856e-01,\n",
       "          6.09287191e-01,  6.15329690e-01,  6.21394740e-01,  6.27482735e-01,\n",
       "          6.33594076e-01,  6.39729174e-01,  6.45888445e-01,  6.52072317e-01,\n",
       "          6.58281226e-01,  6.64515617e-01,  6.70775943e-01,  6.77062670e-01,\n",
       "          6.83376271e-01,  6.89717230e-01,  6.96086043e-01,  7.02483218e-01,\n",
       "          7.08909270e-01,  7.15364731e-01,  7.21850142e-01,  7.28366057e-01,\n",
       "          7.34913044e-01,  7.41491685e-01,  7.48102575e-01,  7.54746322e-01,\n",
       "          7.61423551e-01,  7.68134903e-01,  7.74881033e-01,  7.81662614e-01,\n",
       "          7.88480336e-01,  7.95334905e-01,  8.02227049e-01,  8.09157513e-01,\n",
       "          8.16127061e-01,  8.23136480e-01,  8.30186576e-01,  8.37278180e-01,\n",
       "          8.44412143e-01,  8.51589342e-01,  8.58810678e-01,  8.66077081e-01,\n",
       "          8.73389502e-01,  8.80748927e-01,  8.88156365e-01,  8.95612861e-01,\n",
       "          9.03119487e-01,  9.10677353e-01,  9.18287599e-01,  9.25951403e-01,\n",
       "          9.33669982e-01,  9.41444591e-01,  9.49276525e-01,  9.57167125e-01,\n",
       "          9.65117774e-01,  9.73129904e-01,  9.81204996e-01,  9.89344581e-01,\n",
       "          9.97550247e-01,  1.00582364e+00,  1.01416645e+00,  1.02258046e+00,\n",
       "          1.03106750e+00,  1.03962946e+00,  1.04826831e+00,  1.05698612e+00,\n",
       "          1.06578501e+00,  1.07466719e+00,  1.08363498e+00,  1.09269077e+00,\n",
       "          1.10183707e+00,  1.11107648e+00,  1.12041173e+00,  1.12984566e+00,\n",
       "          1.13938123e+00,  1.14902154e+00,  1.15876983e+00,  1.16862950e+00,\n",
       "          1.17860411e+00,  1.18869738e+00,  1.19891322e+00,  1.20925574e+00,\n",
       "          1.21972926e+00,  1.23033831e+00,  1.24108768e+00,  1.25198239e+00,\n",
       "          1.26302778e+00,  1.27422944e+00,  1.28559331e+00,  1.29712567e+00,\n",
       "          1.30883317e+00,  1.32072287e+00,  1.33280226e+00,  1.34507932e+00,\n",
       "          1.35756253e+00,  1.37026095e+00,  1.38318426e+00,  1.39634279e+00,\n",
       "          1.40974764e+00,  1.42341071e+00,  1.43734479e+00,  1.45156367e+00,\n",
       "          1.46608224e+00,  1.48091659e+00,  1.49608418e+00,  1.51160399e+00,\n",
       "          1.52749667e+00,  1.54378481e+00,  1.56049314e+00,  1.57764883e+00,\n",
       "          1.59528183e+00,  1.61342528e+00,  1.63211595e+00,  1.65139483e+00,\n",
       "          1.67130780e+00,  1.69190643e+00,  1.71324904e+00,  1.73540186e+00,\n",
       "          1.75844061e+00,  1.78245240e+00,  1.80753820e+00,  1.83381593e+00,\n",
       "          1.86142459e+00,  1.89052965e+00,  1.92133033e+00,  1.95406954e+00,\n",
       "          1.98904794e+00,  2.02664403e+00,  2.06734403e+00,  2.11178767e+00,\n",
       "          2.16084152e+00,  2.21572267e+00,  2.27822091e+00,  2.35113311e+00,\n",
       "          2.43921385e+00,  2.55162541e+00,  2.71015927e+00,  2.99209858e+00]),\n",
       "  array([0.        , 0.        , 0.        , 0.03703704, 0.04545455,\n",
       "         0.04761905, 0.05555556, 0.0625    , 0.06896552, 0.07142857,\n",
       "         0.07142857, 0.07272727, 0.07407407, 0.08333333, 0.08333333,\n",
       "         0.08333333, 0.08791209, 0.09090909, 0.09090909, 0.0952381 ,\n",
       "         0.09722222, 0.1025641 , 0.10344828, 0.10526316, 0.10526316,\n",
       "         0.10869565, 0.11111111, 0.11111111, 0.11111111, 0.11111111,\n",
       "         0.11111111, 0.11214953, 0.11235955, 0.11304348, 0.11340206,\n",
       "         0.11538462, 0.11627907, 0.11764706, 0.11764706, 0.11764706,\n",
       "         0.11940299, 0.12      , 0.12048193, 0.12121212, 0.12121212,\n",
       "         0.12121212, 0.12121212, 0.12121212, 0.12162162, 0.12162162,\n",
       "         0.12269939, 0.12280702, 0.12280702, 0.12359551, 0.125     ,\n",
       "         0.125     , 0.12658228, 0.12820513, 0.12820513, 0.12820513,\n",
       "         0.12857143, 0.1294964 , 0.12977099, 0.13043478, 0.13043478,\n",
       "         0.13076923, 0.13095238, 0.13114754, 0.13157895, 0.13333333,\n",
       "         0.13333333, 0.13475177, 0.13513514, 0.13636364, 0.13636364,\n",
       "         0.13793103, 0.13793103, 0.13829787, 0.13836478, 0.13861386,\n",
       "         0.13924051, 0.14141414, 0.14285714, 0.14285714, 0.14285714,\n",
       "         0.14285714, 0.14285714, 0.14285714, 0.14285714, 0.14285714,\n",
       "         0.14285714, 0.1440678 , 0.14414414, 0.14516129, 0.14545455,\n",
       "         0.14634146, 0.14634146, 0.14782609, 0.14835165, 0.14847162,\n",
       "         0.15      , 0.15      , 0.1509434 , 0.15151515, 0.15217391,\n",
       "         0.15217391, 0.15277778, 0.15346535, 0.15384615, 0.15384615,\n",
       "         0.15384615, 0.15384615, 0.15428571, 0.15460526, 0.15463918,\n",
       "         0.15566038, 0.15625   , 0.15625   , 0.15686275, 0.15730337,\n",
       "         0.15748031, 0.15789474, 0.15789474, 0.1589404 , 0.15957447,\n",
       "         0.16      , 0.16      , 0.16      , 0.16      , 0.16037736,\n",
       "         0.16071429, 0.16071429, 0.16071429, 0.16083916, 0.16091954,\n",
       "         0.16129032, 0.16190476, 0.16216216, 0.1627907 , 0.16326531,\n",
       "         0.16393443, 0.16455696, 0.16513761, 0.16564417, 0.16666667,\n",
       "         0.16666667, 0.16666667, 0.16666667, 0.16666667, 0.16666667,\n",
       "         0.16666667, 0.16666667, 0.16666667, 0.16666667, 0.16666667,\n",
       "         0.16666667, 0.16666667, 0.16666667, 0.16666667, 0.16666667,\n",
       "         0.16666667, 0.16666667, 0.16666667, 0.16959064, 0.16981132,\n",
       "         0.17045455, 0.17241379, 0.17361111, 0.17391304, 0.17431193,\n",
       "         0.175     , 0.175     , 0.1754386 , 0.1754386 , 0.17557252,\n",
       "         0.17582418, 0.17613636, 0.17647059, 0.17647059, 0.17647059,\n",
       "         0.17647059, 0.17721519, 0.17777778, 0.17857143, 0.17948718,\n",
       "         0.18032787, 0.18055556, 0.18064516, 0.18115942, 0.18181818,\n",
       "         0.18181818, 0.18181818, 0.18181818, 0.18181818, 0.18292683,\n",
       "         0.18309859, 0.18309859, 0.18333333, 0.18333333, 0.18478261,\n",
       "         0.18644068, 0.18644068, 0.1875    , 0.1875    , 0.1875    ,\n",
       "         0.1875    , 0.1875    , 0.1875    , 0.1875    , 0.18823529,\n",
       "         0.18888889, 0.18947368, 0.18954248, 0.19047619, 0.19090909,\n",
       "         0.19101124, 0.19148936, 0.19230769, 0.19230769, 0.19230769,\n",
       "         0.19277108, 0.19298246, 0.19318182, 0.19354839, 0.19402985,\n",
       "         0.19444444, 0.19444444, 0.19444444, 0.19565217, 0.19587629,\n",
       "         0.19607843, 0.19626168, 0.19642857, 0.1965812 , 0.19672131,\n",
       "         0.1969697 , 0.2       , 0.2       , 0.2       , 0.2       ,\n",
       "         0.2       , 0.2       , 0.2       , 0.2       , 0.2       ,\n",
       "         0.2       , 0.2       , 0.2       , 0.20212766, 0.20224719,\n",
       "         0.2027027 , 0.2027027 , 0.20289855, 0.20338983, 0.2039801 ,\n",
       "         0.20408163, 0.20408163, 0.20454545, 0.20481928, 0.20618557,\n",
       "         0.20689655, 0.20689655, 0.20689655, 0.20689655, 0.20689655,\n",
       "         0.208     , 0.20833333, 0.20833333, 0.20833333, 0.20895522,\n",
       "         0.20903955, 0.20930233, 0.20967742, 0.21008403, 0.21052632,\n",
       "         0.21052632, 0.21052632, 0.21212121, 0.21212121, 0.21212121,\n",
       "         0.21276596, 0.21276596, 0.21276596, 0.21311475, 0.21348315,\n",
       "         0.21428571, 0.21428571, 0.21538462, 0.21538462, 0.21551724,\n",
       "         0.21621622, 0.21621622, 0.21621622, 0.2173913 , 0.2173913 ,\n",
       "         0.21794872, 0.21818182, 0.21875   , 0.21875   , 0.21875   ,\n",
       "         0.2195122 , 0.2195122 , 0.2195122 , 0.22      , 0.22033898,\n",
       "         0.22142857, 0.22222222, 0.22222222, 0.22222222, 0.22297297,\n",
       "         0.22413793, 0.2244898 , 0.2244898 , 0.2247191 , 0.225     ,\n",
       "         0.22580645, 0.22580645, 0.22641509, 0.22666667, 0.22689076,\n",
       "         0.22727273, 0.22727273, 0.22727273, 0.22727273, 0.2278481 ,\n",
       "         0.22834646, 0.22857143, 0.22891566, 0.22916667, 0.22972973,\n",
       "         0.22972973, 0.23      , 0.23076923, 0.23076923, 0.23076923,\n",
       "         0.23076923, 0.23076923, 0.23076923, 0.23157895, 0.23255814,\n",
       "         0.23300971, 0.23333333, 0.23333333, 0.23404255, 0.23529412,\n",
       "         0.23529412, 0.23571429, 0.23611111, 0.23611111, 0.23728814,\n",
       "         0.23809524, 0.23809524, 0.23809524, 0.23809524, 0.23853211,\n",
       "         0.23913043, 0.24      , 0.24      , 0.24      , 0.24      ,\n",
       "         0.24074074, 0.24137931, 0.24175824, 0.24242424, 0.24242424,\n",
       "         0.24390244, 0.24409449, 0.24475524, 0.24489796, 0.24590164,\n",
       "         0.24615385, 0.24731183, 0.25      , 0.25      , 0.25      ,\n",
       "         0.25      , 0.25      , 0.25      , 0.25      , 0.25      ,\n",
       "         0.25174825, 0.25510204, 0.25641026, 0.25641026, 0.25663717,\n",
       "         0.25675676, 0.25714286, 0.25714286, 0.25757576, 0.25925926,\n",
       "         0.25974026, 0.26027397, 0.2605042 , 0.26086957, 0.26086957,\n",
       "         0.26229508, 0.26347305, 0.26666667, 0.26785714, 0.26865672,\n",
       "         0.26923077, 0.26923077, 0.26923077, 0.26984127, 0.27272727,\n",
       "         0.27272727, 0.27272727, 0.27272727, 0.27272727, 0.2739726 ,\n",
       "         0.275     , 0.275     , 0.27559055, 0.27559055, 0.27659574,\n",
       "         0.27692308, 0.27777778, 0.27777778, 0.27884615, 0.27906977,\n",
       "         0.27906977, 0.27941176, 0.28      , 0.28030303, 0.28169014,\n",
       "         0.28205128, 0.28205128, 0.28378378, 0.28571429, 0.2866242 ,\n",
       "         0.28888889, 0.28888889, 0.29230769, 0.2962963 , 0.2987013 ,\n",
       "         0.3       , 0.3       , 0.30088496, 0.30434783, 0.30508475,\n",
       "         0.31034483, 0.31428571, 0.31481481, 0.31481481, 0.31578947,\n",
       "         0.31578947, 0.32258065, 0.32394366, 0.32467532, 0.3255814 ,\n",
       "         0.3255814 , 0.32608696, 0.33112583, 0.33333333, 0.33333333,\n",
       "         0.33333333, 0.33333333, 0.33333333, 0.33333333, 0.33333333,\n",
       "         0.33962264, 0.34090909, 0.34146341, 0.34375   , 0.34782609,\n",
       "         0.352     , 0.35365854, 0.35714286, 0.36      , 0.36      ,\n",
       "         0.36363636, 0.36666667, 0.36666667, 0.375     , 0.375     ,\n",
       "         0.38095238, 0.38095238, 0.38461538, 0.38636364, 0.38732394,\n",
       "         0.4       , 0.4057971 , 0.41428571, 0.41666667, 0.41860465,\n",
       "         0.41935484, 0.41935484, 0.42105263, 0.42342342, 0.42857143,\n",
       "         0.44117647, 0.44444444, 0.45454545, 0.48780488, 0.5       ,\n",
       "         0.5       , 0.52380952, 0.55555556, 0.56410256, 0.6       ])),\n",
       " (0.08267890138140016, 0.21317057877830495, 0.9681287851585858))"
      ]
     },
     "execution_count": 8,
     "metadata": {},
     "output_type": "execute_result"
    },
    {
     "data": {
      "image/png": "[encoded data removed]",
      "text/plain": [
       "<Figure size 576x360 with 1 Axes>"
      ]
     },
     "metadata": {},
     "output_type": "display_data"
    }
   ],
   "source": [
    "\n",
    "# 2) ctr сама шкала отношений, значит можно и параметрику \n",
    "#                                                 (НО ЕСЛИ будет подходящее рапсределение и статистика под него!)\n",
    "\n",
    "\n",
    "\n",
    "\n",
    "# 3)   проверка нормальность распределений исх данных, через sample. (хотя у нас выше визуальное представдление)\n",
    "\n",
    "trash_2 = []\n",
    "for i in range(100):\n",
    "    p2 = stats.shapiro(df.query('exp_group ==2').ctr.sample(500, replace =False))[1]\n",
    "    trash_2.append(p2)\n",
    "\n",
    "trash_1 = []\n",
    "for i in range(100):\n",
    "    p1 = stats.shapiro(df.query('exp_group ==1').ctr.sample(500, replace =False))[1]\n",
    "    trash_1.append(p1)\n",
    "    \n",
    "print(f'среднее занчение 2йгруппы p value is {np.mean(trash_2)}')\n",
    "print(f'среднее занчение 1йгруппы p value is {np.mean(trash_1)}')\n",
    "\n",
    "\n",
    "print(f' 95 процентиль полученных занчений p value is {np.quantile(trash_2, 0.95)}')\n",
    "print(f' 95 процентиль полученных занчений p value is {np.quantile(trash_1, 0.95)}')\n",
    "\n",
    "\n",
    "#    ИТОГО\n",
    "# срденее значние и 95 процентиль, обеих групп  - все p МЕНЬШЕ принятой Альфы , \n",
    "# при sample size 500( а мы знаем,  что тут есть зависимость, особенно если выборки НЕ СОВСЕММ РЕПРЕЗЕНТИАТИВНЫ к ГС)\n",
    "\n",
    "#  А ВНАШЕМ СЛУЧАЕ - случайная величина \"X\" из 500 наблюдений СЛЙЧАЙНО взятых из \n",
    "#         указанных выборок распределена   НЕ нормально.\n",
    "#  Но  по практическому наблюдению Толи, все равно можно исопльзовать т тест из за ЦПТ.\n",
    "#  Выборка у нас большая и норм рапсрееление выборочных средних(эксп группы) мы подтвердили в пред работе!\n",
    "        \n",
    "#    ОДНАКО\n",
    "#         1) \n",
    "# я помним, что я собрался Побутсрапить и сделать Бакетное преобразование.  И что я запомнил,\n",
    "# что для Бустрапа, в принчипе смотрим: \n",
    "# - достаточное колличество в выборке\n",
    "# - независимо распределенно случ ввеличины\n",
    "# -  бутстрап-распределение оценщика - это этого будет зависеть тип ДИ\n",
    "\n",
    "#  НО ОГРАНИЧЕНИЙ И ДОПУЩЕНИЙ кроме независимости/зависимосто и размера выборок для Пуассоновского Бустарап\n",
    "# ,даже в английском гугле не нашел\n",
    "\n",
    "# --------------------------------------------------\n",
    "\"\"\"    ПОЖАЛУЙСТА, НАСТАВНИКИ, ПОДСОБИТЕ,СКИНЬТЕ МНЕ МАТЕРИАЛ, С ХОРОШИМ РАЗБОРОМ ,ОГРАНИЧЕНИЯМИ И ДОПУЩЕНИЕМ\n",
    "      ПУАССОНОВСКОГО БУСТРАПА!! БУДУ благодарен! \"\"\"\n",
    "\n",
    "# ответ:\n",
    "# С пуассон-бутстрапом  по допущениям он не должен сильно\n",
    "# отличаться от \"обычного\" бутстрапа. Однако у Валерия Бабушкина был про него вебинар:\n",
    "#     https://www.youtube.com/watch?v=Zki9VMzxcFU \n",
    "# --------------------------------------------------\n",
    "\n",
    "\n",
    "#         2)\n",
    "# ну а для Бакета, я нашел:\n",
    "# - Бакетный метод - позволяет за счет допущения ЦПТ привести данные к нормальному распределению при помощи \n",
    "# подвыборок\n",
    "\n",
    "#  -Важно отметить, что в данном случае среднее и величина отклонения будут иметь такую же величину как и в\n",
    "#     изначальном распределении. В этом ключевое отличие от bootstrap, т.к. при нем сохраниться информация о\n",
    "#     среднем, но отклонение будет меняться.\n",
    "# - Данный метод будет хорошо работать только при кол-ве наблюдений от 10 000(кто то пишет)\n",
    "    \n",
    "    \n",
    "    \n",
    "    \n",
    "# 3.1) qq plot ,посмотрим исходн распределение в группах\n",
    "import pylab \n",
    "import scipy.stats as stats\n",
    "\n",
    "stats.probplot(df.query('exp_group ==2').ctr.sample(500, replace =False), dist=\"norm\", plot=pylab)\n",
    "pylab.show()     \n",
    "\n",
    "stats.probplot(df.query('exp_group ==1').ctr.sample(500, replace =False), dist=\"norm\", plot=pylab)\n",
    "pylab.show()     \n",
    "\n",
    "\n",
    "\n",
    "# ИТОГО на текущих сэмпл сайз подтверждается  ненормаотность рапсределений ИСХОДНЫХ ВЕЛИЧИН групп 1 и2 "
   ]
  },
  {
   "cell_type": "code",
   "execution_count": null,
   "metadata": {},
   "outputs": [],
   "source": []
  },
  {
   "cell_type": "code",
   "execution_count": null,
   "metadata": {},
   "outputs": [],
   "source": []
  },
  {
   "cell_type": "code",
   "execution_count": null,
   "metadata": {},
   "outputs": [],
   "source": []
  },
  {
   "cell_type": "markdown",
   "metadata": {},
   "source": [
    "                                                    ПУАССОНОВСКИЙ БУСТРАП\n",
    "    "
   ]
  },
  {
   "cell_type": "raw",
   "metadata": {},
   "source": [
    "# Хорошо, у нас есть 1)равные выборки, 2)независимые,  3)но по рапсределению меж собой отличаются.\n",
    "\n",
    "# П.С напоминание себе, но не доконца проверенное\n",
    "\n",
    "# По некоторому моему опыту, кажется логичным, елис я делал АА тест на выборках экспр группы Т тестом\n",
    "# , ТО :\n",
    "#     - желательно и аб тест провести им же\n",
    "#     - ведь рассчитаны ДИ\n",
    "#     - есть диапазон НЕ занчимомгых величин ( помни для  MDE)\n",
    "#     - ну и ваще , были выбоораны данные,под данные стат критерий,  проверены допущения и Альфа и бета\n",
    "#     под стат критерий. \n",
    "#     Короче,я бы посомневался,почитал бы и наеврно АА тест делал через допущения и стат критерий\n",
    "#     , что использовал бы в АБ тесте. Таковы мои предварительные мысли.\n",
    "#     Однако здесь, в рамках учебного проекта, для исследования новых возможностей, можно поступить и таким образом\n",
    "#     - АА тест чеерез т тест сделаи и получили, что нам нуно - выборки из одно распредла, верно разбились на группы\n",
    "#     -  ну и все, делаем дальше.\n",
    "\n",
    "--------------------------------------------\n",
    "\"\"\"ПОЖАЛУЙСТА УЧЕТЛЯ ПРОКОММЕНТИРУЙТЕ ЭТО ДЕЛО, в каких ситуация это правда, в каких нет?\"\"\"\n",
    "\n",
    "ответ:\n",
    "1) в целом действительно лучше применять в АА-тесте тот же метод, которым планируете сравнивать сами выборки\n",
    "\n",
    "2) Можно дополнительно для себя попробовать разные методы на диапазоне АА-теста и посмотреть, что получится. Однако замечу, что в АА-тестировании бутстрап будет шуровать долго, так как там сэмплирование внутри сэмплирования, да и размер выборки надо будет взять побольше\n",
    "--------------------------------------------\n",
    "\n",
    "\n",
    "# Применим для налача Пуассоновский Бустрап, ибо текущие условия не накладывает на него ограничения(неточная инфа)\n",
    "\n",
    "#  P.S(товарищи учителя дайте развернутый материал по нему! нужна математика, ограничения и допущения !!!)\n",
    "\n"
   ]
  },
  {
   "cell_type": "code",
   "execution_count": 9,
   "metadata": {},
   "outputs": [
    {
     "data": {
      "text/plain": [
       "<matplotlib.axes._subplots.AxesSubplot at 0x7f9e955ffb38>"
      ]
     },
     "execution_count": 9,
     "metadata": {},
     "output_type": "execute_result"
    },
    {
     "data": {
      "text/plain": [
       "<matplotlib.axes._subplots.AxesSubplot at 0x7f9e955ffb38>"
      ]
     },
     "execution_count": 9,
     "metadata": {},
     "output_type": "execute_result"
    },
    {
     "data": {
      "image/png": "[encoded data removed]",
      "text/plain": [
       "<Figure size 576x360 with 1 Axes>"
      ]
     },
     "metadata": {},
     "output_type": "display_data"
    }
   ],
   "source": [
    "\n",
    "q = \"\"\"\n",
    "    SELECT exp_group,\n",
    "    user_id,\n",
    "    sum(action = 'like') as likes,\n",
    "    sum(action = 'view') as views,\n",
    "    likes/views as ctr\n",
    "    FROM {db}.feed_actions\n",
    "    WHERE toDate(time) >= '2022-12-02' AND toDate(time) <= '2022-12-08'\n",
    "    \n",
    "    AND  exp_group IN (1,2)\n",
    "    GROUP BY exp_group, user_id\n",
    "\"\"\"\n",
    "\n",
    "def bootstrap(likes1, views1, likes2, views2, n_bootstrap=2000):\n",
    "    poisson_bootstraps1 = stats.poisson(1).rvs(\n",
    "    (n_bootstrap, len(likes1))).astype(np.int64)\n",
    "    poisson_bootstraps2 = stats.poisson(1).rvs(\n",
    "    (n_bootstrap, len(likes2))).astype(np.int64)\n",
    "    globalCTR1 = (poisson_bootstraps1*likes1).sum(axis=1)/(poisson_bootstraps1*views1).sum(axis=1)\n",
    "    globalCTR2 = (poisson_bootstraps2*likes2).sum(axis=1)/(poisson_bootstraps2*views2).sum(axis=1)\n",
    "    return globalCTR1, globalCTR2\n",
    "\n",
    "\n",
    "\n",
    "df = pandahouse.read_clickhouse(q, connection=connection)\n",
    "likes1 = df[df.exp_group == 1].likes.to_numpy()\n",
    "views1 = df[df.exp_group == 1].views.to_numpy()\n",
    "likes2 = df[df.exp_group == 2].likes.to_numpy()\n",
    "views2 = df[df.exp_group == 2].views.to_numpy()\n",
    "ctr1, ctr2 = bootstrap(likes1, views1, likes2, views2)\n",
    "sns.histplot(ctr1)\n",
    "sns.histplot(ctr2)\n",
    "\n",
    "\n",
    "# раз визуально примерно норм рапсределнеи, то класически ДИ посчитаем?"
   ]
  },
  {
   "cell_type": "code",
   "execution_count": 10,
   "metadata": {},
   "outputs": [
    {
     "data": {
      "text/plain": [
       "<matplotlib.axes._subplots.AxesSubplot at 0x7f9e954026d8>"
      ]
     },
     "execution_count": 10,
     "metadata": {},
     "output_type": "execute_result"
    },
    {
     "name": "stdout",
     "output_type": "stream",
     "text": [
      "0.20804210467600398\n",
      "0.19806244252678704\n"
     ]
    },
    {
     "data": {
      "image/png": "[encoded data removed]",
      "text/plain": [
       "<Figure size 576x360 with 1 Axes>"
      ]
     },
     "metadata": {},
     "output_type": "display_data"
    }
   ],
   "source": [
    "#Разница между глобальными CTR\n",
    "sns.histplot(ctr1 - ctr2)\n",
    "print(ctr1.mean())\n",
    "print(ctr2.mean())"
   ]
  },
  {
   "cell_type": "raw",
   "metadata": {},
   "source": [
    "     ИТОГО\n",
    "\n",
    " на графике видно сильно очевидную разницу между CTR значениями 2х групп. Визуально рапсредления даже не пересе\n",
    " каются. Где какой цвет нужна легенжа, что бы понят ьчей CTR менее  \n",
    "\"\"\"!!!!\"\"\"\n",
    " ДИ НЕ ПОСЧИТАНЫ!*** (нужно ли?  по визуалке  вроде достаточно -  НО НАДО ПОСЧИТАТЬ)\n",
    "\n",
    "\n",
    "  Распределение разницы CTR не затранивает 0, что подает мысль о значимости наблюдаемы различий в значениях CTR"
   ]
  },
  {
   "cell_type": "code",
   "execution_count": null,
   "metadata": {},
   "outputs": [],
   "source": []
  },
  {
   "cell_type": "markdown",
   "metadata": {},
   "source": [
    "                                                        БАКЕТНОЕ ПРЕОБРАЗОВАНИЕ\n",
    "    "
   ]
  },
  {
   "cell_type": "raw",
   "metadata": {},
   "source": [
    "2й  метод для проверки, выборанный мной, Бакетное преобразование.\n",
    "\n",
    "Мысли:\n",
    "...Лектор нас ппредупреждает о неоднозначности использования  0.9 перцентиля в Т тесте, но сам использует, хитрец   \n",
    "Видимо это связанно с .... (не нашел достаточного объяснения)\n",
    "\n",
    "...Я полагаю, что при использовании 75-го процентиля мощность будет беднее, чем при использовании средней. \n",
    "https://stats.stackexchange.com/questions/469201/can-the-t-test-be-used-to-test-the-difference-between-percentiles-of-2-samples"
   ]
  },
  {
   "cell_type": "code",
   "execution_count": 11,
   "metadata": {},
   "outputs": [
    {
     "data": {
      "text/plain": [
       "<matplotlib.axes._subplots.AxesSubplot at 0x7f9e9534eb70>"
      ]
     },
     "execution_count": 11,
     "metadata": {},
     "output_type": "execute_result"
    },
    {
     "data": {
      "text/plain": [
       "<matplotlib.axes._subplots.AxesSubplot at 0x7f9e9534eb70>"
      ]
     },
     "execution_count": 11,
     "metadata": {},
     "output_type": "execute_result"
    },
    {
     "data": {
      "text/plain": [
       "(50,)"
      ]
     },
     "execution_count": 11,
     "metadata": {},
     "output_type": "execute_result"
    },
    {
     "data": {
      "text/plain": [
       "ShapiroResult(statistic=0.9675326347351074, pvalue=0.18335764110088348)"
      ]
     },
     "execution_count": 11,
     "metadata": {},
     "output_type": "execute_result"
    },
    {
     "data": {
      "text/plain": [
       "ShapiroResult(statistic=0.9939786791801453, pvalue=0.9964348673820496)"
      ]
     },
     "execution_count": 11,
     "metadata": {},
     "output_type": "execute_result"
    },
    {
     "data": {
      "text/plain": [
       "LeveneResult(statistic=16.927806299825324, pvalue=8.092371176110059e-05)"
      ]
     },
     "execution_count": 11,
     "metadata": {},
     "output_type": "execute_result"
    },
    {
     "data": {
      "image/png": "[encoded data removed]",
      "text/plain": [
       "<Figure size 576x360 with 1 Axes>"
      ]
     },
     "metadata": {},
     "output_type": "display_data"
    }
   ],
   "source": [
    "#  я не совсем понял, и поэтому вместо метрики \"подовляющего\" охвата значений(0,9 перцент)  CTR, исопльвал среднее\n",
    "\n",
    "q = \"\"\"\n",
    "    SELECT exp_group, bucket,\n",
    "    sum(likes)/sum(views) as bucket_ctr,\n",
    "    avg(ctr) as mean_ctr_after_bucket\n",
    "        FROM\n",
    "    (SELECT exp_group,\n",
    "    xxHash64(user_id)%50 as bucket,\n",
    "    user_id,\n",
    "    sum(action = 'like') as likes,\n",
    "    sum(action = 'view') as views,\n",
    "    likes/views as ctr\n",
    "    FROM {db}.feed_actions\n",
    "    WHERE toDate(time) >= '2022-12-02' AND toDate(time) <= '2022-12-08'\n",
    "    and exp_group in (1,2)\n",
    "    GROUP BY exp_group, bucket, user_id)\n",
    "        GROUP BY exp_group, bucket\n",
    "\"\"\"\n",
    "\n",
    "df = pandahouse.read_clickhouse(q, connection=connection)\n",
    "\n",
    "\n",
    "sns.histplot(df[df.exp_group == 2].bucket_ctr)\n",
    "sns.histplot(df[df.exp_group == 1].bucket_ctr)\n",
    "#    не очень то группа 2 похожа на, нормальное но приближена к нему.\n",
    "\n",
    "\n",
    "df[df.exp_group == 2].bucket_ctr.shape\n",
    "#    всего 50 значений в выборках\n",
    "\n",
    "stats.shapiro(df[df.exp_group == 2].bucket_ctr)\n",
    "stats.shapiro(df[df.exp_group == 1].bucket_ctr)\n",
    "\n",
    "\n",
    "\n",
    "#         ИТОГО, после бакетирования\n",
    "#         1)\n",
    "# Однако Господа, с натяжкой, оба dist оказались нормальными, чего я не ожидал. Ладно тогда можно\n",
    "# и т тест, но ведь остается требование на гомогенность, для коррекности?\n",
    "\n",
    "stats.levene(df.query('exp_group ==2').bucket_ctr, df.query('exp_group ==1').bucket_ctr)\n",
    "# Н0-я гиптеза дядюшки Левена гласит об отсуствии отличий, но  здесь видим значимость p value\n",
    "#   - посему, немогу продолжать, спорные моменты ( пока не подскажут причин + у меня много работы)\n",
    "\n",
    "\n",
    "#         2)\n",
    "# Для оценивания процентиля CTR ( из того что знаю) использовал бы бустап - но уже использован ранее:).\n",
    "\n",
    "# здесь я решил оценить срендее по группам:\n",
    "#         А) t test не прошел гомогенность, можно ли просто при расчете ставить UNEQUAL VARIANCE,\n",
    "#         или нужно цчитывать что  то еще, на тек момент не знаю\n",
    "\n",
    "#         Б) Тогда Значит Манн - Уитни ( помня,что он менее мощен )и Н0 гипотеза оценвае ранги.\n",
    "\n",
    "\n",
    "\n",
    "\n",
    "#     ДЛЯ СЕБЯ (Манна-Уитни)\n",
    "# Условия применения:\n",
    "\n",
    "#     Сравниваемые значения не составляют пару коррелирующих  значений\n",
    "#     Распределение признаков в каждой выборке может не соответствовать нормальному распределению\n",
    "\n",
    "# U-критерий Манна-Уитни – это непараметрический статистический\n",
    "# критерий, использующийся для сравнения выраженности показателей в двух  несвязных выборках\n",
    "# Измеренные признаки располагаются на этой шкале в порядке\n",
    "# возрастания, а затем нумеруются целыми числами. Эти числа и называются\n",
    "# рангами. Значение имеет не сама величина признака, а лишь порядковое место,\n",
    "# который она занимает среди других величин. \n",
    "#     Мерой отличия является число Т-  сумма рангов для каждой из групп. Этот метод определяет, достаточно ли мала\n",
    "# зона перекрещивающихся значений между двумя рядами (ранжированным\n",
    "# рядом значений параметра в первой выборке и таким же во второй выборке).\n",
    "# Чем меньше значение критерия, тем вероятнее, что различия между значениями\n",
    "# параметра в выборках достоверны.\n",
    "\n",
    "# https://kpfu.ru/portal/docs/F991441113/NPS_22.U_Mann_Uitni.Frolova.pdf\n",
    "# https://dspace.tltsu.ru/bitstream/123456789/3403/1/AhmetzhanovaGV-1-69-16-Z.pdf#%5B%7B%22num%22%3A150%2C%22gen%22%3A0%7D%2C%7B%22name%22%3A%22FitR%22%7D%2C-139%2C11%2C558%2C595%5D"
   ]
  },
  {
   "cell_type": "code",
   "execution_count": 12,
   "metadata": {},
   "outputs": [],
   "source": [
    "#  считаю манн - уитни, помня, что это знаечения ПОСЛЕ бакета и учитывая специфику  метода внутри критерия Манн - Уитни"
   ]
  },
  {
   "cell_type": "code",
   "execution_count": 13,
   "metadata": {
    "scrolled": true
   },
   "outputs": [
    {
     "data": {
      "text/plain": [
       "MannwhitneyuResult(statistic=1995.0, pvalue=2.859963936492646e-07)"
      ]
     },
     "execution_count": 13,
     "metadata": {},
     "output_type": "execute_result"
    }
   ],
   "source": [
    "stats.mannwhitneyu(df[df.exp_group == 1].bucket_ctr,\n",
    "df[df.exp_group == 2].bucket_ctr, alternative = 'two-sided')\n",
    "\n",
    "\n",
    "\n",
    "\n",
    "\n"
   ]
  },
  {
   "cell_type": "code",
   "execution_count": 14,
   "metadata": {},
   "outputs": [],
   "source": [
    "\n",
    "\n",
    "\n",
    "\n",
    "\n",
    "\n",
    "#  3) Опишите потенциальную ситуацию, когда такое изменение могло произойти. Тут нет идеального ответа, подумайте.\n",
    "    \n",
    "#  4) Напишите рекомендацию, будем ли мы раскатывать новый алгоритм на всех новых пользователей или все-таки не стоит.\n",
    "\n",
    "# Ваше решение — это ссылка на merge request с проведенным анализом.\n"
   ]
  },
  {
   "cell_type": "raw",
   "metadata": {},
   "source": [
    "\n",
    "#      ВЫВОД:\n",
    "\n",
    "\n",
    "1) После валидации разбивки данных АА тестом, и проведения текущего АБ теста, 2 методами, получили знаечния\n",
    " ctr контрольной 0.20804354422580054   ,тестовой 0.19806077705392516. Эти знаечния были получены и при пуасс\n",
    "бустрапе и при Бакетном преобразовании и расчетом среднего! ctr по бакетам прям в sql запросе .\n",
    "(Для любопытных этот блок ниже).\n",
    "\n",
    "\n",
    "2) Так же можно увить на графике рапсределения Разницс ctr бустрапа - распредления не пересекаются с 0, и тест\n",
    "Манн Уитни, так же дал заключения о значимости различий.\n",
    "\n",
    "\n",
    "3) исходные рапсределения теста и контроля не похожи и  у тест есть Бимодельность\n",
    "\n",
    "\n",
    "4) можно предположить что моды связанны с не равномерной реакцией пользователей тестовой группы на новую фичу.\n",
    "При подтвержденной ранее значимости, стр тестовой группы все таки хуже и не дал жлаемого эффекта целевому показателю - \n",
    "той мере тенденции, при взятых выборках, и при использованном алгоритме. \n",
    "\n",
    "\n",
    "5) не смотря на то,что правая мода тестовой группы на графике рапсределения , имеет \"среднее\" значение более\n",
    "высокое и часть пользователей показала  более выскоий ctr, я не уверен, что будь это рапседелние одномодальным\n",
    " - среняя его мера ЗНАЧИМО БЫ отличалась от контроля!! :\n",
    "        1) ЭФФЕКТ mde который почему то мы не рассчитывали, мог нам бы подсказат, были хотя быприближение\n",
    "        к МИНИМАЛЬНОМУ желаемому увеличению\n",
    "        \n",
    "        2) я все таки потрудился и рассчтал в работее АА теста(ты читатель, можешь заглянуть туда)\n",
    "        и получил что ДИ колебаний контрольной группы нижн ДИ 0.21856009324687514, верхн ДИ0.21858588295082187\n",
    "         и значения правой моды могут попадать в этот интервал, а посему была бы !!вероятность!! не занчимости\n",
    "            этого предпологаемого среднего правой моды тестовой группы\n",
    "        \n",
    "6) Думаю не выкатываем этот алгоритм, ищем другой или ищем более точную часть пользовалетей на предмет\n",
    "сегментированного положительного эффекта от алго\n",
    "\n"
   ]
  },
  {
   "cell_type": "code",
   "execution_count": null,
   "metadata": {},
   "outputs": [],
   "source": []
  },
  {
   "cell_type": "code",
   "execution_count": null,
   "metadata": {},
   "outputs": [],
   "source": []
  },
  {
   "cell_type": "code",
   "execution_count": null,
   "metadata": {},
   "outputs": [],
   "source": []
  },
  {
   "cell_type": "code",
   "execution_count": null,
   "metadata": {},
   "outputs": [],
   "source": [
    "\n",
    "\n",
    "\n",
    "\n",
    "\n",
    "\n",
    "\n",
    "\n",
    "\n",
    "\n"
   ]
  },
  {
   "cell_type": "raw",
   "metadata": {},
   "source": [
    "   БЛОК ДОПОЛНИТЕЛЬНОГО ИНТЕРЕСА"
   ]
  },
  {
   "cell_type": "markdown",
   "metadata": {},
   "source": [
    "               ====================================================================================="
   ]
  },
  {
   "cell_type": "markdown",
   "metadata": {},
   "source": [
    "                            ОТДЕЛЬНО: РИТОРИЧЕСКИй ВОПРОС - ПОЧЕМУ РАЗЛИЧАЮТСЯ mean ЗАНЧЕНИЯ МЕТРИК\n",
    "                                                ПРИ ИСПОЛЬЗОВАНИИ 2Х указанных метод оценки CTR"
   ]
  },
  {
   "cell_type": "code",
   "execution_count": 15,
   "metadata": {},
   "outputs": [
    {
     "data": {
      "text/plain": [
       "bucket_ctr    10.406085\n",
       "dtype: float64"
      ]
     },
     "execution_count": 15,
     "metadata": {},
     "output_type": "execute_result"
    },
    {
     "data": {
      "text/plain": [
       "mean_ctr_after_bucket    10.782755\n",
       "dtype: float64"
      ]
     },
     "execution_count": 15,
     "metadata": {},
     "output_type": "execute_result"
    },
    {
     "data": {
      "text/plain": [
       "bucket_ctr    9.912972\n",
       "dtype: float64"
      ]
     },
     "execution_count": 15,
     "metadata": {},
     "output_type": "execute_result"
    },
    {
     "data": {
      "text/plain": [
       "mean_ctr_after_bucket    10.72074\n",
       "dtype: float64"
      ]
     },
     "execution_count": 15,
     "metadata": {},
     "output_type": "execute_result"
    },
    {
     "data": {
      "text/plain": [
       "'  НУЖНА ПОМОЩЬ, НАСТАВНИКИ - объясните, где я заблужился или на что нужно посмотреть?\\n    Хэш как то по другому считает юзеров?'"
      ]
     },
     "execution_count": 15,
     "metadata": {},
     "output_type": "execute_result"
    }
   ],
   "source": [
    "                                                \n",
    "\n",
    "# не сразу понятно, но считая вместо процентиля , \n",
    "#     А) средний ctr  группированых по бакету/юзерам, метод avg(сtr) \n",
    "#     Б) и суммарые(likes/views) в бакетных группах после хеширования\n",
    "\n",
    "# получаю разные значения,хотя мне не каалось,что так должно быть !\n",
    "\n",
    "\n",
    "#           РАЗДУМЬЯ: \n",
    "# - или кто то тут не учитывает NAn /нулевые знаечния в сложении\n",
    "#                 и при подсчете значменателя получается меньшее число(подсчет срденего)\n",
    "\n",
    "# - или какая то другая математика,не замеченная мной,как обычно, используется\n",
    "\n",
    "\n",
    "\n",
    "\n",
    "#         для наглядности\n",
    "\n",
    "# SELECT exp_group, bucket,         ****bucket_ctr\n",
    "#     sum(likes)/sum(views) as bucket_ctr,\n",
    "#     avg(ctr) as mean_ctr_after_bucket\n",
    "        \n",
    "        \n",
    "#         FROM\n",
    "#     (SELECT exp_group,\n",
    "#             xxHash64(user_id)%50 as bucket,                 ***mean_ctr_after_bucket\n",
    "#                                                 user_id,\n",
    "#                                                 sum(action = 'like') as likes,\n",
    "#                                                 sum(action = 'view') as views,\n",
    "#                                                 likes/views as ctr\n",
    "#     FROM {db}.feed_actions\n",
    "#     WHERE toDate(time) >= '2022-12-02' AND toDate(time) <= '2022-12-08'\n",
    "#     and exp_group in (1,2)\n",
    "#                                                 GROUP BY exp_group, bucket, user_id)\n",
    "#         GROUP BY exp_group, bucket    \n",
    "    \n",
    "    \n",
    "    \n",
    "    \n",
    "#         ПРОМЕЖУТОЧНЫЕ НАБЛЮДЕНИЯ:\n",
    "\n",
    "#         1)\n",
    "# да даже users находятся теже вгруппах(для обоих ctr),как я понял, ибо  xxHash64(user_id)%50 as bucket \n",
    "#         считается в первом подзапросе через группировку  GROUP BY exp_group, bucket, user_id\n",
    "            \n",
    "#           2) \n",
    "# если проверить , сумму средних по группам и бакетам, то че они не сходятся - метод бакетирования влияет?\n",
    "# но было сказано, что  метод созраняет и среднюю и диспресию  - Я НЕ РАЗОБРАЛСЯ И РУКАМИ НЕ ПРОВЕРЯЛ\n",
    "#                                                                     , НЕ ПОНИМАНИЮ ПРИНЦИПА ЭТОГО УТВРЕЖДЕНИЯ\n",
    "\n",
    "df.query('exp_group ==1').agg({'bucket_ctr': 'sum'})\n",
    "df.query('exp_group ==1').agg({'mean_ctr_after_bucket': 'sum'})\n",
    "\n",
    "df.query('exp_group ==2').agg({'bucket_ctr': 'sum'})\n",
    "df.query('exp_group ==2').agg({'mean_ctr_after_bucket': 'sum'})\n",
    "\n",
    "\n",
    "\n",
    "# -----------------------------------------------\n",
    "\"\"\"  НУЖНА ПОМОЩЬ, НАСТАВНИКИ - объясните, где я заблужился или на что нужно посмотреть?\n",
    "    Хэш как то по другому считает юзеров?\"\"\"\n",
    "\n",
    "\n",
    "#  Про бакетное преобразование и обоснования его применения лучше читать блог специалистов из Netflix,\n",
    "#     они главные популяризаторы метода:\n",
    "#         https://netflixtechblog.com/data-compression-for-large-scale-streaming-experimentation-c20bfab8b9ce»\n",
    "\n",
    "# ---------------------------------------------\n"
   ]
  },
  {
   "cell_type": "code",
   "execution_count": 16,
   "metadata": {},
   "outputs": [
    {
     "data": {
      "text/plain": [
       "bucket_ctr    0.20824\n",
       "dtype: float64"
      ]
     },
     "execution_count": 16,
     "metadata": {},
     "output_type": "execute_result"
    },
    {
     "data": {
      "text/plain": [
       "mean_ctr_after_bucket    0.215821\n",
       "dtype: float64"
      ]
     },
     "execution_count": 16,
     "metadata": {},
     "output_type": "execute_result"
    },
    {
     "data": {
      "text/plain": [
       "bucket_ctr    0.19844\n",
       "dtype: float64"
      ]
     },
     "execution_count": 16,
     "metadata": {},
     "output_type": "execute_result"
    },
    {
     "data": {
      "text/plain": [
       "mean_ctr_after_bucket    0.214366\n",
       "dtype: float64"
      ]
     },
     "execution_count": 16,
     "metadata": {},
     "output_type": "execute_result"
    }
   ],
   "source": [
    "#   думаем/читаем дальше....вот что пишут наши коллеги AvitO(из лекции ссылка)\n",
    "# Чем больше бакетов, тем меньше информации теряется, и тем меньше ошибка в равенстве. В Авито мы берем B = 200.\n",
    "\n",
    "\n",
    "# берем 200 вместо 50\n",
    "q = \"\"\"\n",
    "    SELECT exp_group, bucket,\n",
    "    sum(likes)/sum(views) as bucket_ctr,\n",
    "    avg(ctr) as mean_ctr_after_bucket\n",
    "        FROM\n",
    "    (SELECT exp_group,\n",
    "    xxHash64(user_id)%200 as bucket,\n",
    "    user_id,\n",
    "    sum(action = 'like') as likes,\n",
    "    sum(action = 'view') as views,\n",
    "    likes/views as ctr\n",
    "    FROM {db}.feed_actions\n",
    "    WHERE toDate(time) >= '2022-12-02' AND toDate(time) <= '2022-12-08'\n",
    "    and exp_group in (1,2)\n",
    "    GROUP BY exp_group, bucket, user_id)\n",
    "        GROUP BY exp_group, bucket\n",
    "\"\"\"\n",
    "\n",
    "df = pandahouse.read_clickhouse(q, connection=connection)\n",
    "\n",
    "\n",
    "df.query('exp_group ==1').agg({'bucket_ctr': 'mean'})\n",
    "df.query('exp_group ==1').agg({'mean_ctr_after_bucket': 'mean'})\n",
    "\n",
    "df.query('exp_group ==2').agg({'bucket_ctr': 'mean'})\n",
    "df.query('exp_group ==2').agg({'mean_ctr_after_bucket': 'mean'})\n",
    "\n",
    "\n",
    "\n",
    "#           ИТОГО\n",
    "# 1)  не помогло между собой сровнять....(mean_ctr_after_bucket, bucket_ctr)\n",
    "\n",
    "# 2) однако  !!!знаечния bucket _ctr почти совпадают с знаечниями Пуассоновсокго бустрапа!\n",
    "#     вот:\n",
    "#    значения Пуассон Бустрапа\n",
    "#     0.20803304130529449   1гр\n",
    "#     0.19803582592148755   2гр\n",
    "\n",
    "#    Значения Бакетного, считаем по средней\n",
    "#     0.20824                гр1\n",
    "#     0.19844                гр2"
   ]
  },
  {
   "cell_type": "code",
   "execution_count": 17,
   "metadata": {},
   "outputs": [
    {
     "data": {
      "text/plain": [
       "ShapiroResult(statistic=0.9893324971199036, pvalue=0.1425204873085022)"
      ]
     },
     "execution_count": 17,
     "metadata": {},
     "output_type": "execute_result"
    },
    {
     "data": {
      "text/plain": [
       "ShapiroResult(statistic=0.9850203990936279, pvalue=0.03214406222105026)"
      ]
     },
     "execution_count": 17,
     "metadata": {},
     "output_type": "execute_result"
    }
   ],
   "source": [
    "#   думаем/читаем дальше....вот что пишут наши коллеги AvitO(из лекции ссылка)\n",
    "\n",
    "\n",
    "#  6. Hist. Тест Шапиро-Уилка на нормальность «бакетного» распределения. !!!\n",
    "\n",
    "# Если индикатор красный, то, возможно, в выборке есть выбросы или аномально длинный хвост.\n",
    "# В таком случае принимать результат по этой метрике нужно осторожно, либо не принимать вовсе.\n",
    "# Клик на индикатор открывает гистограммы метрики по группам. По гистограмме однозначно видны аномалии — \n",
    "# так проще делать выводы.\n",
    "\n",
    "\n",
    "stats.shapiro(df.query('exp_group == 1').mean_ctr_after_bucket)\n",
    "stats.shapiro(df.query('exp_group == 2').mean_ctr_after_bucket)\n",
    "\n",
    "\n",
    "\n",
    "    \n",
    "#кароч, что тут вижу, если контрольная группа, где то близко к Нормальному, то тестовая в отрыве\n",
    "#  даже, после бакетного рапсредления, сулившего мне чудеса.\n",
    "\n",
    "#       ИТОГО\n",
    "\n",
    "#         1)\n",
    "# вероятно из за не соблюдения НОрмальности, нельзя и среднюю посчитат с уклоном на ПЦТ...\n",
    "\n",
    "# Я стремлюсь к пониманию принципов и исследованию, что каждый раз и демонстрирую, хотя дается все это\n",
    "# гораздо одльше,чем просто шляпать т тесты.   Прошу понять и простить."
   ]
  },
  {
   "cell_type": "code",
   "execution_count": 18,
   "metadata": {},
   "outputs": [
    {
     "data": {
      "text/plain": [
       "ShapiroResult(statistic=0.9960141181945801, pvalue=0.8841536045074463)"
      ]
     },
     "execution_count": 18,
     "metadata": {},
     "output_type": "execute_result"
    },
    {
     "data": {
      "text/plain": [
       "ShapiroResult(statistic=0.9929280281066895, pvalue=0.4509495198726654)"
      ]
     },
     "execution_count": 18,
     "metadata": {},
     "output_type": "execute_result"
    }
   ],
   "source": [
    "#         2)\n",
    "#             КАК ВСЕГДА - САМОЕ ИНТЕРЕСНОЕ!\n",
    "\n",
    "# проверяю еще раз тестом\n",
    "stats.shapiro(df.query('exp_group == 1').bucket_ctr)\n",
    "stats.shapiro(df.query('exp_group == 2').bucket_ctr)\n",
    "\n",
    "\n",
    "# вижу что все ок."
   ]
  },
  {
   "cell_type": "code",
   "execution_count": 19,
   "metadata": {},
   "outputs": [
    {
     "name": "stderr",
     "output_type": "stream",
     "text": [
      "/opt/tljh/user/lib/python3.7/site-packages/seaborn/distributions.py:2557: FutureWarning: `distplot` is a deprecated function and will be removed in a future version. Please adapt your code to use either `displot` (a figure-level function with similar flexibility) or `histplot` (an axes-level function for histograms).\n",
      "  warnings.warn(msg, FutureWarning)\n"
     ]
    },
    {
     "data": {
      "text/plain": [
       "<matplotlib.axes._subplots.AxesSubplot at 0x7f9e952e2400>"
      ]
     },
     "execution_count": 19,
     "metadata": {},
     "output_type": "execute_result"
    },
    {
     "name": "stderr",
     "output_type": "stream",
     "text": [
      "/opt/tljh/user/lib/python3.7/site-packages/seaborn/distributions.py:2557: FutureWarning: `distplot` is a deprecated function and will be removed in a future version. Please adapt your code to use either `displot` (a figure-level function with similar flexibility) or `histplot` (an axes-level function for histograms).\n",
      "  warnings.warn(msg, FutureWarning)\n"
     ]
    },
    {
     "data": {
      "text/plain": [
       "<matplotlib.axes._subplots.AxesSubplot at 0x7f9e952e2400>"
      ]
     },
     "execution_count": 19,
     "metadata": {},
     "output_type": "execute_result"
    },
    {
     "data": {
      "image/png": "[encoded data removed]",
      "text/plain": [
       "<Figure size 576x360 with 1 Axes>"
      ]
     },
     "metadata": {},
     "output_type": "display_data"
    }
   ],
   "source": [
    "\n",
    "\n",
    "#                    ИТОГО\n",
    "\n",
    "#     ВЫВОД 1\n",
    "# как всегда, я решаю все задачи в несколько подходов и несоклько дней, ибо у меня регулярно пристуствует \n",
    "# невнимательность, по разным причинам.\n",
    "\n",
    "#     ВЫВОД 2\n",
    "# В предыдущем блок, я проверил не то рапсределение ))))  - не  ОТ Бакетного преобразования.\n",
    "# Здесь рапсределение нормальное и можно принимать более опраданные решения на основании полученных результатов\n",
    "\n",
    "#     ВЫВОД 3\n",
    "# Исследоватьская жизнь, когда ты не внимателен - она такая,вечно сыпется на самом простом.\n",
    "\n",
    "sns.distplot(df.query('exp_group == 1').bucket_ctr)\n",
    "sns.distplot(df.query('exp_group == 2').bucket_ctr)\n"
   ]
  },
  {
   "cell_type": "markdown",
   "metadata": {},
   "source": [
    "               ====================================================================================="
   ]
  }
 ],
 "metadata": {
  "kernelspec": {
   "display_name": "Python 3",
   "language": "python",
   "name": "python3"
  },
  "language_info": {
   "codemirror_mode": {
    "name": "ipython",
    "version": 3
   },
   "file_extension": ".py",
   "mimetype": "text/x-python",
   "name": "python",
   "nbconvert_exporter": "python",
   "pygments_lexer": "ipython3",
   "version": "3.7.3"
  }
 },
 "nbformat": 4,
 "nbformat_minor": 4
}

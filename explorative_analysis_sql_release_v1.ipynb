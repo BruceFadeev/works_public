{
 "cells": [
  {
   "cell_type": "code",
   "execution_count": null,
   "id": "db25be6e",
   "metadata": {},
   "outputs": [],
   "source": []
  },
  {
   "cell_type": "code",
   "execution_count": null,
   "id": "3b06c750",
   "metadata": {},
   "outputs": [],
   "source": []
  },
  {
   "cell_type": "raw",
   "id": "138acf3d",
   "metadata": {},
   "source": [
    "Напуственное слово.\n",
    "\n",
    "\n",
    "Привет дорогой друг! \n",
    "\n",
    "1) эта работа касается исследовательско - разведочного анализа, сведения о бизнесе или датасете отсуствовали,\n",
    "   поэтому если некоторые расчеты показались излишними, то  проводились они для дополнительного понимания.\n",
    "\n",
    "2) некоторое время меня смущал объем работы и даже удалил часть блоков,которые расчитывал, но все же это\n",
    "eexplorative snslysis. А посему, мы смотрим на свойства данных и перевичные агрегации.\n",
    "Ищем чего-где не хватает, сводим удобные для интрепретации значения, отображаем свойста, что бы уже затем,\n",
    "предполагая гипотезу и дизайн , вступить в дальнейшую работу с найденными ограничения/особенностями данных.\n"
   ]
  },
  {
   "cell_type": "raw",
   "id": "e4848365",
   "metadata": {},
   "source": [
    "                                                    \n",
    "    \n",
    "                                            ОГЛАВЛЕНИЕ\n",
    "\n",
    "Напутственное слово\n",
    "\n",
    "Взгляд на Фрейм\n",
    "    Смотрю пропущенные знаения\n",
    "    смотрю  характеристики количественных значений присущим Nan CustomerID \n",
    "    Смотрю InvoiceNo StockCode CustomerID\n",
    "\n",
    "Смотрю страны\n",
    "\n",
    "Смотрю UnitPrice\n",
    "\n",
    "Смотрю колличество\n",
    "\n",
    "Смотрю выручку\n",
    "    распределение вы ручки ПО НЕДЕЛЯМ ЗА ГОД\n",
    "    распределение выручки ПО ДНЯМ ЗА ГОД\n",
    "    распределение выручки ПО КВАРТАЛАМ\n",
    "Блок дополнительного интереса 1\n",
    "    расределение выручки и  ПО ДНЯМ И ПО КВАРТАЛАМ\n",
    "    Неожиданная Находка\n",
    "Блок дополнительного интереса 2\n",
    "\n",
    "Короткие произольный Дашборд в заключение.\n",
    "\n",
    "Выводы\n",
    "\n"
   ]
  },
  {
   "cell_type": "code",
   "execution_count": null,
   "id": "bbfa20d6",
   "metadata": {},
   "outputs": [],
   "source": []
  },
  {
   "cell_type": "code",
   "execution_count": null,
   "id": "cce5fdd1",
   "metadata": {},
   "outputs": [],
   "source": []
  },
  {
   "cell_type": "code",
   "execution_count": 2,
   "id": "c9270dc8",
   "metadata": {},
   "outputs": [],
   "source": [
    "\n",
    "import sys\n",
    "# insert at 1, 0 is the script path (or '' in REPL)\n",
    "sys.path.insert(1, '/usr/local/lib/python3.9/site-packages')\n",
    "\n",
    "import pandas as pd\n"
   ]
  },
  {
   "cell_type": "code",
   "execution_count": 3,
   "id": "c480c9f1",
   "metadata": {},
   "outputs": [],
   "source": [
    "import pandas as pd\n",
    "import scipy.stats as stats\n",
    "\n",
    "import seaborn as sns\n",
    "from numpy.random import seed\n",
    "from numpy.random import randn\n",
    "from numpy import mean\n",
    "from numpy import std\n",
    "\n",
    "import matplotlib.pyplot as plt\n",
    "\n",
    "%matplotlib inline \n"
   ]
  },
  {
   "cell_type": "code",
   "execution_count": 4,
   "id": "746b3af4",
   "metadata": {},
   "outputs": [],
   "source": [
    "from IPython.core.interactiveshell import InteractiveShell\n",
    "InteractiveShell.ast_node_interactivity = \"all\""
   ]
  },
  {
   "cell_type": "code",
   "execution_count": 5,
   "id": "3baf85c4",
   "metadata": {},
   "outputs": [],
   "source": [
    "sns.set(rc={'figure.figsize':(8,4)}, style = \"whitegrid\")\n"
   ]
  },
  {
   "cell_type": "code",
   "execution_count": 6,
   "id": "53b1e101",
   "metadata": {},
   "outputs": [],
   "source": [
    "# !pip3 install pandasql"
   ]
  },
  {
   "cell_type": "code",
   "execution_count": 7,
   "id": "f4dd0e8d",
   "metadata": {},
   "outputs": [],
   "source": [
    "# !pip3.9 install -U pandasql"
   ]
  },
  {
   "cell_type": "code",
   "execution_count": 8,
   "id": "616be1c5",
   "metadata": {},
   "outputs": [],
   "source": [
    "# import pandasql\n",
    "import pandasql as ps\n",
    "from pandasql import sqldf\n",
    "# pysqldf = lambda q: sqldf(q, globals())"
   ]
  },
  {
   "cell_type": "code",
   "execution_count": null,
   "id": "5e6b2e1d",
   "metadata": {},
   "outputs": [],
   "source": []
  },
  {
   "cell_type": "code",
   "execution_count": null,
   "id": "1ed5e56a",
   "metadata": {},
   "outputs": [],
   "source": []
  },
  {
   "cell_type": "markdown",
   "id": "cbe9d331",
   "metadata": {},
   "source": [
    "                                                                        ВЗГЛЯД НА ФРЕЙМ\n",
    "                                                                        \n",
    "                                                                        "
   ]
  },
  {
   "cell_type": "code",
   "execution_count": 9,
   "id": "53b5f964",
   "metadata": {},
   "outputs": [
    {
     "data": {
      "text/plain": [
       "(541909, 8)"
      ]
     },
     "execution_count": 9,
     "metadata": {},
     "output_type": "execute_result"
    }
   ],
   "source": [
    "df_ecommerce = pd.read_csv('/Users/bruce/Documents/folder_for_analitics/e-commerce-sales-forecast.csv', encoding=\"ISO-8859-1\")\n",
    "df_ecommerce.shape"
   ]
  },
  {
   "cell_type": "code",
   "execution_count": 10,
   "id": "ac80c469",
   "metadata": {},
   "outputs": [
    {
     "data": {
      "text/html": [
       "<div>\n",
       "<style scoped>\n",
       "    .dataframe tbody tr th:only-of-type {\n",
       "        vertical-align: middle;\n",
       "    }\n",
       "\n",
       "    .dataframe tbody tr th {\n",
       "        vertical-align: top;\n",
       "    }\n",
       "\n",
       "    .dataframe thead th {\n",
       "        text-align: right;\n",
       "    }\n",
       "</style>\n",
       "<table border=\"1\" class=\"dataframe\">\n",
       "  <thead>\n",
       "    <tr style=\"text-align: right;\">\n",
       "      <th></th>\n",
       "      <th>InvoiceNo</th>\n",
       "      <th>StockCode</th>\n",
       "      <th>Description</th>\n",
       "      <th>Quantity</th>\n",
       "      <th>InvoiceDate</th>\n",
       "      <th>UnitPrice</th>\n",
       "      <th>CustomerID</th>\n",
       "      <th>Country</th>\n",
       "    </tr>\n",
       "  </thead>\n",
       "  <tbody>\n",
       "    <tr>\n",
       "      <th>0</th>\n",
       "      <td>536365</td>\n",
       "      <td>85123A</td>\n",
       "      <td>WHITE HANGING HEART T-LIGHT HOLDER</td>\n",
       "      <td>6</td>\n",
       "      <td>12/1/2010 8:26</td>\n",
       "      <td>2.55</td>\n",
       "      <td>17850.0</td>\n",
       "      <td>United Kingdom</td>\n",
       "    </tr>\n",
       "    <tr>\n",
       "      <th>1</th>\n",
       "      <td>536365</td>\n",
       "      <td>71053</td>\n",
       "      <td>WHITE METAL LANTERN</td>\n",
       "      <td>6</td>\n",
       "      <td>12/1/2010 8:26</td>\n",
       "      <td>3.39</td>\n",
       "      <td>17850.0</td>\n",
       "      <td>United Kingdom</td>\n",
       "    </tr>\n",
       "    <tr>\n",
       "      <th>2</th>\n",
       "      <td>536365</td>\n",
       "      <td>84406B</td>\n",
       "      <td>CREAM CUPID HEARTS COAT HANGER</td>\n",
       "      <td>8</td>\n",
       "      <td>12/1/2010 8:26</td>\n",
       "      <td>2.75</td>\n",
       "      <td>17850.0</td>\n",
       "      <td>United Kingdom</td>\n",
       "    </tr>\n",
       "    <tr>\n",
       "      <th>3</th>\n",
       "      <td>536365</td>\n",
       "      <td>84029G</td>\n",
       "      <td>KNITTED UNION FLAG HOT WATER BOTTLE</td>\n",
       "      <td>6</td>\n",
       "      <td>12/1/2010 8:26</td>\n",
       "      <td>3.39</td>\n",
       "      <td>17850.0</td>\n",
       "      <td>United Kingdom</td>\n",
       "    </tr>\n",
       "    <tr>\n",
       "      <th>4</th>\n",
       "      <td>536365</td>\n",
       "      <td>84029E</td>\n",
       "      <td>RED WOOLLY HOTTIE WHITE HEART.</td>\n",
       "      <td>6</td>\n",
       "      <td>12/1/2010 8:26</td>\n",
       "      <td>3.39</td>\n",
       "      <td>17850.0</td>\n",
       "      <td>United Kingdom</td>\n",
       "    </tr>\n",
       "  </tbody>\n",
       "</table>\n",
       "</div>"
      ],
      "text/plain": [
       "  InvoiceNo StockCode                          Description  Quantity  \\\n",
       "0    536365    85123A   WHITE HANGING HEART T-LIGHT HOLDER         6   \n",
       "1    536365     71053                  WHITE METAL LANTERN         6   \n",
       "2    536365    84406B       CREAM CUPID HEARTS COAT HANGER         8   \n",
       "3    536365    84029G  KNITTED UNION FLAG HOT WATER BOTTLE         6   \n",
       "4    536365    84029E       RED WOOLLY HOTTIE WHITE HEART.         6   \n",
       "\n",
       "      InvoiceDate  UnitPrice  CustomerID         Country  \n",
       "0  12/1/2010 8:26       2.55     17850.0  United Kingdom  \n",
       "1  12/1/2010 8:26       3.39     17850.0  United Kingdom  \n",
       "2  12/1/2010 8:26       2.75     17850.0  United Kingdom  \n",
       "3  12/1/2010 8:26       3.39     17850.0  United Kingdom  \n",
       "4  12/1/2010 8:26       3.39     17850.0  United Kingdom  "
      ]
     },
     "execution_count": 10,
     "metadata": {},
     "output_type": "execute_result"
    }
   ],
   "source": [
    "# df_ecommerce.tail()\n",
    "\n",
    "q = \"SELECT* FROM df_ecommerce;\"\n",
    "ps.sqldf(q, locals()).head(5)"
   ]
  },
  {
   "cell_type": "code",
   "execution_count": null,
   "id": "f8142dd1",
   "metadata": {},
   "outputs": [],
   "source": []
  },
  {
   "cell_type": "raw",
   "id": "d713277c",
   "metadata": {},
   "source": [
    "Вижу, что каждая транзакия вынесена отдельно, не сомтря на то, тчо принадлежит одному Customer ID, \n",
    "соверешена в одно время.\n",
    "Получаетяс записи строк разделены по уникальным комбинациям UnitPrice/Quantity/StockCode, остальное может повторяться. "
   ]
  },
  {
   "cell_type": "code",
   "execution_count": 11,
   "id": "342bd68a",
   "metadata": {},
   "outputs": [],
   "source": [
    "df_ecommerce.drop('Description', axis = 1, inplace=True)\n",
    "#колонко Desc  не собираюсь пользоваться"
   ]
  },
  {
   "cell_type": "code",
   "execution_count": null,
   "id": "6830174f",
   "metadata": {},
   "outputs": [],
   "source": []
  },
  {
   "cell_type": "markdown",
   "id": "259c144d",
   "metadata": {},
   "source": [
    "                                       смотрю пропущенные значения"
   ]
  },
  {
   "cell_type": "markdown",
   "id": "22012259",
   "metadata": {},
   "source": [
    "."
   ]
  },
  {
   "cell_type": "code",
   "execution_count": 12,
   "id": "7722bea9",
   "metadata": {},
   "outputs": [
    {
     "data": {
      "text/plain": [
       "InvoiceNo           0\n",
       "StockCode           0\n",
       "Quantity            0\n",
       "InvoiceDate         0\n",
       "UnitPrice           0\n",
       "CustomerID     135080\n",
       "Country             0\n",
       "dtype: int64"
      ]
     },
     "execution_count": 12,
     "metadata": {},
     "output_type": "execute_result"
    },
    {
     "data": {
      "text/plain": [
       "0.249266943342886"
      ]
     },
     "execution_count": 12,
     "metadata": {},
     "output_type": "execute_result"
    }
   ],
   "source": [
    "df_ecommerce.isna().sum()\n",
    "\n",
    "# виду большое колличество в CustomerID\n",
    "# узнаю долю - около 25%!\n",
    "df_ecommerce.CustomerID.isna().sum()/df_ecommerce.shape[0]\n"
   ]
  },
  {
   "cell_type": "code",
   "execution_count": null,
   "id": "5d70690d",
   "metadata": {},
   "outputs": [],
   "source": []
  },
  {
   "cell_type": "markdown",
   "id": "71d36d08",
   "metadata": {},
   "source": [
    "\n",
    "                       смотрю  характеристики количественных значений присущим Nan CustomerID "
   ]
  },
  {
   "cell_type": "code",
   "execution_count": 13,
   "id": "543129df",
   "metadata": {},
   "outputs": [
    {
     "data": {
      "text/html": [
       "<div>\n",
       "<style scoped>\n",
       "    .dataframe tbody tr th:only-of-type {\n",
       "        vertical-align: middle;\n",
       "    }\n",
       "\n",
       "    .dataframe tbody tr th {\n",
       "        vertical-align: top;\n",
       "    }\n",
       "\n",
       "    .dataframe thead th {\n",
       "        text-align: right;\n",
       "    }\n",
       "</style>\n",
       "<table border=\"1\" class=\"dataframe\">\n",
       "  <thead>\n",
       "    <tr style=\"text-align: right;\">\n",
       "      <th></th>\n",
       "      <th>Quantity</th>\n",
       "      <th>InvoiceDate</th>\n",
       "      <th>UnitPrice</th>\n",
       "      <th>CustomerID</th>\n",
       "    </tr>\n",
       "  </thead>\n",
       "  <tbody>\n",
       "    <tr>\n",
       "      <th>135075</th>\n",
       "      <td>5</td>\n",
       "      <td>12/9/2011 10:26</td>\n",
       "      <td>4.13</td>\n",
       "      <td>None</td>\n",
       "    </tr>\n",
       "    <tr>\n",
       "      <th>135076</th>\n",
       "      <td>4</td>\n",
       "      <td>12/9/2011 10:26</td>\n",
       "      <td>4.13</td>\n",
       "      <td>None</td>\n",
       "    </tr>\n",
       "    <tr>\n",
       "      <th>135077</th>\n",
       "      <td>1</td>\n",
       "      <td>12/9/2011 10:26</td>\n",
       "      <td>4.96</td>\n",
       "      <td>None</td>\n",
       "    </tr>\n",
       "    <tr>\n",
       "      <th>135078</th>\n",
       "      <td>1</td>\n",
       "      <td>12/9/2011 10:26</td>\n",
       "      <td>10.79</td>\n",
       "      <td>None</td>\n",
       "    </tr>\n",
       "    <tr>\n",
       "      <th>135079</th>\n",
       "      <td>1</td>\n",
       "      <td>12/9/2011 10:26</td>\n",
       "      <td>1714.17</td>\n",
       "      <td>None</td>\n",
       "    </tr>\n",
       "  </tbody>\n",
       "</table>\n",
       "</div>"
      ],
      "text/plain": [
       "        Quantity      InvoiceDate  UnitPrice CustomerID\n",
       "135075         5  12/9/2011 10:26       4.13       None\n",
       "135076         4  12/9/2011 10:26       4.13       None\n",
       "135077         1  12/9/2011 10:26       4.96       None\n",
       "135078         1  12/9/2011 10:26      10.79       None\n",
       "135079         1  12/9/2011 10:26    1714.17       None"
      ]
     },
     "execution_count": 13,
     "metadata": {},
     "output_type": "execute_result"
    },
    {
     "data": {
      "text/html": [
       "<div>\n",
       "<style scoped>\n",
       "    .dataframe tbody tr th:only-of-type {\n",
       "        vertical-align: middle;\n",
       "    }\n",
       "\n",
       "    .dataframe tbody tr th {\n",
       "        vertical-align: top;\n",
       "    }\n",
       "\n",
       "    .dataframe thead th {\n",
       "        text-align: right;\n",
       "    }\n",
       "</style>\n",
       "<table border=\"1\" class=\"dataframe\">\n",
       "  <thead>\n",
       "    <tr style=\"text-align: right;\">\n",
       "      <th></th>\n",
       "      <th>Quantity</th>\n",
       "      <th>InvoiceDate</th>\n",
       "      <th>UnitPrice</th>\n",
       "      <th>CustomerID</th>\n",
       "    </tr>\n",
       "  </thead>\n",
       "  <tbody>\n",
       "    <tr>\n",
       "      <th>406824</th>\n",
       "      <td>12</td>\n",
       "      <td>12/9/2011 12:50</td>\n",
       "      <td>0.85</td>\n",
       "      <td>12680.0</td>\n",
       "    </tr>\n",
       "    <tr>\n",
       "      <th>406825</th>\n",
       "      <td>6</td>\n",
       "      <td>12/9/2011 12:50</td>\n",
       "      <td>2.10</td>\n",
       "      <td>12680.0</td>\n",
       "    </tr>\n",
       "    <tr>\n",
       "      <th>406826</th>\n",
       "      <td>4</td>\n",
       "      <td>12/9/2011 12:50</td>\n",
       "      <td>4.15</td>\n",
       "      <td>12680.0</td>\n",
       "    </tr>\n",
       "    <tr>\n",
       "      <th>406827</th>\n",
       "      <td>4</td>\n",
       "      <td>12/9/2011 12:50</td>\n",
       "      <td>4.15</td>\n",
       "      <td>12680.0</td>\n",
       "    </tr>\n",
       "    <tr>\n",
       "      <th>406828</th>\n",
       "      <td>3</td>\n",
       "      <td>12/9/2011 12:50</td>\n",
       "      <td>4.95</td>\n",
       "      <td>12680.0</td>\n",
       "    </tr>\n",
       "  </tbody>\n",
       "</table>\n",
       "</div>"
      ],
      "text/plain": [
       "        Quantity      InvoiceDate  UnitPrice  CustomerID\n",
       "406824        12  12/9/2011 12:50       0.85     12680.0\n",
       "406825         6  12/9/2011 12:50       2.10     12680.0\n",
       "406826         4  12/9/2011 12:50       4.15     12680.0\n",
       "406827         4  12/9/2011 12:50       4.15     12680.0\n",
       "406828         3  12/9/2011 12:50       4.95     12680.0"
      ]
     },
     "execution_count": 13,
     "metadata": {},
     "output_type": "execute_result"
    }
   ],
   "source": [
    "# python version\n",
    "\n",
    "# df_ecommerce[['UnitPrice', 'InvoiceDate', 'Quantity', 'CustomerID']].query('CustomerID.isna() == True').tail()\n",
    "# df_ecommerce[['UnitPrice', 'InvoiceDate', 'Quantity', 'CustomerID']].query('CustomerID.isna() == False').tail()\n",
    "\n",
    "\n",
    "\n",
    "\n",
    "q = \"\"\"SELECT \n",
    "    Quantity, InvoiceDate, UnitPrice,CustomerID\n",
    "    FROM df_ecommerce\n",
    "    WHERE CustomerID is NULL\n",
    "    ;\"\"\"\n",
    "ps.sqldf(q, locals()).tail(5)\n",
    "\n",
    "q = \"\"\"SELECT \n",
    "    Quantity, InvoiceDate, UnitPrice,CustomerID\n",
    "    FROM df_ecommerce\n",
    "    WHERE CustomerID is NOT NULL\n",
    "    ;\"\"\"\n",
    "ps.sqldf(q, locals()).tail(5)"
   ]
  },
  {
   "cell_type": "code",
   "execution_count": null,
   "id": "097e5d9d",
   "metadata": {},
   "outputs": [],
   "source": []
  },
  {
   "cell_type": "code",
   "execution_count": 14,
   "id": "4ab4f7c3",
   "metadata": {},
   "outputs": [
    {
     "data": {
      "text/html": [
       "<div>\n",
       "<style scoped>\n",
       "    .dataframe tbody tr th:only-of-type {\n",
       "        vertical-align: middle;\n",
       "    }\n",
       "\n",
       "    .dataframe tbody tr th {\n",
       "        vertical-align: top;\n",
       "    }\n",
       "\n",
       "    .dataframe thead th {\n",
       "        text-align: right;\n",
       "    }\n",
       "</style>\n",
       "<table border=\"1\" class=\"dataframe\">\n",
       "  <thead>\n",
       "    <tr style=\"text-align: right;\">\n",
       "      <th></th>\n",
       "      <th>UnitPrice</th>\n",
       "      <th>Quantity</th>\n",
       "      <th>CustomerID</th>\n",
       "    </tr>\n",
       "  </thead>\n",
       "  <tbody>\n",
       "    <tr>\n",
       "      <th>count</th>\n",
       "      <td>406829.000000</td>\n",
       "      <td>406829.000000</td>\n",
       "      <td>406829.000000</td>\n",
       "    </tr>\n",
       "    <tr>\n",
       "      <th>mean</th>\n",
       "      <td>3.460471</td>\n",
       "      <td>12.061303</td>\n",
       "      <td>15287.690570</td>\n",
       "    </tr>\n",
       "    <tr>\n",
       "      <th>std</th>\n",
       "      <td>69.315162</td>\n",
       "      <td>248.693370</td>\n",
       "      <td>1713.600303</td>\n",
       "    </tr>\n",
       "    <tr>\n",
       "      <th>min</th>\n",
       "      <td>0.000000</td>\n",
       "      <td>-80995.000000</td>\n",
       "      <td>12346.000000</td>\n",
       "    </tr>\n",
       "    <tr>\n",
       "      <th>25%</th>\n",
       "      <td>1.250000</td>\n",
       "      <td>2.000000</td>\n",
       "      <td>13953.000000</td>\n",
       "    </tr>\n",
       "    <tr>\n",
       "      <th>50%</th>\n",
       "      <td>1.950000</td>\n",
       "      <td>5.000000</td>\n",
       "      <td>15152.000000</td>\n",
       "    </tr>\n",
       "    <tr>\n",
       "      <th>75%</th>\n",
       "      <td>3.750000</td>\n",
       "      <td>12.000000</td>\n",
       "      <td>16791.000000</td>\n",
       "    </tr>\n",
       "    <tr>\n",
       "      <th>max</th>\n",
       "      <td>38970.000000</td>\n",
       "      <td>80995.000000</td>\n",
       "      <td>18287.000000</td>\n",
       "    </tr>\n",
       "  </tbody>\n",
       "</table>\n",
       "</div>"
      ],
      "text/plain": [
       "           UnitPrice       Quantity     CustomerID\n",
       "count  406829.000000  406829.000000  406829.000000\n",
       "mean        3.460471      12.061303   15287.690570\n",
       "std        69.315162     248.693370    1713.600303\n",
       "min         0.000000  -80995.000000   12346.000000\n",
       "25%         1.250000       2.000000   13953.000000\n",
       "50%         1.950000       5.000000   15152.000000\n",
       "75%         3.750000      12.000000   16791.000000\n",
       "max     38970.000000   80995.000000   18287.000000"
      ]
     },
     "execution_count": 14,
     "metadata": {},
     "output_type": "execute_result"
    }
   ],
   "source": [
    "# смотрю харакетристики большинства (не Nan) CustomerID\n",
    "df_ecommerce[['UnitPrice', 'InvoiceDate', 'Quantity', 'CustomerID']].query('CustomerID.isna() == False').describe()"
   ]
  },
  {
   "cell_type": "code",
   "execution_count": 15,
   "id": "79902af1",
   "metadata": {},
   "outputs": [
    {
     "data": {
      "text/html": [
       "<div>\n",
       "<style scoped>\n",
       "    .dataframe tbody tr th:only-of-type {\n",
       "        vertical-align: middle;\n",
       "    }\n",
       "\n",
       "    .dataframe tbody tr th {\n",
       "        vertical-align: top;\n",
       "    }\n",
       "\n",
       "    .dataframe thead th {\n",
       "        text-align: right;\n",
       "    }\n",
       "</style>\n",
       "<table border=\"1\" class=\"dataframe\">\n",
       "  <thead>\n",
       "    <tr style=\"text-align: right;\">\n",
       "      <th></th>\n",
       "      <th>UnitPrice</th>\n",
       "      <th>Quantity</th>\n",
       "      <th>CustomerID</th>\n",
       "    </tr>\n",
       "  </thead>\n",
       "  <tbody>\n",
       "    <tr>\n",
       "      <th>count</th>\n",
       "      <td>135080.000000</td>\n",
       "      <td>135080.000000</td>\n",
       "      <td>0.0</td>\n",
       "    </tr>\n",
       "    <tr>\n",
       "      <th>mean</th>\n",
       "      <td>8.076577</td>\n",
       "      <td>1.995573</td>\n",
       "      <td>NaN</td>\n",
       "    </tr>\n",
       "    <tr>\n",
       "      <th>std</th>\n",
       "      <td>151.900816</td>\n",
       "      <td>66.696153</td>\n",
       "      <td>NaN</td>\n",
       "    </tr>\n",
       "    <tr>\n",
       "      <th>min</th>\n",
       "      <td>-11062.060000</td>\n",
       "      <td>-9600.000000</td>\n",
       "      <td>NaN</td>\n",
       "    </tr>\n",
       "    <tr>\n",
       "      <th>25%</th>\n",
       "      <td>1.630000</td>\n",
       "      <td>1.000000</td>\n",
       "      <td>NaN</td>\n",
       "    </tr>\n",
       "    <tr>\n",
       "      <th>50%</th>\n",
       "      <td>3.290000</td>\n",
       "      <td>1.000000</td>\n",
       "      <td>NaN</td>\n",
       "    </tr>\n",
       "    <tr>\n",
       "      <th>75%</th>\n",
       "      <td>5.450000</td>\n",
       "      <td>3.000000</td>\n",
       "      <td>NaN</td>\n",
       "    </tr>\n",
       "    <tr>\n",
       "      <th>max</th>\n",
       "      <td>17836.460000</td>\n",
       "      <td>5568.000000</td>\n",
       "      <td>NaN</td>\n",
       "    </tr>\n",
       "  </tbody>\n",
       "</table>\n",
       "</div>"
      ],
      "text/plain": [
       "           UnitPrice       Quantity  CustomerID\n",
       "count  135080.000000  135080.000000         0.0\n",
       "mean        8.076577       1.995573         NaN\n",
       "std       151.900816      66.696153         NaN\n",
       "min    -11062.060000   -9600.000000         NaN\n",
       "25%         1.630000       1.000000         NaN\n",
       "50%         3.290000       1.000000         NaN\n",
       "75%         5.450000       3.000000         NaN\n",
       "max     17836.460000    5568.000000         NaN"
      ]
     },
     "execution_count": 15,
     "metadata": {},
     "output_type": "execute_result"
    }
   ],
   "source": [
    "#смотрю харакетристики меньшинства (Nan) CustomerID\n",
    "df_ecommerce[['UnitPrice', 'InvoiceDate', 'Quantity', 'CustomerID']].query('CustomerID.isna() == True').describe()\n"
   ]
  },
  {
   "cell_type": "code",
   "execution_count": 16,
   "id": "ef849a20",
   "metadata": {},
   "outputs": [],
   "source": [
    "# ИТОГО\n",
    "\n",
    "# В обеих подгруппах(где есть /остуствуют регистрация CustomerID) у колличественных признаков,не нормальные \n",
    "# рапсределения и есть выделяющиеся отрицаельны значения в колличестве заказаов и стоимости.\n",
    "# Нужноб удет узнать с чем связано."
   ]
  },
  {
   "cell_type": "code",
   "execution_count": null,
   "id": "5eec691e",
   "metadata": {},
   "outputs": [],
   "source": []
  },
  {
   "cell_type": "code",
   "execution_count": null,
   "id": "03b7d964",
   "metadata": {},
   "outputs": [],
   "source": []
  },
  {
   "cell_type": "markdown",
   "id": "8affe3f5",
   "metadata": {},
   "source": [
    "                               Смотрю InvoiceNo StockCode CustomerID"
   ]
  },
  {
   "cell_type": "markdown",
   "id": "5a73ffe9",
   "metadata": {},
   "source": [
    "."
   ]
  },
  {
   "cell_type": "code",
   "execution_count": 17,
   "id": "db41d681",
   "metadata": {},
   "outputs": [
    {
     "name": "stdout",
     "output_type": "stream",
     "text": [
      " InvoiceNo has 25900 unique values\n",
      " StockCode has 4070 unique values\n",
      " CustomerID has 4372 unique values\n"
     ]
    }
   ],
   "source": [
    "# значения этих колонок имеют свойство повторяться, посмотрб уникальные значения\n",
    "\n",
    "# python version\n",
    "\n",
    "for x in df_ecommerce[['InvoiceNo', 'StockCode', 'CustomerID']]:\n",
    "    print(f' {x} has {df_ecommerce[x].nunique()} unique values')\n",
    "\n"
   ]
  },
  {
   "cell_type": "code",
   "execution_count": 18,
   "id": "41a63e7b",
   "metadata": {},
   "outputs": [],
   "source": [
    "# ИТОГО\n",
    "# видим что из 541909 строк записи,  меньше уникальных занчений у  StockCode CustomerID, а значенит там больше\n",
    "# повторений"
   ]
  },
  {
   "cell_type": "code",
   "execution_count": null,
   "id": "3c18ecd0",
   "metadata": {},
   "outputs": [],
   "source": []
  },
  {
   "cell_type": "code",
   "execution_count": 19,
   "id": "f21599b6",
   "metadata": {},
   "outputs": [
    {
     "data": {
      "text/plain": [
       "array(['536365', '536366', '536367', ..., '581585', '581586', '581587'],\n",
       "      dtype=object)"
      ]
     },
     "execution_count": 19,
     "metadata": {},
     "output_type": "execute_result"
    },
    {
     "data": {
      "text/plain": [
       "dtype('O')"
      ]
     },
     "execution_count": 19,
     "metadata": {},
     "output_type": "execute_result"
    },
    {
     "data": {
      "text/plain": [
       "9291"
      ]
     },
     "execution_count": 19,
     "metadata": {},
     "output_type": "execute_result"
    }
   ],
   "source": [
    "#     РАССМТАРИВАЮ InvoiceNo \n",
    "\n",
    "df_ecommerce.InvoiceNo.unique()\n",
    "df_ecommerce.InvoiceNo.dtype\n",
    "\n",
    "# понмю, что InvoiceNo имеет тип \"object\", не численный, посему проверю,на присутвие других типов записей,\n",
    "# кроме начинающихся с 5ки...\n",
    "\n",
    "\n",
    "\n",
    "df_ecommerce.InvoiceNo.apply(lambda x:  x[0] != '5').sum()\n",
    "#видим что есть еще 9тысяч элементов имеющие другие начальные символы InvoiceNo (не начинаются с   \"5...\")\n",
    "# У меня отсуствует описательная инфо к датасету и бизнесу, знаичт узнаю информацию пошагово. Получается это \n",
    "# платежные ведоства и они имеют разны значения,помимо уникальных номеров платежных актов"
   ]
  },
  {
   "cell_type": "code",
   "execution_count": 20,
   "id": "13d772f3",
   "metadata": {},
   "outputs": [
    {
     "data": {
      "text/html": [
       "<div>\n",
       "<style scoped>\n",
       "    .dataframe tbody tr th:only-of-type {\n",
       "        vertical-align: middle;\n",
       "    }\n",
       "\n",
       "    .dataframe tbody tr th {\n",
       "        vertical-align: top;\n",
       "    }\n",
       "\n",
       "    .dataframe thead th {\n",
       "        text-align: right;\n",
       "    }\n",
       "</style>\n",
       "<table border=\"1\" class=\"dataframe\">\n",
       "  <thead>\n",
       "    <tr style=\"text-align: right;\">\n",
       "      <th></th>\n",
       "      <th>InvoiceNo</th>\n",
       "      <th>StockCode</th>\n",
       "      <th>Quantity</th>\n",
       "      <th>InvoiceDate</th>\n",
       "      <th>UnitPrice</th>\n",
       "      <th>CustomerID</th>\n",
       "      <th>Country</th>\n",
       "    </tr>\n",
       "  </thead>\n",
       "  <tbody>\n",
       "    <tr>\n",
       "      <th>141</th>\n",
       "      <td>C536379</td>\n",
       "      <td>D</td>\n",
       "      <td>-1</td>\n",
       "      <td>12/1/2010 9:41</td>\n",
       "      <td>27.50</td>\n",
       "      <td>14527.0</td>\n",
       "      <td>United Kingdom</td>\n",
       "    </tr>\n",
       "    <tr>\n",
       "      <th>154</th>\n",
       "      <td>C536383</td>\n",
       "      <td>35004C</td>\n",
       "      <td>-1</td>\n",
       "      <td>12/1/2010 9:49</td>\n",
       "      <td>4.65</td>\n",
       "      <td>15311.0</td>\n",
       "      <td>United Kingdom</td>\n",
       "    </tr>\n",
       "    <tr>\n",
       "      <th>235</th>\n",
       "      <td>C536391</td>\n",
       "      <td>22556</td>\n",
       "      <td>-12</td>\n",
       "      <td>12/1/2010 10:24</td>\n",
       "      <td>1.65</td>\n",
       "      <td>17548.0</td>\n",
       "      <td>United Kingdom</td>\n",
       "    </tr>\n",
       "    <tr>\n",
       "      <th>236</th>\n",
       "      <td>C536391</td>\n",
       "      <td>21984</td>\n",
       "      <td>-24</td>\n",
       "      <td>12/1/2010 10:24</td>\n",
       "      <td>0.29</td>\n",
       "      <td>17548.0</td>\n",
       "      <td>United Kingdom</td>\n",
       "    </tr>\n",
       "    <tr>\n",
       "      <th>237</th>\n",
       "      <td>C536391</td>\n",
       "      <td>21983</td>\n",
       "      <td>-24</td>\n",
       "      <td>12/1/2010 10:24</td>\n",
       "      <td>0.29</td>\n",
       "      <td>17548.0</td>\n",
       "      <td>United Kingdom</td>\n",
       "    </tr>\n",
       "    <tr>\n",
       "      <th>...</th>\n",
       "      <td>...</td>\n",
       "      <td>...</td>\n",
       "      <td>...</td>\n",
       "      <td>...</td>\n",
       "      <td>...</td>\n",
       "      <td>...</td>\n",
       "      <td>...</td>\n",
       "    </tr>\n",
       "    <tr>\n",
       "      <th>540449</th>\n",
       "      <td>C581490</td>\n",
       "      <td>23144</td>\n",
       "      <td>-11</td>\n",
       "      <td>12/9/2011 9:57</td>\n",
       "      <td>0.83</td>\n",
       "      <td>14397.0</td>\n",
       "      <td>United Kingdom</td>\n",
       "    </tr>\n",
       "    <tr>\n",
       "      <th>541541</th>\n",
       "      <td>C581499</td>\n",
       "      <td>M</td>\n",
       "      <td>-1</td>\n",
       "      <td>12/9/2011 10:28</td>\n",
       "      <td>224.69</td>\n",
       "      <td>15498.0</td>\n",
       "      <td>United Kingdom</td>\n",
       "    </tr>\n",
       "    <tr>\n",
       "      <th>541715</th>\n",
       "      <td>C581568</td>\n",
       "      <td>21258</td>\n",
       "      <td>-5</td>\n",
       "      <td>12/9/2011 11:57</td>\n",
       "      <td>10.95</td>\n",
       "      <td>15311.0</td>\n",
       "      <td>United Kingdom</td>\n",
       "    </tr>\n",
       "    <tr>\n",
       "      <th>541716</th>\n",
       "      <td>C581569</td>\n",
       "      <td>84978</td>\n",
       "      <td>-1</td>\n",
       "      <td>12/9/2011 11:58</td>\n",
       "      <td>1.25</td>\n",
       "      <td>17315.0</td>\n",
       "      <td>United Kingdom</td>\n",
       "    </tr>\n",
       "    <tr>\n",
       "      <th>541717</th>\n",
       "      <td>C581569</td>\n",
       "      <td>20979</td>\n",
       "      <td>-5</td>\n",
       "      <td>12/9/2011 11:58</td>\n",
       "      <td>1.25</td>\n",
       "      <td>17315.0</td>\n",
       "      <td>United Kingdom</td>\n",
       "    </tr>\n",
       "  </tbody>\n",
       "</table>\n",
       "<p>9291 rows × 7 columns</p>\n",
       "</div>"
      ],
      "text/plain": [
       "       InvoiceNo StockCode  Quantity      InvoiceDate  UnitPrice  CustomerID  \\\n",
       "141      C536379         D        -1   12/1/2010 9:41      27.50     14527.0   \n",
       "154      C536383    35004C        -1   12/1/2010 9:49       4.65     15311.0   \n",
       "235      C536391     22556       -12  12/1/2010 10:24       1.65     17548.0   \n",
       "236      C536391     21984       -24  12/1/2010 10:24       0.29     17548.0   \n",
       "237      C536391     21983       -24  12/1/2010 10:24       0.29     17548.0   \n",
       "...          ...       ...       ...              ...        ...         ...   \n",
       "540449   C581490     23144       -11   12/9/2011 9:57       0.83     14397.0   \n",
       "541541   C581499         M        -1  12/9/2011 10:28     224.69     15498.0   \n",
       "541715   C581568     21258        -5  12/9/2011 11:57      10.95     15311.0   \n",
       "541716   C581569     84978        -1  12/9/2011 11:58       1.25     17315.0   \n",
       "541717   C581569     20979        -5  12/9/2011 11:58       1.25     17315.0   \n",
       "\n",
       "               Country  \n",
       "141     United Kingdom  \n",
       "154     United Kingdom  \n",
       "235     United Kingdom  \n",
       "236     United Kingdom  \n",
       "237     United Kingdom  \n",
       "...                ...  \n",
       "540449  United Kingdom  \n",
       "541541  United Kingdom  \n",
       "541715  United Kingdom  \n",
       "541716  United Kingdom  \n",
       "541717  United Kingdom  \n",
       "\n",
       "[9291 rows x 7 columns]"
      ]
     },
     "execution_count": 20,
     "metadata": {},
     "output_type": "execute_result"
    }
   ],
   "source": [
    "\n",
    "\n",
    "df_ecommerce[df_ecommerce.InvoiceNo.apply(lambda x:  x[0] != '5')]\n",
    "#  смотрю далее - хм, это номер InvoiceNo начинающиеся с Си. и если предварительно взглянуть, то в этом срезе\n",
    "# видно, что у всех повторяется Quantity - отрицательно. Может быть это Canceled  товары?\n"
   ]
  },
  {
   "cell_type": "code",
   "execution_count": 21,
   "id": "4f685a6e",
   "metadata": {},
   "outputs": [
    {
     "name": "stderr",
     "output_type": "stream",
     "text": [
      "/var/folders/81/czt11kms0_30wrpb138499r40000gn/T/ipykernel_17517/2834798552.py:2: UserWarning: Boolean Series key will be reindexed to match DataFrame index.\n",
      "  df_canceled_InvoiceNo[df_ecommerce.InvoiceNo.apply(lambda x:  x[0] != 'C')]\n"
     ]
    },
    {
     "data": {
      "text/html": [
       "<div>\n",
       "<style scoped>\n",
       "    .dataframe tbody tr th:only-of-type {\n",
       "        vertical-align: middle;\n",
       "    }\n",
       "\n",
       "    .dataframe tbody tr th {\n",
       "        vertical-align: top;\n",
       "    }\n",
       "\n",
       "    .dataframe thead th {\n",
       "        text-align: right;\n",
       "    }\n",
       "</style>\n",
       "<table border=\"1\" class=\"dataframe\">\n",
       "  <thead>\n",
       "    <tr style=\"text-align: right;\">\n",
       "      <th></th>\n",
       "      <th>InvoiceNo</th>\n",
       "      <th>StockCode</th>\n",
       "      <th>Quantity</th>\n",
       "      <th>InvoiceDate</th>\n",
       "      <th>UnitPrice</th>\n",
       "      <th>CustomerID</th>\n",
       "      <th>Country</th>\n",
       "    </tr>\n",
       "  </thead>\n",
       "  <tbody>\n",
       "    <tr>\n",
       "      <th>299982</th>\n",
       "      <td>A563185</td>\n",
       "      <td>B</td>\n",
       "      <td>1</td>\n",
       "      <td>8/12/2011 14:50</td>\n",
       "      <td>11062.06</td>\n",
       "      <td>NaN</td>\n",
       "      <td>United Kingdom</td>\n",
       "    </tr>\n",
       "    <tr>\n",
       "      <th>299983</th>\n",
       "      <td>A563186</td>\n",
       "      <td>B</td>\n",
       "      <td>1</td>\n",
       "      <td>8/12/2011 14:51</td>\n",
       "      <td>-11062.06</td>\n",
       "      <td>NaN</td>\n",
       "      <td>United Kingdom</td>\n",
       "    </tr>\n",
       "    <tr>\n",
       "      <th>299984</th>\n",
       "      <td>A563187</td>\n",
       "      <td>B</td>\n",
       "      <td>1</td>\n",
       "      <td>8/12/2011 14:52</td>\n",
       "      <td>-11062.06</td>\n",
       "      <td>NaN</td>\n",
       "      <td>United Kingdom</td>\n",
       "    </tr>\n",
       "  </tbody>\n",
       "</table>\n",
       "</div>"
      ],
      "text/plain": [
       "       InvoiceNo StockCode  Quantity      InvoiceDate  UnitPrice  CustomerID  \\\n",
       "299982   A563185         B         1  8/12/2011 14:50   11062.06         NaN   \n",
       "299983   A563186         B         1  8/12/2011 14:51  -11062.06         NaN   \n",
       "299984   A563187         B         1  8/12/2011 14:52  -11062.06         NaN   \n",
       "\n",
       "               Country  \n",
       "299982  United Kingdom  \n",
       "299983  United Kingdom  \n",
       "299984  United Kingdom  "
      ]
     },
     "execution_count": 21,
     "metadata": {},
     "output_type": "execute_result"
    }
   ],
   "source": [
    "df_canceled_InvoiceNo = df_ecommerce[df_ecommerce.InvoiceNo.apply(lambda x:  x[0] != '5')]\n",
    "df_canceled_InvoiceNo[df_ecommerce.InvoiceNo.apply(lambda x:  x[0] != 'C')]\n",
    "#np.where(data.InvoiceNo.apply(lambda l: l[0]==\"C\"), True, False)\n",
    "\n",
    "\n",
    "# однако есть еще начинающиеся с  \"A\", пока я не знаю, как сие растолковать, но их всего 3\n",
    "# но имеют одинаковые UnitPrice (Будем иметь ввиду)"
   ]
  },
  {
   "cell_type": "code",
   "execution_count": 22,
   "id": "819d42cc",
   "metadata": {},
   "outputs": [
    {
     "data": {
      "text/plain": [
       "0.017144944999990773"
      ]
     },
     "execution_count": 22,
     "metadata": {},
     "output_type": "execute_result"
    }
   ],
   "source": [
    "df_canceled_InvoiceNo.shape[0]/df_ecommerce.shape[0]\n",
    "\n",
    "\n",
    "\n",
    "\n",
    "\n",
    "# ИТОГО\n",
    "# процент отмененных заказов от общего колличества заказов(записей в изначальном дф)"
   ]
  },
  {
   "cell_type": "code",
   "execution_count": null,
   "id": "1f075bc3",
   "metadata": {},
   "outputs": [],
   "source": []
  },
  {
   "cell_type": "markdown",
   "id": "3e9a50c6",
   "metadata": {},
   "source": [
    "                                                                СМОТРЮ СТРАНЫ"
   ]
  },
  {
   "cell_type": "markdown",
   "id": "104bf9bd",
   "metadata": {},
   "source": [
    "."
   ]
  },
  {
   "cell_type": "code",
   "execution_count": null,
   "id": "309ab7b5",
   "metadata": {},
   "outputs": [],
   "source": []
  },
  {
   "cell_type": "code",
   "execution_count": 23,
   "id": "9ff10376",
   "metadata": {},
   "outputs": [
    {
     "name": "stdout",
     "output_type": "stream",
     "text": [
      " counties number in canceled InvoiceID has    COUNT (DISTINCT Country)\n",
      "0                        30\n",
      " initial countries number in data has    COUNT (DISTINCT Country)\n",
      "0                        38\n"
     ]
    },
    {
     "data": {
      "text/plain": [
       "['Brazil',\n",
       " 'RSA',\n",
       " 'Iceland',\n",
       " 'Unspecified',\n",
       " 'Lebanon',\n",
       " 'Canada',\n",
       " 'United Arab Emirates',\n",
       " 'Lithuania']"
      ]
     },
     "execution_count": 23,
     "metadata": {},
     "output_type": "execute_result"
    },
    {
     "data": {
      "text/plain": [
       "1017"
      ]
     },
     "execution_count": 23,
     "metadata": {},
     "output_type": "execute_result"
    }
   ],
   "source": [
    "# На всякий посмотрим страны, которые не имеют  Canceled заказов\n",
    "\n",
    "\n",
    "# python version\n",
    "\n",
    "# df_canceled_InvoiceNo.Country.nunique()\n",
    "# df_ecommerce.Country.nunique()\n",
    "\n",
    "\n",
    "\n",
    "\n",
    "# 1) колл стран имеющих отмененнные заказы\n",
    "q = \"\"\"SELECT COUNT (DISTINCT Country)\n",
    "    \n",
    "    FROM df_canceled_InvoiceNo\n",
    "    ;\"\"\"\n",
    "print( f' counties number in canceled InvoiceID has {ps.sqldf(q, locals())}')\n",
    "\n",
    "# 2) общее колл стран\n",
    "q = \"\"\"SELECT COUNT (DISTINCT Country)\n",
    "    \n",
    "    FROM df_ecommerce\n",
    "    ;\"\"\"\n",
    "print( f' initial countries number in data has {ps.sqldf(q, locals())}')\n",
    "\n",
    "\n",
    "# 3)  смотрю какие страны не имеют отмененных заказов\n",
    "\n",
    "absent_countries = list(set(df_ecommerce.Country.unique())-set(df_canceled_InvoiceNo.Country.unique()))\n",
    "absent_countries\n",
    "\n",
    "# колличество записей приходящихся на страны не имеющих отмененныз заказов\n",
    "df_ecommerce.query('Country == [\"Brazil\" , \"Canada\", \"Lithuania\", \"Lebanon\", \"Iceland\" \\\n",
    "    ,\"RSA\", \"Unspecified\", \"United Arab Emirates\"]').shape[0]"
   ]
  },
  {
   "cell_type": "code",
   "execution_count": 24,
   "id": "0746b508",
   "metadata": {},
   "outputs": [
    {
     "name": "stdout",
     "output_type": "stream",
     "text": [
      " колличество записей у Unspecified страны    COUNT (*)\n",
      "0        446\n"
     ]
    },
    {
     "data": {
      "text/plain": [
       "202"
      ]
     },
     "execution_count": 24,
     "metadata": {},
     "output_type": "execute_result"
    },
    {
     "data": {
      "text/plain": [
       "\"SELECT COUNT(customerid)\\nFROM public.e_commerce_sales_forecast\\nwhere customerid = 0 and country = 'Unspecified' \\n\""
      ]
     },
     "execution_count": 24,
     "metadata": {},
     "output_type": "execute_result"
    }
   ],
   "source": [
    "# ИТОГО\n",
    "\n",
    "\n",
    "\n",
    "\n",
    "# 1) видим 1000 строк котороя из полумиллина записей является 0,0002 процентом и составляет не значительную часть,\n",
    "# пока не буду рассматривать индивидуальные характиристики это подруппы (страны с отсутсвие canceled orders)\n",
    "\n",
    "\n",
    "# 2) и видим  интересную страну \"Unspecified\". можно узнать  долю \"пропавших\" стран\n",
    "\n",
    "# print(f' колличество записей у Unspecified страны {df_ecommerce.query('Country == \"Unspecified\"').shape[0]}')\n",
    "q = \"\"\"SELECT COUNT (*)\n",
    "    \n",
    "    FROM df_ecommerce\n",
    "    WHERE Country == 'Unspecified'\n",
    "    ;\"\"\"\n",
    "print( f' колличество записей у Unspecified страны {ps.sqldf(q, locals())}')\n",
    "\n",
    "\n",
    "# убираю nan тоьлькоо в CustomerID  и на всякий случай взгляну  колл записей \"МАКСИМАЛЬНО \"не информативных\n",
    "df_ecommerce.CustomerID.fillna(0, inplace = True)  \n",
    "df_ecommerce.query('Country == \"Unspecified\" & CustomerID == 0').shape[0]\n",
    "\n",
    "\"\"\"SELECT COUNT(customerid)\n",
    "FROM public.e_commerce_sales_forecast\n",
    "where customerid = 0 and country = 'Unspecified' \n",
    "\"\"\" \n",
    "\n",
    "\n",
    "# как видно, велична 202 в   процентах еще не значительней.\n",
    "\n",
    "\n",
    "\n"
   ]
  },
  {
   "cell_type": "code",
   "execution_count": 25,
   "id": "839f74c7",
   "metadata": {},
   "outputs": [
    {
     "data": {
      "text/plain": [
       "38"
      ]
     },
     "execution_count": 25,
     "metadata": {},
     "output_type": "execute_result"
    },
    {
     "data": {
      "text/plain": [
       "<Figure size 1440x360 with 0 Axes>"
      ]
     },
     "execution_count": 25,
     "metadata": {},
     "output_type": "execute_result"
    },
    {
     "name": "stderr",
     "output_type": "stream",
     "text": [
      "/usr/local/lib/python3.9/site-packages/seaborn/_decorators.py:36: FutureWarning: Pass the following variables as keyword args: x, y. From version 0.12, the only valid positional argument will be `data`, and passing other arguments without an explicit keyword will result in an error or misinterpretation.\n",
      "  warnings.warn(\n"
     ]
    },
    {
     "data": {
      "text/plain": [
       "<AxesSubplot:>"
      ]
     },
     "execution_count": 25,
     "metadata": {},
     "output_type": "execute_result"
    },
    {
     "data": {
      "text/plain": [
       "Text(0, 0.5, 'Counts')"
      ]
     },
     "execution_count": 25,
     "metadata": {},
     "output_type": "execute_result"
    },
    {
     "data": {
      "text/plain": [
       "Text(0.5, 1.0, 'Which countries made the most transactions?')"
      ]
     },
     "execution_count": 25,
     "metadata": {},
     "output_type": "execute_result"
    },
    {
     "data": {
      "text/plain": [
       "(array([ 0,  1,  2,  3,  4,  5,  6,  7,  8,  9, 10, 11, 12, 13, 14, 15, 16,\n",
       "        17, 18, 19]),\n",
       " [Text(0, 0, 'United Kingdom'),\n",
       "  Text(1, 0, 'Germany'),\n",
       "  Text(2, 0, 'France'),\n",
       "  Text(3, 0, 'EIRE'),\n",
       "  Text(4, 0, 'Spain'),\n",
       "  Text(5, 0, 'Netherlands'),\n",
       "  Text(6, 0, 'Belgium'),\n",
       "  Text(7, 0, 'Switzerland'),\n",
       "  Text(8, 0, 'Portugal'),\n",
       "  Text(9, 0, 'Australia'),\n",
       "  Text(10, 0, 'Norway'),\n",
       "  Text(11, 0, 'Italy'),\n",
       "  Text(12, 0, 'Channel Islands'),\n",
       "  Text(13, 0, 'Finland'),\n",
       "  Text(14, 0, 'Cyprus'),\n",
       "  Text(15, 0, 'Sweden'),\n",
       "  Text(16, 0, 'Unspecified'),\n",
       "  Text(17, 0, 'Austria'),\n",
       "  Text(18, 0, 'Denmark'),\n",
       "  Text(19, 0, 'Japan')])"
      ]
     },
     "execution_count": 25,
     "metadata": {},
     "output_type": "execute_result"
    },
    {
     "data": {
      "image/png": "[encoded data removed]",
      "text/plain": [
       "<Figure size 1440x360 with 1 Axes>"
      ]
     },
     "metadata": {},
     "output_type": "display_data"
    }
   ],
   "source": [
    "# посмотрим попупярные страны\n",
    "\n",
    "df_ecommerce.Country.nunique()\n",
    "\n",
    "country_counts = df_ecommerce.Country.value_counts().sort_values(ascending=False).iloc[0:20]\n",
    "plt.figure(figsize=(20,5))\n",
    "sns.barplot(country_counts.index, country_counts.values, palette=\"Greens_r\")\n",
    "plt.ylabel(\"Counts\")\n",
    "plt.title(\"Which countries made the most transactions?\");\n",
    "plt.xticks(rotation=90);\n",
    "plt.yscale(\"log\")"
   ]
  },
  {
   "cell_type": "code",
   "execution_count": 26,
   "id": "303d2906",
   "metadata": {},
   "outputs": [
    {
     "data": {
      "text/plain": [
       "0.984443882644503"
      ]
     },
     "execution_count": 26,
     "metadata": {},
     "output_type": "execute_result"
    }
   ],
   "source": [
    "df_ecommerce.Country.value_counts().sort_values(ascending=False).iloc[0:10].sum() / df_ecommerce.Country.value_counts().sum()\n"
   ]
  },
  {
   "cell_type": "code",
   "execution_count": 27,
   "id": "8581fe86",
   "metadata": {},
   "outputs": [],
   "source": [
    "\n",
    "# ИТОГО\n",
    "\n",
    "\n",
    "\n",
    "# - поверхностаня инфографика показывает о явно лидерстве Британии \n",
    "\n",
    "# - видим долю заказов на первую европейскую 10ку -98%! я спер этот инфографику с Kaggle у американского\n",
    "# спецаилиста на Kaggle,но сначал не счиал ее полезной. Но вот приведя процентное соотношение, теперь можно понять,\n",
    "# зачем она ее привела. \n",
    "\n",
    "# - Как я помню это данные Амазона, похоже это европейское подразделение"
   ]
  },
  {
   "cell_type": "code",
   "execution_count": null,
   "id": "8fe94423",
   "metadata": {},
   "outputs": [],
   "source": []
  },
  {
   "cell_type": "markdown",
   "id": "fa249ead",
   "metadata": {},
   "source": [
    "                                                                    СМОТРЮ Unit Price"
   ]
  },
  {
   "cell_type": "markdown",
   "id": "01a0251a",
   "metadata": {},
   "source": [
    "."
   ]
  },
  {
   "cell_type": "code",
   "execution_count": 28,
   "id": "fcc73868",
   "metadata": {},
   "outputs": [
    {
     "name": "stderr",
     "output_type": "stream",
     "text": [
      "/usr/local/lib/python3.9/site-packages/seaborn/_decorators.py:36: FutureWarning: Pass the following variable as a keyword arg: x. From version 0.12, the only valid positional argument will be `data`, and passing other arguments without an explicit keyword will result in an error or misinterpretation.\n",
      "  warnings.warn(\n"
     ]
    },
    {
     "data": {
      "text/plain": [
       "<AxesSubplot:xlabel='UnitPrice'>"
      ]
     },
     "execution_count": 28,
     "metadata": {},
     "output_type": "execute_result"
    },
    {
     "data": {
      "text/plain": [
       "count    541909.000000\n",
       "mean          4.611114\n",
       "std          96.759853\n",
       "min      -11062.060000\n",
       "25%           1.250000\n",
       "50%           2.080000\n",
       "75%           4.130000\n",
       "max       38970.000000\n",
       "Name: UnitPrice, dtype: float64"
      ]
     },
     "execution_count": 28,
     "metadata": {},
     "output_type": "execute_result"
    },
    {
     "data": {
      "image/png": "[encoded data removed]",
      "text/plain": [
       "<Figure size 576x288 with 1 Axes>"
      ]
     },
     "metadata": {},
     "output_type": "display_data"
    }
   ],
   "source": [
    "sns.boxplot(df_ecommerce.UnitPrice)\n",
    "df_ecommerce.UnitPrice.describe()"
   ]
  },
  {
   "cell_type": "code",
   "execution_count": 29,
   "id": "10d75a9b",
   "metadata": {},
   "outputs": [],
   "source": [
    "#  видим есть сильные outliers , отрицательные мы знаем с чем связаны. ПОсмотрим положительные до  75 квартиль"
   ]
  },
  {
   "cell_type": "code",
   "execution_count": null,
   "id": "94749e2c",
   "metadata": {},
   "outputs": [],
   "source": []
  },
  {
   "cell_type": "code",
   "execution_count": 30,
   "id": "2032ba08",
   "metadata": {},
   "outputs": [
    {
     "data": {
      "text/plain": [
       "18.0"
      ]
     },
     "execution_count": 30,
     "metadata": {},
     "output_type": "execute_result"
    },
    {
     "data": {
      "text/plain": [
       "4790"
      ]
     },
     "execution_count": 30,
     "metadata": {},
     "output_type": "execute_result"
    },
    {
     "data": {
      "text/plain": [
       "222681    38970.00\n",
       "524602    17836.46\n",
       "43702     16888.02\n",
       "43703     16453.71\n",
       "15017     13541.33\n",
       "16356     13541.33\n",
       "15016     13541.33\n",
       "16232     13474.79\n",
       "524601    11586.50\n",
       "299982    11062.06\n",
       "Name: UnitPrice, dtype: float64"
      ]
     },
     "execution_count": 30,
     "metadata": {},
     "output_type": "execute_result"
    }
   ],
   "source": [
    "# ОЦЕНИВАЕМ UnitPrice\n",
    "\n",
    "np.quantile(df_ecommerce['UnitPrice'].sort_values(ascending=False), 0.99)\n",
    "df_ecommerce.query('UnitPrice > 18').shape[0]\n",
    "df_ecommerce.UnitPrice.sort_values(ascending=False).head(10)\n",
    "\n",
    "# ИТОГО\n",
    "# 1) видим,что вплоть до 99% значений  ,знаечния выше 18 долларо за товар не подымаются.\n",
    "# и там присутствует   записей\n",
    "\n",
    "# 2) всего 4790 записей товаров приходятся на остаьлные заказа где цена от 18 до 38970 долларов, за заказ.(вписаный ордер)"
   ]
  },
  {
   "cell_type": "code",
   "execution_count": null,
   "id": "6a11ae63",
   "metadata": {},
   "outputs": [],
   "source": [
    "\n",
    "\n",
    "\n",
    "\n",
    "\n",
    "\n",
    "\n"
   ]
  },
  {
   "cell_type": "code",
   "execution_count": 31,
   "id": "8523d30c",
   "metadata": {},
   "outputs": [],
   "source": [
    "\n",
    "#         ===================================================================================\n",
    "#               БЛОК ДОПОЛНИТЕЬНОГО  ИНТЕРЕСА"
   ]
  },
  {
   "cell_type": "code",
   "execution_count": 32,
   "id": "71fb4961",
   "metadata": {},
   "outputs": [],
   "source": [
    "#     ТОВАРЫ   18-1000$"
   ]
  },
  {
   "cell_type": "code",
   "execution_count": 33,
   "id": "021974ac",
   "metadata": {},
   "outputs": [
    {
     "name": "stderr",
     "output_type": "stream",
     "text": [
      "/usr/local/lib/python3.9/site-packages/seaborn/distributions.py:2619: FutureWarning: `distplot` is a deprecated function and will be removed in a future version. Please adapt your code to use either `displot` (a figure-level function with similar flexibility) or `histplot` (an axes-level function for histograms).\n",
      "  warnings.warn(msg, FutureWarning)\n"
     ]
    },
    {
     "data": {
      "text/plain": [
       "<AxesSubplot:>"
      ]
     },
     "execution_count": 33,
     "metadata": {},
     "output_type": "execute_result"
    },
    {
     "data": {
      "text/plain": [
       "24.96"
      ]
     },
     "execution_count": 33,
     "metadata": {},
     "output_type": "execute_result"
    },
    {
     "data": {
      "text/plain": [
       "2159"
      ]
     },
     "execution_count": 33,
     "metadata": {},
     "output_type": "execute_result"
    },
    {
     "data": {
      "image/png": "[encoded data removed]",
      "text/plain": [
       "<Figure size 576x288 with 1 Axes>"
      ]
     },
     "metadata": {},
     "output_type": "display_data"
    }
   ],
   "source": [
    "#1)   просто смотрим рапсоеделение меж ценами 18 и 37000\n",
    "# sns.distplot(df_ecommerce.query('UnitPrice > 200  & UnitPrice < 1000').UnitPrice, kde=False, bins = 25)\n",
    "\n",
    "q = \"\"\"SELECT UnitPrice\n",
    "    \n",
    "    FROM df_ecommerce\n",
    "    WHERE UnitPrice > 18\n",
    "    ;\"\"\"\n",
    "sns.distplot(ps.sqldf(q, locals()),  kde=False, bins = 25)\n",
    "\n",
    "# 2) посмотрим моду этого процента\n",
    "import statistics\n",
    "statistics.mode(df_ecommerce.query('UnitPrice > 18').UnitPrice)\n",
    "\n",
    "# 3) еще колличество заказов до моды\n",
    "df_ecommerce.query('UnitPrice > 18 & UnitPrice <25').UnitPrice.count()\n",
    "\n",
    "\n",
    "\n",
    "\n",
    "# ИТОГО\n",
    "\n",
    "\n",
    "\n",
    "\n",
    "# посмотреть какие коды вхоодят\n",
    "# помним что от 18 до 37000 всего 1 процент заказов этого датасета\n",
    "# мода около 24 долларов, ну и предварительно судя по графику распределения это процента, другиз явных мод нет\n",
    "#до 25долларов приходится еще 2159 ордеров из 4790, получается  около 99,5 0-25 UnitPrice покрывает.\n",
    "# Далее в ценовом плане расммтривть пока не буду, интеренсо посомтреть наличие позиций (StockeCode) в эти подгруппах\n",
    "# 1-18/25, 18/25 - 37000 (РПОДОЛЖИ)\n",
    "\n"
   ]
  },
  {
   "cell_type": "code",
   "execution_count": null,
   "id": "1364e4ac",
   "metadata": {},
   "outputs": [],
   "source": [
    "\n"
   ]
  },
  {
   "cell_type": "code",
   "execution_count": 34,
   "id": "e1ce0364",
   "metadata": {},
   "outputs": [],
   "source": [
    "#     ТОВАРЫ > 1000$"
   ]
  },
  {
   "cell_type": "code",
   "execution_count": 35,
   "id": "05a971e7",
   "metadata": {},
   "outputs": [
    {
     "data": {
      "text/plain": [
       "8"
      ]
     },
     "execution_count": 35,
     "metadata": {},
     "output_type": "execute_result"
    },
    {
     "data": {
      "text/plain": [
       "array(['AMAZONFEE', 'M', 'BANK CHARGES', 'D', 'POST', 'DOT', 'B', 'CRUK'],\n",
       "      dtype=object)"
      ]
     },
     "execution_count": 35,
     "metadata": {},
     "output_type": "execute_result"
    },
    {
     "data": {
      "text/plain": [
       "3"
      ]
     },
     "execution_count": 35,
     "metadata": {},
     "output_type": "execute_result"
    },
    {
     "data": {
      "text/plain": [
       "array([-1,  1, -2])"
      ]
     },
     "execution_count": 35,
     "metadata": {},
     "output_type": "execute_result"
    }
   ],
   "source": [
    "# взгляд на данные по ценнику  более  1000\n",
    "\n",
    "\n",
    "# python version\n",
    "\n",
    "df_ecommerce.loc[df_ecommerce.UnitPrice>1000].StockCode.nunique()\n",
    "df_ecommerce.loc[df_ecommerce.UnitPrice>1000].StockCode.unique()\n",
    "df_ecommerce.loc[df_ecommerce.UnitPrice>1000].Quantity.nunique()\n",
    "df_ecommerce.loc[df_ecommerce.UnitPrice>1000].Quantity.unique()\n",
    "\n",
    "\n",
    "\n",
    "\n",
    "\n",
    "\n",
    "# ИТОГО\n",
    "# Коды говорят, что колл уникальных кодов для товара UnitPrice>1000 имеет значений 8, при том,что всего кодов\n",
    "# в датасете ...\n",
    "\n",
    "# Колличсетво говорит , что  для товара UnitPrice>1000 похоже,  это единичные дорогие товары, на покупку \n",
    "# оптом не похоже, часть из них отменена\n"
   ]
  },
  {
   "cell_type": "code",
   "execution_count": null,
   "id": "ad4c37cd",
   "metadata": {},
   "outputs": [],
   "source": []
  },
  {
   "cell_type": "code",
   "execution_count": 36,
   "id": "93dec041",
   "metadata": {},
   "outputs": [],
   "source": [
    "#     ТОВАРЫ > 5000$"
   ]
  },
  {
   "cell_type": "code",
   "execution_count": 37,
   "id": "30c4bea4",
   "metadata": {},
   "outputs": [
    {
     "data": {
      "text/plain": [
       "4"
      ]
     },
     "execution_count": 37,
     "metadata": {},
     "output_type": "execute_result"
    },
    {
     "data": {
      "text/plain": [
       "array(['AMAZONFEE', 'POST', 'M', 'B'], dtype=object)"
      ]
     },
     "execution_count": 37,
     "metadata": {},
     "output_type": "execute_result"
    },
    {
     "data": {
      "text/plain": [
       "2"
      ]
     },
     "execution_count": 37,
     "metadata": {},
     "output_type": "execute_result"
    },
    {
     "data": {
      "text/plain": [
       "array([-1,  1])"
      ]
     },
     "execution_count": 37,
     "metadata": {},
     "output_type": "execute_result"
    }
   ],
   "source": [
    "\n",
    "# взгляд на данные по ценнику транзакицй более  5000\n",
    "df_ecommerce.loc[df_ecommerce.UnitPrice>5000].StockCode.nunique()\n",
    "df_ecommerce.loc[df_ecommerce.UnitPrice>5000].StockCode.unique()\n",
    "df_ecommerce.loc[df_ecommerce.UnitPrice>5000].Quantity.nunique()\n",
    "df_ecommerce.loc[df_ecommerce.UnitPrice>5000].Quantity.unique()\n",
    "\n",
    "\n",
    "\n",
    "# ИТОГО\n",
    "# похоже, что это это единичные дорогие товары, на покупку оптом не похоже, часть из них отменена"
   ]
  },
  {
   "cell_type": "code",
   "execution_count": null,
   "id": "d18782b9",
   "metadata": {},
   "outputs": [],
   "source": []
  },
  {
   "cell_type": "code",
   "execution_count": null,
   "id": "fc7779b3",
   "metadata": {},
   "outputs": [],
   "source": []
  },
  {
   "cell_type": "code",
   "execution_count": 38,
   "id": "35510edc",
   "metadata": {},
   "outputs": [],
   "source": [
    "#     ДЛЯ ИНТЕРЕСА СМОТРЮ КОДЫ ПОЗИЦИЙ ПРИСУЩИЕ ТОЛЬКО ЗА 99 перцентилем"
   ]
  },
  {
   "cell_type": "code",
   "execution_count": 39,
   "id": "7f497cbe",
   "metadata": {},
   "outputs": [
    {
     "name": "stdout",
     "output_type": "stream",
     "text": [
      " колличество уник кодов в 1% заказов 200\n",
      " колличество уникальных кодов во всем дата сете 4070\n"
     ]
    },
    {
     "data": {
      "text/plain": [
       "22"
      ]
     },
     "execution_count": 39,
     "metadata": {},
     "output_type": "execute_result"
    },
    {
     "name": "stdout",
     "output_type": "stream",
     "text": [
      "4\n",
      "{'22803': [35.75, 35.75, 35.75, 35.75, 35.75, 35.75, 35.75, 35.75, 39.95, 39.95, 35.75, 39.95, 33.29, 39.95, 33.29, 33.29, 35.75, 33.29, 39.95, 35.75, 39.95, 39.95, 39.95, 39.95, 39.95, 39.95, 39.95, 82.5, 39.95, 39.95, 39.95]}\n",
      "3\n",
      "{'22761': [24.95, 21.95, 21.95, 24.95, 24.95, 24.95, 24.95, 24.95, 24.95, 24.95, 24.95, 24.95, 24.95, 49.13, 24.95, 24.95, 24.95, 24.95, 24.95, 24.95, 24.95, 24.95, 24.95, 21.95, 24.95, 21.95, 24.95]}\n",
      "1\n",
      "{'84963A': [42.95]}\n",
      "6\n",
      "{'84078A': [76.55, 34.95, 34.95, 34.95, 76.55, 34.95, 34.95, 74.96, 39.95, 39.95, 74.96, 39.95, 74.96, 39.95, 34.95, 39.95, 39.95, 34.95, 74.96, 39.95, 39.95, 34.95, 34.95, 39.95, 34.95, 34.95, 34.95, 39.95, 39.95, 74.96, 74.96, 74.96, 39.95, 39.95, 39.95, 74.96, 39.95, 74.96, 39.95, 39.95, 39.95, 39.95, 39.95, 39.95, 39.95, 39.95, 39.95, 39.95, 58.29, 39.95, 39.95, 58.29, 58.29, 39.95, 34.95, 39.95, 58.29, 34.95, 39.95, 34.95, 58.29, 58.29, 53.55, 39.95, 39.95, 39.95, 58.29, 58.29, 34.95, 34.95, 39.95, 58.29, 39.95, 39.95, 39.95, 34.95, 34.95, 39.95, 39.95, 39.95, 39.95, 34.95, 39.95, 39.95, 39.95, 39.95, 34.95, 34.95, 39.95, 58.29, 39.95, 39.95, 34.95, 58.29, 39.95, 39.95, 39.95, 58.29, 58.29, 58.29, 39.95, 39.95, 39.95, 39.95, 58.29, 58.29, 58.29, 39.95, 39.95, 39.95, 39.95, 39.95, 39.95, 39.95, 39.95, 39.95, 34.95, 34.95, 34.95, 39.95, 58.29, 58.29, 58.29, 39.95, 58.29, 39.95, 39.95, 58.29, 58.29, 58.29, 39.95, 39.95, 39.95, 39.95, 39.95, 39.95, 39.95, 58.29, 39.95, 58.29, 39.95, 39.95, 39.95, 39.95, 58.29, 39.95, 39.95, 34.95, 39.95, 39.95, 58.29, 39.95, 39.95, 39.95, 39.95, 39.95, 39.95, 39.95, 39.95, 39.95, 39.95, 39.95, 58.29]}\n",
      "2\n",
      "{'47570b': [21.23, 20.79]}\n",
      "2\n",
      "{'22828': [165.0, 145.0, 145.0, 165.0, 165.0, 165.0, 145.0]}\n",
      "2\n",
      "{'22824': [35.95, 35.95, 35.95, 35.95, 35.95, 35.95, 35.95, 35.95, 35.95, 32.95, 32.95, 35.95, 35.95, 35.95, 35.95, 35.95, 35.95, 35.95, 35.95, 35.95, 35.95, 35.95, 35.95, 35.95, 35.95, 35.95, 32.95, 35.95, 35.95, 35.95, 35.95, 35.95, 35.95, 35.95, 35.95, 35.95, 35.95, 35.95, 35.95, 32.95, 35.95, 35.95, 35.95, 35.95]}\n",
      "2\n",
      "{'84968a': [25.49, 24.96, 24.96]}\n",
      "2\n",
      "{'84968e': [25.49, 24.96, 24.96, 24.96, 24.96, 24.96]}\n",
      "4\n",
      "{'22826': [175.0, 195.0, 195.0, 195.0, 195.0, 195.0, 195.0, 195.0, 195.0, 195.0, 195.0, 195.0, 195.0, 85.0, 85.0, 85.0, 85.0, 85.0, 85.0, 85.0, 85.0, 85.0, 85.0, 85.0, 85.0, 85.0, 85.0, 85.0, 85.0, 85.0, 85.0, 85.0, 85.0, 85.0, 85.0, 85.0, 85.0, 85.0, 85.0, 85.0, 85.0, 85.0, 85.0, 85.0, 42.5]}\n",
      "2\n",
      "{'21473': [19.95, 19.95, 19.95, 19.95, 19.95, 19.95, 19.95, 99.96, 19.95, 19.95, 19.95, 19.95, 19.95, 19.95, 19.95, 19.95, 19.95, 19.95, 19.95, 19.95, 19.95]}\n",
      "2\n",
      "{'84616': [29.95, 58.29, 29.95, 29.95, 58.29, 29.95, 29.95, 58.29, 29.95, 29.95, 29.95]}\n",
      "2\n",
      "{'22929': [65.0, 65.0, 57.95, 65.0, 65.0, 65.0, 65.0, 65.0, 65.0, 65.0, 65.0, 65.0, 57.95, 65.0, 65.0]}\n",
      "2\n",
      "{'gift_0001_40': [34.04, 33.33, 33.33]}\n",
      "1\n",
      "{'84968f': [25.49]}\n",
      "2\n",
      "{'gift_0001_50': [42.55, 41.67, 41.67, 41.67]}\n",
      "1\n",
      "{'84632': [59.95, 59.95, 59.95, 59.95, 59.95, 59.95]}\n",
      "1\n",
      "{'84968d': [24.96, 24.96, 24.96]}\n",
      "1\n",
      "{'21310': [29.95]}\n",
      "1\n",
      "{'22016': [83.33]}\n",
      "1\n",
      "{'84963B': [49.95]}\n",
      "4\n",
      "{'23485': [25.0, 20.8, 25.0, 20.8, 20.8, 20.8, 20.8, 25.0, 25.0, 25.0, 20.8, 49.96, 25.0, 25.0, 20.8, 25.0, 25.0, 25.0, 25.0, 25.0, 25.0, 25.0, 20.8, 25.0, 20.8, 25.0, 25.0, 25.0, 25.0, 25.0, 25.0, 49.96, 25.0, 25.0, 20.8, 25.0, 25.0, 25.0, 25.0, 25.0, 25.0, 20.8, 25.0, 25.0, 25.0, 20.8, 25.0, 25.0, 25.0, 25.0, 25.0, 25.0, 25.0, 25.0, 25.0, 25.0, 20.8, 25.0, 25.0, 25.0, 20.8, 20.8, 25.0, 25.0, 25.0, 25.0, 25.0, 25.0, 25.0, 20.8, 20.8, 20.8, 25.0, 25.0, 25.0, 25.0, 25.0, 25.0, 25.0, 25.0, 25.0, 25.0, 20.8, 20.5, 25.0, 25.0, 20.8, 25.0, 20.8, 25.0, 25.0, 25.0, 25.0, 25.0, 25.0, 25.0]}\n"
     ]
    }
   ],
   "source": [
    "#посмотрю ка что за коды и объемы после 99% перцентиля цены товара\n",
    "\n",
    "# 1)\n",
    "# print( f\" коды попавщие в 1% {df_ecommerce.query('UnitPrice > 18  & UnitPrice < 999.999').StockCode. unique()}\")\n",
    "\n",
    "print(f\" колличество уник кодов в 1% заказов {df_ecommerce.query('UnitPrice > 18  & UnitPrice < 999.999').StockCode.nunique()}\")\n",
    "\n",
    "\n",
    "# 2)\n",
    "# в целом колл кодов и уникальных объемов в выборке\n",
    "print(f\" колличество уникальных кодов во всем дата сете {df_ecommerce.StockCode.nunique()}\")\n",
    "\n",
    "\n",
    "\n",
    "\n",
    "# посмотрим какие коды товара не повторяются и присущи ИСКЛЮЧИТЕЛЬНО ПОСЛЕ 99% цены товара\n",
    "\n",
    "one = df_ecommerce.query('UnitPrice < = 18').StockCode.unique()\n",
    "two = df_ecommerce.query('UnitPrice > 18  & UnitPrice < 999.999').StockCode.unique()\n",
    "\n",
    "\n",
    "\n",
    "\n",
    "   \n",
    "# ИТОГО\n",
    "\n",
    "\n",
    "\n",
    "\n",
    "# А) Видим, что 200 уник кдовой товаров из 4070, повторяются и используются после 99% перцентиля UnitPrice товара\n",
    "\n",
    "# Б) Видим что 22 уникальных StockCode были присущи заказам только дороже 18 $, и можно поисследовать их участие \n",
    "# и влияение позже\n",
    "list_stickcode_more18 = []\n",
    "for b in two:\n",
    "    if b not in one:\n",
    "#         print(f\" позиции  присущие только крайним значениям прайс  {b} \" )\n",
    "        list_stickcode_more18.append(b)\n",
    "len(list_stickcode_more18)\n",
    "\n",
    "\n",
    "# B) Ну и для меня, не имея инлфы бизнес нишы , было несколько удивительно  - видим что цены товаров не ф\n",
    "# иксированные, но StockCode один и тот же. В потребительских магазинах 1 код=1товар, здесь возможно предположить:\n",
    "# это или  товары разных размеров но одинов или услуги не фиксированно объема....\n",
    "\n",
    "for i in list_stickcode_more18:\n",
    "    print(df_ecommerce[df_ecommerce['StockCode'] == i]['UnitPrice'].nunique() )\n",
    "    print({df_ecommerce[df_ecommerce['StockCode'] == i]['StockCode'].iloc[0]: list(df_ecommerce[df_ecommerce['StockCode'] == i]['UnitPrice'])})"
   ]
  },
  {
   "cell_type": "code",
   "execution_count": 40,
   "id": "e6d8cfa5",
   "metadata": {},
   "outputs": [],
   "source": [
    "#         ===================================================================================\n",
    "#               КОНЕЦ БЛОКА ДОПОЛНИТЕЛЬНОГО  ИНТЕРЕСА"
   ]
  },
  {
   "cell_type": "code",
   "execution_count": null,
   "id": "6867e79b",
   "metadata": {},
   "outputs": [],
   "source": [
    "\n",
    "\n",
    "\n",
    "\n",
    "\n",
    "\n",
    "\n"
   ]
  },
  {
   "cell_type": "markdown",
   "id": "89849936",
   "metadata": {},
   "source": [
    "                                                                         СМОТРЮ КОЛИЧЕСТВО"
   ]
  },
  {
   "cell_type": "markdown",
   "id": "3062bb94",
   "metadata": {},
   "source": [
    "."
   ]
  },
  {
   "cell_type": "code",
   "execution_count": 41,
   "id": "9c925ff2",
   "metadata": {},
   "outputs": [
    {
     "data": {
      "text/plain": [
       "count    541909.000000\n",
       "mean          9.552250\n",
       "std         218.081158\n",
       "min      -80995.000000\n",
       "25%           1.000000\n",
       "50%           3.000000\n",
       "75%          10.000000\n",
       "max       80995.000000\n",
       "Name: Quantity, dtype: float64"
      ]
     },
     "execution_count": 41,
     "metadata": {},
     "output_type": "execute_result"
    },
    {
     "data": {
      "text/html": [
       "<div>\n",
       "<style scoped>\n",
       "    .dataframe tbody tr th:only-of-type {\n",
       "        vertical-align: middle;\n",
       "    }\n",
       "\n",
       "    .dataframe tbody tr th {\n",
       "        vertical-align: top;\n",
       "    }\n",
       "\n",
       "    .dataframe thead th {\n",
       "        text-align: right;\n",
       "    }\n",
       "</style>\n",
       "<table border=\"1\" class=\"dataframe\">\n",
       "  <thead>\n",
       "    <tr style=\"text-align: right;\">\n",
       "      <th></th>\n",
       "      <th>InvoiceNo</th>\n",
       "      <th>StockCode</th>\n",
       "      <th>Quantity</th>\n",
       "      <th>InvoiceDate</th>\n",
       "      <th>UnitPrice</th>\n",
       "      <th>CustomerID</th>\n",
       "      <th>Country</th>\n",
       "    </tr>\n",
       "  </thead>\n",
       "  <tbody>\n",
       "    <tr>\n",
       "      <th>0</th>\n",
       "      <td>C581484</td>\n",
       "      <td>23843</td>\n",
       "      <td>-80995</td>\n",
       "      <td>12/9/2011 9:27</td>\n",
       "      <td>2.08</td>\n",
       "      <td>16446.0</td>\n",
       "      <td>United Kingdom</td>\n",
       "    </tr>\n",
       "  </tbody>\n",
       "</table>\n",
       "</div>"
      ],
      "text/plain": [
       "  InvoiceNo StockCode  Quantity     InvoiceDate  UnitPrice  CustomerID  \\\n",
       "0   C581484     23843    -80995  12/9/2011 9:27       2.08     16446.0   \n",
       "\n",
       "          Country  \n",
       "0  United Kingdom  "
      ]
     },
     "execution_count": 41,
     "metadata": {},
     "output_type": "execute_result"
    },
    {
     "data": {
      "text/html": [
       "<div>\n",
       "<style scoped>\n",
       "    .dataframe tbody tr th:only-of-type {\n",
       "        vertical-align: middle;\n",
       "    }\n",
       "\n",
       "    .dataframe tbody tr th {\n",
       "        vertical-align: top;\n",
       "    }\n",
       "\n",
       "    .dataframe thead th {\n",
       "        text-align: right;\n",
       "    }\n",
       "</style>\n",
       "<table border=\"1\" class=\"dataframe\">\n",
       "  <thead>\n",
       "    <tr style=\"text-align: right;\">\n",
       "      <th></th>\n",
       "      <th>InvoiceNo</th>\n",
       "      <th>StockCode</th>\n",
       "      <th>Quantity</th>\n",
       "      <th>InvoiceDate</th>\n",
       "      <th>UnitPrice</th>\n",
       "      <th>CustomerID</th>\n",
       "      <th>Country</th>\n",
       "    </tr>\n",
       "  </thead>\n",
       "  <tbody>\n",
       "    <tr>\n",
       "      <th>0</th>\n",
       "      <td>581483</td>\n",
       "      <td>23843</td>\n",
       "      <td>80995</td>\n",
       "      <td>12/9/2011 9:15</td>\n",
       "      <td>2.08</td>\n",
       "      <td>16446.0</td>\n",
       "      <td>United Kingdom</td>\n",
       "    </tr>\n",
       "  </tbody>\n",
       "</table>\n",
       "</div>"
      ],
      "text/plain": [
       "  InvoiceNo StockCode  Quantity     InvoiceDate  UnitPrice  CustomerID  \\\n",
       "0    581483     23843     80995  12/9/2011 9:15       2.08     16446.0   \n",
       "\n",
       "          Country  \n",
       "0  United Kingdom  "
      ]
     },
     "execution_count": 41,
     "metadata": {},
     "output_type": "execute_result"
    }
   ],
   "source": [
    "df_ecommerce.Quantity.describe()\n",
    "# вижу что и man and max имеют одинаковые значения.взгляну\n",
    "\n",
    "\n",
    "# df_ecommerce.sort_values('Quantity').head(1)\n",
    "# df_ecommerce.sort_values('Quantity', ascending=False).head(1)\n",
    "\n",
    "q = \"\"\"SELECT *\n",
    "    \n",
    "    FROM df_ecommerce\n",
    "    ORDER BY Quantity\n",
    "    LIMIT 1\n",
    "    ;\"\"\"\n",
    "ps.sqldf(q, locals())\n",
    "\n",
    "\n",
    "q = \"\"\"SELECT *\n",
    "    \n",
    "    FROM df_ecommerce\n",
    "    ORDER BY Quantity  DESC\n",
    "    LIMIT 1\n",
    "    ;\"\"\"\n",
    "ps.sqldf(q, locals())\n",
    "\n",
    "\n",
    "\n",
    "# ИТОГО\n",
    "\n",
    "# имеем два последовательных заказа, оформлен  и затем отменен\n"
   ]
  },
  {
   "cell_type": "code",
   "execution_count": 42,
   "id": "0481ee81",
   "metadata": {},
   "outputs": [
    {
     "data": {
      "text/html": [
       "<div>\n",
       "<style scoped>\n",
       "    .dataframe tbody tr th:only-of-type {\n",
       "        vertical-align: middle;\n",
       "    }\n",
       "\n",
       "    .dataframe tbody tr th {\n",
       "        vertical-align: top;\n",
       "    }\n",
       "\n",
       "    .dataframe thead th {\n",
       "        text-align: right;\n",
       "    }\n",
       "</style>\n",
       "<table border=\"1\" class=\"dataframe\">\n",
       "  <thead>\n",
       "    <tr style=\"text-align: right;\">\n",
       "      <th></th>\n",
       "      <th>InvoiceNo</th>\n",
       "      <th>StockCode</th>\n",
       "      <th>Quantity</th>\n",
       "      <th>InvoiceDate</th>\n",
       "      <th>UnitPrice</th>\n",
       "      <th>CustomerID</th>\n",
       "      <th>Country</th>\n",
       "    </tr>\n",
       "  </thead>\n",
       "  <tbody>\n",
       "    <tr>\n",
       "      <th>540422</th>\n",
       "      <td>C581484</td>\n",
       "      <td>23843</td>\n",
       "      <td>-80995</td>\n",
       "      <td>12/9/2011 9:27</td>\n",
       "      <td>2.08</td>\n",
       "      <td>16446.0</td>\n",
       "      <td>United Kingdom</td>\n",
       "    </tr>\n",
       "    <tr>\n",
       "      <th>61624</th>\n",
       "      <td>C541433</td>\n",
       "      <td>23166</td>\n",
       "      <td>-74215</td>\n",
       "      <td>1/18/2011 10:17</td>\n",
       "      <td>1.04</td>\n",
       "      <td>12346.0</td>\n",
       "      <td>United Kingdom</td>\n",
       "    </tr>\n",
       "    <tr>\n",
       "      <th>225529</th>\n",
       "      <td>556690</td>\n",
       "      <td>23005</td>\n",
       "      <td>-9600</td>\n",
       "      <td>6/14/2011 10:37</td>\n",
       "      <td>0.00</td>\n",
       "      <td>0.0</td>\n",
       "      <td>United Kingdom</td>\n",
       "    </tr>\n",
       "    <tr>\n",
       "      <th>225530</th>\n",
       "      <td>556691</td>\n",
       "      <td>23005</td>\n",
       "      <td>-9600</td>\n",
       "      <td>6/14/2011 10:37</td>\n",
       "      <td>0.00</td>\n",
       "      <td>0.0</td>\n",
       "      <td>United Kingdom</td>\n",
       "    </tr>\n",
       "    <tr>\n",
       "      <th>4287</th>\n",
       "      <td>C536757</td>\n",
       "      <td>84347</td>\n",
       "      <td>-9360</td>\n",
       "      <td>12/2/2010 14:23</td>\n",
       "      <td>0.03</td>\n",
       "      <td>15838.0</td>\n",
       "      <td>United Kingdom</td>\n",
       "    </tr>\n",
       "  </tbody>\n",
       "</table>\n",
       "</div>"
      ],
      "text/plain": [
       "       InvoiceNo StockCode  Quantity      InvoiceDate  UnitPrice  CustomerID  \\\n",
       "540422   C581484     23843    -80995   12/9/2011 9:27       2.08     16446.0   \n",
       "61624    C541433     23166    -74215  1/18/2011 10:17       1.04     12346.0   \n",
       "225529    556690     23005     -9600  6/14/2011 10:37       0.00         0.0   \n",
       "225530    556691     23005     -9600  6/14/2011 10:37       0.00         0.0   \n",
       "4287     C536757     84347     -9360  12/2/2010 14:23       0.03     15838.0   \n",
       "\n",
       "               Country  \n",
       "540422  United Kingdom  \n",
       "61624   United Kingdom  \n",
       "225529  United Kingdom  \n",
       "225530  United Kingdom  \n",
       "4287    United Kingdom  "
      ]
     },
     "execution_count": 42,
     "metadata": {},
     "output_type": "execute_result"
    }
   ],
   "source": [
    "df_ecommerce.sort_values('Quantity').head(5)\n",
    "\n",
    "\n",
    "#ИТОГО\n",
    "\n",
    "\n",
    "# вижу что некоторые заказы имеют Отрицательные.\n",
    "# ВижУ Нулевые значения UnitPrice и CustomerID, еслИ чТО, можно было бы попробовать их исключить\n",
    "# при последующем расчете  revenue\n",
    "\n"
   ]
  },
  {
   "cell_type": "code",
   "execution_count": null,
   "id": "af2cde0e",
   "metadata": {},
   "outputs": [],
   "source": []
  },
  {
   "cell_type": "code",
   "execution_count": 43,
   "id": "b45eaf84",
   "metadata": {},
   "outputs": [],
   "source": [
    "#        1) смотрю расперделение количества заказов без учета отрицательных(отмененных) \n",
    "\n",
    "\n"
   ]
  },
  {
   "cell_type": "code",
   "execution_count": 44,
   "id": "cc03e3a8",
   "metadata": {},
   "outputs": [
    {
     "name": "stderr",
     "output_type": "stream",
     "text": [
      "/usr/local/lib/python3.9/site-packages/seaborn/_decorators.py:36: FutureWarning: Pass the following variable as a keyword arg: x. From version 0.12, the only valid positional argument will be `data`, and passing other arguments without an explicit keyword will result in an error or misinterpretation.\n",
      "  warnings.warn(\n"
     ]
    },
    {
     "data": {
      "text/plain": [
       "<AxesSubplot:xlabel='Quantity'>"
      ]
     },
     "execution_count": 44,
     "metadata": {},
     "output_type": "execute_result"
    },
    {
     "data": {
      "image/png": "[encoded data removed]",
      "text/plain": [
       "<Figure size 576x288 with 1 Axes>"
      ]
     },
     "metadata": {},
     "output_type": "display_data"
    }
   ],
   "source": [
    "#df_ecommerce.sort_values('Quantity')[2:-2]\n",
    "sns.boxplot(df_ecommerce.query(\"Quantity > 0\").sort_values('Quantity', ascending = False).Quantity)\n",
    "\n",
    "# ИТОГО видим большие выборосы\n"
   ]
  },
  {
   "cell_type": "code",
   "execution_count": 45,
   "id": "1508412b",
   "metadata": {},
   "outputs": [
    {
     "data": {
      "text/plain": [
       "29.0"
      ]
     },
     "execution_count": 45,
     "metadata": {},
     "output_type": "execute_result"
    },
    {
     "name": "stderr",
     "output_type": "stream",
     "text": [
      "/usr/local/lib/python3.9/site-packages/seaborn/_decorators.py:36: FutureWarning: Pass the following variable as a keyword arg: x. From version 0.12, the only valid positional argument will be `data`, and passing other arguments without an explicit keyword will result in an error or misinterpretation.\n",
      "  warnings.warn(\n"
     ]
    },
    {
     "data": {
      "text/plain": [
       "<AxesSubplot:xlabel='Quantity'>"
      ]
     },
     "execution_count": 45,
     "metadata": {},
     "output_type": "execute_result"
    },
    {
     "data": {
      "image/png": "[encoded data removed]",
      "text/plain": [
       "<Figure size 576x288 with 1 Axes>"
      ]
     },
     "metadata": {},
     "output_type": "display_data"
    }
   ],
   "source": [
    "# можно посмотреть 95 перцентиль основного колл заказов и их рапсределение\n",
    "np.quantile(df_ecommerce['Quantity'].sort_values(ascending=False), 0.95)\n",
    "\n",
    "\n",
    "sns.boxplot(df_ecommerce.query(\" Quantity > 0& Quantity < 29\").sort_values('Quantity', ascending = False).Quantity)\n",
    "\n",
    "\n",
    "\n",
    "# ИТОГО\n",
    "\n",
    "#вот наблюдается картина,меДиана около 3х, не нормальное рапсределение,\n",
    "#  картина рапсределения включает 95% наблюдений колличества заказов"
   ]
  },
  {
   "cell_type": "code",
   "execution_count": 46,
   "id": "043bc339",
   "metadata": {},
   "outputs": [
    {
     "name": "stderr",
     "output_type": "stream",
     "text": [
      "/usr/local/lib/python3.9/site-packages/seaborn/distributions.py:2619: FutureWarning: `distplot` is a deprecated function and will be removed in a future version. Please adapt your code to use either `displot` (a figure-level function with similar flexibility) or `histplot` (an axes-level function for histograms).\n",
      "  warnings.warn(msg, FutureWarning)\n"
     ]
    },
    {
     "data": {
      "text/plain": [
       "<AxesSubplot:xlabel='Quantity'>"
      ]
     },
     "execution_count": 46,
     "metadata": {},
     "output_type": "execute_result"
    },
    {
     "data": {
      "image/png": "[encoded data removed]",
      "text/plain": [
       "<Figure size 576x288 with 1 Axes>"
      ]
     },
     "metadata": {},
     "output_type": "display_data"
    }
   ],
   "source": [
    "# Попробуем логарифмировать шкалу для  всех заказов > 0\n",
    "\n",
    "\n",
    "sns.distplot(np.log(df_ecommerce.query(\"Quantity > 0  \").sort_values('Quantity', ascending = False).Quantity),  bins=20, kde=False, color=\"blue\")\n",
    "\n",
    "\n",
    "\n",
    "# ИТОГО\n",
    "\n",
    "# логарифмическое , все ранво не нормальное \n",
    "#  присутвует некая бимодальноcть в количесте заказов, счем связано не выяснено\n",
    "\n",
    "# пристувет right sckewed рапсределение, где часто мода < медианы, а среднее > и моды и медианы\n",
    "\n",
    "\n"
   ]
  },
  {
   "cell_type": "code",
   "execution_count": 47,
   "id": "6a7697c0",
   "metadata": {},
   "outputs": [
    {
     "data": {
      "text/plain": [
       "<AxesSubplot:xlabel='Quantity'>"
      ]
     },
     "execution_count": 47,
     "metadata": {},
     "output_type": "execute_result"
    },
    {
     "data": {
      "image/png": "[encoded data removed]",
      "text/plain": [
       "<Figure size 576x288 with 1 Axes>"
      ]
     },
     "metadata": {},
     "output_type": "display_data"
    }
   ],
   "source": [
    "sns.distplot(df_ecommerce.query(\"Quantity >0 & Quantity <29 \").sort_values('Quantity', ascending = False).Quantity,  bins=20, kde=False, color=\"blue\")\n",
    "\n",
    "\n",
    "\n",
    "# ИТОГО \n",
    "\n",
    "# в 95% процентах заказов можно визуально предположить что от 1 до  6/  13 единиц/25 единиц в колличестве \n",
    "# заказов, попадаются чаще всего\n"
   ]
  },
  {
   "cell_type": "code",
   "execution_count": null,
   "id": "cc2600bb",
   "metadata": {},
   "outputs": [],
   "source": []
  },
  {
   "cell_type": "code",
   "execution_count": null,
   "id": "2fb35e38",
   "metadata": {},
   "outputs": [],
   "source": [
    "\n",
    "\n",
    "\n",
    "\n",
    "\n",
    "\n",
    "\n"
   ]
  },
  {
   "cell_type": "markdown",
   "id": "071fa7a3",
   "metadata": {},
   "source": [
    "                                                                            СМОТРЮ ВЫРУЧКУ"
   ]
  },
  {
   "cell_type": "code",
   "execution_count": 48,
   "id": "52c93d1c",
   "metadata": {},
   "outputs": [
    {
     "name": "stderr",
     "output_type": "stream",
     "text": [
      "/var/folders/81/czt11kms0_30wrpb138499r40000gn/T/ipykernel_17517/3961471305.py:13: FutureWarning: Series.dt.weekofyear and Series.dt.week have been deprecated.  Please use Series.dt.isocalendar().week instead.\n",
      "  df_ecommerce_all_revenue[\"Week\"] = df_ecommerce_all_revenue.InvoiceDate.dt.week\n"
     ]
    }
   ],
   "source": [
    "# ПРЕДПОЛОЖЕНИЕ\n",
    "\n",
    "# # рассчитаем выручку, за неделю и месяц. Считая каждое значение -  будет попадать \n",
    "# # на Заказанно-Отмененные, и Заказы со странным нулевым прайсом. Если первые взаимо вычтутся,\n",
    "# то вторые будт давать 0 при умножении, однако в статистике количества заказов они будут\n",
    "#   присутсвовать, так что, МОЖНО ПРЕДПОЛОЖИТЬ , что  это отношение \n",
    "#  Доход по ТОвару/Колл заказов будет  несколько misleading\n",
    "\n",
    "\n",
    "df_ecommerce_all_revenue = df_ecommerce.copy()\n",
    "df_ecommerce_all_revenue.InvoiceDate = pd.to_datetime(df_ecommerce_all_revenue['InvoiceDate'])\n",
    "\n",
    "df_ecommerce_all_revenue[\"Week\"] = df_ecommerce_all_revenue.InvoiceDate.dt.week\n",
    "\n",
    "df_ecommerce_all_revenue[\"Month\"] = df_ecommerce_all_revenue.InvoiceDate.dt.month\n",
    "\n",
    "df_ecommerce_all_revenue[\"Year\"] = df_ecommerce_all_revenue.InvoiceDate.dt.year\n",
    "\n",
    "df_ecommerce_all_revenue[\"Day\"] = df_ecommerce_all_revenue.InvoiceDate.dt.day\n",
    "\n",
    "df_ecommerce_all_revenue[\"Number_of_quarter\"] = df_ecommerce_all_revenue.InvoiceDate.dt.quarter\n"
   ]
  },
  {
   "cell_type": "code",
   "execution_count": 49,
   "id": "2299094a",
   "metadata": {},
   "outputs": [],
   "source": [
    "# создаю округленную дату для счета, удаляю прежнюю\n",
    "\n",
    "df_ecommerce_all_revenue[\"Date_around\"] = pd.to_datetime(df_ecommerce_all_revenue[['Year', 'Month', 'Day']])\n",
    "df_ecommerce_all_revenue.drop(columns='InvoiceDate', inplace = True)"
   ]
  },
  {
   "cell_type": "code",
   "execution_count": 50,
   "id": "66188f84",
   "metadata": {},
   "outputs": [],
   "source": [
    "# считаю выручку с каждой операции\n",
    "\n",
    "df_ecommerce_all_revenue[\"revenue\"] = df_ecommerce_all_revenue.Quantity*df_ecommerce_all_revenue.UnitPrice\n"
   ]
  },
  {
   "cell_type": "code",
   "execution_count": null,
   "id": "112a5e7b",
   "metadata": {},
   "outputs": [],
   "source": []
  },
  {
   "cell_type": "markdown",
   "id": "77bb4929",
   "metadata": {},
   "source": [
    "                                 распределение вы ручки ПО НЕДЕЛЯМ ЗА ГОД"
   ]
  },
  {
   "cell_type": "code",
   "execution_count": 51,
   "id": "d979cc0c",
   "metadata": {},
   "outputs": [
    {
     "data": {
      "text/plain": [
       "<AxesSubplot:xlabel='Week', ylabel='revenue'>"
      ]
     },
     "execution_count": 51,
     "metadata": {},
     "output_type": "execute_result"
    },
    {
     "data": {
      "image/png": "[encoded data removed]",
      "text/plain": [
       "<Figure size 576x432 with 1 Axes>"
      ]
     },
     "metadata": {},
     "output_type": "display_data"
    }
   ],
   "source": [
    "# 1 проба)\n",
    "sns.set(rc={'figure.figsize':(8,6)}, style = \"whitegrid\")\n",
    "\n",
    "sns.barplot(data = df_ecommerce_all_revenue.groupby(['Year', 'Week'] , as_index=False) \\\n",
    "            .revenue.sum().sort_values('Year', ascending = True), x = 'Week', y = 'revenue')\n",
    "\n",
    "\n",
    "# ИТОГО\n",
    "# вижу некоторое наложение недель 2010 года на недели 2011\n",
    "\n"
   ]
  },
  {
   "cell_type": "code",
   "execution_count": null,
   "id": "3389b5d6",
   "metadata": {},
   "outputs": [],
   "source": []
  },
  {
   "cell_type": "code",
   "execution_count": 52,
   "id": "30c4a8f2",
   "metadata": {},
   "outputs": [],
   "source": [
    "# 2 проба)\n",
    "#попытка упорядочить ХРОНОЛОГИЧЕСКИ через явное последовательность значений недели\n",
    "# в фрейме \n",
    "df_ordered_revenue_by_weeks = {'weeks':df_ecommerce_all_revenue.groupby(['Year', 'Week'], as_index=False). \\\n",
    "              agg({'revenue':'sum'}).sort_values(['Year', 'Week'], ascending = True).Week.values,\n",
    "                               \n",
    "                              'revenue':df_ecommerce_all_revenue.groupby(['Year', 'Week']). \\\n",
    "              agg({'revenue':'sum'}).sort_values(['Year', 'Week'], ascending = True).revenue.values}\n",
    "\n",
    "df_ordered_revenue_by_weeks = pd.DataFrame(data = df_ordered_revenue_by_weeks)\n",
    "# sns.barplot(data = df_ordered_revenue_by_weeks, x = 'weeks', y = 'revenue')#, order = df_ordered_revenue_by_weeks['weeks'])\n",
    "\n",
    "\n",
    "# ИТОГО\n",
    "# попытка не удалась -   Барплот наложил по умолчанию по своему усмотрению"
   ]
  },
  {
   "cell_type": "code",
   "execution_count": null,
   "id": "98001c41",
   "metadata": {},
   "outputs": [],
   "source": []
  },
  {
   "cell_type": "code",
   "execution_count": 53,
   "id": "c301db97",
   "metadata": {},
   "outputs": [
    {
     "data": {
      "text/plain": [
       "<AxesSubplot:xlabel='Week', ylabel='rev'>"
      ]
     },
     "execution_count": 53,
     "metadata": {},
     "output_type": "execute_result"
    },
    {
     "data": {
      "image/png": "[encoded data removed]",
      "text/plain": [
       "<Figure size 576x432 with 1 Axes>"
      ]
     },
     "metadata": {},
     "output_type": "display_data"
    }
   ],
   "source": [
    "# 3 проба)\n",
    " \n",
    "# python version \n",
    "\n",
    "# Хорошо, что есть  аргумент order, с помощью которого можно упорядочить недели, что и делаю\n",
    "# sns.barplot(data = df_ecommerce_all_revenue.groupby(['Year', 'Week'] , as_index=False) \\\n",
    "#             .revenue.sum().sort_values(['Year', 'Week'], ascending = True), \\\n",
    "#             x = 'Week', y = 'revenue', \\\n",
    "#             order = df_ecommerce_all_revenue['Week'].unique())\n",
    "\n",
    "\n",
    "#sql\n",
    "q = \"\"\"SELECT Week,\n",
    "        SUM(revenue) AS rev\n",
    "    \n",
    "    FROM df_ecommerce_all_revenue\n",
    "    GROUP BY Year, Week\n",
    "    ORDER BY Year, Week;\n",
    "     \n",
    "    \"\"\"\n",
    "\n",
    "# ИТОГО\n",
    "\n",
    "#1)  sns.barplot(data = ps.sqldf(q, locals()), x = 'Week', y = 'rev')  \n",
    "# вот интересный такой, sqlвыглядит лаконичнее и понятнее, но sns barplot портит распредение Год/неделя по \n",
    "# умолчанию\n",
    "\n",
    "\n",
    "# 2) тогда задам порядок\n",
    "sns.barplot(data = ps.sqldf(q, locals()), x = 'Week', y = 'rev', \\\n",
    "            order = ps.sqldf(q, locals())['Week'].unique())\n",
    "sns.set(rc={'figure.figsize':(12,6)}, style = \"whitegrid\")\n",
    "\n",
    "\n",
    "\n",
    "\n",
    "\n",
    "# ИТОГО\n",
    "\n",
    "# видим 1) высокие значения ближе к концам лет и примерно,\n",
    "#         2) тенденцию увеличения в последнем квартале,\n",
    "#         3) сравнительно равные колебания объема  1-3 квартала"
   ]
  },
  {
   "cell_type": "code",
   "execution_count": 54,
   "id": "6f732e3d",
   "metadata": {},
   "outputs": [
    {
     "data": {
      "text/plain": [
       "<AxesSubplot:xlabel='revenue', ylabel='revenue'>"
      ]
     },
     "execution_count": 54,
     "metadata": {},
     "output_type": "execute_result"
    },
    {
     "data": {
      "image/png": "[encoded data removed]",
      "text/plain": [
       "<Figure size 1728x432 with 1 Axes>"
      ]
     },
     "metadata": {},
     "output_type": "display_data"
    }
   ],
   "source": [
    "#   И ДЛЯ СРАВННЕИЯ СГЛАЧЖЕННАЯ  МЕСЯЧНАЯ СУММА РАСЧИТАННАЯ ПО НЕДЕЛЯМ С ОКНОМ В 4 НЕДЕЛИ\n",
    "\n",
    "\n",
    "\n",
    "ioio = df_ecommerce_all_revenue.groupby(['Year', 'Week']).revenue.sum()\n",
    "data = ioio.rolling(4 ).mean()\n",
    "data = data.reset_index(level=0, drop=True)  #- решает проблему мульти индекса,котрый не хочет читаь snn\n",
    "\n",
    "data = data.reset_index(drop=True) # - решает проблему дублирования уникалбного индекса(в моем случае недель)\n",
    "#https://github.com/mwaskom/seaborn/issues/2652\n",
    "sns.set(rc={'figure.figsize':(24,6)}, style = \"whitegrid\")\n",
    "sns.barplot(data = data, x = data.index, y = data  )\n",
    "\n",
    "\n",
    "\n",
    "# ИТОГО\n",
    "\n",
    "\n",
    "\n",
    "# 1)отобразил оконную функцию, считающее месячнцю среднюю(срежнее за 4 недели), но результат первых четырех\n",
    "# недель датасета(последние недели декабрся 2010), здесь невидим - это стоит помнить.\n",
    "# 2) В целом, видим медленный рост средего знаечния revenue по месяцам и знаечительный в 4 квартале"
   ]
  },
  {
   "cell_type": "code",
   "execution_count": null,
   "id": "b26da148",
   "metadata": {},
   "outputs": [],
   "source": []
  },
  {
   "cell_type": "code",
   "execution_count": null,
   "id": "b2303294",
   "metadata": {},
   "outputs": [],
   "source": [
    "\n",
    "\n",
    "\n",
    "\n",
    "\n",
    "\n",
    "\n",
    "\n"
   ]
  },
  {
   "cell_type": "markdown",
   "id": "4eaf9eb9",
   "metadata": {},
   "source": [
    "                                   распределение выручки ПО ДНЯМ ЗА ГОД"
   ]
  },
  {
   "cell_type": "code",
   "execution_count": 55,
   "id": "42c98aed",
   "metadata": {},
   "outputs": [],
   "source": [
    "#          смотрю выручку по дням недели за весь год\n",
    "\n",
    "#добавляю дни недели \n",
    "df_ecommerce_all_revenue[\"Weekday\"] = pd.to_datetime(df_ecommerce['InvoiceDate']).dt.weekday\n"
   ]
  },
  {
   "cell_type": "code",
   "execution_count": 56,
   "id": "9dee5529",
   "metadata": {},
   "outputs": [
    {
     "data": {
      "text/plain": [
       "<AxesSubplot:xlabel='Weekday', ylabel='revenue'>"
      ]
     },
     "execution_count": 56,
     "metadata": {},
     "output_type": "execute_result"
    },
    {
     "data": {
      "image/png": "[encoded data removed]",
      "text/plain": [
       "<Figure size 576x432 with 1 Axes>"
      ]
     },
     "metadata": {},
     "output_type": "display_data"
    }
   ],
   "source": [
    "sns.set(rc={'figure.figsize':(8,6)}, style = \"whitegrid\")\n",
    "sns.barplot(data = df_ecommerce_all_revenue.groupby('Weekday' , as_index=False) \\\n",
    "            .revenue.sum(), x = 'Weekday', y = 'revenue')\n",
    "\n",
    "# видим что в ЦЕЛОМ за весь год, моды - вторник и четверег, низкая выручка - воскресенье"
   ]
  },
  {
   "cell_type": "code",
   "execution_count": null,
   "id": "c4f8538c",
   "metadata": {},
   "outputs": [],
   "source": []
  },
  {
   "cell_type": "code",
   "execution_count": null,
   "id": "5176989c",
   "metadata": {},
   "outputs": [],
   "source": []
  },
  {
   "cell_type": "markdown",
   "id": "ce6ebc5f",
   "metadata": {},
   "source": [
    "                                   распределение выручки ПО КВАРТАЛАМ"
   ]
  },
  {
   "cell_type": "code",
   "execution_count": 57,
   "id": "41ba302f",
   "metadata": {},
   "outputs": [],
   "source": [
    "\n",
    "\n",
    "# Отображаю  revenue  через boxplot  ПО КВАРТАЛАМ (медиана , межкваритльный размах)\n",
    "#       *** но ПОСЧИТАНО ПО НЕДЕЛЯМ -unit of the sum\n",
    "\n",
    "\n"
   ]
  },
  {
   "cell_type": "code",
   "execution_count": 58,
   "id": "477cf132",
   "metadata": {
    "scrolled": true
   },
   "outputs": [
    {
     "data": {
      "text/plain": [
       "'ВМЕСТО этого абзаца , просто аргумент Manage_tikcs'"
      ]
     },
     "execution_count": 58,
     "metadata": {},
     "output_type": "execute_result"
    },
    {
     "data": {
      "text/plain": [
       "{'whiskers': [<matplotlib.lines.Line2D at 0x12e483940>,\n",
       "  <matplotlib.lines.Line2D at 0x12e483cd0>,\n",
       "  <matplotlib.lines.Line2D at 0x12e25e2b0>,\n",
       "  <matplotlib.lines.Line2D at 0x12e25e640>,\n",
       "  <matplotlib.lines.Line2D at 0x12e091be0>,\n",
       "  <matplotlib.lines.Line2D at 0x12e091f70>,\n",
       "  <matplotlib.lines.Line2D at 0x12dfa5550>,\n",
       "  <matplotlib.lines.Line2D at 0x12dfa58e0>],\n",
       " 'caps': [<matplotlib.lines.Line2D at 0x12e46f0a0>,\n",
       "  <matplotlib.lines.Line2D at 0x12e46f430>,\n",
       "  <matplotlib.lines.Line2D at 0x12e25e9d0>,\n",
       "  <matplotlib.lines.Line2D at 0x12e25ed60>,\n",
       "  <matplotlib.lines.Line2D at 0x12e08c340>,\n",
       "  <matplotlib.lines.Line2D at 0x12e08c6d0>,\n",
       "  <matplotlib.lines.Line2D at 0x12dfa5c70>,\n",
       "  <matplotlib.lines.Line2D at 0x12df95040>],\n",
       " 'boxes': [<matplotlib.lines.Line2D at 0x12e4835b0>,\n",
       "  <matplotlib.lines.Line2D at 0x12e46fee0>,\n",
       "  <matplotlib.lines.Line2D at 0x12e091850>,\n",
       "  <matplotlib.lines.Line2D at 0x12dfa51c0>],\n",
       " 'medians': [<matplotlib.lines.Line2D at 0x12e46f7c0>,\n",
       "  <matplotlib.lines.Line2D at 0x12e091130>,\n",
       "  <matplotlib.lines.Line2D at 0x12e08ca60>,\n",
       "  <matplotlib.lines.Line2D at 0x12df953d0>],\n",
       " 'fliers': [<matplotlib.lines.Line2D at 0x12e46fb50>,\n",
       "  <matplotlib.lines.Line2D at 0x12e0914c0>,\n",
       "  <matplotlib.lines.Line2D at 0x12e08cdf0>,\n",
       "  <matplotlib.lines.Line2D at 0x12df95760>],\n",
       " 'means': []}"
      ]
     },
     "execution_count": 58,
     "metadata": {},
     "output_type": "execute_result"
    },
    {
     "data": {
      "image/png": "[encoded data removed]",
      "text/plain": [
       "<Figure size 576x432 with 1 Axes>"
      ]
     },
     "metadata": {},
     "output_type": "display_data"
    }
   ],
   "source": [
    "\n",
    "# ЗАМЕЧАНИЯ:\n",
    "\n",
    "#     1)если просто подать прорядковые данные транзакций, то усы буду в минусе, отображая \n",
    "#рпсредление ИСХОДНЫХ ДАННЫХ / ДАННЫХ ПОДДАННЫХ НА ВХОД\n",
    "\n",
    "#     2) посему, уничтожу минусы суммированием за недели и данных на вход будут ОТРАЖАТЬ \n",
    "# ПОВЕДЕНИЕ ДАННЫХ С НЕДЕЛЬНЫМ ШАГОМ. Но сейчас я просто хочу графически отобразить\n",
    "# 50 и 25/75% относильно друг другоа(кварталов),для восприятия. remeber it\n",
    "\n",
    "\n",
    "  \n",
    "#   Способ 1 ------------------------------------------------------\n",
    "\n",
    "# sns.boxplot(data = df_ecommerce_all_revenue.query('Number_of_quarter == 3'). \\\n",
    "#             groupby('Weekday' , as_index=False).revenue.sum(), color = 'blue', orient='h' )\n",
    "\n",
    "# sns.boxplot(data = df_ecommerce_all_revenue.query('Number_of_quarter == 1'). \\\n",
    "#             groupby('Weekday' , as_index=False).revenue.sum(), color = 'green', orient='h' )\n",
    "\n",
    "# sns.boxplot(data = df_ecommerce_all_revenue.query('Number_of_quarter == 2'). \\\n",
    "#             groupby('Weekday' , as_index=False).revenue.sum(), color = 'black', orient='h' )\n",
    "\n",
    "# sns.boxplot(data = df_ecommerce_all_revenue.query('Number_of_quarter == 4'). \\\n",
    "#             groupby('Weekday' , as_index=False).revenue.sum(), color = 'grey' , orient='h')\n",
    "\n",
    "# НЕПОДОШЕЛ\n",
    "# 2 and 3 накладываются,  прозпачны фон сделать, либо располодить их вертикально друг друга\"\"\"\n",
    "\n",
    "\n",
    "\n",
    "#   Способ 2 ------------------------------------------------------\n",
    "\n",
    "    \n",
    "tips0 = df_ecommerce_all_revenue.groupby('Number_of_quarter', as_index = False) \\\n",
    "          .revenue.sum()\n",
    "# sns.boxplot(data = tips0, x = 'Number_of_quarter', y = 'revenue')#, pallete = \"Set3\")\n",
    "\n",
    "# получились миллионые числа, boxplot не разборчиво отобразил\n",
    "# НЕПОДОШЕЛ\n",
    "\n",
    "\n",
    "\n",
    "#   Способ 3 ------------------------------------------------------\n",
    "\n",
    "\n",
    "from matplotlib.ticker import FuncFormatter\n",
    "import matplotlib.pyplot as plt\n",
    "\n",
    "# def millions(x, pos):\n",
    "#     'The twro args are value and tick position'\n",
    "#     return '%1.1fM' % (x*1e-6)\n",
    "\n",
    "# formatter = FuncFormatter(millions)\n",
    "# fig,ax = plt.subplots()\n",
    "# ax.yaxis.set_major_formatter(formatter)\n",
    "\"\"\"ВМЕСТО этого абзаца , просто аргумент Manage_tikcs\"\"\"\n",
    "\n",
    "# НЕПОДОШЕЛ\n",
    "\n",
    "\n",
    "\n",
    "#   Способ 4 ------------------------------------------------------\n",
    "\n",
    "\n",
    "#   ИТОГО, более понятный способ.\n",
    "\n",
    "quart1 = df_ecommerce_all_revenue.query('Number_of_quarter == 1 ') \\\n",
    "        .groupby('Week', as_index = False).revenue.sum()\n",
    "\n",
    "quart2 = df_ecommerce_all_revenue.query('Number_of_quarter == 2 ') \\\n",
    "        .groupby('Week', as_index = False).revenue.sum()\n",
    "\n",
    "quart3 = df_ecommerce_all_revenue.query('Number_of_quarter == 3 ') \\\n",
    "        .groupby('Week', as_index = False).revenue.sum()\n",
    "\n",
    "quart4 = df_ecommerce_all_revenue.query('Number_of_quarter == 4 ') \\\n",
    "        .groupby('Week', as_index = False).revenue.sum()\n",
    "\n",
    "\n",
    "\n",
    "plt.boxplot([quart1.revenue.values, quart2.revenue.values, \\\n",
    "                   quart3.revenue.values, quart4.revenue.values])\n",
    "\n",
    "\n"
   ]
  },
  {
   "cell_type": "code",
   "execution_count": null,
   "id": "9f0d2dd4",
   "metadata": {},
   "outputs": [],
   "source": []
  },
  {
   "cell_type": "code",
   "execution_count": 59,
   "id": "42679a1d",
   "metadata": {},
   "outputs": [
    {
     "data": {
      "text/plain": [
       "'НАПОМИНАНИЕ ДЛЯ СЕБЯ'"
      ]
     },
     "execution_count": 59,
     "metadata": {},
     "output_type": "execute_result"
    }
   ],
   "source": [
    "\"\"\"НАПОМИНАНИЕ ДЛЯ СЕБЯ\"\"\"\n",
    "# тк Боксплот это компактный вид распределения, можно оценить\n",
    "#  упорядоченую Медиану втсречающихся значений\n",
    "#  размер робастного межквартильного размаха\n",
    "#   ассиметрию,при явном смещении ммедианы к квартилю\n",
    "    \n",
    "#  *** вместе медиана и IR ,можно использовать вместо Мат ожидания и Дисперсии, у dist с \n",
    "#      большими  выбросами или невозможности посчитаь Мат ожидание/дисперсию"
   ]
  },
  {
   "cell_type": "code",
   "execution_count": null,
   "id": "5b06c13b",
   "metadata": {},
   "outputs": [],
   "source": []
  },
  {
   "cell_type": "code",
   "execution_count": null,
   "id": "790556b6",
   "metadata": {},
   "outputs": [],
   "source": []
  },
  {
   "cell_type": "code",
   "execution_count": null,
   "id": "842f1152",
   "metadata": {},
   "outputs": [],
   "source": []
  },
  {
   "cell_type": "code",
   "execution_count": 60,
   "id": "6425a88c",
   "metadata": {},
   "outputs": [],
   "source": [
    "\n",
    "\n",
    "# Отображаю  revenue  через плотнось веротяностей распределения значений  (ПО КВАРТАЛАМ)\n",
    "\n",
    "#    *** но ПОСЧИТАНО ПО НЕДЕЛЯМ (помни о колличестве ordered-canceled )\n",
    "#      *** distplot возвращает плотность вероятности распределений\n",
    "#          *** данные колличественные, редполагаю - имею шкалу равных отношений( ratio scale)\n",
    "#             ибо имеется аБсолютный ноль на шкале( выручка не может уйти в минус, расходы здесь не учитываются)\n"
   ]
  },
  {
   "cell_type": "code",
   "execution_count": 61,
   "id": "6dbe0a8c",
   "metadata": {},
   "outputs": [
    {
     "data": {
      "text/plain": [
       "<AxesSubplot:xlabel='revenue', ylabel='Density'>"
      ]
     },
     "execution_count": 61,
     "metadata": {},
     "output_type": "execute_result"
    },
    {
     "data": {
      "text/plain": [
       "<AxesSubplot:xlabel='revenue', ylabel='Density'>"
      ]
     },
     "execution_count": 61,
     "metadata": {},
     "output_type": "execute_result"
    },
    {
     "data": {
      "text/plain": [
       "<AxesSubplot:xlabel='revenue', ylabel='Density'>"
      ]
     },
     "execution_count": 61,
     "metadata": {},
     "output_type": "execute_result"
    },
    {
     "data": {
      "text/plain": [
       "<AxesSubplot:xlabel='revenue', ylabel='Density'>"
      ]
     },
     "execution_count": 61,
     "metadata": {},
     "output_type": "execute_result"
    },
    {
     "data": {
      "image/png": "[encoded data removed]",
      "text/plain": [
       "<Figure size 576x432 with 1 Axes>"
      ]
     },
     "metadata": {},
     "output_type": "display_data"
    }
   ],
   "source": [
    "\n",
    "import warnings\n",
    "warnings.filterwarnings('ignore')\n",
    "\n",
    "sns.distplot(quart1.revenue)\n",
    "sns.distplot(quart2.revenue)\n",
    "sns.distplot(quart3.revenue)\n",
    "sns.distplot(quart4.revenue)\n",
    "\n",
    "\n",
    "\n",
    "# ИТОГО\n",
    "\n",
    "\n",
    "\n",
    "# 4й квартал имеет более \"равномерные\" значения плотности рапсределения размеров выручки\n",
    "#  для широкого диапазона сумм. Т.е не малое количество покупок на широкий диапазон сумм выручки\n",
    "# типа 10-15,15-20,20-30,30-50 тысяч,  в отличие от остлаьных кварталов с основным диапазоном\n",
    "# 10 -20тысяч"
   ]
  },
  {
   "cell_type": "code",
   "execution_count": 62,
   "id": "f041a50e",
   "metadata": {},
   "outputs": [],
   "source": [
    "\n",
    "#     ИТОГО (предварительные предположения)\n",
    "\n",
    "\n",
    "\n",
    "\n",
    "\n",
    "# 1) видим, что первый квартал имеет сравнительно меньшую диспресию (все в порядке с данными) ???\n",
    "\n",
    "# 2) у второго квартала  25% близок к медиане, есть ассиметрия  и  вариантивность НЕДЕЛЬНЫХ признаков\n",
    "\n",
    "\n",
    "# 3) Третий, более симметричный, с outliers\n",
    "\n",
    "# 4) четвертый имеет увеличенную(по отношение к другим) дисперсию, с огромным размахом\n",
    "#     - если верхний ус,еще можнобъяснить нарастающим оббъемом покупок( срез по ннижеделям)\n",
    "#     - то нижний ус, несколько нетипичин, 39 неделя, всего 11000 прибыли, причастых минимальных\n",
    "#     показателям в 200000/нед.\n",
    "   \n"
   ]
  },
  {
   "cell_type": "code",
   "execution_count": null,
   "id": "750d623d",
   "metadata": {},
   "outputs": [],
   "source": []
  },
  {
   "cell_type": "code",
   "execution_count": null,
   "id": "002d9d91",
   "metadata": {},
   "outputs": [],
   "source": [
    "\n",
    "\n",
    "\n",
    "\n",
    "\n",
    "\n"
   ]
  },
  {
   "cell_type": "raw",
   "id": "2152bcb2",
   "metadata": {},
   "source": [
    " =========================================================================================\n",
    "                                 БЛОК ДОПОЛНИТЕЛЬНОГО ИНТЕРЕСА\n"
   ]
  },
  {
   "cell_type": "code",
   "execution_count": 63,
   "id": "210ce546",
   "metadata": {},
   "outputs": [
    {
     "data": {
      "text/html": [
       "<div>\n",
       "<style scoped>\n",
       "    .dataframe tbody tr th:only-of-type {\n",
       "        vertical-align: middle;\n",
       "    }\n",
       "\n",
       "    .dataframe tbody tr th {\n",
       "        vertical-align: top;\n",
       "    }\n",
       "\n",
       "    .dataframe thead th {\n",
       "        text-align: right;\n",
       "    }\n",
       "</style>\n",
       "<table border=\"1\" class=\"dataframe\">\n",
       "  <thead>\n",
       "    <tr style=\"text-align: right;\">\n",
       "      <th></th>\n",
       "      <th>Date_around</th>\n",
       "      <th>summ</th>\n",
       "    </tr>\n",
       "  </thead>\n",
       "  <tbody>\n",
       "    <tr>\n",
       "      <th>0</th>\n",
       "      <td>2011-10-02 00:00:00.000000</td>\n",
       "      <td>11623.58</td>\n",
       "    </tr>\n",
       "  </tbody>\n",
       "</table>\n",
       "</div>"
      ],
      "text/plain": [
       "                  Date_around      summ\n",
       "0  2011-10-02 00:00:00.000000  11623.58"
      ]
     },
     "execution_count": 63,
     "metadata": {},
     "output_type": "execute_result"
    },
    {
     "data": {
      "text/plain": [
       "<AxesSubplot:xlabel='Date_around', ylabel='summ'>"
      ]
     },
     "execution_count": 63,
     "metadata": {},
     "output_type": "execute_result"
    },
    {
     "data": {
      "image/png": "[encoded data removed]",
      "text/plain": [
       "<Figure size 288x288 with 1 Axes>"
      ]
     },
     "metadata": {},
     "output_type": "display_data"
    }
   ],
   "source": [
    "# ЭТОТ БЛОК С ВИЗУАЛИЗАЦИЕЙ  Я ВЫРЕЗАЛ, НО ВОТ НА ЧТО Я ОБРАТИЛ ВНИМАНИЕ И ПОТРАТИЛ ВРЕМЯ:\n",
    "# ХОТЕЛ ПОСОМТРЕТЬ ВЕЛИЧИНЫ ВЫРУЧКИ ПО ДНЯМ НЕДЕЛИ /ЗА НЕДЕЛЮ / В КВАРТАЛЕ \n",
    "#  ВОТ КАК ОКАЩАЛОСЬ ВЫГЛЯДИТ 39 НЕДЕЛЯ\n",
    "\n",
    "q = \"\"\"\n",
    "    SELECT Date_around, SUM(revenue) AS summ\n",
    "    FROM df_ecommerce_all_revenue\n",
    "    WHERE Year == 2011 AND Number_of_quarter == 4 AND Week == 39\n",
    "    GROUP BY Date_around\n",
    "    ;\"\"\"\n",
    "\n",
    "ps.sqldf(q, locals())\n",
    "sns.set(rc={'figure.figsize':(4,4)}, style = \"whitegrid\")\n",
    "sns.barplot(data =ps.sqldf(q, locals()),  x = 'Date_around', y = 'summ')\n",
    "\n",
    "\n"
   ]
  },
  {
   "cell_type": "code",
   "execution_count": 64,
   "id": "e6179c31",
   "metadata": {},
   "outputs": [
    {
     "data": {
      "text/html": [
       "<div>\n",
       "<style scoped>\n",
       "    .dataframe tbody tr th:only-of-type {\n",
       "        vertical-align: middle;\n",
       "    }\n",
       "\n",
       "    .dataframe tbody tr th {\n",
       "        vertical-align: top;\n",
       "    }\n",
       "\n",
       "    .dataframe thead th {\n",
       "        text-align: right;\n",
       "    }\n",
       "</style>\n",
       "<table border=\"1\" class=\"dataframe\">\n",
       "  <thead>\n",
       "    <tr style=\"text-align: right;\">\n",
       "      <th></th>\n",
       "      <th>Date_around</th>\n",
       "      <th>summ</th>\n",
       "    </tr>\n",
       "  </thead>\n",
       "  <tbody>\n",
       "    <tr>\n",
       "      <th>0</th>\n",
       "      <td>2011-10-03 00:00:00.000000</td>\n",
       "      <td>64214.78</td>\n",
       "    </tr>\n",
       "    <tr>\n",
       "      <th>1</th>\n",
       "      <td>2011-10-04 00:00:00.000000</td>\n",
       "      <td>48240.84</td>\n",
       "    </tr>\n",
       "    <tr>\n",
       "      <th>2</th>\n",
       "      <td>2011-10-05 00:00:00.000000</td>\n",
       "      <td>75244.43</td>\n",
       "    </tr>\n",
       "    <tr>\n",
       "      <th>3</th>\n",
       "      <td>2011-10-06 00:00:00.000000</td>\n",
       "      <td>55306.28</td>\n",
       "    </tr>\n",
       "    <tr>\n",
       "      <th>4</th>\n",
       "      <td>2011-10-07 00:00:00.000000</td>\n",
       "      <td>47538.02</td>\n",
       "    </tr>\n",
       "    <tr>\n",
       "      <th>5</th>\n",
       "      <td>2011-10-09 00:00:00.000000</td>\n",
       "      <td>11922.24</td>\n",
       "    </tr>\n",
       "  </tbody>\n",
       "</table>\n",
       "</div>"
      ],
      "text/plain": [
       "                  Date_around      summ\n",
       "0  2011-10-03 00:00:00.000000  64214.78\n",
       "1  2011-10-04 00:00:00.000000  48240.84\n",
       "2  2011-10-05 00:00:00.000000  75244.43\n",
       "3  2011-10-06 00:00:00.000000  55306.28\n",
       "4  2011-10-07 00:00:00.000000  47538.02\n",
       "5  2011-10-09 00:00:00.000000  11922.24"
      ]
     },
     "execution_count": 64,
     "metadata": {},
     "output_type": "execute_result"
    },
    {
     "data": {
      "text/plain": [
       "<AxesSubplot:xlabel='Date_around', ylabel='summ'>"
      ]
     },
     "execution_count": 64,
     "metadata": {},
     "output_type": "execute_result"
    },
    {
     "data": {
      "image/png": "[encoded data removed]",
      "text/plain": [
       "<Figure size 288x288 with 1 Axes>"
      ]
     },
     "metadata": {},
     "output_type": "display_data"
    }
   ],
   "source": [
    "# ТАК ВЫГЛЯДЯТ ОСТАЛЬНЫЕ\n",
    "\n",
    "q = \"\"\"\n",
    "    SELECT Date_around, SUM(revenue) AS summ\n",
    "    FROM df_ecommerce_all_revenue\n",
    "    WHERE Year == 2011 AND Number_of_quarter == 4 AND Week == 40\n",
    "    GROUP BY Date_around\n",
    "    ;\"\"\"\n",
    "ps.sqldf(q, locals())\n",
    "\n",
    "sns.set(rc={'figure.figsize':(4,4)}, style = \"whitegrid\")\n",
    "sns.barplot(data =ps.sqldf(q, locals()),  x = 'Date_around', y = 'summ')\n",
    "\n"
   ]
  },
  {
   "cell_type": "raw",
   "id": "6d3da84d",
   "metadata": {},
   "source": [
    "\n",
    "\n",
    "\n",
    "А) РАЗБОР ПОТЕНЦИАЛЬНОГО ЗАБЛУЖДЕНИЯ.\n",
    "\n",
    "\n",
    "Б) я удалил 10 ячеек с барплотамми дохода по не делям в КАЖДОМ квартале, что бы сократить для удобства чтения.\n",
    "Публикуются просто формулы и предположения.\n",
    "\n",
    "В) в одном из запрос было следующее\n",
    "            df_ecommerce_all_revenue.query('Year == 2011 & Number_of_quarter == 4') \\\n",
    "             .groupby('Week', as_index=False).revenue.sum(). \\\n",
    "             sort_values('Week', ascending = False).head(25)  \n",
    ", где  \t39 неделя имела значение \t11623.58, в то время, как остальные недели 200-300тысяч. \n",
    "ЧТО ЭТО ТАКОЕ?  -  спросил я себя\n",
    "\n",
    "\n",
    "Г) ИМЕЮТСЯ ПОДОЗРЕНИЯ О НЕПОЛНОСТИ ДАННЫХ в 3/4 квартале - ПРОВЕРЯЮ 39 неделю (у нее слишом малый доход)\n",
    "\n",
    "\n",
    "    \n",
    "    1) ПРОВЕРКА НЕДЕЛЬНОЙ СУММЫ через запрос напрямую\n",
    "\n",
    "\n",
    "             df_ecommerce_all_revenue.query('Week == 39').groupby('Date_around', \\\n",
    "             as_index=False).revenue.sum()\n",
    " ИТОГО -   не показывает подтверждения совокупной низкой выручки за всю неделю.....\n",
    "    \n",
    "    \n",
    "    \n",
    "    2) ПЕРЕКРЕСТНАЯ ПРОВЕРКА УРЕЗАННОСТИ ДАННЫХ\n",
    "\n",
    "     ! у нас видно что в основном году(2011) не хватает месяца декабря в расчетах, но он\n",
    "     есть в 2010(тоже урезанный) и мы помним об этом годовом различии, но не раздеялю погодам, так как\n",
    "     нет задачи.\n",
    "\n",
    "     !! Нашлось что В декабре 2010 - 23 дня, 2011 - 8. Конечно при складывании это дает месяц,\n",
    "\n",
    "      !!! поним, что суббот у нас нет и ни кто на Kaggle, это не нашел)) по крайне мере у 3х человек я не увидел\n",
    "      \n",
    "      !!!! выручка 39 неделя - 11000. Там везде срезу выручки за \n",
    "      день больше, чем эта сумма.....\n",
    "             df_ecommerce_all_revenue.query('Year == 2011 & Number_of_quarter == 4') \\\n",
    "             .groupby('Date_around', as_index=False).revenue.sum(). \\\n",
    "             sort_values('Date_around', ascending = False).head(25)   \n",
    "             \n",
    "      !!!!! Видно, что расчет включает всего недели 4 квартала из обоих лет\n",
    " df_ecommerce_all_revenue.query(' Number_of_quarter == 4').Year.unique()\n",
    "      \n",
    "      А 39я неделя принадлежит 2011году.....\n",
    "             df_ecommerce_all_revenue.query('Week == 39 & Number_of_quarter == 4').Year.unique()\n",
    "    \n",
    "    \n",
    "     3) ПЕРЕКРЕСТНАЯ ПРОВЕРКА ПРИНАДЛЕЖНОСТИ НЕДЕЛИ К КВАРТАЛУ\n",
    "     \n",
    "     предположение:  \n",
    "     Как обычно, все просто, если нет большого количества возврата, который бы заминусовал\n",
    "     итоговую недельную выручку, то есть вероятность неполных данных.\n",
    "     \n",
    "     По этому запросу,  видим, что 39 неделя принадлежит 2м кварталам(пограничная) - 3му и 4му\n",
    "     df_ecommerce_all_revenue.query('Week == 39 ').Number_of_quarter.unique()\n",
    "     \n",
    "    \n",
    "    \n",
    "    \n",
    "    \n",
    "    \n",
    "     ИТОГО\n",
    "     1) 39 неделя принадлежит 2м кварталам(пограничная) - 3му и 4му - ПОЭТОМУ ПРОВЕРКА через запрос\n",
    "             df_ecommerce_all_revenue.query('Week == 39').groupby('Date_around', as_index=False).revenue.sum()\n",
    "      не дала результата!\n",
    "      \n",
    "     2)      так как в подзапросе сабсета quart4, я поставил условие КВАРТАЛ! (query('Number_of_quarter == 4 '))\n",
    "             df_ecommerce_all_revenue.query('Year == 2011 & Number_of_quarter == 4') \\\n",
    "             .groupby('Week', as_index=False).revenue.sum(). \\\n",
    "             sort_values('Week', ascending = False).head(25)  \n",
    "      \n",
    "     то неделя обрезалась и вошла маленькой частью\n",
    "     \n",
    "     ВЫВОД - тогда можно предположить, что могу пристуствоввать еще такие случаи и рассматривание колличества\n",
    "     заказов ПО дням ЗА каждый Неделю+Квартал, будет иметь обрезанные недельные данные.\n",
    "     Как говориться на Рен ТВ - \"проверять это, я конечно же не буду\" (буду при присутсвии времени)\n",
    "     \n",
    "     \n",
    "     3) Было неочевидно для меня, но было интересно.\n",
    "    \n",
    "\n",
    "\n",
    "\n",
    " =====================================================================================\n",
    "                               КОНЕЦ БЛОКА ДОПОЛНИТЕЛЬНОГО ИНТЕРЕСА\n"
   ]
  },
  {
   "cell_type": "code",
   "execution_count": null,
   "id": "b4ddaee9",
   "metadata": {},
   "outputs": [],
   "source": [
    "\n",
    "\n",
    "\n",
    "\n",
    "\n",
    "\n"
   ]
  },
  {
   "cell_type": "markdown",
   "id": "cf0071ae",
   "metadata": {},
   "source": [
    "                                    расределение выручки и  ПО ДНЯМ И ПО КВАРТАЛАМ"
   ]
  },
  {
   "cell_type": "code",
   "execution_count": null,
   "id": "21a76bef",
   "metadata": {},
   "outputs": [],
   "source": []
  },
  {
   "cell_type": "code",
   "execution_count": 65,
   "id": "27313f89",
   "metadata": {},
   "outputs": [
    {
     "data": {
      "text/plain": [
       "Text(0.5, 0.98, 'Vertically stacked subplots')"
      ]
     },
     "execution_count": 65,
     "metadata": {},
     "output_type": "execute_result"
    },
    {
     "data": {
      "text/plain": [
       "<AxesSubplot:xlabel='Number_of_quarter', ylabel='revenue'>"
      ]
     },
     "execution_count": 65,
     "metadata": {},
     "output_type": "execute_result"
    },
    {
     "data": {
      "text/plain": [
       "<AxesSubplot:xlabel='Number_of_quarter', ylabel='revenue'>"
      ]
     },
     "execution_count": 65,
     "metadata": {},
     "output_type": "execute_result"
    },
    {
     "data": {
      "text/plain": [
       "<AxesSubplot:xlabel='Number_of_quarter', ylabel='revenue'>"
      ]
     },
     "execution_count": 65,
     "metadata": {},
     "output_type": "execute_result"
    },
    {
     "data": {
      "text/plain": [
       "<AxesSubplot:xlabel='Number_of_quarter', ylabel='revenue'>"
      ]
     },
     "execution_count": 65,
     "metadata": {},
     "output_type": "execute_result"
    },
    {
     "data": {
      "text/plain": [
       "<AxesSubplot:xlabel='Number_of_quarter', ylabel='revenue'>"
      ]
     },
     "execution_count": 65,
     "metadata": {},
     "output_type": "execute_result"
    },
    {
     "data": {
      "text/plain": [
       "<AxesSubplot:xlabel='Number_of_quarter', ylabel='revenue'>"
      ]
     },
     "execution_count": 65,
     "metadata": {},
     "output_type": "execute_result"
    },
    {
     "data": {
      "image/png": "[encoded data removed]",
      "text/plain": [
       "<Figure size 288x288 with 6 Axes>"
      ]
     },
     "metadata": {},
     "output_type": "display_data"
    }
   ],
   "source": [
    "\n",
    "#   1) использую БОКСПЛОТ  - агрегированные даные за КАЖДЫЙ день по кварталам, с учетом ВСЕХ тразанкций, влючая\n",
    "# отмненный и undefined страны, нулевые прайсы\n",
    "\n",
    "\n",
    "\n",
    "#   2)  Наблдений в каждой выборке получается не очень много,\n",
    "#     но занчения ревенью  агрегированны из большого количества уникальных транзакций(Unit - InvoiceNo)\n",
    " \n",
    "\n",
    "monday = df_ecommerce_all_revenue.query(' Weekday == 0').groupby(['Number_of_quarter', 'Date_around'], as_index = False).revenue.sum() \n",
    "tuesday =  df_ecommerce_all_revenue.query(' Weekday == 1').groupby(['Number_of_quarter', 'Date_around'], as_index = False).revenue.sum()\n",
    "wednesday =   df_ecommerce_all_revenue.query(' Weekday == 2').groupby(['Number_of_quarter', 'Date_around'], as_index = False).revenue.sum()            \n",
    "thursday  = df_ecommerce_all_revenue.query(' Weekday == 3').groupby(['Number_of_quarter', 'Date_around'], as_index = False).revenue.sum()            \n",
    "friday = df_ecommerce_all_revenue.query(' Weekday == 4').groupby(['Number_of_quarter', 'Date_around'], as_index = False).revenue.sum()            \n",
    "sunday = df_ecommerce_all_revenue.query(' Weekday == 6').groupby(['Number_of_quarter', 'Date_around'], as_index = False).revenue.sum()            \n",
    "\n",
    "\n",
    "\n",
    "fig, axes = plt.subplots(2,3)\n",
    "fig.suptitle('Vertically stacked subplots')\n",
    "\n",
    "sns.set(rc={'figure.figsize':(20,20)}, style = \"whitegrid\")\n",
    "\n",
    "sns.boxplot(ax=axes[0, 0], data = monday, x = 'Number_of_quarter', y = 'revenue')\n",
    "sns.boxplot(ax=axes[0, 1], data = tuesday, x = 'Number_of_quarter', y = 'revenue')\n",
    "sns.boxplot(ax=axes[0, 2], data = wednesday, x = 'Number_of_quarter', y = 'revenue')\n",
    "sns.boxplot(ax=axes[1, 0], data = thursday, x = 'Number_of_quarter', y = 'revenue')\n",
    "sns.boxplot(ax=axes[1, 1], data = friday, x = 'Number_of_quarter', y = 'revenue')\n",
    "sns.boxplot(ax=axes[1, 2], data = sunday, x = 'Number_of_quarter', y = 'revenue')\n",
    "\n",
    "\n",
    "# * used https://dev.to/thalesbruno/subplotting-with-matplotlib-and-seaborn-5ei8\n",
    "\n",
    "\n",
    "\n",
    "\n",
    "#    ИТОГО (ПРОМЕЖУТОЧНЫЕ ВЫВОДЫ)\n",
    "\n",
    "\n",
    "\n",
    "#  1) Не смотря на кажущуюся повышенную вариантивность среды,четверга и воскресения, и пред\n",
    "# положительно покупательной активности(выручки), дни с наибольшим значеним медианы выручки(за год)\n",
    "#  - четверг, вторник и среда. \n",
    "\n",
    "# 2)Воскресенье имеет в 2 раза меньшую выручку."
   ]
  },
  {
   "cell_type": "code",
   "execution_count": 66,
   "id": "0e96a60c",
   "metadata": {},
   "outputs": [
    {
     "data": {
      "text/plain": [
       "'НЕОЖИДАННАЯ НАХОДКА ))) '"
      ]
     },
     "execution_count": 66,
     "metadata": {},
     "output_type": "execute_result"
    },
    {
     "data": {
      "text/plain": [
       "' ВЫЯСНЯЕТСЯ , ЧТО КТО ТО СПЕР СУББОТУ???'"
      ]
     },
     "execution_count": 66,
     "metadata": {},
     "output_type": "execute_result"
    }
   ],
   "source": [
    "\n",
    "\n",
    "\n",
    "\n",
    "\n",
    "\"НЕОЖИДАННАЯ НАХОДКА ))) \"\n",
    "\n",
    "# P.S. нашлась в блоке визуализации,который я вырезал и ранее упоминал\n",
    "\n",
    "\n",
    "# SATURDAY\n",
    "\n",
    "\n",
    "#1)  tips = df_ecommerce_all_revenue.query(' Weekday == 5').groupby(['Number_of_quarter', 'Date_around'], as_index = False) \\\n",
    "#             .revenue.sum()\n",
    "# sns.boxplot(data = tips, x = 'Number_of_quarter', y = 'revenue')#, pallete = \"Set3\")  - НЕПОЛУЧИЛОСЬ\n",
    "\n",
    "\n",
    "\n",
    "# 2)      интересно, графике не построен, ибо есть пустые последовательности \n",
    "# ValueError: min() arg is an empty sequence\n",
    "#     Неокторые агреггированные знаечния этих данных принимаюn Nan Nat\n",
    "\n",
    "\n",
    "# 3) при попытке посмотреть на значения, получаю пустой сабсет\n",
    "# df_ecommerce_all_revenue.query(' Weekday == 5').groupby(['Number_of_quarter', 'Date_around'], as_index = False) \\\n",
    "#             .revenue.sum()\n",
    "\"\"\" ВЫЯСНЯЕТСЯ , ЧТО КТО ТО СПЕР СУББОТУ???\"\"\"\n",
    "\n",
    "\n",
    "\n",
    "#      КОСВЕЕННЫЕ ПОДТВЕРЖДЕНИЯ НЕПОЛНОСТИ ДАТАСЕТА  С kaggle\n",
    "\n",
    "# df_ecommerce_all_revenue.Weekday.unique()   - выясняется, что дня номер 5, субботы, НЕТ!\n",
    "    \n",
    "#df_ecommerce_all_revenue.groupby('Date_around').revenue.sum().head(15)\n",
    "# df_ecommerce_all_revenue.groupby('Date_around').revenue.sum().tail(35) - в датах нет каждого 7го дня\n",
    "\n",
    "# кажется у трех человек, работы которых смотрел, не было выявлено этого факта(кажется)"
   ]
  },
  {
   "cell_type": "code",
   "execution_count": null,
   "id": "2db17480",
   "metadata": {},
   "outputs": [],
   "source": []
  },
  {
   "cell_type": "code",
   "execution_count": null,
   "id": "36f2de8e",
   "metadata": {},
   "outputs": [],
   "source": [
    "\n",
    "\n",
    "\n",
    "\n"
   ]
  },
  {
   "cell_type": "code",
   "execution_count": 67,
   "id": "a2e0540a",
   "metadata": {},
   "outputs": [
    {
     "data": {
      "text/plain": [
       "Weekday\n",
       "3    2112519.000\n",
       "1    1966182.791\n",
       "2    1734147.010\n",
       "0    1588609.431\n",
       "4    1540610.811\n",
       "6     805678.891\n",
       "Name: revenue, dtype: float64"
      ]
     },
     "execution_count": 67,
     "metadata": {},
     "output_type": "execute_result"
    },
    {
     "data": {
      "text/plain": [
       "95111"
      ]
     },
     "execution_count": 67,
     "metadata": {},
     "output_type": "execute_result"
    },
    {
     "data": {
      "text/plain": [
       "101808"
      ]
     },
     "execution_count": 67,
     "metadata": {},
     "output_type": "execute_result"
    },
    {
     "data": {
      "text/plain": [
       "94565"
      ]
     },
     "execution_count": 67,
     "metadata": {},
     "output_type": "execute_result"
    },
    {
     "data": {
      "text/plain": [
       "103857"
      ]
     },
     "execution_count": 67,
     "metadata": {},
     "output_type": "execute_result"
    },
    {
     "data": {
      "text/plain": [
       "82193"
      ]
     },
     "execution_count": 67,
     "metadata": {},
     "output_type": "execute_result"
    },
    {
     "data": {
      "text/plain": [
       "0"
      ]
     },
     "execution_count": 67,
     "metadata": {},
     "output_type": "execute_result"
    },
    {
     "data": {
      "text/plain": [
       "64375"
      ]
     },
     "execution_count": 67,
     "metadata": {},
     "output_type": "execute_result"
    },
    {
     "name": "stdout",
     "output_type": "stream",
     "text": [
      " mondays number 47 \n",
      " tuesdays number 52 \n",
      " wednesdays number 53\n",
      " thursdays number 53 \n",
      " fridays number 50\n",
      " sundays number 50 \n"
     ]
    }
   ],
   "source": [
    "#         ===================================================================================\n",
    "#                БЛОК ДОПОЛНИТЕЛЬНОГО  ИНТЕРЕСА 2- еще одна проверка \"полноты/равности\" данных\n",
    "\n",
    "\n",
    "\n",
    "df_ecommerce_all_revenue.groupby('Weekday').revenue.sum().sort_values(ascending = False)\n",
    "\n",
    "# 1)  на всякий пожарный, после обнаржуения отсутсвия Субботы,  проверим соотношение количества данных, \n",
    "# ввыборках по дням\n",
    "      \n",
    "len(df_ecommerce_all_revenue.query('Weekday==0'))\n",
    "len(df_ecommerce_all_revenue.query('Weekday==1'))\n",
    "len(df_ecommerce_all_revenue.query('Weekday==2'))\n",
    "len(df_ecommerce_all_revenue.query('Weekday==3'))\n",
    "len(df_ecommerce_all_revenue.query('Weekday==4'))\n",
    "len(df_ecommerce_all_revenue.query('Weekday==5'))\n",
    "len(df_ecommerce_all_revenue.query('Weekday==6'))\n",
    "\n",
    "# ИТОГО \n",
    "# за год видим что вариация в 7 -20% от максимум и почти в 50% от максимума дляч воскресенья, ну и нет субботы\n",
    "\n",
    "\n",
    "\n",
    "# 2)на всякий пожарный, проверим соотношение количества дней по дням недели\n",
    "\n",
    "print(f\" mondays number {len(df_ecommerce_all_revenue.query('Weekday==0').groupby('Date_around'))} \")\n",
    "print(f\" tuesdays number {len(df_ecommerce_all_revenue.query('Weekday==1').groupby('Date_around'))} \")\n",
    "print(f\" wednesdays number {len(df_ecommerce_all_revenue.query('Weekday==2').groupby('Date_around'))}\")\n",
    "print(f\" thursdays number {len(df_ecommerce_all_revenue.query('Weekday==3').groupby('Date_around'))} \")\n",
    "print(f\" fridays number {len(df_ecommerce_all_revenue.query('Weekday==4').groupby('Date_around'))}\")\n",
    "print(f\" sundays number {len(df_ecommerce_all_revenue.query('Weekday==6').groupby('Date_around'))} \")\n",
    "\n",
    "# ИТОГО\n",
    "# \n",
    "# 1) вот посмотрели мы \"1) соотношение количества данных, ввыборках по дням\" и видим,как хромает воскресение\n",
    "# по колличеству транзакций - опять не полные данные,\n",
    " \n",
    "# 2) но пунтк 2 \"соотношение количества дней по дням недели\" - говорит, что колл воскресений в датасете значительно\\\n",
    "# не отклоняется\n",
    "\n",
    "\n",
    "#         ===================================================================================\n",
    "#               КОНЕЦ БЛОКА ДОПОЛНИТЕЛЬНОГО  ИНТЕРЕСА"
   ]
  },
  {
   "cell_type": "code",
   "execution_count": null,
   "id": "3a1d080b",
   "metadata": {},
   "outputs": [],
   "source": []
  },
  {
   "cell_type": "code",
   "execution_count": 68,
   "id": "8a850e38",
   "metadata": {},
   "outputs": [],
   "source": [
    "#  ИТОГО (ПРОМЕЖУЧТОЫНЕ ВЫВОДЫ)\n",
    "\n",
    "\n",
    "\n",
    "# 1) удивительно, но amazon или владелец дадасета, октрый опубликовал, выкинул субботу из него\n",
    "# Мы имеем не полные данные, кторые в зависимости от цели, омгут сильно повлиять на выводы.\n",
    "\n",
    "# 2) Не смотря на кажущуюся повешенную вариантивно среды,четверга и воскресения, и пред\n",
    "# положительно покупательной активности(выручки), дни с наибольшим значеним выручки(за год)\n",
    "#  - четверг, вторник и среда. Воскресенье имеет в 2 раза меньшую выручку.\n",
    "\n",
    "# 3)четверг в 3 квартиле удивительно активный, а воскресение в первом очень узко\n",
    "#(данных достаточно, частые отмены? просто низкий объем? - нужно время и инртерс чтоб проверить)\n",
    "\n",
    "# 4) МЕДДИАННЫЕ ЗНАЧЕНИЯ понедельника и вторника  и среды 1-3 кварталов, остаются в очень\n",
    "# близком диапазоне и  имеют минимальные отличия в ЗНАЧЕНИЯ РАМЗЕРА медианной выручки\n",
    "#  по боксплоту  и частоте значений выручки дневных сумм -  distplot kde.\n",
    "# четверг, самый волотильный день и принимает несколько мод\n",
    "\n",
    "# 5) 4й квартал, как ожидалось из предыдущего боксплота, медианно больше по выручке по\n",
    "# всем дням\n",
    "\n"
   ]
  },
  {
   "cell_type": "code",
   "execution_count": null,
   "id": "735e28b6",
   "metadata": {},
   "outputs": [],
   "source": []
  },
  {
   "cell_type": "markdown",
   "id": "ede55e5a",
   "metadata": {},
   "source": [
    "\n",
    "\n",
    "\n",
    "                                                    КОРОТКИЙ ПРОИЗВОЛЬНЫЙ ДАШБОРД В ЗАКЛЮЧЕНИЕ\n",
    "                                                    \n"
   ]
  },
  {
   "cell_type": "code",
   "execution_count": 69,
   "id": "cc21e817",
   "metadata": {},
   "outputs": [
    {
     "data": {
      "text/plain": [
       "' учел CustomerID !=0 '"
      ]
     },
     "execution_count": 69,
     "metadata": {},
     "output_type": "execute_result"
    },
    {
     "data": {
      "text/plain": [
       "<AxesSubplot:xlabel='Month', ylabel='CustomerID'>"
      ]
     },
     "execution_count": 69,
     "metadata": {},
     "output_type": "execute_result"
    },
    {
     "data": {
      "text/html": [
       "<div>\n",
       "<style scoped>\n",
       "    .dataframe tbody tr th:only-of-type {\n",
       "        vertical-align: middle;\n",
       "    }\n",
       "\n",
       "    .dataframe tbody tr th {\n",
       "        vertical-align: top;\n",
       "    }\n",
       "\n",
       "    .dataframe thead th {\n",
       "        text-align: right;\n",
       "    }\n",
       "</style>\n",
       "<table border=\"1\" class=\"dataframe\">\n",
       "  <thead>\n",
       "    <tr style=\"text-align: right;\">\n",
       "      <th></th>\n",
       "      <th>Month</th>\n",
       "      <th>CustomerID</th>\n",
       "    </tr>\n",
       "  </thead>\n",
       "  <tbody>\n",
       "    <tr>\n",
       "      <th>0</th>\n",
       "      <td>1.0</td>\n",
       "      <td>0.376561</td>\n",
       "    </tr>\n",
       "    <tr>\n",
       "      <th>1</th>\n",
       "      <td>1.0</td>\n",
       "      <td>0.265059</td>\n",
       "    </tr>\n",
       "    <tr>\n",
       "      <th>2</th>\n",
       "      <td>1.0</td>\n",
       "      <td>0.242898</td>\n",
       "    </tr>\n",
       "    <tr>\n",
       "      <th>3</th>\n",
       "      <td>1.0</td>\n",
       "      <td>0.224562</td>\n",
       "    </tr>\n",
       "    <tr>\n",
       "      <th>4</th>\n",
       "      <td>1.0</td>\n",
       "      <td>0.219336</td>\n",
       "    </tr>\n",
       "    <tr>\n",
       "      <th>5</th>\n",
       "      <td>1.0</td>\n",
       "      <td>0.245105</td>\n",
       "    </tr>\n",
       "    <tr>\n",
       "      <th>6</th>\n",
       "      <td>1.0</td>\n",
       "      <td>0.304064</td>\n",
       "    </tr>\n",
       "    <tr>\n",
       "      <th>7</th>\n",
       "      <td>1.0</td>\n",
       "      <td>0.216019</td>\n",
       "    </tr>\n",
       "    <tr>\n",
       "      <th>8</th>\n",
       "      <td>1.0</td>\n",
       "      <td>0.187234</td>\n",
       "    </tr>\n",
       "    <tr>\n",
       "      <th>9</th>\n",
       "      <td>1.0</td>\n",
       "      <td>0.165404</td>\n",
       "    </tr>\n",
       "    <tr>\n",
       "      <th>10</th>\n",
       "      <td>1.0</td>\n",
       "      <td>0.225626</td>\n",
       "    </tr>\n",
       "    <tr>\n",
       "      <th>11</th>\n",
       "      <td>1.0</td>\n",
       "      <td>0.345484</td>\n",
       "    </tr>\n",
       "  </tbody>\n",
       "</table>\n",
       "</div>"
      ],
      "text/plain": [
       "    Month  CustomerID\n",
       "0     1.0    0.376561\n",
       "1     1.0    0.265059\n",
       "2     1.0    0.242898\n",
       "3     1.0    0.224562\n",
       "4     1.0    0.219336\n",
       "5     1.0    0.245105\n",
       "6     1.0    0.304064\n",
       "7     1.0    0.216019\n",
       "8     1.0    0.187234\n",
       "9     1.0    0.165404\n",
       "10    1.0    0.225626\n",
       "11    1.0    0.345484"
      ]
     },
     "execution_count": 69,
     "metadata": {},
     "output_type": "execute_result"
    },
    {
     "data": {
      "image/png": "[encoded data removed]",
      "text/plain": [
       "<Figure size 288x288 with 1 Axes>"
      ]
     },
     "metadata": {},
     "output_type": "display_data"
    }
   ],
   "source": [
    "\"\"\" учел CustomerID !=0 \"\"\"\n",
    "\n",
    "# а) колл уник покупателей каждый месяц\n",
    "\n",
    "# numb_of_uniq_users = df_ecommerce_all_revenue.groupby('Month', as_index=False).CustomerID.nunique()\n",
    "numb_of_uniq_users = df_ecommerce_all_revenue.query('CustomerID != 0').groupby('Month', as_index=False).CustomerID.nunique()\n",
    "\n",
    "\n",
    "sns.set(rc={'figure.figsize':(4,4)}, style = \"whitegrid\")\n",
    "sns.barplot(data =numb_of_uniq_users,  x = 'Month', y = 'CustomerID')\n",
    "\n",
    "# НО ПОМНИМ !\n",
    "# df_ecommerce.CustomerID.isna().sum()- около 25%!\n",
    "\n",
    "# МЕНЕЕ ИНФОРМАТИВНО ПОЛУЧАЕТСЯ - ОСОБЕННО ЕЛСИ ПОСМОТРЕТЬ В КАКОМ МЕСЯЦЕ БОЛЕЬШЕ ВСЕГО \"ПРОПАВШИХ\"\n",
    "#помним что я сделал fillna 0\n",
    "\n",
    "df_ecommerce_all_revenue.query('CustomerID == 0').groupby('Month', as_index=False).CustomerID.count()/df_ecommerce_all_revenue.groupby('Month', as_index=False).CustomerID.count()\n",
    "\n",
    "\n",
    "\n",
    "# ИТОГО\n",
    "\n",
    "\n",
    "# видим что вариация, от 6т до 23т не отмечанных, довольно волатильно. Но все таки посмотрим проценты.\n",
    "# Надо как то учесть эту инфу для будущих задач\n",
    "\n",
    "\n"
   ]
  },
  {
   "cell_type": "code",
   "execution_count": null,
   "id": "2d1de51c",
   "metadata": {},
   "outputs": [],
   "source": []
  },
  {
   "cell_type": "code",
   "execution_count": 70,
   "id": "8b98f6f5",
   "metadata": {},
   "outputs": [
    {
     "data": {
      "text/plain": [
       "<AxesSubplot:xlabel='Month', ylabel='InvoiceNo'>"
      ]
     },
     "execution_count": 70,
     "metadata": {},
     "output_type": "execute_result"
    },
    {
     "data": {
      "image/png": "[encoded data removed]",
      "text/plain": [
       "<Figure size 288x288 with 1 Axes>"
      ]
     },
     "metadata": {},
     "output_type": "display_data"
    }
   ],
   "source": [
    "# б) колл заказаов кажд месяц\n",
    "numb_of_orders = df_ecommerce_all_revenue.groupby('Month', as_index=False).InvoiceNo.count()\n",
    "\n",
    "sns.set(rc={'figure.figsize':(4,4)}, style = \"whitegrid\")\n",
    "sns.barplot(data =numb_of_orders,  x = 'Month', y = 'InvoiceNo')\n"
   ]
  },
  {
   "cell_type": "code",
   "execution_count": 71,
   "id": "d0927057",
   "metadata": {},
   "outputs": [
    {
     "data": {
      "text/plain": [
       "<AxesSubplot:xlabel='Month', ylabel='revenue'>"
      ]
     },
     "execution_count": 71,
     "metadata": {},
     "output_type": "execute_result"
    },
    {
     "data": {
      "text/plain": [
       "'\\xa0НАПМИНАНИЕ СЕБЕ: не искажается из за битых CustomerID'"
      ]
     },
     "execution_count": 71,
     "metadata": {},
     "output_type": "execute_result"
    },
    {
     "data": {
      "image/png": "[encoded data removed]",
      "text/plain": [
       "<Figure size 288x288 with 1 Axes>"
      ]
     },
     "metadata": {},
     "output_type": "display_data"
    }
   ],
   "source": [
    "#     в) средняя сумма заказа за месяц\n",
    "\n",
    "mean_amount_orders = df_ecommerce_all_revenue.groupby('Month', as_index=False).revenue.mean()\n",
    "\n",
    "sns.set(rc={'figure.figsize':(4,4)}, style = \"whitegrid\")\n",
    "sns.barplot(data =mean_amount_orders,  x = 'Month', y = 'revenue')\n",
    "\n",
    "\n",
    "# ИТОГО\n",
    "\n",
    "# не смотря на то, что остаьлные графики деймонстируют тенденции,средняя сумма заказа, в довольно узких\n",
    "# рамках   \n",
    "\"\"\" НАПМИНАНИЕ СЕБЕ: не искажается из за битых CustomerID\"\"\"\n"
   ]
  },
  {
   "cell_type": "code",
   "execution_count": 72,
   "id": "b95dee1a",
   "metadata": {},
   "outputs": [
    {
     "data": {
      "text/plain": [
       "' учел CustomerID !=0 '"
      ]
     },
     "execution_count": 72,
     "metadata": {},
     "output_type": "execute_result"
    },
    {
     "data": {
      "text/plain": [
       "<AxesSubplot:ylabel='ratio'>"
      ]
     },
     "execution_count": 72,
     "metadata": {},
     "output_type": "execute_result"
    },
    {
     "data": {
      "image/png": "[encoded data removed]",
      "text/plain": [
       "<Figure size 576x288 with 1 Axes>"
      ]
     },
     "metadata": {},
     "output_type": "display_data"
    }
   ],
   "source": [
    "\"\"\" учел CustomerID !=0 \"\"\"\n",
    "\n",
    "#     г)   ср колличество  заказов  юзеров к ср колл уник покупателей за месяц?\n",
    "\n",
    "ratio_orders_to_customers = pd.DataFrame() #(columns = ['numb_of_oreders', 'numb_uniq_users_count'])\n",
    "\n",
    "ratio_orders_to_customers['numb_of_oreders']= df_ecommerce_all_revenue.groupby(['Month'], as_index=False).InvoiceNo.count()['InvoiceNo']\n",
    "ratio_orders_to_customers['numb_uniq_users_count' ] = df_ecommerce_all_revenue.query('CustomerID != 0').groupby(['Month'], as_index=False)['CustomerID'].nunique()['CustomerID']\n",
    "ratio_orders_to_customers['ratio'] = ratio_orders_to_customers['numb_of_oreders'] / ratio_orders_to_customers['numb_uniq_users_count' ]\n",
    "\n",
    "sns.set(rc={'figure.figsize':(8,4)}, style = \"whitegrid\")\n",
    "sns.lineplot(data =ratio_orders_to_customers,  x = ratio_orders_to_customers.index , y = ratio_orders_to_customers.ratio)\n",
    "\n",
    "\n",
    "\n",
    "# ИТОГО \n",
    "\n",
    "# видим показатель отношения, величины заказов в месяц к колл уник пользоватлей. \n",
    "# покачто customerID  = 0, под этой обощенной группой ,скрывается 16 -35% пользвоателей  вмесяц.\n",
    "# Растет линия - расчет колл заказов\n",
    "\n",
    "\n",
    "# ПЕРЕДЕЛАННЫЙ ИТОГО\n",
    "# расчет с данными где исклченыCustomerID != 0 ....."
   ]
  },
  {
   "cell_type": "code",
   "execution_count": 73,
   "id": "257955d8",
   "metadata": {},
   "outputs": [
    {
     "data": {
      "text/plain": [
       "Month\n",
       "1     2645\n",
       "2     2431\n",
       "3     2562\n",
       "4     2558\n",
       "5     2505\n",
       "6     2672\n",
       "7     2748\n",
       "8     2614\n",
       "9     2766\n",
       "10    2911\n",
       "11    2963\n",
       "12    3478\n",
       "Name: StockCode, dtype: int64"
      ]
     },
     "execution_count": 73,
     "metadata": {},
     "output_type": "execute_result"
    },
    {
     "data": {
      "text/plain": [
       "<AxesSubplot:xlabel='Month', ylabel='StockCode'>"
      ]
     },
     "execution_count": 73,
     "metadata": {},
     "output_type": "execute_result"
    },
    {
     "data": {
      "image/png": "[encoded data removed]",
      "text/plain": [
       "<Figure size 576x288 with 1 Axes>"
      ]
     },
     "metadata": {},
     "output_type": "display_data"
    }
   ],
   "source": [
    "#     д) колл уник заказов(разноообр StockCode ) за месяц\n",
    "\n",
    "\n",
    "df_ecommerce_all_revenue.groupby('Month').StockCode.nunique()\n",
    "\n",
    "sns.set(rc={'figure.figsize':(8,4)}, style = \"whitegrid\")\n",
    "sns.lineplot(data = df_ecommerce_all_revenue.groupby('Month').StockCode.nunique())\n"
   ]
  },
  {
   "cell_type": "code",
   "execution_count": null,
   "id": "e29d485b",
   "metadata": {},
   "outputs": [],
   "source": []
  },
  {
   "cell_type": "code",
   "execution_count": 74,
   "id": "5c37a6bc",
   "metadata": {},
   "outputs": [
    {
     "data": {
      "text/plain": [
       "Text(0.5, 0.98, 'Vertically stacked subplots')"
      ]
     },
     "execution_count": 74,
     "metadata": {},
     "output_type": "execute_result"
    },
    {
     "data": {
      "text/plain": [
       "<AxesSubplot:xlabel='Month', ylabel='CustomerID'>"
      ]
     },
     "execution_count": 74,
     "metadata": {},
     "output_type": "execute_result"
    },
    {
     "data": {
      "text/plain": [
       "Text(0.5, 1.0, 'колл уник покупателей каждый месяц.title')"
      ]
     },
     "execution_count": 74,
     "metadata": {},
     "output_type": "execute_result"
    },
    {
     "data": {
      "text/plain": [
       "<AxesSubplot:xlabel='Month', ylabel='InvoiceNo'>"
      ]
     },
     "execution_count": 74,
     "metadata": {},
     "output_type": "execute_result"
    },
    {
     "data": {
      "text/plain": [
       "Text(0.5, 1.0, 'колл заказаов каждый месяц.title')"
      ]
     },
     "execution_count": 74,
     "metadata": {},
     "output_type": "execute_result"
    },
    {
     "data": {
      "text/plain": [
       "<AxesSubplot:xlabel='Month', ylabel='revenue'>"
      ]
     },
     "execution_count": 74,
     "metadata": {},
     "output_type": "execute_result"
    },
    {
     "data": {
      "text/plain": [
       "Text(0.5, 1.0, 'средняя сумма заказа за месяц.title')"
      ]
     },
     "execution_count": 74,
     "metadata": {},
     "output_type": "execute_result"
    },
    {
     "data": {
      "text/plain": [
       "<AxesSubplot:ylabel='ratio'>"
      ]
     },
     "execution_count": 74,
     "metadata": {},
     "output_type": "execute_result"
    },
    {
     "data": {
      "text/plain": [
       "Text(0.5, 1.0, 'отношение колл заказов в колл уникальных покупателей.title')"
      ]
     },
     "execution_count": 74,
     "metadata": {},
     "output_type": "execute_result"
    },
    {
     "data": {
      "text/plain": [
       "<AxesSubplot:xlabel='Month', ylabel='StockCode'>"
      ]
     },
     "execution_count": 74,
     "metadata": {},
     "output_type": "execute_result"
    },
    {
     "data": {
      "text/plain": [
       "Text(0.5, 1.0, 'колл уник заказов(разноообр StockCode ) за месяц.title')"
      ]
     },
     "execution_count": 74,
     "metadata": {},
     "output_type": "execute_result"
    },
    {
     "data": {
      "image/png": "[encoded data removed]",
      "text/plain": [
       "<Figure size 1440x1440 with 6 Axes>"
      ]
     },
     "metadata": {},
     "output_type": "display_data"
    }
   ],
   "source": [
    "#     е) ВСЕ ЭТО В ДАШБОРД ИЛ ОДИН ГРАФИК\n",
    "\n",
    "sns.set(rc={'figure.figsize':(20,20)}, style = \"whitegrid\")\n",
    "\n",
    "\n",
    "fig, axes = plt.subplots(2,3)\n",
    "fig.suptitle('Vertically stacked subplots')\n",
    "\n",
    "\n",
    "# а) колл уник покупателей каждый месяц\n",
    "sns.lineplot(ax=axes[0, 0], data =numb_of_uniq_users,  x = 'Month', y = 'CustomerID')\n",
    "axes[0, 0].set_title('колл уник покупателей каждый месяц.title')\n",
    "\n",
    "# б) колл заказаов кажд месяц\n",
    "sns.lineplot(ax=axes[0, 1], data =numb_of_orders,  x = 'Month', y = 'InvoiceNo')\n",
    "axes[0, 1].set_title('колл заказаов каждый месяц.title')\n",
    "\n",
    "#     в) средняя сумма заказа за месяц\n",
    "sns.lineplot( ax=axes[0, 2], data =mean_amount_orders,  x = 'Month', y = 'revenue')\n",
    "axes[0, 2].set_title('средняя сумма заказа за месяц.title')\n",
    "\n",
    "\n",
    "#     г)   ср колличество  заказов  юзеров к ср колл уник покупателей за месяц\n",
    "sns.lineplot(ax=axes[1, 0], data =ratio_orders_to_customers,  x = ratio_orders_to_customers.index , y = ratio_orders_to_customers.ratio)\n",
    "axes[1, 0].set_title('отношение колл заказов в колл уникальных покупателей.title')\n",
    "\n",
    "\n",
    "#     д) колл уник заказов(разноообр StockCode ) за месяц\n",
    "sns.lineplot(ax=axes[1, 1], data = df_ecommerce_all_revenue.groupby('Month').StockCode.nunique())\n",
    "axes[1, 1].set_title('колл уник заказов(разноообр StockCode ) за месяц.title')\n",
    "\n"
   ]
  },
  {
   "cell_type": "code",
   "execution_count": null,
   "id": "152f6966",
   "metadata": {},
   "outputs": [],
   "source": []
  },
  {
   "cell_type": "raw",
   "id": "507379cd",
   "metadata": {},
   "source": [
    "\n",
    "\n",
    "\n",
    "ВЫВОДЫ\n",
    "\n",
    "1) некоторое время меня смущал объем работы и даже удалил част ьблоков,которые расчитывал, но все предположим\n",
    ",что это - eexplorative snslysis. А посему, мы смотрим на свойства данные и превичные агрегации.\n",
    "ищем чего где не хватате, сводим удобные для интрепретации значения, отображаем свойста, что бы уже затем,\n",
    "ища гипотезу, вступить в дальнейшую работу.\n",
    "\n",
    "2) просмотрели следующее\n",
    "здесь перечисли, нужно лиосновные выводы для каждого раздела отобрадать отображать???\n",
    "Смотрю страны\n",
    "Смотрю UnitPrice\n",
    "Смотрю колличество\n",
    "Смотрю выручку\n",
    "\n",
    "Блок про выручку получился самых объемным, предпологая, что выручка Зависимая переменная.\n",
    "Посмотрели :\n",
    "распределение выручки ПО НЕДЕЛЯМ ЗА ГОД\n",
    "распределение выручки ПО ДНЯМ ЗА ГОД\n",
    "распределение выручки ПО КВАРТАЛАМ ЗА ГОД\n",
    "расределение выручки и  ПО ДНЯМ И ПО КВАРТАЛАМ ЗА ГОД\n",
    "\n",
    "\n",
    "\n",
    "3) на kaggle , откуда я стянул этот дадасет, все (и даже специалисты опытнее меня), просто делают какие то расчеты\n",
    "или разведочный анализ. Я выразил допонимание, сдела несоклько подробнее взгляд, ибо  люди рискуют, не учитывая, то, мне удалось увидеть. Типа, остуствие субботы + куча пропущенных CustomerID + неравномерность рапсределния \n",
    "потерянных кастомеров по месяцам + не полность декабря обоих лет, к примеру. Видится мне,если эту инфу брать за контрольную группу, то следует учесть не мало \"но\"\n",
    "\n",
    "\n",
    "\n",
    "4) ХОТЕЛ  ПЕРЕСЧИТАТЬ всю работу, потому как, я не учел ,что при группировке CustommerID nan (превращенные в 0)\n",
    ", могут криво повлиять на результаты расчетов - но потом преположил,что расчеты напрямую и в отношении CustomerID исопльзуется  только в некоторых блоках расчетов. В итоге оставил, учтя только в тех блоках (CustomerID !=0).    Инфа НЕОДНОРОДНАЯ! но применимая в зависимости от целей.\n",
    "\n",
    "    !!! Т.к пропуски только в CustomerID - то колличество записений использованных в оценке в этом случае скоращается на  135000. В остальных случаях используется полная полученная выборка. Помнить и учитывать.\n",
    "\n",
    "\n",
    "\n",
    "5) без относительной задачи, более связанные/узкие выводы о тех или иных данных,пока не пишу."
   ]
  },
  {
   "cell_type": "code",
   "execution_count": null,
   "id": "34a186b4",
   "metadata": {},
   "outputs": [],
   "source": []
  }
 ],
 "metadata": {
  "kernelspec": {
   "display_name": "Python 3 (ipykernel)",
   "language": "python",
   "name": "python3"
  },
  "language_info": {
   "codemirror_mode": {
    "name": "ipython",
    "version": 3
   },
   "file_extension": ".py",
   "mimetype": "text/x-python",
   "name": "python",
   "nbconvert_exporter": "python",
   "pygments_lexer": "ipython3",
   "version": "3.9.16"
  },
  "toc": {
   "base_numbering": 1,
   "nav_menu": {},
   "number_sections": true,
   "sideBar": true,
   "skip_h1_title": false,
   "title_cell": "Table of Contents",
   "title_sidebar": "Contents",
   "toc_cell": false,
   "toc_position": {},
   "toc_section_display": true,
   "toc_window_display": false
  },
  "varInspector": {
   "cols": {
    "lenName": 16,
    "lenType": 16,
    "lenVar": 40
   },
   "kernels_config": {
    "python": {
     "delete_cmd_postfix": "",
     "delete_cmd_prefix": "del ",
     "library": "var_list.py",
     "varRefreshCmd": "print(var_dic_list())"
    },
    "r": {
     "delete_cmd_postfix": ") ",
     "delete_cmd_prefix": "rm(",
     "library": "var_list.r",
     "varRefreshCmd": "cat(var_dic_list()) "
    }
   },
   "types_to_exclude": [
    "module",
    "function",
    "builtin_function_or_method",
    "instance",
    "_Feature"
   ],
   "window_display": false
  }
 },
 "nbformat": 4,
 "nbformat_minor": 5
}
